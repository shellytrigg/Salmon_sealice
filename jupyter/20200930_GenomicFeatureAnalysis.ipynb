{
 "cells": [
  {
   "cell_type": "code",
   "execution_count": null,
   "metadata": {},
   "outputs": [],
   "source": [
    "#change dirs"
   ]
  },
  {
   "cell_type": "code",
   "execution_count": null,
   "metadata": {},
   "outputs": [],
   "source": [
    "#get new gff (dec. 2019 version)\n",
    "#(base) ostrich:RefSeq strigg$ wget ftp://ftp.ncbi.nlm.nih.gov/genomes/all/annotation_releases/8030/100/GCF_000233375.1_ICSASG_v2/GCF_000233375.1_ICSASG_v2_genomic.gff.gz\n",
    "#--2020-09-30 20:57:32--  ftp://ftp.ncbi.nlm.nih.gov/genomes/all/annotation_releases/8030/100/GCF_000233375.1_ICSASG_v2/GCF_000233375.1_ICSASG_v2_genomic.gff.gz\n",
    "#           => ‘GCF_000233375.1_ICSASG_v2_genomic.gff.gz’\n",
    "#Resolving ftp.ncbi.nlm.nih.gov... 130.14.250.12, 2607:f220:41e:250::10, 2607:f220:41e:250::11, ...\n",
    "#Connecting to ftp.ncbi.nlm.nih.gov|130.14.250.12|:21... connected.\n",
    "#Logging in as anonymous ... Logged in!\n",
    "#==> SYST ... done.    ==> PWD ... done.\n",
    "#==> TYPE I ... done.  ==> CWD (1) /genomes/all/annotation_releases/8030/100/GCF_000233375.1_ICSASG_v2 ... done.\n",
    "#==> SIZE GCF_000233375.1_ICSASG_v2_genomic.gff.gz ... 43050848\n",
    "#==> PASV ... done.    ==> RETR GCF_000233375.1_ICSASG_v2_genomic.gff.gz ... done.\n",
    "#Length: 43050848 (41M) (unauthoritative)\n",
    "\n",
    "#GCF_000233375.1_ICS 100%[===================>]  41.06M  2.22MB/s    in 35s     \n",
    "#\n",
    "#2020-09-30 20:58:09 (1.16 MB/s) - ‘GCF_000233375.1_ICSASG_v2_genomic.gff.gz’ saved [43050848]"
   ]
  },
  {
   "cell_type": "code",
   "execution_count": null,
   "metadata": {},
   "outputs": [],
   "source": []
  },
  {
   "cell_type": "code",
   "execution_count": null,
   "metadata": {},
   "outputs": [],
   "source": []
  },
  {
   "cell_type": "code",
   "execution_count": null,
   "metadata": {},
   "outputs": [],
   "source": []
  },
  {
   "cell_type": "code",
   "execution_count": 1,
   "metadata": {},
   "outputs": [],
   "source": [
    "mkdir ~/Documents/GitHub/Salmon_sealice/analyses/20200930_GenomicFeatureAnalysis"
   ]
  },
  {
   "cell_type": "code",
   "execution_count": 3,
   "metadata": {},
   "outputs": [
    {
     "name": "stdout",
     "output_type": "stream",
     "text": [
      "/Users/strigg/Documents/GitHub/Salmon_sealice/analyses/20200930_GenomicFeatureAnalysis\n"
     ]
    }
   ],
   "source": [
    "cd ~/Documents/GitHub/Salmon_sealice/analyses/20200930_GenomicFeatureAnalysis"
   ]
  },
  {
   "cell_type": "code",
   "execution_count": null,
   "metadata": {},
   "outputs": [],
   "source": [
    "#copy gff files locally"
   ]
  },
  {
   "cell_type": "code",
   "execution_count": 6,
   "metadata": {},
   "outputs": [
    {
     "name": "stdout",
     "output_type": "stream",
     "text": [
      "building file list ... \n",
      "1 file to consider\n",
      "GCF_000233375.1_ICSASG_v2_genomic.gff\n",
      "   867524410 100%   39.03MB/s    0:00:21 (xfer#1, to-check=0/1)\n",
      "\n",
      "sent 867630461 bytes  received 42 bytes  40354907.12 bytes/sec\n",
      "total size is 867524410  speedup is 1.00\n"
     ]
    }
   ],
   "source": [
    "!rsync --archive --verbose --progress \\\n",
    "/Volumes/web/metacarcinus/Salmo_Calig/GENOMES/v2/RefSeq/GCF_000233375.1_ICSASG_v2_genomic.gff ."
   ]
  },
  {
   "cell_type": "code",
   "execution_count": 7,
   "metadata": {},
   "outputs": [
    {
     "name": "stdout",
     "output_type": "stream",
     "text": [
      "464317 \n",
      "1155790 CDS\n",
      "  38 C_gene_segment\n",
      "   1 D_loop\n",
      " 144 V_gene_segment\n",
      "41529 cDNA_match\n",
      "1313909 exon\n",
      "79030 gene\n",
      "9435 lnc_RNA\n",
      "97746 mRNA\n",
      "   1 origin_of_replication\n",
      "2556 pseudogene\n",
      "   2 rRNA\n",
      "232155 region\n",
      "23676 tRNA\n",
      "2603 transcript\n"
     ]
    }
   ],
   "source": [
    "!cat GCF_000233375.1_ICSASG_v2_genomic.gff | awk -F\"\\t\" '{print $3}' | sort | uniq -c"
   ]
  },
  {
   "cell_type": "code",
   "execution_count": null,
   "metadata": {},
   "outputs": [],
   "source": [
    "#create CDS, mRNA, Gene, and exon tracks"
   ]
  },
  {
   "cell_type": "code",
   "execution_count": 8,
   "metadata": {},
   "outputs": [],
   "source": [
    "!awk -F\"\\t\" '{OFS=FS=\"\\t\"}{if(($0!~/#/)&&($3!=\"region\")&&($3==\"gene\")&&($1!~/NW_/))print $1\"\\t\"$4\"\\t\"$5\"\\t\"$3}' \\\n",
    "GCF_000233375.1_ICSASG_v2_genomic.gff \\\n",
    "> GCF_000233375.1_ICSASG_v2_gene.bed"
   ]
  },
  {
   "cell_type": "code",
   "execution_count": 9,
   "metadata": {},
   "outputs": [],
   "source": [
    "!awk -F\"\\t\" '{OFS=FS=\"\\t\"}{if(($0!~/#/)&&($3!=\"region\")&&($3==\"CDS\")&&($1!~/NW_/))print $1\"\\t\"$4\"\\t\"$5\"\\t\"$3}' \\\n",
    "GCF_000233375.1_ICSASG_v2_genomic.gff \\\n",
    "> GCF_000233375.1_ICSASG_v2_CDS.bed"
   ]
  },
  {
   "cell_type": "code",
   "execution_count": 10,
   "metadata": {},
   "outputs": [],
   "source": [
    "!awk -F\"\\t\" '{OFS=FS=\"\\t\"}{if(($0!~/#/)&&($3!=\"region\")&&($3==\"exon\")&&($1!~/NW_/))print $1\"\\t\"$4\"\\t\"$5\"\\t\"$3}' \\\n",
    "GCF_000233375.1_ICSASG_v2_genomic.gff \\\n",
    "> GCF_000233375.1_ICSASG_v2_exon.bed"
   ]
  },
  {
   "cell_type": "code",
   "execution_count": 11,
   "metadata": {},
   "outputs": [],
   "source": [
    "!awk -F\"\\t\" '{OFS=FS=\"\\t\"}{if(($0!~/#/)&&($3!=\"region\")&&($3==\"mRNA\")&&($1!~/NW_/))print $1\"\\t\"$4\"\\t\"$5\"\\t\"$3}' \\\n",
    "GCF_000233375.1_ICSASG_v2_genomic.gff \\\n",
    "> GCF_000233375.1_ICSASG_v2_mRNA.bed"
   ]
  },
  {
   "cell_type": "code",
   "execution_count": 12,
   "metadata": {},
   "outputs": [
    {
     "name": "stdout",
     "output_type": "stream",
     "text": [
      "building file list ... \n",
      "4 files to consider\n",
      "GCF_000233375.1_ICSASG_v2_CDS.bed\n",
      "    38069801 100%   40.76MB/s    0:00:00 (xfer#1, to-check=3/4)\n",
      "GCF_000233375.1_ICSASG_v2_exon.bed\n",
      "    43563366 100%   21.95MB/s    0:00:01 (xfer#2, to-check=2/4)\n",
      "GCF_000233375.1_ICSASG_v2_gene.bed\n",
      "     1745612 100%    1.78MB/s    0:00:00 (xfer#3, to-check=1/4)\n",
      "GCF_000233375.1_ICSASG_v2_mRNA.bed\n",
      "     3144839 100%    2.95MB/s    0:00:01 (xfer#4, to-check=0/4)\n",
      "\n",
      "sent 86534516 bytes  received 108 bytes  34613849.60 bytes/sec\n",
      "total size is 86523618  speedup is 1.00\n"
     ]
    }
   ],
   "source": [
    "!rsync --archive --verbose --progress *.bed\\\n",
    "/Volumes/web/metacarcinus/Salmo_Calig/GENOMES/v2/RefSeq/chr1-29MT"
   ]
  },
  {
   "cell_type": "code",
   "execution_count": null,
   "metadata": {},
   "outputs": [],
   "source": [
    "#check in IGV what files need to be used to make intron track"
   ]
  },
  {
   "cell_type": "code",
   "execution_count": null,
   "metadata": {},
   "outputs": [],
   "source": [
    "#it's gene subtract exon"
   ]
  },
  {
   "cell_type": "code",
   "execution_count": 17,
   "metadata": {},
   "outputs": [
    {
     "name": "stdout",
     "output_type": "stream",
     "text": [
      "NC_027300.1\t5691\t16966\tintron\n",
      "NC_027300.1\t17019\t23978\tintron\n",
      "NC_027300.1\t24241\t43486\tintron\n",
      "NC_027300.1\t43714\t61647\tintron\n",
      "NC_027300.1\t160638\t160913\tintron\n",
      "NC_027300.1\t161019\t161137\tintron\n",
      "NC_027300.1\t161278\t162535\tintron\n",
      "NC_027300.1\t162651\t164905\tintron\n",
      "NC_027300.1\t165174\t165282\tintron\n",
      "NC_027300.1\t165385\t171856\tintron\n"
     ]
    }
   ],
   "source": [
    "%%bash\n",
    "\n",
    "/Users/Shared/bioinformatics/bedtools2/bin/subtractBed \\\n",
    "-a GCF_000233375.1_ICSASG_v2_gene.bed \\\n",
    "-b GCF_000233375.1_ICSASG_v2_exon.bed |\\\n",
    "awk -F\"\\t\" '{OFS=FS=\"\\t\"}{print $1,$2,$3,\"intron\"}'|\\\n",
    "head"
   ]
  },
  {
   "cell_type": "code",
   "execution_count": null,
   "metadata": {},
   "outputs": [],
   "source": [
    "#create intron track"
   ]
  },
  {
   "cell_type": "code",
   "execution_count": 18,
   "metadata": {},
   "outputs": [],
   "source": [
    "%%bash\n",
    "\n",
    "/Users/Shared/bioinformatics/bedtools2/bin/subtractBed \\\n",
    "-a GCF_000233375.1_ICSASG_v2_gene.bed \\\n",
    "-b GCF_000233375.1_ICSASG_v2_exon.bed |\\\n",
    "awk -F\"\\t\" '{OFS=FS=\"\\t\"}{print $1,$2,$3,\"intron\"}' \\\n",
    "> GCF_000233375.1_ICSASG_v2_intron.bed"
   ]
  },
  {
   "cell_type": "code",
   "execution_count": 19,
   "metadata": {},
   "outputs": [
    {
     "name": "stdout",
     "output_type": "stream",
     "text": [
      "building file list ... \n",
      "5 files to consider\n",
      "GCF_000233375.1_ICSASG_v2_intron.bed\n",
      "    15063618 100%   36.29MB/s    0:00:00 (xfer#1, to-check=1/5)\n",
      "\n",
      "sent 15065707 bytes  received 66 bytes  30131546.00 bytes/sec\n",
      "total size is 101587236  speedup is 6.74\n"
     ]
    }
   ],
   "source": [
    "!rsync --archive --verbose --progress *.bed\\\n",
    "/Volumes/web/metacarcinus/Salmo_Calig/GENOMES/v2/RefSeq/chr1-29MT"
   ]
  },
  {
   "cell_type": "code",
   "execution_count": null,
   "metadata": {},
   "outputs": [],
   "source": [
    "#create a promoter track"
   ]
  },
  {
   "cell_type": "code",
   "execution_count": 25,
   "metadata": {},
   "outputs": [],
   "source": [
    "%%bash\n",
    "\n",
    "awk -F\"\\t\" '{OFS=FS=\"\\t\"}{if(($3 == \"gene\") && ($1!~/NW_/))print $0}' \\\n",
    "GCF_000233375.1_ICSASG_v2_genomic.gff |\\\n",
    "/Users/Shared/bioinformatics/bedtools2/bin/flankBed \\\n",
    "-i stdin \\\n",
    "-g /Volumes/web/metacarcinus/Salmo_Calig/GENOMES/v2/RefSeq/GCF_000233375.1_ICSASG_v2_genomic.fa.fai \\\n",
    "-l 2500 \\\n",
    "-r 0 -s |\\\n",
    "awk -F\"\\t\" '{OFS=FS=\"\\t\"}{gsub(\"gene\",\"put_promoter\",$3); print $0 }'|\\\n",
    "awk -F\"\\t\" '{OFS=FS=\"\\t\"}{if($5-$4 > 3)print $0}'\\\n",
    "> GCF_000233375.1_ICSASG_v2_promoter.gff"
   ]
  },
  {
   "cell_type": "code",
   "execution_count": 26,
   "metadata": {
    "scrolled": true
   },
   "outputs": [
    {
     "name": "stdout",
     "output_type": "stream",
     "text": [
      "NC_027300.1\tGnomon\tput_promoter\t62140\t64639\t.\t-\t.\tID=gene-LOC106560212;Dbxref=GeneID:106560212;Name=LOC106560212;gbkey=Gene;gene=LOC106560212;gene_biotype=protein_coding\r\n",
      "NC_027300.1\tGnomon\tput_promoter\t198816\t201315\t.\t-\t.\tID=gene-LOC106607996;Dbxref=GeneID:106607996;Name=LOC106607996;gbkey=Gene;gene=LOC106607996;gene_biotype=protein_coding;partial=true;start_range=.,160437\r\n",
      "NC_027300.1\tGnomon\tput_promoter\t231472\t233971\t.\t-\t.\tID=gene-LOC106601976;Dbxref=GeneID:106601976;Name=LOC106601976;end_range=231471,.;gbkey=Gene;gene=LOC106601976;gene_biotype=protein_coding;partial=true\r\n",
      "NC_027300.1\tGnomon\tput_promoter\t297112\t299611\t.\t-\t.\tID=gene-LOC106560213;Dbxref=GeneID:106560213;Name=LOC106560213;gbkey=Gene;gene=LOC106560213;gene_biotype=protein_coding;partial=true;start_range=.,296031\r\n",
      "NC_027300.1\tGnomon\tput_promoter\t304442\t306941\t.\t+\t.\tID=gene-LOC106566220;Dbxref=GeneID:106566220;Name=LOC106566220;gbkey=Gene;gene=LOC106566220;gene_biotype=protein_coding\r\n",
      "NC_027300.1\tGnomon\tput_promoter\t346455\t348954\t.\t-\t.\tID=gene-LOC106571988;Dbxref=GeneID:106571988;Name=LOC106571988;end_range=346454,.;gbkey=Gene;gene=LOC106571988;gene_biotype=protein_coding;partial=true\r\n",
      "NC_027300.1\tGnomon\tput_promoter\t353175\t355674\t.\t+\t.\tID=gene-LOC106578259;Dbxref=GeneID:106578259;Name=LOC106578259;end_range=362950,.;gbkey=Gene;gene=LOC106578259;gene_biotype=protein_coding;partial=true\r\n",
      "NC_027300.1\tGnomon\tput_promoter\t399123\t401622\t.\t+\t.\tID=gene-LOC106583877;Dbxref=GeneID:106583877;Name=LOC106583877;gbkey=Gene;gene=LOC106583877;gene_biotype=protein_coding\r\n",
      "NC_027300.1\tGnomon\tput_promoter\t432556\t435055\t.\t-\t.\tID=gene-LOC106589664;Dbxref=GeneID:106589664;Name=LOC106589664;gbkey=Gene;gene=LOC106589664;gene_biotype=protein_coding\r\n",
      "NC_027300.1\tGnomon\tput_promoter\t446612\t449111\t.\t+\t.\tID=gene-LOC106596642;Dbxref=GeneID:106596642;Name=LOC106596642;end_range=490663,.;gbkey=Gene;gene=LOC106596642;gene_biotype=protein_coding;partial=true\r\n"
     ]
    }
   ],
   "source": [
    "!head GCF_000233375.1_ICSASG_v2_promoter.gff"
   ]
  },
  {
   "cell_type": "code",
   "execution_count": 27,
   "metadata": {},
   "outputs": [
    {
     "name": "stdout",
     "output_type": "stream",
     "text": [
      "building file list ... \n",
      "1 file to consider\n",
      "GCF_000233375.1_ICSASG_v2_promoter.gff\n",
      "     8907828 100%   43.85MB/s    0:00:00 (xfer#1, to-check=0/1)\n",
      "\n",
      "sent 8909068 bytes  received 42 bytes  17818220.00 bytes/sec\n",
      "total size is 8907828  speedup is 1.00\n"
     ]
    }
   ],
   "source": [
    "!rsync --archive --verbose --progress GCF_000233375.1_ICSASG_v2_promoter.gff\\\n",
    "/Volumes/web/metacarcinus/Salmo_Calig/GENOMES/v2/RefSeq/chr1-29MT"
   ]
  },
  {
   "cell_type": "code",
   "execution_count": null,
   "metadata": {},
   "outputs": [],
   "source": [
    "#create first and last exon tracks"
   ]
  },
  {
   "cell_type": "code",
   "execution_count": null,
   "metadata": {},
   "outputs": [],
   "source": [
    "#https://stackoverflow.com/questions/35069048/using-awk-to-get-the-maximum-value-of-a-column-for-each-unique-value-of-another\n",
    "#use awk sub function to only print out the RefSeq gene ID in field 9\n",
    "#need to find last exons in two steps because for positive strand exons, the last exon is further downstream\n",
    "#where for exons on the negative strand, the last exon is further upstream\n",
    "#use the sort function to order exons by gene ID then by start position\n",
    "#the use sort function again with uniq parameter to print only the first line for each gene ID\n"
   ]
  },
  {
   "cell_type": "code",
   "execution_count": 68,
   "metadata": {},
   "outputs": [
    {
     "name": "stdout",
     "output_type": "stream",
     "text": [
      "NC_027300.1\tGnomon\tlast_exon\t309991\t310878\t.\t+\t.\tLOC106566220\n",
      "NC_027300.1\tGnomon\tlast_exon\t362782\t362950\t.\t+\t.\tLOC106578259\n",
      "NC_027300.1\tGnomon\tlast_exon\t416516\t416794\t.\t+\t.\tLOC106583877\n",
      "NC_027300.1\tGnomon\tlast_exon\t490468\t490663\t.\t+\t.\tLOC106596642\n",
      "NC_027300.1\tGnomon\tlast_exon\t519178\t519262\t.\t+\t.\tLOC106599499\n",
      "NC_027300.1\tGnomon\tlast_exon\t523853\t523908\t.\t+\t.\tLOC106600683\n"
     ]
    }
   ],
   "source": [
    "%%bash\n",
    "\n",
    "awk -F\"\\t\" '{OFS=FS=\"\\t\"}{sub(/.*;gene=/,\"\",$9);sub(/;.*/,\"\",$9);if(($3 == \"exon\") && ($7 ==\"+\") && ($1!~/NW_/))print $0}' \\\n",
    "GCF_000233375.1_ICSASG_v2_genomic.gff |\\\n",
    "head -30 |\\\n",
    "sort -k9,9 -k4,4nr |\\\n",
    "sort -u -k9,9 |\n",
    "sed 's/exon/last_exon/g'"
   ]
  },
  {
   "cell_type": "code",
   "execution_count": 69,
   "metadata": {},
   "outputs": [],
   "source": [
    "%%bash\n",
    "\n",
    "awk -F\"\\t\" '{OFS=FS=\"\\t\"}{sub(/.*;gene=/,\"\",$9);sub(/;.*/,\"\",$9);if(($3 == \"exon\") && ($7 ==\"+\") && ($1!~/NW_/))print $0}' \\\n",
    "GCF_000233375.1_ICSASG_v2_genomic.gff |\\\n",
    "sort -k9,9 -k4,4nr |\\\n",
    "sort -u -k9,9 |\n",
    "sed 's/exon/last_exon/g' \\\n",
    "> GCF_000233375.1_ICSASG_v2_genomic_last_exon_pos.gff"
   ]
  },
  {
   "cell_type": "code",
   "execution_count": 70,
   "metadata": {},
   "outputs": [
    {
     "name": "stdout",
     "output_type": "stream",
     "text": [
      "NC_027300.1\tGnomon\tlast_exon\t5501\t5691\t.\t-\t.\tLOC106560212\n",
      "NC_027300.1\tGnomon\tlast_exon\t296759\t296817\t.\t-\t.\tLOC106560213\n",
      "NC_027300.1\tGnomon\tlast_exon\t228330\t229141\t.\t-\t.\tLOC106601976\n",
      "NC_027300.1\tGnomon\tlast_exon\t160437\t160638\t.\t-\t.\tLOC106607996\n"
     ]
    }
   ],
   "source": [
    "%%bash\n",
    "\n",
    "awk -F\"\\t\" '{OFS=FS=\"\\t\"}{sub(/.*;gene=/,\"\",$9);sub(/;.*/,\"\",$9);if(($3 == \"exon\") && ($7 ==\"-\") && ($1!~/NW_/))print $0}' \\\n",
    "GCF_000233375.1_ICSASG_v2_genomic.gff |\\\n",
    "head -30 |\\\n",
    "sort -k9,9 -k4,4n |\\\n",
    "sort -u -k9,9 |\n",
    "sed 's/exon/last_exon/g'"
   ]
  },
  {
   "cell_type": "code",
   "execution_count": null,
   "metadata": {},
   "outputs": [],
   "source": [
    "#save the last exon negative strand output"
   ]
  },
  {
   "cell_type": "code",
   "execution_count": 71,
   "metadata": {},
   "outputs": [],
   "source": [
    "%%bash\n",
    "\n",
    "awk -F\"\\t\" '{OFS=FS=\"\\t\"}{sub(/.*;gene=/,\"\",$9);sub(/;.*/,\"\",$9);if(($3 == \"exon\") && ($7 ==\"-\") && ($1!~/NW_/))print $0}' \\\n",
    "GCF_000233375.1_ICSASG_v2_genomic.gff |\\\n",
    "sort -k9,9 -k4,4n |\\\n",
    "sort -u -k9,9 |\n",
    "sed 's/exon/last_exon/g' \\\n",
    "> GCF_000233375.1_ICSASG_v2_genomic_last_exon_neg.gff"
   ]
  },
  {
   "cell_type": "code",
   "execution_count": null,
   "metadata": {},
   "outputs": [],
   "source": [
    "#combine positive and negative strand output for last exon"
   ]
  },
  {
   "cell_type": "code",
   "execution_count": 72,
   "metadata": {},
   "outputs": [],
   "source": [
    "%%bash\n",
    "\n",
    "cat GCF_000233375.1_ICSASG_v2_genomic_last_exon_pos.gff \\\n",
    "GCF_000233375.1_ICSASG_v2_genomic_last_exon_neg.gff \\\n",
    "> GCF_000233375.1_ICSASG_v2_genomic_last_exon.gff"
   ]
  },
  {
   "cell_type": "code",
   "execution_count": 73,
   "metadata": {},
   "outputs": [],
   "source": [
    "#now do it for the first exon"
   ]
  },
  {
   "cell_type": "code",
   "execution_count": 74,
   "metadata": {},
   "outputs": [
    {
     "name": "stdout",
     "output_type": "stream",
     "text": [
      "NC_027300.1\tGnomon\tfirst_exon\t306942\t307604\t.\t+\t.\tLOC106566220\n",
      "NC_027300.1\tGnomon\tfirst_exon\t355675\t355838\t.\t+\t.\tLOC106578259\n",
      "NC_027300.1\tGnomon\tfirst_exon\t401623\t401679\t.\t+\t.\tLOC106583877\n",
      "NC_027300.1\tGnomon\tfirst_exon\t449112\t449123\t.\t+\t.\tLOC106596642\n",
      "NC_027300.1\tGnomon\tfirst_exon\t516060\t516435\t.\t+\t.\tLOC106599499\n",
      "NC_027300.1\tGnomon\tfirst_exon\t521119\t521520\t.\t+\t.\tLOC106600683\n"
     ]
    }
   ],
   "source": [
    "%%bash\n",
    "\n",
    "awk -F\"\\t\" '{OFS=FS=\"\\t\"}{sub(/.*;gene=/,\"\",$9);sub(/;.*/,\"\",$9);if(($3 == \"exon\") && ($7==\"+\") && ($1!~/NW_/))print $0}' \\\n",
    "GCF_000233375.1_ICSASG_v2_genomic.gff |\\\n",
    "head -30 |\\\n",
    "sort -k9,9 -k4,4n |\\\n",
    "sort -u -k9,9 |\n",
    "sed 's/exon/first_exon/g'"
   ]
  },
  {
   "cell_type": "code",
   "execution_count": 75,
   "metadata": {},
   "outputs": [
    {
     "name": "stdout",
     "output_type": "stream",
     "text": [
      "NC_027300.1\tGnomon\tfirst_exon\t61647\t62139\t.\t-\t.\tLOC106560212\n",
      "NC_027300.1\tGnomon\tfirst_exon\t296984\t297111\t.\t-\t.\tLOC106560213\n",
      "NC_027300.1\tGnomon\tfirst_exon\t231334\t231471\t.\t-\t.\tLOC106601976\n",
      "NC_027300.1\tGnomon\tfirst_exon\t198682\t198815\t.\t-\t.\tLOC106607996\n"
     ]
    }
   ],
   "source": [
    "%%bash\n",
    "\n",
    "awk -F\"\\t\" '{OFS=FS=\"\\t\"}{sub(/.*;gene=/,\"\",$9);sub(/;.*/,\"\",$9);if(($3 == \"exon\") && ($7==\"-\") && ($1!~/NW_/))print $0}' \\\n",
    "GCF_000233375.1_ICSASG_v2_genomic.gff |\\\n",
    "head -30 |\\\n",
    "sort -k9,9 -k4,4rn |\\\n",
    "sort -u -k9,9 |\n",
    "sed 's/exon/first_exon/g'"
   ]
  },
  {
   "cell_type": "code",
   "execution_count": 78,
   "metadata": {},
   "outputs": [],
   "source": [
    "%%bash\n",
    "\n",
    "awk -F\"\\t\" '{OFS=FS=\"\\t\"}{sub(/.*;gene=/,\"\",$9);sub(/;.*/,\"\",$9);if(($3 == \"exon\") && ($7==\"+\") && ($1!~/NW_/))print $0}' \\\n",
    "GCF_000233375.1_ICSASG_v2_genomic.gff |\\\n",
    "sort -k9,9 -k4,4n |\\\n",
    "sort -u -k9,9 |\n",
    "sed 's/exon/first_exon/g' \\\n",
    "> GCF_000233375.1_ICSASG_v2_genomic_first_exon_pos.gff\n"
   ]
  },
  {
   "cell_type": "code",
   "execution_count": 80,
   "metadata": {},
   "outputs": [],
   "source": [
    "%%bash\n",
    "\n",
    "awk -F\"\\t\" '{OFS=FS=\"\\t\"}{sub(/.*;gene=/,\"\",$9);sub(/;.*/,\"\",$9);if(($3 == \"exon\") && ($7==\"-\") && ($1!~/NW_/))print $0}' \\\n",
    "GCF_000233375.1_ICSASG_v2_genomic.gff |\\\n",
    "sort -k9,9 -k4,4rn |\\\n",
    "sort -u -k9,9 |\n",
    "sed 's/exon/first_exon/g' \\\n",
    "> GCF_000233375.1_ICSASG_v2_genomic_first_exon_neg.gff\n",
    "\n",
    "\n"
   ]
  },
  {
   "cell_type": "code",
   "execution_count": 81,
   "metadata": {},
   "outputs": [],
   "source": [
    "!cat GCF_000233375.1_ICSASG_v2_genomic_first_exon_pos.gff \\\n",
    "GCF_000233375.1_ICSASG_v2_genomic_first_exon_neg.gff \\\n",
    "> GCF_000233375.1_ICSASG_v2_genomic_first_exon.gff"
   ]
  },
  {
   "cell_type": "code",
   "execution_count": 82,
   "metadata": {
    "scrolled": true
   },
   "outputs": [
    {
     "name": "stdout",
     "output_type": "stream",
     "text": [
      "building file list ... \n",
      "7 files to consider\n",
      "GCF_000233375.1_ICSASG_v2_genomic_first_exon.gff\n",
      "     3267207 100%   43.45MB/s    0:00:00 (xfer#1, to-check=6/7)\n",
      "GCF_000233375.1_ICSASG_v2_genomic_first_exon_neg.gff\n",
      "     1635256 100%    7.76MB/s    0:00:00 (xfer#2, to-check=5/7)\n",
      "\n",
      "sent 4903418 bytes  received 94 bytes  9807024.00 bytes/sec\n",
      "total size is 21880324  speedup is 4.46\n"
     ]
    }
   ],
   "source": [
    "!rsync --archive --verbose --progress --exclude GCF_000233375.1_ICSASG_v2_genomic.gff *.gff\\\n",
    "/Volumes/web/metacarcinus/Salmo_Calig/GENOMES/v2/RefSeq/chr1-29MT"
   ]
  },
  {
   "cell_type": "code",
   "execution_count": null,
   "metadata": {},
   "outputs": [],
   "source": [
    "#now create intron tracks; need to get strand info"
   ]
  },
  {
   "cell_type": "code",
   "execution_count": 84,
   "metadata": {},
   "outputs": [
    {
     "name": "stdout",
     "output_type": "stream",
     "text": [
      "NC_027300.1\t5691\t16966\tintron\tNC_027300.1\tGnomon\tgene\t5501\t62139\t.\t-\t.\tID=gene-LOC106560212;Dbxref=GeneID:106560212;Name=LOC106560212;gbkey=Gene;gene=LOC106560212;gene_biotype=protein_coding\n",
      "NC_027300.1\t17019\t23978\tintron\tNC_027300.1\tGnomon\tgene\t5501\t62139\t.\t-\t.\tID=gene-LOC106560212;Dbxref=GeneID:106560212;Name=LOC106560212;gbkey=Gene;gene=LOC106560212;gene_biotype=protein_coding\n",
      "NC_027300.1\t24241\t43486\tintron\tNC_027300.1\tGnomon\tgene\t5501\t62139\t.\t-\t.\tID=gene-LOC106560212;Dbxref=GeneID:106560212;Name=LOC106560212;gbkey=Gene;gene=LOC106560212;gene_biotype=protein_coding\n",
      "NC_027300.1\t43714\t61647\tintron\tNC_027300.1\tGnomon\tgene\t5501\t62139\t.\t-\t.\tID=gene-LOC106560212;Dbxref=GeneID:106560212;Name=LOC106560212;gbkey=Gene;gene=LOC106560212;gene_biotype=protein_coding\n",
      "NC_027300.1\t160638\t160913\tintron\tNC_027300.1\tGnomon\tgene\t160437\t198815\t.\t-\t.\tID=gene-LOC106607996;Dbxref=GeneID:106607996;Name=LOC106607996;gbkey=Gene;gene=LOC106607996;gene_biotype=protein_coding;partial=true;start_range=.,160437\n",
      "NC_027300.1\t161019\t161137\tintron\tNC_027300.1\tGnomon\tgene\t160437\t198815\t.\t-\t.\tID=gene-LOC106607996;Dbxref=GeneID:106607996;Name=LOC106607996;gbkey=Gene;gene=LOC106607996;gene_biotype=protein_coding;partial=true;start_range=.,160437\n",
      "NC_027300.1\t161278\t162535\tintron\tNC_027300.1\tGnomon\tgene\t160437\t198815\t.\t-\t.\tID=gene-LOC106607996;Dbxref=GeneID:106607996;Name=LOC106607996;gbkey=Gene;gene=LOC106607996;gene_biotype=protein_coding;partial=true;start_range=.,160437\n",
      "NC_027300.1\t162651\t164905\tintron\tNC_027300.1\tGnomon\tgene\t160437\t198815\t.\t-\t.\tID=gene-LOC106607996;Dbxref=GeneID:106607996;Name=LOC106607996;gbkey=Gene;gene=LOC106607996;gene_biotype=protein_coding;partial=true;start_range=.,160437\n",
      "NC_027300.1\t165174\t165282\tintron\tNC_027300.1\tGnomon\tgene\t160437\t198815\t.\t-\t.\tID=gene-LOC106607996;Dbxref=GeneID:106607996;Name=LOC106607996;gbkey=Gene;gene=LOC106607996;gene_biotype=protein_coding;partial=true;start_range=.,160437\n",
      "NC_027300.1\t165385\t171856\tintron\tNC_027300.1\tGnomon\tgene\t160437\t198815\t.\t-\t.\tID=gene-LOC106607996;Dbxref=GeneID:106607996;Name=LOC106607996;gbkey=Gene;gene=LOC106607996;gene_biotype=protein_coding;partial=true;start_range=.,160437\n"
     ]
    }
   ],
   "source": [
    "%%bash\n",
    "\n",
    "awk -F\"\\t\" '{OFS=FS=\"\\t\"}{if(($3==\"gene\")&&($1!~/NW_/))print $0}' \\\n",
    "GCF_000233375.1_ICSASG_v2_genomic.gff |\\\n",
    "/Users/Shared/bioinformatics/bedtools2/bin/intersectBed \\\n",
    "-a GCF_000233375.1_ICSASG_v2_intron.bed \\\n",
    "-b stdin \\\n",
    "-wb |\\\n",
    "head\n",
    "\n"
   ]
  },
  {
   "cell_type": "code",
   "execution_count": null,
   "metadata": {},
   "outputs": [],
   "source": [
    "#print the intron coordinates and the rest from the gene gff"
   ]
  },
  {
   "cell_type": "code",
   "execution_count": 85,
   "metadata": {},
   "outputs": [
    {
     "name": "stdout",
     "output_type": "stream",
     "text": [
      "NC_027300.1\tGnomon\tintron\t5691\t16966\t.\t-\t.\tID=gene-LOC106560212;Dbxref=GeneID:106560212;Name=LOC106560212;gbkey=Gene;gene=LOC106560212;gene_biotype=protein_coding\n",
      "NC_027300.1\tGnomon\tintron\t17019\t23978\t.\t-\t.\tID=gene-LOC106560212;Dbxref=GeneID:106560212;Name=LOC106560212;gbkey=Gene;gene=LOC106560212;gene_biotype=protein_coding\n",
      "NC_027300.1\tGnomon\tintron\t24241\t43486\t.\t-\t.\tID=gene-LOC106560212;Dbxref=GeneID:106560212;Name=LOC106560212;gbkey=Gene;gene=LOC106560212;gene_biotype=protein_coding\n",
      "NC_027300.1\tGnomon\tintron\t43714\t61647\t.\t-\t.\tID=gene-LOC106560212;Dbxref=GeneID:106560212;Name=LOC106560212;gbkey=Gene;gene=LOC106560212;gene_biotype=protein_coding\n",
      "NC_027300.1\tGnomon\tintron\t160638\t160913\t.\t-\t.\tID=gene-LOC106607996;Dbxref=GeneID:106607996;Name=LOC106607996;gbkey=Gene;gene=LOC106607996;gene_biotype=protein_coding;partial=true;start_range=.,160437\n",
      "NC_027300.1\tGnomon\tintron\t161019\t161137\t.\t-\t.\tID=gene-LOC106607996;Dbxref=GeneID:106607996;Name=LOC106607996;gbkey=Gene;gene=LOC106607996;gene_biotype=protein_coding;partial=true;start_range=.,160437\n",
      "NC_027300.1\tGnomon\tintron\t161278\t162535\t.\t-\t.\tID=gene-LOC106607996;Dbxref=GeneID:106607996;Name=LOC106607996;gbkey=Gene;gene=LOC106607996;gene_biotype=protein_coding;partial=true;start_range=.,160437\n",
      "NC_027300.1\tGnomon\tintron\t162651\t164905\t.\t-\t.\tID=gene-LOC106607996;Dbxref=GeneID:106607996;Name=LOC106607996;gbkey=Gene;gene=LOC106607996;gene_biotype=protein_coding;partial=true;start_range=.,160437\n",
      "NC_027300.1\tGnomon\tintron\t165174\t165282\t.\t-\t.\tID=gene-LOC106607996;Dbxref=GeneID:106607996;Name=LOC106607996;gbkey=Gene;gene=LOC106607996;gene_biotype=protein_coding;partial=true;start_range=.,160437\n",
      "NC_027300.1\tGnomon\tintron\t165385\t171856\t.\t-\t.\tID=gene-LOC106607996;Dbxref=GeneID:106607996;Name=LOC106607996;gbkey=Gene;gene=LOC106607996;gene_biotype=protein_coding;partial=true;start_range=.,160437\n"
     ]
    }
   ],
   "source": [
    "%%bash\n",
    "\n",
    "awk -F\"\\t\" '{OFS=FS=\"\\t\"}{if(($3==\"gene\")&&($1!~/NW_/))print $0}' \\\n",
    "GCF_000233375.1_ICSASG_v2_genomic.gff |\\\n",
    "/Users/Shared/bioinformatics/bedtools2/bin/intersectBed \\\n",
    "-a GCF_000233375.1_ICSASG_v2_intron.bed \\\n",
    "-b stdin \\\n",
    "-wb |\\\n",
    "awk -F\"\\t\" '{OFS=FS=\"\\t\"}{print $5,$6,$4,$2,$3,$10,$11,$12,$13}' |\\\n",
    "head"
   ]
  },
  {
   "cell_type": "code",
   "execution_count": 170,
   "metadata": {},
   "outputs": [],
   "source": [
    "%%bash\n",
    "\n",
    "awk -F\"\\t\" '{OFS=FS=\"\\t\"}{if(($3==\"gene\")&&($1!~/NW_/))print $0}' \\\n",
    "GCF_000233375.1_ICSASG_v2_genomic.gff |\\\n",
    "/Users/Shared/bioinformatics/bedtools2/bin/intersectBed \\\n",
    "-a GCF_000233375.1_ICSASG_v2_intron.bed \\\n",
    "-b stdin \\\n",
    "-wb |\\\n",
    "awk -F\"\\t\" '{OFS=FS=\"\\t\"}{print $5,$6,$4,$2,$3,$10,$11,$12,$13}' |\\\n",
    "awk -F\"\\t\" '{OFS=FS=\"\\t\"}{sub(/.*;gene=/,\"\",$9);sub(/;.*/,\"\",$9);if($7==\"+\")print $0}'|\\\n",
    "sort -k9,9 -k4,4n |\\\n",
    "sort -u -k9,9 |\n",
    "sed 's/intron/first_intron/g' \\\n",
    "> GCF_000233375.1_ICSASG_v2_genomic_first_intron_pos.gff\n",
    "\n",
    "awk -F\"\\t\" '{OFS=FS=\"\\t\"}{if(($3==\"gene\")&&($1!~/NW_/))print $0}' \\\n",
    "GCF_000233375.1_ICSASG_v2_genomic.gff |\\\n",
    "/Users/Shared/bioinformatics/bedtools2/bin/intersectBed \\\n",
    "-a GCF_000233375.1_ICSASG_v2_intron.bed \\\n",
    "-b stdin \\\n",
    "-wb |\\\n",
    "awk -F\"\\t\" '{OFS=FS=\"\\t\"}{print $5,$6,$4,$2,$3,$10,$11,$12,$13}' |\\\n",
    "awk -F\"\\t\" '{OFS=FS=\"\\t\"}{sub(/.*;gene=/,\"\",$9);sub(/;.*/,\"\",$9);if($7==\"-\")print $0}'|\\\n",
    "sort -k9,9 -k4,4rn |\\\n",
    "sort -u -k9,9 |\n",
    "sed 's/intron/first_intron/g' \\\n",
    "> GCF_000233375.1_ICSASG_v2_genomic_first_intron_neg.gff\n",
    "\n",
    "cat GCF_000233375.1_ICSASG_v2_genomic_first_intron_pos.gff \\\n",
    "GCF_000233375.1_ICSASG_v2_genomic_first_intron_neg.gff \\\n",
    "> GCF_000233375.1_ICSASG_v2_genomic_first_intron.gff\n"
   ]
  },
  {
   "cell_type": "code",
   "execution_count": 171,
   "metadata": {},
   "outputs": [
    {
     "name": "stdout",
     "output_type": "stream",
     "text": [
      "NC_027314.1\tBestRefSeq\tfirst_intron\t57251620\t57253309\t.\t+\t.\t143b2\r\n",
      "NC_027312.1\tBestRefSeq\tfirst_intron\t47922914\t47933935\t.\t+\t.\t143g1\r\n",
      "NC_027308.1\tBestRefSeq%2CGnomon\tfirst_intron\t25332181\t25332861\t.\t+\t.\t2a5e\r\n",
      "NC_027304.1\tBestRefSeq\tfirst_intron\t13019235\t13029849\t.\t+\t.\t4ebp\r\n",
      "NC_001960.1\tRefSeq\tfirst_intron\t9113\t9123\t.\t+\t.\tATP6\r\n",
      "NC_001960.1\tRefSeq\tfirst_intron\t8956\t9123\t.\t+\t.\tATP8\r\n",
      "NC_001960.1\tRefSeq\tfirst_intron\t6476\t8026\t.\t+\t.\tCOX1\r\n",
      "NC_001960.1\tRefSeq\tfirst_intron\t8190\t8880\t.\t+\t.\tCOX2\r\n",
      "NC_001960.1\tRefSeq\tfirst_intron\t9796\t9797\t.\t+\t.\tCOX3\r\n",
      "NC_001960.1\tRefSeq\tfirst_intron\t15384\t16524\t.\t+\t.\tCYTB\r\n"
     ]
    }
   ],
   "source": [
    "!head GCF_000233375.1_ICSASG_v2_genomic_first_intron.gff"
   ]
  },
  {
   "cell_type": "code",
   "execution_count": null,
   "metadata": {},
   "outputs": [],
   "source": [
    "#now create last intron track"
   ]
  },
  {
   "cell_type": "code",
   "execution_count": 172,
   "metadata": {},
   "outputs": [],
   "source": [
    "%%bash\n",
    "\n",
    "awk -F\"\\t\" '{OFS=FS=\"\\t\"}{if(($3==\"gene\")&&($1!~/NW_/))print $0}' \\\n",
    "GCF_000233375.1_ICSASG_v2_genomic.gff |\\\n",
    "/Users/Shared/bioinformatics/bedtools2/bin/intersectBed \\\n",
    "-a GCF_000233375.1_ICSASG_v2_intron.bed \\\n",
    "-b stdin \\\n",
    "-wb |\\\n",
    "awk -F\"\\t\" '{OFS=FS=\"\\t\"}{print $5,$6,$4,$2,$3,$10,$11,$12,$13}' |\\\n",
    "awk -F\"\\t\" '{OFS=FS=\"\\t\"}{sub(/.*;gene=/,\"\",$9);sub(/;.*/,\"\",$9);if($7==\"+\")print $0}'|\\\n",
    "sort -k9,9 -k4,4rn |\\\n",
    "sort -u -k9,9 |\n",
    "sed 's/intron/last_intron/g' \\\n",
    "> GCF_000233375.1_ICSASG_v2_genomic_last_intron_pos.gff\n",
    "\n",
    "awk -F\"\\t\" '{OFS=FS=\"\\t\"}{if(($3==\"gene\")&&($1!~/NW_/))print $0}' \\\n",
    "GCF_000233375.1_ICSASG_v2_genomic.gff |\\\n",
    "/Users/Shared/bioinformatics/bedtools2/bin/intersectBed \\\n",
    "-a GCF_000233375.1_ICSASG_v2_intron.bed \\\n",
    "-b stdin \\\n",
    "-wb |\\\n",
    "awk -F\"\\t\" '{OFS=FS=\"\\t\"}{print $5,$6,$4,$2,$3,$10,$11,$12,$13}' |\\\n",
    "awk -F\"\\t\" '{OFS=FS=\"\\t\"}{sub(/.*;gene=/,\"\",$9);sub(/;.*/,\"\",$9);if($7==\"-\")print $0}'|\\\n",
    "sort -k9,9 -k4,4n |\\\n",
    "sort -u -k9,9 |\n",
    "sed 's/intron/last_intron/g' \\\n",
    "> GCF_000233375.1_ICSASG_v2_genomic_last_intron_neg.gff\n",
    "\n",
    "cat GCF_000233375.1_ICSASG_v2_genomic_last_intron_pos.gff \\\n",
    "GCF_000233375.1_ICSASG_v2_genomic_last_intron_neg.gff \\\n",
    "> GCF_000233375.1_ICSASG_v2_genomic_last_intron.gff"
   ]
  },
  {
   "cell_type": "code",
   "execution_count": 173,
   "metadata": {},
   "outputs": [
    {
     "name": "stdout",
     "output_type": "stream",
     "text": [
      "NC_027314.1\tBestRefSeq\tlast_intron\t57254550\t57254751\t.\t+\t.\t143b2\r\n",
      "NC_027312.1\tBestRefSeq\tlast_intron\t47922914\t47933935\t.\t+\t.\t143g1\r\n",
      "NC_027308.1\tBestRefSeq%2CGnomon\tlast_intron\t25409319\t25409701\t.\t+\t.\t2a5e\r\n",
      "NC_027303.1\tBestRefSeq\tlast_intron\t74640050\t74641089\t.\t+\t.\t4ebp\r\n",
      "NC_001960.1\tRefSeq\tlast_intron\t9114\t9797\t.\t+\t.\tATP6\r\n",
      "NC_001960.1\tRefSeq\tlast_intron\t9114\t9123\t.\t+\t.\tATP8\r\n",
      "NC_001960.1\tRefSeq\tlast_intron\t6476\t8026\t.\t+\t.\tCOX1\r\n",
      "NC_001960.1\tRefSeq\tlast_intron\t8190\t8880\t.\t+\t.\tCOX2\r\n",
      "NC_001960.1\tRefSeq\tlast_intron\t9797\t10582\t.\t+\t.\tCOX3\r\n",
      "NC_001960.1\tRefSeq\tlast_intron\t15384\t16524\t.\t+\t.\tCYTB\r\n"
     ]
    }
   ],
   "source": [
    "!head GCF_000233375.1_ICSASG_v2_genomic_last_intron.gff"
   ]
  },
  {
   "cell_type": "code",
   "execution_count": 174,
   "metadata": {},
   "outputs": [
    {
     "name": "stdout",
     "output_type": "stream",
     "text": [
      "building file list ... \n",
      "14 files to consider\n",
      "GCF_000233375.1_ICSASG_v2_genomic_first_intron.gff\n",
      "     3146271 100%   44.32MB/s    0:00:00 (xfer#1, to-check=10/14)\n",
      "GCF_000233375.1_ICSASG_v2_genomic_first_intron_neg.gff\n",
      "     1569716 100%   13.37MB/s    0:00:00 (xfer#2, to-check=9/14)\n",
      "GCF_000233375.1_ICSASG_v2_genomic_first_intron_pos.gff\n",
      "     1576555 100%    7.83MB/s    0:00:00 (xfer#3, to-check=8/14)\n",
      "GCF_000233375.1_ICSASG_v2_genomic_last_intron.gff\n",
      "     3100208 100%    9.27MB/s    0:00:00 (xfer#4, to-check=4/14)\n",
      "GCF_000233375.1_ICSASG_v2_genomic_last_intron_neg.gff\n",
      "     1546659 100%    3.92MB/s    0:00:00 (xfer#5, to-check=3/14)\n",
      "GCF_000233375.1_ICSASG_v2_genomic_last_intron_pos.gff\n",
      "     1553549 100%    3.07MB/s    0:00:00 (xfer#6, to-check=2/14)\n",
      "ssal_repeats_v5.1.TEannotations.noNW.gff\n",
      "   388462067 100%   37.74MB/s    0:00:09 (xfer#7, to-check=0/14)\n",
      "\n",
      "sent 401004724 bytes  received 216 bytes  38190946.67 bytes/sec\n",
      "total size is 422835349  speedup is 1.05\n"
     ]
    }
   ],
   "source": [
    "!rsync --archive --verbose --progress --exclude GCF_000233375.1_ICSASG_v2_genomic.gff *.gff\\\n",
    "/Volumes/web/metacarcinus/Salmo_Calig/GENOMES/v2/RefSeq/chr1-29MT"
   ]
  },
  {
   "cell_type": "code",
   "execution_count": null,
   "metadata": {},
   "outputs": [],
   "source": [
    "#copy TE track locally"
   ]
  },
  {
   "cell_type": "code",
   "execution_count": 90,
   "metadata": {},
   "outputs": [
    {
     "name": "stdout",
     "output_type": "stream",
     "text": [
      "ssal_repeats_v5.1.TEannotations.noNW.gff\n",
      "   388462067 100%   39.46MB/s    0:00:09 (xfer#1, to-check=0/1)\n",
      "\n",
      "sent 388509604 bytes  received 42 bytes  40895752.21 bytes/sec\n",
      "total size is 388462067  speedup is 1.00\n"
     ]
    }
   ],
   "source": [
    "!rsync --progress --verbose \\\n",
    "/Volumes/web/metacarcinus/Salmo_Calig/GENOMES/v2/RefSeq/ssal_repeats_v5.1.TEannotations.noNW.gff ."
   ]
  },
  {
   "cell_type": "code",
   "execution_count": null,
   "metadata": {},
   "outputs": [],
   "source": [
    "#format the TE track"
   ]
  },
  {
   "cell_type": "code",
   "execution_count": 97,
   "metadata": {},
   "outputs": [
    {
     "name": "stdout",
     "output_type": "stream",
     "text": [
      "NC_027328.1\t3\t663\tTE:Unknown\r",
      "\r\n",
      "NC_027328.1\t610\t679\tTE:DNA/Dada\r",
      "\r\n",
      "NC_027328.1\t696\t824\tTE:Unknown\r",
      "\r\n",
      "NC_027328.1\t864\t1014\tTE:DNA\r",
      "\r\n",
      "NC_027328.1\t1020\t1162\tTE:Unknown\r",
      "\r\n",
      "NC_027328.1\t1191\t2632\tTE:DNA/TcMar\r",
      "\r\n",
      "NC_027328.1\t2627\t2767\tTE:DNA\r",
      "\r\n",
      "NC_027328.1\t3084\t3162\tTE:Unknown\r",
      "\r\n",
      "NC_027328.1\t3351\t3745\tTE:LINE/Crack\r",
      "\r\n",
      "NC_027328.1\t3796\t4074\tTE:LINE/Rex1\r",
      "\r\n",
      "awk: write error on /dev/stdout\r\n",
      " input record number 957, file ssal_repeats_v5.1.TEannotations.noNW.gff\r\n",
      " source line number 1\r\n"
     ]
    }
   ],
   "source": [
    "!awk '{sub(/.*\\|N/,\"N\");sub(/\\|/,\"\");if(($0!~/#/)&&($9~/Ssa_/))print $1\"\\t\"$4\"\\t\"$5\"\\t\"\"TE:\"$10}' \\\n",
    "ssal_repeats_v5.1.TEannotations.noNW.gff|\\\n",
    "head\n"
   ]
  },
  {
   "cell_type": "code",
   "execution_count": 98,
   "metadata": {},
   "outputs": [],
   "source": [
    "!awk '{sub(/.*\\|N/,\"N\");sub(/\\|/,\"\");if(($0!~/#/)&&($9~/Ssa_/))print $1\"\\t\"$4\"\\t\"$5\"\\t\"\"TE:\"$10}' \\\n",
    "ssal_repeats_v5.1.TEannotations.noNW.gff \\\n",
    "> ssal_repeats_v5.1.TEannotations.noNW.bed"
   ]
  },
  {
   "cell_type": "code",
   "execution_count": null,
   "metadata": {},
   "outputs": [],
   "source": [
    "#now combine:\n",
    "# genome gff\n",
    "# promoter track\n",
    "# intron track\n",
    "# 1st and last intron tracks\n",
    "# 1st and last exon tracks\n",
    "# TE track"
   ]
  },
  {
   "cell_type": "code",
   "execution_count": 175,
   "metadata": {},
   "outputs": [
    {
     "name": "stdout",
     "output_type": "stream",
     "text": [
      "NC_001960.1\t5690\t8189\tput_promoter\r\n",
      "NC_001960.1\t6456\t8955\tput_promoter\r\n",
      "NC_001960.1\t6614\t9113\tput_promoter\r\n",
      "NC_001960.1\t7297\t9796\tput_promoter\r\n",
      "NC_001960.1\t8152\t10651\tput_promoter\r\n",
      "NC_001960.1\t8571\t11070\tput_promoter\r\n",
      "NC_001960.1\t8861\t11360\tput_promoter\r\n",
      "NC_001960.1\t10454\t12953\tput_promoter\r\n",
      "NC_001960.1\t15311\t16665\tput_promoter\r\n",
      "NC_001960.1\t12884\t15383\tput_promoter\r\n"
     ]
    }
   ],
   "source": [
    "!cat \\\n",
    "GCF_000233375.1_ICSASG_v2_genomic.gff \\\n",
    "GCF_000233375.1_ICSASG_v2_genomic_first_exon.gff \\\n",
    "GCF_000233375.1_ICSASG_v2_genomic_last_exon.gff \\\n",
    "GCF_000233375.1_ICSASG_v2_genomic_first_intron.gff \\\n",
    "GCF_000233375.1_ICSASG_v2_genomic_last_intron.gff \\\n",
    "GCF_000233375.1_ICSASG_v2_promoter.gff |\\\n",
    "awk -F\"\\t\" '{OFS=FS=\"\\t\"}{if(($0!~/#/)&&($3 != \"region\")&&($3 !~/segment/)&& ($3 !~/match/)&& ($3 != \"D_loop\")&&($3 != \"origin_of_replication\")&&($3 != \"rRNA\")&&($3 != \"transcript\")&&($1!~/NW_/))print $1,$4,$5,$3}' |\\\n",
    "tail\n"
   ]
  },
  {
   "cell_type": "code",
   "execution_count": 193,
   "metadata": {},
   "outputs": [
    {
     "name": "stdout",
     "output_type": "stream",
     "text": [
      "NC_001960.1\t8190\t8880\tintron\r\n",
      "NC_001960.1\t8956\t9123\tintron\r\n",
      "NC_001960.1\t9114\t9797\tintron\r\n",
      "NC_001960.1\t9797\t10582\tintron\r\n",
      "NC_001960.1\t10652\t11000\tintron\r\n",
      "NC_001960.1\t11071\t11367\tintron\r\n",
      "NC_001960.1\t11361\t12741\tintron\r\n",
      "NC_001960.1\t12954\t14792\tintron\r\n",
      "NC_001960.1\t14789\t15310\tintron\r\n",
      "NC_001960.1\t15384\t16524\tintron\r\n"
     ]
    }
   ],
   "source": [
    "!cat \\\n",
    "GCF_000233375.1_ICSASG_v2_genomic.gff \\\n",
    "GCF_000233375.1_ICSASG_v2_genomic_first_exon.gff \\\n",
    "GCF_000233375.1_ICSASG_v2_genomic_last_exon.gff \\\n",
    "GCF_000233375.1_ICSASG_v2_genomic_first_intron.gff \\\n",
    "GCF_000233375.1_ICSASG_v2_genomic_last_intron.gff \\\n",
    "GCF_000233375.1_ICSASG_v2_promoter.gff |\\\n",
    "awk -F\"\\t\" '{OFS=FS=\"\\t\"}{if(($0!~/#/)&&($3 != \"region\")&&($3 !~/segment/)&& ($3 !~/match/)&& ($3 != \"D_loop\")&&($3 != \"origin_of_replication\")&&($3 != \"rRNA\")&&($3 != \"transcript\")&&($1!~/NW_/))print $1,$4,$5,$3}' |\\\n",
    "cat - ssal_repeats_v5.1.TEannotations.noNW.bed \\\n",
    "GCF_000233375.1_ICSASG_v2_intron.bed |\\\n",
    "tail"
   ]
  },
  {
   "cell_type": "code",
   "execution_count": 194,
   "metadata": {},
   "outputs": [],
   "source": [
    "!cat \\\n",
    "GCF_000233375.1_ICSASG_v2_genomic.gff \\\n",
    "GCF_000233375.1_ICSASG_v2_genomic_first_exon.gff \\\n",
    "GCF_000233375.1_ICSASG_v2_genomic_last_exon.gff \\\n",
    "GCF_000233375.1_ICSASG_v2_genomic_first_intron.gff \\\n",
    "GCF_000233375.1_ICSASG_v2_genomic_last_intron.gff \\\n",
    "GCF_000233375.1_ICSASG_v2_promoter.gff |\\\n",
    "awk -F\"\\t\" '{OFS=FS=\"\\t\"}{if(($0!~/#/)&&($3 != \"region\")&&($3 !~/segment/)&& ($3 !~/match/)&& ($3 != \"D_loop\")&&($3 != \"origin_of_replication\")&&($3 != \"rRNA\")&&($3 != \"transcript\")&&($1!~/NW_/))print $1,$4,$5,$3}' |\\\n",
    "cat - ssal_repeats_v5.1.TEannotations.noNW.bed \\\n",
    "GCF_000233375.1_ICSASG_v2_intron.bed \\\n",
    "> GCF_000233375.1_ICSASG_v2_MASTER.bed\n"
   ]
  },
  {
   "cell_type": "code",
   "execution_count": 178,
   "metadata": {
    "scrolled": true
   },
   "outputs": [
    {
     "name": "stdout",
     "output_type": "stream",
     "text": [
      "NC_027300.1\t5501\t62139\tgene\r\n",
      "NC_027300.1\t5501\t62139\tmRNA\r\n",
      "NC_027300.1\t61647\t62139\texon\r\n",
      "NC_027300.1\t43486\t43714\texon\r\n",
      "NC_027300.1\t23978\t24241\texon\r\n",
      "NC_027300.1\t16966\t17019\texon\r\n",
      "NC_027300.1\t5501\t5691\texon\r\n",
      "NC_027300.1\t43486\t43633\tCDS\r\n",
      "NC_027300.1\t23978\t24241\tCDS\r\n",
      "NC_027300.1\t16966\t17019\tCDS\r\n"
     ]
    }
   ],
   "source": [
    "!head GCF_000233375.1_ICSASG_v2_MASTER.bed"
   ]
  },
  {
   "cell_type": "code",
   "execution_count": 179,
   "metadata": {},
   "outputs": [
    {
     "name": "stdout",
     "output_type": "stream",
     "text": [
      "NC_027314.1\t57251620\t57253309\tfirst_intron\r\n",
      "NC_027312.1\t47922914\t47933935\tfirst_intron\r\n",
      "NC_027308.1\t25332181\t25332861\tfirst_intron\r\n",
      "NC_027304.1\t13019235\t13029849\tfirst_intron\r\n",
      "NC_001960.1\t9113\t9123\tfirst_intron\r\n",
      "NC_001960.1\t8956\t9123\tfirst_intron\r\n",
      "NC_001960.1\t6476\t8026\tfirst_intron\r\n",
      "NC_001960.1\t8190\t8880\tfirst_intron\r\n",
      "NC_001960.1\t9796\t9797\tfirst_intron\r\n",
      "NC_001960.1\t15384\t16524\tfirst_intron\r\n"
     ]
    }
   ],
   "source": [
    "!grep first_intron GCF_000233375.1_ICSASG_v2_MASTER.bed | head"
   ]
  },
  {
   "cell_type": "code",
   "execution_count": null,
   "metadata": {},
   "outputs": [],
   "source": [
    "#count the frequency of each feature"
   ]
  },
  {
   "cell_type": "code",
   "execution_count": 195,
   "metadata": {},
   "outputs": [
    {
     "name": "stdout",
     "output_type": "stream",
     "text": [
      "1123229 CDS\n",
      "5626 TE:DIRS/DIRS\n",
      "252474 TE:DNA\n",
      "17686 TE:DNA/CMC-EnSpm\n",
      "13025 TE:DNA/Crypton\n",
      " 580 TE:DNA/Dada\n",
      "4819 TE:DNA/Ginger\n",
      "6323 TE:DNA/Harbinger\n",
      "8407 TE:DNA/IS3EU\n",
      "2374 TE:DNA/Kolobok\n",
      "1345 TE:DNA/Maverick\n",
      " 517 TE:DNA/PIF-ISL2EU\n",
      "13780 TE:DNA/PiggyBac\n",
      "6055 TE:DNA/Sola\n",
      "634644 TE:DNA/TcMar\n",
      "217856 TE:DNA/hAT\n",
      "1531 TE:LINE/CR1\n",
      "168485 TE:LINE/Crack\n",
      "6570 TE:LINE/Jockey\n",
      "29550 TE:LINE/L1\n",
      "107372 TE:LINE/L2\n",
      "11590 TE:LINE/Nimb\n",
      "14605 TE:LINE/Penelope\n",
      " 214 TE:LINE/R2\n",
      " 684 TE:LINE/RTE\n",
      "50058 TE:LINE/RTEX\n",
      "232509 TE:LINE/Rex1\n",
      " 988 TE:LINE/Togen\n",
      "30774 TE:LINE/Tx1\n",
      "74915 TE:LTR\n",
      "5098 TE:LTR/BEL\n",
      "9825 TE:LTR/Copia\n",
      "11538 TE:LTR/ERV\n",
      "16553 TE:LTR/ERV1\n",
      "95012 TE:LTR/Gypsy\n",
      "5837 TE:SINE/Deu\n",
      "104180 TE:SINE2/tRNA\n",
      "45137 TE:Satellite\n",
      "5501 TE:Simple_repeat\n",
      "1008726 TE:Unknown\n",
      "5735 TE:Unknown/Unknown\n",
      "1248615 exon\n",
      "49497 first_exon\n",
      "46074 first_intron\n",
      "50093 gene\n",
      "408431 intron\n",
      "49497 last_exon\n",
      "46074 last_intron\n",
      "7207 lnc_RNA\n",
      "90161 mRNA\n",
      "2180 pseudogene\n",
      "50093 put_promoter\n",
      "2800 tRNA\n"
     ]
    }
   ],
   "source": [
    "!awk -F\"\\t\" '{print $4}' GCF_000233375.1_ICSASG_v2_MASTER.bed| sort | uniq -c"
   ]
  },
  {
   "cell_type": "code",
   "execution_count": null,
   "metadata": {},
   "outputs": [],
   "source": [
    "#bin genome features to max DMR length (30bp)"
   ]
  },
  {
   "cell_type": "code",
   "execution_count": 107,
   "metadata": {},
   "outputs": [],
   "source": [
    "!cat GCF_000233375.1_ICSASG_v2_MASTER.bed|\\\n",
    "/Users/Shared/bioinformatics/bedtools2/bin/bedtools makewindows \\\n",
    "-b - \\\n",
    "-w 30 \\\n",
    "-s 31 \\\n",
    "-i src \\\n",
    "> GCF_000233375.1_ICSASG_v2_MASTER.30bp.bed"
   ]
  },
  {
   "cell_type": "code",
   "execution_count": 108,
   "metadata": {},
   "outputs": [
    {
     "name": "stdout",
     "output_type": "stream",
     "text": [
      "NC_027300.1\t5501\t5531\tgene\r\n",
      "NC_027300.1\t5532\t5562\tgene\r\n",
      "NC_027300.1\t5563\t5593\tgene\r\n",
      "NC_027300.1\t5594\t5624\tgene\r\n",
      "NC_027300.1\t5625\t5655\tgene\r\n",
      "NC_027300.1\t5656\t5686\tgene\r\n",
      "NC_027300.1\t5687\t5717\tgene\r\n",
      "NC_027300.1\t5718\t5748\tgene\r\n",
      "NC_027300.1\t5749\t5779\tgene\r\n",
      "NC_027300.1\t5780\t5810\tgene\r\n"
     ]
    }
   ],
   "source": [
    "!head GCF_000233375.1_ICSASG_v2_MASTER.30bp.bed"
   ]
  },
  {
   "cell_type": "code",
   "execution_count": null,
   "metadata": {},
   "outputs": [],
   "source": [
    "#see the range of sizes for TEs; \n",
    "#since some of them are already short I'm not sure how binning will work "
   ]
  },
  {
   "cell_type": "code",
   "execution_count": 109,
   "metadata": {},
   "outputs": [
    {
     "name": "stdout",
     "output_type": "stream",
     "text": [
      "101883 1\r\n",
      "110099 10\r\n",
      "112635 11\r\n",
      "110946 12\r\n",
      "109358 13\r\n",
      "110571 14\r\n",
      "108004 15\r\n",
      "110011 16\r\n",
      "105350 17\r\n",
      "104100 18\r\n",
      "103611 19\r\n",
      "102616 2\r\n",
      "106839 20\r\n",
      "104147 21\r\n",
      "102594 22\r\n",
      "99987 23\r\n",
      "100666 24\r\n",
      "100374 25\r\n",
      "99504 26\r\n",
      "100800 27\r\n",
      "100838 28\r\n",
      "101158 29\r\n",
      "104268 3\r\n",
      "37603696 30\r\n",
      "102568 4\r\n",
      "102592 5\r\n",
      "103164 6\r\n",
      "102645 7\r\n",
      "102051 8\r\n",
      "103190 9\r\n"
     ]
    }
   ],
   "source": [
    "!awk -F\"\\t\" '{if($4~/TE:/)print $3-$2}' \\\n",
    "GCF_000233375.1_ICSASG_v2_MASTER.30bp.bed |\\\n",
    "sort | uniq -c | head -100"
   ]
  },
  {
   "cell_type": "code",
   "execution_count": 110,
   "metadata": {},
   "outputs": [
    {
     "name": "stdout",
     "output_type": "stream",
     "text": [
      " 224744460 GCF_000233375.1_ICSASG_v2_MASTER.30bp.bed\r\n"
     ]
    }
   ],
   "source": [
    "!wc -l GCF_000233375.1_ICSASG_v2_MASTER.30bp.bed"
   ]
  },
  {
   "cell_type": "markdown",
   "metadata": {},
   "source": [
    "Because many of the bin sizes are too small, I don't think this strategy makes sense anymore. I could fix the window size but I think it would be better to define background regions differently and to not bin features.\n",
    "\n",
    "To define background regions, I'm going to take the allc files and use a series of bedtools merge commands to find regions. Criteria for regions are as follows\n",
    "1. cpgs must have 5x coverage\n",
    "2. a region must have 3 cpgs ; similar to DMRfind --min-num-dms parameter used\n",
    "3. cpgs must be no more than 250bp apart; similar to DMRfind --dmr-max-dist parameter used\n",
    "\n",
    "I will find regions as follows:\n",
    "1. within samples\n",
    "2. within experimental group (must be in 3/4 samples/group)\n",
    "3. across experimental groups (must be in all groups)"
   ]
  },
  {
   "cell_type": "code",
   "execution_count": null,
   "metadata": {},
   "outputs": [],
   "source": [
    "#experimenting with mergebed function\n",
    "#first use awk to print the chromosome start and end of each cpg for cpgs with 5x coverage (field 6)\n",
    "#then mergeBed to merge CpGs that are no more than 250bp apart and print the number of CpGs in each region in field 4"
   ]
  },
  {
   "cell_type": "code",
   "execution_count": 120,
   "metadata": {},
   "outputs": [
    {
     "name": "stdout",
     "output_type": "stream",
     "text": [
      "NC_001960.1\t107\t16572\t533\n",
      "NC_027300.1\t12060\t12061\t1\n",
      "NC_027300.1\t12998\t13346\t10\n",
      "NC_027300.1\t13700\t13842\t4\n",
      "NC_027300.1\t27644\t27645\t1\n",
      "NC_027300.1\t38377\t38378\t1\n",
      "NC_027300.1\t38762\t38763\t1\n",
      "NC_027300.1\t50850\t50851\t1\n",
      "NC_027300.1\t57351\t57472\t3\n",
      "NC_027300.1\t64576\t64633\t2\n"
     ]
    }
   ],
   "source": [
    "%%bash\n",
    "zcat < /Users/strigg/Desktop/20200811/16C_26psu_1_S13_allc.tsv.gz |\\\n",
    "head -1000 |\\\n",
    "awk -F\"\\t\" '{OFS=FS=\"\\t\"}{if($6>=5)print $1,$2,$2+1}' |\\\n",
    "/Users/Shared/bioinformatics/bedtools2/bin/mergeBed -d 250 -c 1 -o count |\\\n",
    "head"
   ]
  },
  {
   "cell_type": "code",
   "execution_count": null,
   "metadata": {},
   "outputs": [],
   "source": [
    "#now add line of code to filter regions for those containing 3 or more CpGs\n",
    "# use awk to filter for lines where field 4 is greater than or equal to 3"
   ]
  },
  {
   "cell_type": "code",
   "execution_count": 121,
   "metadata": {},
   "outputs": [
    {
     "name": "stdout",
     "output_type": "stream",
     "text": [
      "NC_001960.1\t107\t16572\t533\n",
      "NC_027300.1\t12998\t13346\t10\n",
      "NC_027300.1\t13700\t13842\t4\n",
      "NC_027300.1\t57351\t57472\t3\n",
      "NC_027300.1\t65426\t65462\t4\n"
     ]
    }
   ],
   "source": [
    "%%bash\n",
    "zcat < /Users/strigg/Desktop/20200811/16C_26psu_1_S13_allc.tsv.gz |\\\n",
    "head -1000 |\\\n",
    "awk -F\"\\t\" '{OFS=FS=\"\\t\"}{if($6>=5)print $1,$2,$2+1}' |\\\n",
    "/Users/Shared/bioinformatics/bedtools2/bin/mergeBed -d 250 -c 1 -o count |\\\n",
    "awk -F\"\\t\" '{OFS=FS=\"\\t\"}{if($4>=3)print $0}' |\\\n",
    "head"
   ]
  },
  {
   "cell_type": "code",
   "execution_count": null,
   "metadata": {},
   "outputs": [],
   "source": [
    "#this looks good so now I'll do this for all allc files\n",
    "########################################\n",
    "##### DEFINING BACKGROUND REGIONS ######\n",
    "##STEP 1: Finding regions within samples##\n",
    "##########################################"
   ]
  },
  {
   "cell_type": "code",
   "execution_count": 127,
   "metadata": {},
   "outputs": [],
   "source": [
    "%%bash\n",
    "FILES=/Users/strigg/Desktop/20200811/*_allc.tsv.gz\n",
    "for f in $FILES\n",
    "do\n",
    "zcat < ${f} |\\\n",
    "awk -F\"\\t\" '{OFS=FS=\"\\t\"}{if($6>=5)print $1,$2,$2+1}' |\\\n",
    "sort -k1,1 -k2,2n |\\\n",
    "/Users/Shared/bioinformatics/bedtools2/bin/mergeBed -d 250 -c 1 -o count |\\\n",
    "awk -F\"\\t\" '{OFS=FS=\"\\t\"}{if($4>=3)print $0}' \\\n",
    "> $(basename ${f} _allc.tsv.gz)_allc_regions.tsv\n",
    "done"
   ]
  },
  {
   "cell_type": "code",
   "execution_count": null,
   "metadata": {},
   "outputs": [],
   "source": [
    "#add sample name as column"
   ]
  },
  {
   "cell_type": "code",
   "execution_count": 130,
   "metadata": {},
   "outputs": [
    {
     "name": "stdout",
     "output_type": "stream",
     "text": [
      "NC_001960.1\t107\t16572\t533\tS1\r\n",
      "NC_027300.1\t12998\t13346\t10\tS1\r\n",
      "NC_027300.1\t13700\t13842\t4\tS1\r\n",
      "NC_027300.1\t57351\t57472\t3\tS1\r\n",
      "NC_027300.1\t65426\t65462\t4\tS1\r\n",
      "NC_027300.1\t83713\t83726\t3\tS1\r\n",
      "NC_027300.1\t84862\t84923\t4\tS1\r\n",
      "NC_027300.1\t122018\t122061\t3\tS1\r\n",
      "NC_027300.1\t122359\t122463\t4\tS1\r\n",
      "NC_027300.1\t125895\t125996\t4\tS1\r\n",
      "awk: write error on /dev/stdout\r\n",
      " input record number 970, file \r\n",
      " source line number 1\r\n",
      "cat: stdout: Broken pipe\r\n"
     ]
    }
   ],
   "source": [
    "!cat 16C_26psu_1_S13_allc_regions.tsv | awk -F\"\\t\" '{OFS=FS=\"\\t\"}{print $0,\"S1\"}' | head"
   ]
  },
  {
   "cell_type": "code",
   "execution_count": 131,
   "metadata": {},
   "outputs": [],
   "source": [
    "!cat 16C_26psu_1_S13_allc_regions.tsv | awk -F\"\\t\" '{OFS=FS=\"\\t\"}{print $0,\"S1\"}' > 16C_26psu_1_S13_allc_regions_named.tsv\n",
    "!cat 16C_26psu_2_S14_allc_regions.tsv | awk -F\"\\t\" '{OFS=FS=\"\\t\"}{print $0,\"S2\"}' > 16C_26psu_2_S14_allc_regions_named.tsv\n",
    "!cat 16C_26psu_3_S15_allc_regions.tsv | awk -F\"\\t\" '{OFS=FS=\"\\t\"}{print $0,\"S3\"}' > 16C_26psu_3_S15_allc_regions_named.tsv\n",
    "!cat 16C_26psu_4_S16_allc_regions.tsv | awk -F\"\\t\" '{OFS=FS=\"\\t\"}{print $0,\"S4\"}' > 16C_26psu_4_S16_allc_regions_named.tsv"
   ]
  },
  {
   "cell_type": "code",
   "execution_count": 136,
   "metadata": {},
   "outputs": [],
   "source": [
    "!cat 16C_32psu_1_S1_allc_regions.tsv | awk -F\"\\t\" '{OFS=FS=\"\\t\"}{print $0,\"S1\"}' > 16C_32psu_1_S1_allc_regions_named.tsv\n",
    "!cat 16C_32psu_2_S2_allc_regions.tsv | awk -F\"\\t\" '{OFS=FS=\"\\t\"}{print $0,\"S2\"}' > 16C_32psu_2_S2_allc_regions_named.tsv\n",
    "!cat 16C_32psu_3_S3_allc_regions.tsv | awk -F\"\\t\" '{OFS=FS=\"\\t\"}{print $0,\"S3\"}' > 16C_32psu_3_S3_allc_regions_named.tsv\n",
    "!cat 16C_32psu_4_S4_allc_regions.tsv | awk -F\"\\t\" '{OFS=FS=\"\\t\"}{print $0,\"S4\"}' > 16C_32psu_4_S4_allc_regions_named.tsv"
   ]
  },
  {
   "cell_type": "code",
   "execution_count": 137,
   "metadata": {},
   "outputs": [],
   "source": [
    "!cat 8C_26psu_1_S9_allc_regions.tsv | awk -F\"\\t\" '{OFS=FS=\"\\t\"}{print $0,\"S1\"}' > 8C_26psu_1_S9_allc_regions_named.tsv\n",
    "!cat 8C_26psu_2_S10_allc_regions.tsv | awk -F\"\\t\" '{OFS=FS=\"\\t\"}{print $0,\"S2\"}' > 8C_26psu_2_S10_allc_regions_named.tsv\n",
    "!cat 8C_26psu_3_S11_allc_regions.tsv | awk -F\"\\t\" '{OFS=FS=\"\\t\"}{print $0,\"S3\"}' > 8C_26psu_3_S11_allc_regions_named.tsv\n",
    "!cat 8C_26psu_4_S12_allc_regions.tsv | awk -F\"\\t\" '{OFS=FS=\"\\t\"}{print $0,\"S4\"}' > 8C_26psu_4_S12_allc_regions_named.tsv"
   ]
  },
  {
   "cell_type": "code",
   "execution_count": 138,
   "metadata": {},
   "outputs": [],
   "source": [
    "!cat 8C_32psu_1_S5_allc_regions.tsv | awk -F\"\\t\" '{OFS=FS=\"\\t\"}{print $0,\"S1\"}' > 8C_32psu_1_S5_allc_regions_named.tsv\n",
    "!cat 8C_32psu_2_S6_allc_regions.tsv | awk -F\"\\t\" '{OFS=FS=\"\\t\"}{print $0,\"S2\"}' > 8C_32psu_2_S6_allc_regions_named.tsv\n",
    "!cat 8C_32psu_3_S7_allc_regions.tsv | awk -F\"\\t\" '{OFS=FS=\"\\t\"}{print $0,\"S3\"}' > 8C_32psu_3_S7_allc_regions_named.tsv\n",
    "!cat 8C_32psu_4_S8_allc_regions.tsv | awk -F\"\\t\" '{OFS=FS=\"\\t\"}{print $0,\"S4\"}' > 8C_32psu_4_S8_allc_regions_named.tsv"
   ]
  },
  {
   "cell_type": "code",
   "execution_count": null,
   "metadata": {},
   "outputs": [],
   "source": [
    "############################################\n",
    "##### DEFINING BACKGROUND REGIONS ##########\n",
    "## STEP 2:  Finding regions within groups ##\n",
    "############################################"
   ]
  },
  {
   "cell_type": "code",
   "execution_count": null,
   "metadata": {},
   "outputs": [],
   "source": [
    "#first see what the output looks like for collapsing sample files\n",
    "#there should only be a min of 1 and max of 4 in the last column"
   ]
  },
  {
   "cell_type": "code",
   "execution_count": 134,
   "metadata": {},
   "outputs": [
    {
     "name": "stdout",
     "output_type": "stream",
     "text": [
      "63381 S1\n",
      "16116 S1,S2\n",
      "  29 S1,S2,S1\n",
      "   2 S1,S2,S1,S3,S4\n",
      "  15 S1,S2,S1,S4\n",
      "   2 S1,S2,S1,S4,S2\n",
      "   3 S1,S2,S1,S4,S3\n",
      "  19 S1,S2,S2\n",
      "   2 S1,S2,S2,S3,S4\n",
      "  11 S1,S2,S2,S4\n",
      "   1 S1,S2,S2,S4,S3\n",
      "   1 S1,S2,S2,S4,S3,S1\n",
      " 609 S1,S2,S3\n",
      "   2 S1,S2,S3,S1,S4\n",
      "   1 S1,S2,S3,S2,S1,S4\n",
      "   1 S1,S2,S3,S3\n",
      "2872 S1,S2,S3,S4\n",
      "   6 S1,S2,S3,S4,S1\n",
      "   1 S1,S2,S3,S4,S1,S2\n",
      "   1 S1,S2,S3,S4,S1,S2,S3\n",
      "   1 S1,S2,S3,S4,S1,S2,S3,S2,S4\n",
      "   7 S1,S2,S3,S4,S2\n",
      "   3 S1,S2,S3,S4,S2,S1\n",
      "   1 S1,S2,S3,S4,S2,S3\n",
      "   1 S1,S2,S3,S4,S2,S3,S1,S4\n",
      "   4 S1,S2,S3,S4,S2,S4\n",
      "   1 S1,S2,S3,S4,S2,S4,S3,S3,S3,S4,S2,S4,S2\n",
      "   2 S1,S2,S3,S4,S3\n",
      "   2 S1,S2,S3,S4,S4\n",
      "   2 S1,S2,S3,S4,S4,S2\n",
      "   1 S1,S2,S3,S4,S4,S2,S3\n",
      "14409 S1,S2,S4\n",
      "  48 S1,S2,S4,S1\n",
      "  15 S1,S2,S4,S1,S2\n",
      "   1 S1,S2,S4,S1,S2,S4\n",
      "   7 S1,S2,S4,S1,S3\n",
      "   1 S1,S2,S4,S1,S3,S2,S3\n",
      "   1 S1,S2,S4,S1,S3,S2,S4,S2\n",
      "   4 S1,S2,S4,S1,S3,S4\n",
      "   9 S1,S2,S4,S1,S4\n",
      "   1 S1,S2,S4,S1,S4,S2\n",
      "   1 S1,S2,S4,S1,S4,S2,S1,S4\n",
      "   1 S1,S2,S4,S1,S4,S2,S2,S4,S2\n",
      "   1 S1,S2,S4,S1,S4,S3\n",
      "  51 S1,S2,S4,S2\n",
      "   8 S1,S2,S4,S2,S1\n",
      "   1 S1,S2,S4,S2,S1,S3\n",
      "   2 S1,S2,S4,S2,S2\n",
      "   2 S1,S2,S4,S2,S3\n",
      "   1 S1,S2,S4,S2,S3,S4\n",
      "  15 S1,S2,S4,S2,S4\n",
      "   1 S1,S2,S4,S2,S4,S1,S2\n",
      "   1 S1,S2,S4,S2,S4,S3\n",
      " 997 S1,S2,S4,S3\n",
      "  10 S1,S2,S4,S3,S1\n",
      "   3 S1,S2,S4,S3,S1,S2\n",
      "   1 S1,S2,S4,S3,S1,S2,S4\n",
      "   1 S1,S2,S4,S3,S1,S3,S2,S1,S4\n",
      "   1 S1,S2,S4,S3,S1,S4\n",
      "   1 S1,S2,S4,S3,S1,S4,S2\n",
      "   4 S1,S2,S4,S3,S2\n",
      "   2 S1,S2,S4,S3,S2,S1\n",
      "   2 S1,S2,S4,S3,S2,S3,S4\n",
      "   6 S1,S2,S4,S3,S2,S4\n",
      "   2 S1,S2,S4,S3,S2,S4,S1\n",
      "   2 S1,S2,S4,S3,S2,S4,S3\n",
      "   2 S1,S2,S4,S3,S3\n",
      "   1 S1,S2,S4,S3,S3,S2\n",
      "   1 S1,S2,S4,S3,S3,S2,S4,S2,S2\n",
      "   3 S1,S2,S4,S3,S4\n",
      "   1 S1,S2,S4,S3,S4,S1,S2,S2\n",
      "   1 S1,S2,S4,S3,S4,S2\n",
      "   1 S1,S2,S4,S3,S4,S2,S3\n",
      "  20 S1,S2,S4,S4\n",
      "   2 S1,S2,S4,S4,S1\n",
      "   1 S1,S2,S4,S4,S1,S4\n",
      "   6 S1,S2,S4,S4,S2\n",
      "   1 S1,S2,S4,S4,S2,S1\n",
      "   1 S1,S2,S4,S4,S2,S3\n",
      "   1 S1,S2,S4,S4,S2,S4\n",
      "   1 S1,S2,S4,S4,S3,S2\n",
      " 720 S1,S3\n",
      "   1 S1,S3,S1,S2,S3,S4\n",
      "   1 S1,S3,S1,S3\n",
      " 137 S1,S3,S2\n",
      "   2 S1,S3,S2,S1\n",
      "   1 S1,S3,S2,S1,S3\n",
      "   1 S1,S3,S2,S1,S3,S4,S1,S3\n",
      "   2 S1,S3,S2,S1,S4\n",
      " 305 S1,S3,S2,S4\n",
      "   1 S1,S3,S2,S4,S1\n",
      "   1 S1,S3,S2,S4,S1,S2\n",
      "   1 S1,S3,S2,S4,S1,S3\n",
      "   2 S1,S3,S2,S4,S2\n",
      "   1 S1,S3,S2,S4,S2,S4\n",
      "   2 S1,S3,S2,S4,S3\n",
      "   1 S1,S3,S2,S4,S3,S2,S4,S3\n",
      "   1 S1,S3,S2,S4,S3,S3\n",
      "   1 S1,S3,S2,S4,S4,S2,S3\n",
      "   1 S1,S3,S2,S4,S4,S3,S1\n",
      " 558 S1,S3,S4\n",
      " 375 S1,S3,S4,S2\n",
      "   5 S1,S3,S4,S2,S1\n",
      "   1 S1,S3,S4,S2,S1,S3\n",
      "   3 S1,S3,S4,S2,S1,S4\n",
      "   1 S1,S3,S4,S2,S2\n",
      "   2 S1,S3,S4,S2,S3\n",
      "   1 S1,S3,S4,S2,S3,S1\n",
      "   3 S1,S3,S4,S2,S3,S4\n",
      "   1 S1,S3,S4,S2,S3,S4,S3,S2,S3,S4,S2,S3\n",
      "   4 S1,S3,S4,S2,S4\n",
      "   1 S1,S3,S4,S2,S4,S1\n",
      "   1 S1,S3,S4,S2,S4,S1,S2,S3\n",
      "   1 S1,S3,S4,S2,S4,S2\n",
      "   1 S1,S3,S4,S2,S4,S2,S3,S4\n",
      "   2 S1,S3,S4,S3\n",
      "   1 S1,S3,S4,S4,S1,S4,S2\n",
      "   2 S1,S3,S4,S4,S2\n",
      "12950 S1,S4\n",
      "  19 S1,S4,S1\n",
      "  13 S1,S4,S1,S2\n",
      "   6 S1,S4,S1,S2,S3\n",
      "   1 S1,S4,S1,S3,S2\n",
      "   1 S1,S4,S1,S3,S2,S1,S3\n",
      "   1 S1,S4,S1,S4\n",
      "4331 S1,S4,S2\n",
      "  58 S1,S4,S2,S1\n",
      "   4 S1,S4,S2,S1,S2\n",
      "   1 S1,S4,S2,S1,S2,S3,S4\n",
      "   1 S1,S4,S2,S1,S3\n",
      "  12 S1,S4,S2,S1,S4\n",
      "   1 S1,S4,S2,S1,S4,S2\n",
      "   1 S1,S4,S2,S1,S4,S3\n",
      "   1 S1,S4,S2,S1,S4,S4\n",
      "  18 S1,S4,S2,S2\n",
      "   1 S1,S4,S2,S2,S3\n",
      "   1 S1,S4,S2,S2,S3,S2,S3\n",
      "   3 S1,S4,S2,S2,S3,S4\n",
      "   4 S1,S4,S2,S2,S4\n",
      " 526 S1,S4,S2,S3\n",
      "   8 S1,S4,S2,S3,S1\n",
      "   3 S1,S4,S2,S3,S1,S2\n",
      "   1 S1,S4,S2,S3,S1,S2,S1,S3\n",
      "   1 S1,S4,S2,S3,S1,S2,S4\n",
      "   1 S1,S4,S2,S3,S1,S3,S4\n",
      "   2 S1,S4,S2,S3,S1,S4\n",
      "   2 S1,S4,S2,S3,S1,S4,S3\n",
      "   2 S1,S4,S2,S3,S2\n",
      "   1 S1,S4,S2,S3,S2,S1\n",
      "   1 S1,S4,S2,S3,S2,S2,S4,S3\n",
      "   1 S1,S4,S2,S3,S2,S3,S4\n",
      "   3 S1,S4,S2,S3,S2,S4\n",
      "   1 S1,S4,S2,S3,S2,S4,S1,S4,S1,S4,S2\n",
      "   1 S1,S4,S2,S3,S2,S4,S3\n",
      "   1 S1,S4,S2,S3,S3\n",
      "   1 S1,S4,S2,S3,S3,S4\n",
      "   8 S1,S4,S2,S3,S4\n",
      "   1 S1,S4,S2,S3,S4,S1\n",
      "   2 S1,S4,S2,S3,S4,S2\n",
      "   1 S1,S4,S2,S3,S4,S3\n",
      "   1 S1,S4,S2,S3,S4,S4\n",
      "   1 S1,S4,S2,S3,S4,S4,S2\n",
      "  56 S1,S4,S2,S4\n",
      "   5 S1,S4,S2,S4,S1\n",
      "   1 S1,S4,S2,S4,S1,S2,S3\n",
      "   1 S1,S4,S2,S4,S1,S3\n",
      "   1 S1,S4,S2,S4,S1,S4\n",
      "   4 S1,S4,S2,S4,S2\n",
      "   5 S1,S4,S2,S4,S3\n",
      "   1 S1,S4,S2,S4,S3,S1\n",
      "   1 S1,S4,S2,S4,S4\n",
      "   2 S1,S4,S2,S4,S4,S2\n",
      " 237 S1,S4,S3\n",
      "   1 S1,S4,S3,S1\n",
      "   1 S1,S4,S3,S1,S2\n",
      " 183 S1,S4,S3,S2\n",
      "   5 S1,S4,S3,S2,S1\n",
      "   1 S1,S4,S3,S2,S1,S3\n",
      "   1 S1,S4,S3,S2,S1,S3,S2,S4\n",
      "   1 S1,S4,S3,S2,S1,S3,S4,S2,S2,S4\n",
      "   2 S1,S4,S3,S2,S1,S4\n",
      "   1 S1,S4,S3,S2,S1,S4,S2\n",
      "   1 S1,S4,S3,S2,S2\n",
      "   1 S1,S4,S3,S2,S2,S3\n",
      "   1 S1,S4,S3,S2,S3\n",
      "   8 S1,S4,S3,S2,S4\n",
      "   2 S1,S4,S3,S2,S4,S1\n",
      "   1 S1,S4,S3,S2,S4,S2\n",
      "   1 S1,S4,S3,S3,S2\n",
      "   4 S1,S4,S3,S4\n",
      "   3 S1,S4,S3,S4,S2\n",
      "  14 S1,S4,S4\n",
      "   2 S1,S4,S4,S2\n",
      "   3 S1,S4,S4,S2,S3\n",
      "   1 S1,S4,S4,S3\n",
      "19184 S2\n",
      "6915 S2,S1\n",
      "   1 S2,S1,S1\n",
      "   1 S2,S1,S1,S4\n",
      "  45 S2,S1,S2\n",
      "   4 S2,S1,S2,S3,S4\n",
      "  29 S2,S1,S2,S4\n",
      "   3 S2,S1,S2,S4,S2\n",
      "   5 S2,S1,S2,S4,S3\n",
      " 165 S2,S1,S3\n",
      "   2 S2,S1,S3,S2\n",
      "   3 S2,S1,S3,S2,S4\n",
      "   1 S2,S1,S3,S2,S4,S1\n",
      "   1 S2,S1,S3,S2,S4,S4,S1\n",
      " 365 S2,S1,S3,S4\n",
      "  11 S2,S1,S3,S4,S2\n",
      "   1 S2,S1,S3,S4,S2,S3,S1\n",
      "   1 S2,S1,S3,S4,S2,S3,S2,S4,S3,S2\n",
      "   1 S2,S1,S3,S4,S2,S3,S4\n",
      "   1 S2,S1,S3,S4,S3\n",
      "   1 S2,S1,S3,S4,S3,S2,S4\n",
      "   1 S2,S1,S3,S4,S4,S2\n",
      "4187 S2,S1,S4\n",
      "   9 S2,S1,S4,S1\n",
      "   8 S2,S1,S4,S1,S2\n",
      "   1 S2,S1,S4,S1,S2,S3\n",
      "   1 S2,S1,S4,S1,S3\n",
      "   1 S2,S1,S4,S1,S3,S4\n",
      "   1 S2,S1,S4,S1,S3,S4,S1\n",
      "   1 S2,S1,S4,S1,S4,S2\n",
      "  76 S2,S1,S4,S2\n",
      "   1 S2,S1,S4,S2,S1,S3\n",
      "   9 S2,S1,S4,S2,S3\n",
      "   1 S2,S1,S4,S2,S3,S2,S4\n",
      "   1 S2,S1,S4,S2,S3,S4,S4\n",
      "  10 S2,S1,S4,S2,S4\n",
      "   2 S2,S1,S4,S2,S4,S3\n",
      " 334 S2,S1,S4,S3\n",
      "   1 S2,S1,S4,S3,S1\n",
      "   1 S2,S1,S4,S3,S1,S2,S3\n",
      "   1 S2,S1,S4,S3,S1,S2,S3,S2,S1\n",
      "  11 S2,S1,S4,S3,S2\n",
      "   2 S2,S1,S4,S3,S2,S1\n",
      "   1 S2,S1,S4,S3,S2,S1,S2\n",
      "   1 S2,S1,S4,S3,S2,S3\n",
      "   1 S2,S1,S4,S3,S2,S3,S4\n",
      "   2 S2,S1,S4,S3,S2,S4\n",
      "   1 S2,S1,S4,S3,S2,S4,S1\n",
      "   1 S2,S1,S4,S3,S3,S3\n",
      "   2 S2,S1,S4,S3,S4\n",
      "  29 S2,S1,S4,S4\n",
      "   1 S2,S1,S4,S4,S1\n",
      "   1 S2,S1,S4,S4,S1,S2\n",
      "   3 S2,S1,S4,S4,S2\n",
      "   2 S2,S1,S4,S4,S2,S3\n",
      "   3 S2,S1,S4,S4,S3\n",
      " 348 S2,S3\n",
      " 147 S2,S3,S1\n",
      "   1 S2,S3,S1,S2\n",
      "   6 S2,S3,S1,S2,S4\n",
      "   1 S2,S3,S1,S3,S2,S4,S3,S2,S1\n",
      "   1 S2,S3,S1,S3,S4,S2\n",
      " 271 S2,S3,S1,S4\n",
      "   1 S2,S3,S1,S4,S1\n",
      "   1 S2,S3,S1,S4,S1,S4,S2\n",
      "   1 S2,S3,S1,S4,S1,S4,S3\n",
      "   6 S2,S3,S1,S4,S2\n",
      "   3 S2,S3,S1,S4,S2,S1\n",
      "   1 S2,S3,S1,S4,S2,S1,S2\n",
      "   2 S2,S3,S1,S4,S2,S3\n",
      "   1 S2,S3,S1,S4,S3\n",
      "   1 S2,S3,S1,S4,S3,S2\n",
      "   1 S2,S3,S1,S4,S4\n",
      " 268 S2,S3,S4\n",
      " 440 S2,S3,S4,S1\n",
      "  15 S2,S3,S4,S1,S2\n",
      "   2 S2,S3,S4,S1,S2,S3\n",
      "   1 S2,S3,S4,S1,S2,S3,S3,S2,S3,S2\n",
      "   1 S2,S3,S4,S1,S2,S3,S4\n",
      "   3 S2,S3,S4,S1,S2,S4\n",
      "   1 S2,S3,S4,S1,S2,S4,S1,S4,S3\n",
      "   1 S2,S3,S4,S1,S2,S4,S3\n",
      "   1 S2,S3,S4,S1,S3\n",
      "   1 S2,S3,S4,S1,S3,S2,S4\n",
      "   1 S2,S3,S4,S1,S3,S4,S3,S4,S2\n",
      "   1 S2,S3,S4,S1,S4\n",
      "   3 S2,S3,S4,S1,S4,S2\n",
      "   1 S2,S3,S4,S1,S4,S2,S3\n",
      "   1 S2,S3,S4,S2\n",
      "   1 S2,S3,S4,S2,S1\n",
      "3953 S2,S4\n",
      "3784 S2,S4,S1\n",
      "   2 S2,S4,S1,S1\n",
      "   1 S2,S4,S1,S1,S2\n",
      "   1 S2,S4,S1,S1,S3\n",
      "  64 S2,S4,S1,S2\n",
      "   2 S2,S4,S1,S2,S1\n",
      "   1 S2,S4,S1,S2,S2\n",
      "   3 S2,S4,S1,S2,S3\n",
      "   1 S2,S4,S1,S2,S3,S4\n",
      "   1 S2,S4,S1,S2,S3,S4,S2,S3\n",
      "  33 S2,S4,S1,S2,S4\n",
      "   1 S2,S4,S1,S2,S4,S1\n",
      "   1 S2,S4,S1,S2,S4,S2\n",
      "   1 S2,S4,S1,S2,S4,S2,S3\n",
      "   1 S2,S4,S1,S2,S4,S2,S4\n",
      "   4 S2,S4,S1,S2,S4,S3\n",
      " 383 S2,S4,S1,S3\n",
      "   1 S2,S4,S1,S3,S1\n",
      "  10 S2,S4,S1,S3,S2\n",
      "   1 S2,S4,S1,S3,S2,S2\n",
      "   1 S2,S4,S1,S3,S2,S2,S4\n",
      "   1 S2,S4,S1,S3,S2,S3\n",
      "   1 S2,S4,S1,S3,S2,S3,S1,S4\n",
      "   6 S2,S4,S1,S3,S2,S4\n",
      "   4 S2,S4,S1,S3,S3\n",
      "   1 S2,S4,S1,S3,S3,S3\n",
      "   1 S2,S4,S1,S3,S3,S4,S2\n",
      "   8 S2,S4,S1,S3,S4\n",
      "   2 S2,S4,S1,S3,S4,S2\n",
      "   1 S2,S4,S1,S3,S4,S2,S2,S4\n",
      "  27 S2,S4,S1,S4\n",
      "   1 S2,S4,S1,S4,S1\n",
      "  14 S2,S4,S1,S4,S2\n",
      "   1 S2,S4,S1,S4,S2,S1\n",
      "   2 S2,S4,S1,S4,S2,S3\n",
      "   1 S2,S4,S1,S4,S2,S4,S2\n",
      "   1 S2,S4,S1,S4,S3,S1,S2\n",
      "   2 S2,S4,S1,S4,S3,S2\n",
      "   1 S2,S4,S1,S4,S4\n",
      "   1 S2,S4,S2\n",
      "   3 S2,S4,S2,S1\n",
      "   1 S2,S4,S2,S1,S3\n",
      "   1 S2,S4,S2,S3\n",
      "  79 S2,S4,S3\n",
      " 108 S2,S4,S3,S1\n",
      "   3 S2,S4,S3,S1,S2\n",
      "   2 S2,S4,S3,S1,S4\n",
      "   1 S2,S4,S3,S1,S4,S1,S3\n",
      "   1 S2,S4,S3,S2,S1\n",
      "5747 S3\n",
      " 303 S3,S1\n",
      " 178 S3,S1,S2\n",
      "   1 S3,S1,S2,S1\n",
      "   1 S3,S1,S2,S2\n",
      "   1 S3,S1,S2,S2,S1,S4\n",
      "   1 S3,S1,S2,S3\n",
      "   1 S3,S1,S2,S3,S4,S2,S1,S4\n",
      " 615 S3,S1,S2,S4\n",
      "   4 S3,S1,S2,S4,S1\n",
      "   1 S3,S1,S2,S4,S1,S2,S2,S4,S3\n",
      "   1 S3,S1,S2,S4,S1,S4,S2\n",
      "   2 S3,S1,S2,S4,S2\n",
      "   1 S3,S1,S2,S4,S2,S1,S2,S1,S3,S4\n",
      "   1 S3,S1,S2,S4,S2,S2,S3,S4\n",
      "   1 S3,S1,S2,S4,S2,S3,S1\n",
      "   4 S3,S1,S2,S4,S3\n",
      "   1 S3,S1,S2,S4,S3,S1\n",
      "   1 S3,S1,S2,S4,S3,S2\n",
      "   1 S3,S1,S2,S4,S4\n",
      "   1 S3,S1,S2,S4,S4,S1,S2\n",
      "   1 S3,S1,S2,S4,S4,S2,S1\n",
      "   1 S3,S1,S3,S4,S2\n",
      " 163 S3,S1,S4\n",
      "   1 S3,S1,S4,S1,S2\n",
      "   1 S3,S1,S4,S1,S3,S4,S2,S4,S3,S2\n",
      " 150 S3,S1,S4,S2\n",
      "   1 S3,S1,S4,S2,S1\n",
      "   1 S3,S1,S4,S2,S1,S3,S4\n",
      "   1 S3,S1,S4,S2,S1,S4\n",
      "   1 S3,S1,S4,S2,S1,S4,S2,S3,S4\n",
      "   2 S3,S1,S4,S2,S2\n",
      "   1 S3,S1,S4,S2,S2,S1,S2\n",
      "   2 S3,S1,S4,S2,S3\n",
      "   1 S3,S1,S4,S2,S3,S1\n",
      "   2 S3,S1,S4,S2,S4\n",
      "   1 S3,S1,S4,S2,S4,S1,S3\n",
      "   1 S3,S1,S4,S2,S4,S2\n",
      "   1 S3,S1,S4,S2,S4,S2,S1,S4\n",
      "   1 S3,S1,S4,S3\n",
      "   1 S3,S1,S4,S4\n",
      " 166 S3,S2\n",
      "  82 S3,S2,S1\n",
      "   1 S3,S2,S1,S2,S4\n",
      "   1 S3,S2,S1,S3\n",
      "   1 S3,S2,S1,S3,S4,S2,S3\n",
      " 182 S3,S2,S1,S4\n",
      "   3 S3,S2,S1,S4,S2\n",
      "   1 S3,S2,S1,S4,S2,S3,S4,S2,S4\n",
      "   2 S3,S2,S1,S4,S3\n",
      "   1 S3,S2,S1,S4,S3,S2\n",
      "   1 S3,S2,S1,S4,S3,S2,S1,S2,S3\n",
      "   1 S3,S2,S1,S4,S3,S2,S3\n",
      "   3 S3,S2,S1,S4,S4\n",
      "   2 S3,S2,S1,S4,S4,S2\n",
      "   1 S3,S2,S1,S4,S4,S2,S1,S4,S2\n",
      "   1 S3,S2,S3,S1,S4\n",
      "   1 S3,S2,S3,S4\n",
      "  75 S3,S2,S4\n",
      " 202 S3,S2,S4,S1\n",
      "   5 S3,S2,S4,S1,S2\n",
      "   2 S3,S2,S4,S1,S2,S3,S4\n",
      "   1 S3,S2,S4,S1,S2,S4\n",
      "   1 S3,S2,S4,S1,S2,S4,S3\n",
      "   1 S3,S2,S4,S1,S2,S4,S4\n",
      "   7 S3,S2,S4,S1,S3\n",
      "   3 S3,S2,S4,S1,S3,S2\n",
      "   1 S3,S2,S4,S1,S3,S3,S4,S2\n",
      "   3 S3,S2,S4,S1,S4\n",
      "   3 S3,S2,S4,S1,S4,S2\n",
      "   1 S3,S2,S4,S1,S4,S2,S3\n",
      "   1 S3,S2,S4,S1,S4,S2,S3,S2,S4,S2\n",
      "   2 S3,S2,S4,S2\n",
      "   1 S3,S2,S4,S4\n",
      " 604 S3,S4\n",
      " 184 S3,S4,S1\n",
      "   1 S3,S4,S1,S1\n",
      "   1 S3,S4,S1,S1,S2,S4\n",
      " 343 S3,S4,S1,S2\n",
      "   1 S3,S4,S1,S2,S1\n",
      "   1 S3,S4,S1,S2,S1,S2\n",
      "   3 S3,S4,S1,S2,S1,S4\n",
      "   2 S3,S4,S1,S2,S2\n",
      "   1 S3,S4,S1,S2,S2,S3\n",
      "   1 S3,S4,S1,S2,S2,S4\n",
      "   2 S3,S4,S1,S2,S3\n",
      "   1 S3,S4,S1,S2,S3,S2\n",
      "   1 S3,S4,S1,S2,S3,S2,S2\n",
      "   1 S3,S4,S1,S2,S3,S4\n",
      "   9 S3,S4,S1,S2,S4\n",
      "   2 S3,S4,S1,S2,S4,S1\n",
      "   1 S3,S4,S1,S2,S4,S1,S3\n",
      "   2 S3,S4,S1,S2,S4,S3,S1\n",
      "   1 S3,S4,S1,S4\n",
      "   1 S3,S4,S1,S4,S2\n",
      "  79 S3,S4,S2\n",
      " 162 S3,S4,S2,S1\n",
      "   2 S3,S4,S2,S1,S1\n",
      "   3 S3,S4,S2,S1,S2\n",
      "   1 S3,S4,S2,S1,S2,S1,S2,S3,S1,S2\n",
      "   2 S3,S4,S2,S1,S2,S4\n",
      "   3 S3,S4,S2,S1,S3\n",
      "   1 S3,S4,S2,S1,S3,S3,S2,S4,S3,S3\n",
      "   1 S3,S4,S2,S1,S3,S4\n",
      "   6 S3,S4,S2,S1,S4\n",
      "   1 S3,S4,S2,S1,S4,S2\n",
      "   1 S3,S4,S2,S1,S4,S2,S1,S4,S4,S2\n",
      "   1 S3,S4,S2,S1,S4,S2,S3,S4\n",
      "   1 S3,S4,S2,S1,S4,S3,S4,S2,S3,S2,S3,S1,S3,S2,S3,S1,S1\n",
      "   1 S3,S4,S2,S1,S4,S4,S1,S4\n",
      "   1 S3,S4,S2,S4\n",
      "   2 S3,S4,S4\n",
      "18077 S4\n",
      "5721 S4,S1\n",
      "   1 S4,S1,S1\n",
      "   1 S4,S1,S1,S2,S3\n",
      "   1 S4,S1,S1,S3\n",
      "4154 S4,S1,S2\n",
      "  19 S4,S1,S2,S1\n",
      "   2 S4,S1,S2,S1,S2\n",
      "   1 S4,S1,S2,S1,S3,S4\n",
      "   5 S4,S1,S2,S1,S4\n",
      "  14 S4,S1,S2,S2\n",
      "   3 S4,S1,S2,S2,S3\n",
      "   2 S4,S1,S2,S2,S3,S4\n",
      "   1 S4,S1,S2,S2,S3,S4,S3,S1,S4\n",
      "  10 S4,S1,S2,S2,S4\n",
      "   1 S4,S1,S2,S2,S4,S3\n",
      "   1 S4,S1,S2,S2,S4,S3,S4,S2\n",
      " 523 S4,S1,S2,S3\n",
      "   4 S4,S1,S2,S3,S1\n",
      "   2 S4,S1,S2,S3,S1,S2\n",
      "   1 S4,S1,S2,S3,S1,S2,S3\n",
      "   1 S4,S1,S2,S3,S1,S4\n",
      "   5 S4,S1,S2,S3,S2\n",
      "   2 S4,S1,S2,S3,S2,S3\n",
      "   1 S4,S1,S2,S3,S2,S3,S4\n",
      "   1 S4,S1,S2,S3,S2,S4\n",
      "   1 S4,S1,S2,S3,S2,S4,S3\n",
      "   3 S4,S1,S2,S3,S3\n",
      "   1 S4,S1,S2,S3,S3,S4,S1\n",
      "   1 S4,S1,S2,S3,S3,S4,S2,S3\n",
      "  15 S4,S1,S2,S3,S4\n",
      "   1 S4,S1,S2,S3,S4,S1\n",
      "   1 S4,S1,S2,S3,S4,S1,S2,S3,S4\n",
      "   1 S4,S1,S2,S3,S4,S1,S4,S2\n",
      "   1 S4,S1,S2,S3,S4,S3,S2\n",
      "  88 S4,S1,S2,S4\n",
      "   3 S4,S1,S2,S4,S1\n",
      "   1 S4,S1,S2,S4,S1,S2\n",
      "   1 S4,S1,S2,S4,S1,S2,S3,S4\n",
      "   1 S4,S1,S2,S4,S1,S2,S4,S3\n",
      "  11 S4,S1,S2,S4,S2\n",
      "   1 S4,S1,S2,S4,S2,S3\n",
      "   1 S4,S1,S2,S4,S2,S4,S3\n",
      "   7 S4,S1,S2,S4,S3\n",
      "   1 S4,S1,S2,S4,S3,S2,S4,S4\n",
      "   1 S4,S1,S2,S4,S3,S3\n",
      " 158 S4,S1,S3\n",
      " 138 S4,S1,S3,S2\n",
      "   2 S4,S1,S3,S2,S1\n",
      "   1 S4,S1,S3,S2,S1,S3,S4\n",
      "   1 S4,S1,S3,S2,S1,S4\n",
      "   3 S4,S1,S3,S2,S3\n",
      "   1 S4,S1,S3,S2,S3,S2,S4,S3,S2,S4,S3,S2\n",
      "   1 S4,S1,S3,S2,S3,S4\n",
      "   4 S4,S1,S3,S2,S4\n",
      "   1 S4,S1,S3,S2,S4,S1,S3\n",
      "   1 S4,S1,S3,S2,S4,S1,S3,S4,S3,S1,S4\n",
      "   1 S4,S1,S3,S2,S4,S2\n",
      "   1 S4,S1,S3,S2,S4,S2,S3\n",
      "   1 S4,S1,S3,S2,S4,S3,S2,S3,S4,S1,S3,S2\n",
      "   1 S4,S1,S3,S2,S4,S4,S2\n",
      "   6 S4,S1,S3,S4\n",
      "   3 S4,S1,S3,S4,S2\n",
      "   1 S4,S1,S3,S4,S2,S3\n",
      "  39 S4,S1,S4\n",
      "  14 S4,S1,S4,S2\n",
      "   1 S4,S1,S4,S2,S1,S4\n",
      "   1 S4,S1,S4,S2,S3\n",
      "   2 S4,S1,S4,S2,S3,S4\n",
      "   1 S4,S1,S4,S3\n",
      "   1 S4,S1,S4,S3,S2\n",
      "   1 S4,S1,S4,S3,S2,S1\n",
      "   1 S4,S1,S4,S4\n",
      "1581 S4,S2\n",
      "1923 S4,S2,S1\n",
      "   2 S4,S2,S1,S1\n",
      "   4 S4,S2,S1,S1,S4\n",
      "  19 S4,S2,S1,S2\n",
      "   2 S4,S2,S1,S2,S1\n",
      "   8 S4,S2,S1,S2,S3\n",
      "   2 S4,S2,S1,S2,S3,S4\n",
      "  13 S4,S2,S1,S2,S4\n",
      "   1 S4,S2,S1,S2,S4,S1\n",
      " 215 S4,S2,S1,S3\n",
      "   1 S4,S2,S1,S3,S1,S3,S1,S4\n",
      "   7 S4,S2,S1,S3,S2\n",
      "   1 S4,S2,S1,S3,S2,S1\n",
      "   3 S4,S2,S1,S3,S2,S4\n",
      "   1 S4,S2,S1,S3,S2,S4,S2,S3,S4,S3\n",
      "   1 S4,S2,S1,S3,S2,S4,S3\n",
      "   4 S4,S2,S1,S3,S3\n",
      "   1 S4,S2,S1,S3,S3,S3,S1,S4,S2,S3\n",
      "   1 S4,S2,S1,S3,S3,S4,S2,S4,S3,S2,S3\n",
      "  10 S4,S2,S1,S3,S4\n",
      "   1 S4,S2,S1,S3,S4,S1,S2,S3,S4\n",
      "   1 S4,S2,S1,S3,S4,S1,S4,S2,S4,S3\n",
      "  50 S4,S2,S1,S4\n",
      "   1 S4,S2,S1,S4,S1,S2\n",
      "  11 S4,S2,S1,S4,S2\n",
      "   4 S4,S2,S1,S4,S3\n",
      "   2 S4,S2,S1,S4,S3,S2\n",
      "  74 S4,S2,S3\n",
      "  94 S4,S2,S3,S1\n",
      "   1 S4,S2,S3,S1,S2\n",
      "   1 S4,S2,S3,S1,S2,S3\n",
      "   2 S4,S2,S3,S1,S2,S4\n",
      "   4 S4,S2,S3,S1,S4\n",
      "   1 S4,S2,S3,S1,S4,S1\n",
      "   1 S4,S2,S3,S1,S4,S1,S4\n",
      "   1 S4,S2,S3,S1,S4,S2\n",
      "   2 S4,S2,S3,S4,S1\n",
      "   4 S4,S2,S4\n",
      "   3 S4,S2,S4,S1\n",
      " 250 S4,S3\n",
      "  68 S4,S3,S1\n",
      " 115 S4,S3,S1,S2\n",
      "   2 S4,S3,S1,S2,S1\n",
      "   1 S4,S3,S1,S2,S1,S4\n",
      "   1 S4,S3,S1,S2,S1,S4,S2\n",
      "   2 S4,S3,S1,S2,S2\n",
      "   1 S4,S3,S1,S2,S2,S4,S2,S3\n",
      "   2 S4,S3,S1,S2,S2,S4,S3\n",
      "   1 S4,S3,S1,S2,S3,S4,S1\n",
      "   6 S4,S3,S1,S2,S4\n",
      "   1 S4,S3,S1,S2,S4,S1,S3\n",
      "   1 S4,S3,S1,S2,S4,S2\n",
      "   1 S4,S3,S1,S2,S4,S3\n",
      "   1 S4,S3,S1,S4\n",
      "  30 S4,S3,S2\n",
      "  58 S4,S3,S2,S1\n",
      "   1 S4,S3,S2,S1,S1,S4,S3\n",
      "   2 S4,S3,S2,S1,S2\n",
      "   3 S4,S3,S2,S1,S2,S4\n",
      "   1 S4,S3,S2,S1,S3\n",
      "   5 S4,S3,S2,S1,S4\n",
      "   1 S4,S3,S2,S1,S4,S2\n",
      "   2 S4,S3,S2,S1,S4,S2,S3\n",
      "   2 S4,S3,S2,S1,S4,S3\n",
      "   1 S4,S3,S2,S2\n",
      "   1 S4,S3,S2,S4\n",
      "   3 S4,S3,S2,S4,S1\n",
      "   1 S4,S3,S2,S4,S2,S4,S2,S1\n",
      "   2 S4,S3,S4\n"
     ]
    }
   ],
   "source": [
    "%%bash\n",
    "cat 16C_26psu_*_allc_regions_named.tsv |\\\n",
    "sort -k1,1 -k2,2n |\\\n",
    "/Users/Shared/bioinformatics/bedtools2/bin/mergeBed -c 5 -o collapse |\\\n",
    "awk '{print $4}' | sort |\\\n",
    "uniq -c"
   ]
  },
  {
   "cell_type": "code",
   "execution_count": null,
   "metadata": {},
   "outputs": [],
   "source": [
    "#attempt the filter for at least 3 samples per group"
   ]
  },
  {
   "cell_type": "code",
   "execution_count": 135,
   "metadata": {},
   "outputs": [
    {
     "name": "stdout",
     "output_type": "stream",
     "text": [
      "   2 S1,S2,S1,S3,S4\n",
      "   3 S1,S2,S1,S4,S3\n",
      "   2 S1,S2,S2,S3,S4\n",
      "   1 S1,S2,S2,S4,S3\n",
      "   1 S1,S2,S2,S4,S3,S1\n",
      " 609 S1,S2,S3\n",
      "   2 S1,S2,S3,S1,S4\n",
      "   1 S1,S2,S3,S2,S1,S4\n",
      "   1 S1,S2,S3,S3\n",
      "2872 S1,S2,S3,S4\n",
      "   6 S1,S2,S3,S4,S1\n",
      "   1 S1,S2,S3,S4,S1,S2\n",
      "   1 S1,S2,S3,S4,S1,S2,S3\n",
      "   1 S1,S2,S3,S4,S1,S2,S3,S2,S4\n",
      "   7 S1,S2,S3,S4,S2\n",
      "   3 S1,S2,S3,S4,S2,S1\n",
      "   1 S1,S2,S3,S4,S2,S3\n",
      "   1 S1,S2,S3,S4,S2,S3,S1,S4\n",
      "   4 S1,S2,S3,S4,S2,S4\n",
      "   1 S1,S2,S3,S4,S2,S4,S3,S3,S3,S4,S2,S4,S2\n",
      "   2 S1,S2,S3,S4,S3\n",
      "   2 S1,S2,S3,S4,S4\n",
      "   2 S1,S2,S3,S4,S4,S2\n",
      "   1 S1,S2,S3,S4,S4,S2,S3\n",
      "   7 S1,S2,S4,S1,S3\n",
      "   1 S1,S2,S4,S1,S3,S2,S3\n",
      "   1 S1,S2,S4,S1,S3,S2,S4,S2\n",
      "   4 S1,S2,S4,S1,S3,S4\n",
      "   1 S1,S2,S4,S1,S4,S3\n",
      "   1 S1,S2,S4,S2,S1,S3\n",
      "   2 S1,S2,S4,S2,S3\n",
      "   1 S1,S2,S4,S2,S3,S4\n",
      "   1 S1,S2,S4,S2,S4,S3\n",
      " 997 S1,S2,S4,S3\n",
      "  10 S1,S2,S4,S3,S1\n",
      "   3 S1,S2,S4,S3,S1,S2\n",
      "   1 S1,S2,S4,S3,S1,S2,S4\n",
      "   1 S1,S2,S4,S3,S1,S3,S2,S1,S4\n",
      "   1 S1,S2,S4,S3,S1,S4\n",
      "   1 S1,S2,S4,S3,S1,S4,S2\n",
      "   4 S1,S2,S4,S3,S2\n",
      "   2 S1,S2,S4,S3,S2,S1\n",
      "   2 S1,S2,S4,S3,S2,S3,S4\n",
      "   6 S1,S2,S4,S3,S2,S4\n",
      "   2 S1,S2,S4,S3,S2,S4,S1\n",
      "   2 S1,S2,S4,S3,S2,S4,S3\n",
      "   2 S1,S2,S4,S3,S3\n",
      "   1 S1,S2,S4,S3,S3,S2\n",
      "   1 S1,S2,S4,S3,S3,S2,S4,S2,S2\n",
      "   3 S1,S2,S4,S3,S4\n",
      "   1 S1,S2,S4,S3,S4,S1,S2,S2\n",
      "   1 S1,S2,S4,S3,S4,S2\n",
      "   1 S1,S2,S4,S3,S4,S2,S3\n",
      "   1 S1,S2,S4,S4,S2,S3\n",
      "   1 S1,S2,S4,S4,S3,S2\n",
      "   1 S1,S3,S1,S2,S3,S4\n",
      " 137 S1,S3,S2\n",
      "   2 S1,S3,S2,S1\n",
      "   1 S1,S3,S2,S1,S3\n",
      "   1 S1,S3,S2,S1,S3,S4,S1,S3\n",
      "   2 S1,S3,S2,S1,S4\n",
      " 305 S1,S3,S2,S4\n",
      "   1 S1,S3,S2,S4,S1\n",
      "   1 S1,S3,S2,S4,S1,S2\n",
      "   1 S1,S3,S2,S4,S1,S3\n",
      "   2 S1,S3,S2,S4,S2\n",
      "   1 S1,S3,S2,S4,S2,S4\n",
      "   2 S1,S3,S2,S4,S3\n",
      "   1 S1,S3,S2,S4,S3,S2,S4,S3\n",
      "   1 S1,S3,S2,S4,S3,S3\n",
      "   1 S1,S3,S2,S4,S4,S2,S3\n",
      "   1 S1,S3,S2,S4,S4,S3,S1\n",
      " 558 S1,S3,S4\n",
      " 375 S1,S3,S4,S2\n",
      "   5 S1,S3,S4,S2,S1\n",
      "   1 S1,S3,S4,S2,S1,S3\n",
      "   3 S1,S3,S4,S2,S1,S4\n",
      "   1 S1,S3,S4,S2,S2\n",
      "   2 S1,S3,S4,S2,S3\n",
      "   1 S1,S3,S4,S2,S3,S1\n",
      "   3 S1,S3,S4,S2,S3,S4\n",
      "   1 S1,S3,S4,S2,S3,S4,S3,S2,S3,S4,S2,S3\n",
      "   4 S1,S3,S4,S2,S4\n",
      "   1 S1,S3,S4,S2,S4,S1\n",
      "   1 S1,S3,S4,S2,S4,S1,S2,S3\n",
      "   1 S1,S3,S4,S2,S4,S2\n",
      "   1 S1,S3,S4,S2,S4,S2,S3,S4\n",
      "   2 S1,S3,S4,S3\n",
      "   1 S1,S3,S4,S4,S1,S4,S2\n",
      "   2 S1,S3,S4,S4,S2\n",
      "   6 S1,S4,S1,S2,S3\n",
      "   1 S1,S4,S1,S3,S2\n",
      "   1 S1,S4,S1,S3,S2,S1,S3\n",
      "   1 S1,S4,S2,S1,S2,S3,S4\n",
      "   1 S1,S4,S2,S1,S3\n",
      "   1 S1,S4,S2,S1,S4,S3\n",
      "   1 S1,S4,S2,S2,S3\n",
      "   1 S1,S4,S2,S2,S3,S2,S3\n",
      "   3 S1,S4,S2,S2,S3,S4\n",
      " 526 S1,S4,S2,S3\n",
      "   8 S1,S4,S2,S3,S1\n",
      "   3 S1,S4,S2,S3,S1,S2\n",
      "   1 S1,S4,S2,S3,S1,S2,S1,S3\n",
      "   1 S1,S4,S2,S3,S1,S2,S4\n",
      "   1 S1,S4,S2,S3,S1,S3,S4\n",
      "   2 S1,S4,S2,S3,S1,S4\n",
      "   2 S1,S4,S2,S3,S1,S4,S3\n",
      "   2 S1,S4,S2,S3,S2\n",
      "   1 S1,S4,S2,S3,S2,S1\n",
      "   1 S1,S4,S2,S3,S2,S2,S4,S3\n",
      "   1 S1,S4,S2,S3,S2,S3,S4\n",
      "   3 S1,S4,S2,S3,S2,S4\n",
      "   1 S1,S4,S2,S3,S2,S4,S1,S4,S1,S4,S2\n",
      "   1 S1,S4,S2,S3,S2,S4,S3\n",
      "   1 S1,S4,S2,S3,S3\n",
      "   1 S1,S4,S2,S3,S3,S4\n",
      "   8 S1,S4,S2,S3,S4\n",
      "   1 S1,S4,S2,S3,S4,S1\n",
      "   2 S1,S4,S2,S3,S4,S2\n",
      "   1 S1,S4,S2,S3,S4,S3\n",
      "   1 S1,S4,S2,S3,S4,S4\n",
      "   1 S1,S4,S2,S3,S4,S4,S2\n",
      "   1 S1,S4,S2,S4,S1,S2,S3\n",
      "   1 S1,S4,S2,S4,S1,S3\n",
      "   5 S1,S4,S2,S4,S3\n",
      "   1 S1,S4,S2,S4,S3,S1\n",
      " 237 S1,S4,S3\n",
      "   1 S1,S4,S3,S1\n",
      "   1 S1,S4,S3,S1,S2\n",
      " 183 S1,S4,S3,S2\n",
      "   5 S1,S4,S3,S2,S1\n",
      "   1 S1,S4,S3,S2,S1,S3\n",
      "   1 S1,S4,S3,S2,S1,S3,S2,S4\n",
      "   1 S1,S4,S3,S2,S1,S3,S4,S2,S2,S4\n",
      "   2 S1,S4,S3,S2,S1,S4\n",
      "   1 S1,S4,S3,S2,S1,S4,S2\n",
      "   1 S1,S4,S3,S2,S2\n",
      "   1 S1,S4,S3,S2,S2,S3\n",
      "   1 S1,S4,S3,S2,S3\n",
      "   8 S1,S4,S3,S2,S4\n",
      "   2 S1,S4,S3,S2,S4,S1\n",
      "   1 S1,S4,S3,S2,S4,S2\n",
      "   1 S1,S4,S3,S3,S2\n",
      "   4 S1,S4,S3,S4\n",
      "   3 S1,S4,S3,S4,S2\n",
      "   3 S1,S4,S4,S2,S3\n",
      "   1 S1,S4,S4,S3\n",
      "   4 S2,S1,S2,S3,S4\n",
      "   5 S2,S1,S2,S4,S3\n",
      " 165 S2,S1,S3\n",
      "   2 S2,S1,S3,S2\n",
      "   3 S2,S1,S3,S2,S4\n",
      "   1 S2,S1,S3,S2,S4,S1\n",
      "   1 S2,S1,S3,S2,S4,S4,S1\n",
      " 365 S2,S1,S3,S4\n",
      "  11 S2,S1,S3,S4,S2\n",
      "   1 S2,S1,S3,S4,S2,S3,S1\n",
      "   1 S2,S1,S3,S4,S2,S3,S2,S4,S3,S2\n",
      "   1 S2,S1,S3,S4,S2,S3,S4\n",
      "   1 S2,S1,S3,S4,S3\n",
      "   1 S2,S1,S3,S4,S3,S2,S4\n",
      "   1 S2,S1,S3,S4,S4,S2\n",
      "   1 S2,S1,S4,S1,S2,S3\n",
      "   1 S2,S1,S4,S1,S3\n",
      "   1 S2,S1,S4,S1,S3,S4\n",
      "   1 S2,S1,S4,S1,S3,S4,S1\n",
      "   1 S2,S1,S4,S2,S1,S3\n",
      "   9 S2,S1,S4,S2,S3\n",
      "   1 S2,S1,S4,S2,S3,S2,S4\n",
      "   1 S2,S1,S4,S2,S3,S4,S4\n",
      "   2 S2,S1,S4,S2,S4,S3\n",
      " 334 S2,S1,S4,S3\n",
      "   1 S2,S1,S4,S3,S1\n",
      "   1 S2,S1,S4,S3,S1,S2,S3\n",
      "   1 S2,S1,S4,S3,S1,S2,S3,S2,S1\n",
      "  11 S2,S1,S4,S3,S2\n",
      "   2 S2,S1,S4,S3,S2,S1\n",
      "   1 S2,S1,S4,S3,S2,S1,S2\n",
      "   1 S2,S1,S4,S3,S2,S3\n",
      "   1 S2,S1,S4,S3,S2,S3,S4\n",
      "   2 S2,S1,S4,S3,S2,S4\n",
      "   1 S2,S1,S4,S3,S2,S4,S1\n",
      "   1 S2,S1,S4,S3,S3,S3\n",
      "   2 S2,S1,S4,S3,S4\n",
      "   2 S2,S1,S4,S4,S2,S3\n",
      "   3 S2,S1,S4,S4,S3\n",
      " 147 S2,S3,S1\n",
      "   1 S2,S3,S1,S2\n",
      "   6 S2,S3,S1,S2,S4\n",
      "   1 S2,S3,S1,S3,S2,S4,S3,S2,S1\n",
      "   1 S2,S3,S1,S3,S4,S2\n",
      " 271 S2,S3,S1,S4\n",
      "   1 S2,S3,S1,S4,S1\n",
      "   1 S2,S3,S1,S4,S1,S4,S2\n",
      "   1 S2,S3,S1,S4,S1,S4,S3\n",
      "   6 S2,S3,S1,S4,S2\n",
      "   3 S2,S3,S1,S4,S2,S1\n",
      "   1 S2,S3,S1,S4,S2,S1,S2\n",
      "   2 S2,S3,S1,S4,S2,S3\n",
      "   1 S2,S3,S1,S4,S3\n",
      "   1 S2,S3,S1,S4,S3,S2\n",
      "   1 S2,S3,S1,S4,S4\n",
      " 268 S2,S3,S4\n",
      " 440 S2,S3,S4,S1\n",
      "  15 S2,S3,S4,S1,S2\n",
      "   2 S2,S3,S4,S1,S2,S3\n",
      "   1 S2,S3,S4,S1,S2,S3,S3,S2,S3,S2\n",
      "   1 S2,S3,S4,S1,S2,S3,S4\n",
      "   3 S2,S3,S4,S1,S2,S4\n",
      "   1 S2,S3,S4,S1,S2,S4,S1,S4,S3\n",
      "   1 S2,S3,S4,S1,S2,S4,S3\n",
      "   1 S2,S3,S4,S1,S3\n",
      "   1 S2,S3,S4,S1,S3,S2,S4\n",
      "   1 S2,S3,S4,S1,S3,S4,S3,S4,S2\n",
      "   1 S2,S3,S4,S1,S4\n",
      "   3 S2,S3,S4,S1,S4,S2\n",
      "   1 S2,S3,S4,S1,S4,S2,S3\n",
      "   1 S2,S3,S4,S2\n",
      "   1 S2,S3,S4,S2,S1\n",
      "   1 S2,S4,S1,S1,S3\n",
      "   3 S2,S4,S1,S2,S3\n",
      "   1 S2,S4,S1,S2,S3,S4\n",
      "   1 S2,S4,S1,S2,S3,S4,S2,S3\n",
      "   1 S2,S4,S1,S2,S4,S2,S3\n",
      "   4 S2,S4,S1,S2,S4,S3\n",
      " 383 S2,S4,S1,S3\n",
      "   1 S2,S4,S1,S3,S1\n",
      "  10 S2,S4,S1,S3,S2\n",
      "   1 S2,S4,S1,S3,S2,S2\n",
      "   1 S2,S4,S1,S3,S2,S2,S4\n",
      "   1 S2,S4,S1,S3,S2,S3\n",
      "   1 S2,S4,S1,S3,S2,S3,S1,S4\n",
      "   6 S2,S4,S1,S3,S2,S4\n",
      "   4 S2,S4,S1,S3,S3\n",
      "   1 S2,S4,S1,S3,S3,S3\n",
      "   1 S2,S4,S1,S3,S3,S4,S2\n",
      "   8 S2,S4,S1,S3,S4\n",
      "   2 S2,S4,S1,S3,S4,S2\n",
      "   1 S2,S4,S1,S3,S4,S2,S2,S4\n",
      "   2 S2,S4,S1,S4,S2,S3\n",
      "   1 S2,S4,S1,S4,S3,S1,S2\n",
      "   2 S2,S4,S1,S4,S3,S2\n",
      "   1 S2,S4,S2,S1,S3\n",
      "   1 S2,S4,S2,S3\n",
      "  79 S2,S4,S3\n",
      " 108 S2,S4,S3,S1\n",
      "   3 S2,S4,S3,S1,S2\n",
      "   2 S2,S4,S3,S1,S4\n",
      "   1 S2,S4,S3,S1,S4,S1,S3\n",
      "   1 S2,S4,S3,S2,S1\n",
      " 178 S3,S1,S2\n",
      "   1 S3,S1,S2,S1\n",
      "   1 S3,S1,S2,S2\n",
      "   1 S3,S1,S2,S2,S1,S4\n",
      "   1 S3,S1,S2,S3\n",
      "   1 S3,S1,S2,S3,S4,S2,S1,S4\n",
      " 615 S3,S1,S2,S4\n",
      "   4 S3,S1,S2,S4,S1\n",
      "   1 S3,S1,S2,S4,S1,S2,S2,S4,S3\n",
      "   1 S3,S1,S2,S4,S1,S4,S2\n",
      "   2 S3,S1,S2,S4,S2\n",
      "   1 S3,S1,S2,S4,S2,S1,S2,S1,S3,S4\n",
      "   1 S3,S1,S2,S4,S2,S2,S3,S4\n",
      "   1 S3,S1,S2,S4,S2,S3,S1\n",
      "   4 S3,S1,S2,S4,S3\n",
      "   1 S3,S1,S2,S4,S3,S1\n",
      "   1 S3,S1,S2,S4,S3,S2\n",
      "   1 S3,S1,S2,S4,S4\n",
      "   1 S3,S1,S2,S4,S4,S1,S2\n",
      "   1 S3,S1,S2,S4,S4,S2,S1\n",
      "   1 S3,S1,S3,S4,S2\n",
      " 163 S3,S1,S4\n",
      "   1 S3,S1,S4,S1,S2\n",
      "   1 S3,S1,S4,S1,S3,S4,S2,S4,S3,S2\n",
      " 150 S3,S1,S4,S2\n",
      "   1 S3,S1,S4,S2,S1\n",
      "   1 S3,S1,S4,S2,S1,S3,S4\n",
      "   1 S3,S1,S4,S2,S1,S4\n",
      "   1 S3,S1,S4,S2,S1,S4,S2,S3,S4\n",
      "   2 S3,S1,S4,S2,S2\n",
      "   1 S3,S1,S4,S2,S2,S1,S2\n",
      "   2 S3,S1,S4,S2,S3\n",
      "   1 S3,S1,S4,S2,S3,S1\n",
      "   2 S3,S1,S4,S2,S4\n",
      "   1 S3,S1,S4,S2,S4,S1,S3\n",
      "   1 S3,S1,S4,S2,S4,S2\n",
      "   1 S3,S1,S4,S2,S4,S2,S1,S4\n",
      "   1 S3,S1,S4,S3\n",
      "   1 S3,S1,S4,S4\n",
      "  82 S3,S2,S1\n",
      "   1 S3,S2,S1,S2,S4\n",
      "   1 S3,S2,S1,S3\n",
      "   1 S3,S2,S1,S3,S4,S2,S3\n",
      " 182 S3,S2,S1,S4\n",
      "   3 S3,S2,S1,S4,S2\n",
      "   1 S3,S2,S1,S4,S2,S3,S4,S2,S4\n",
      "   2 S3,S2,S1,S4,S3\n",
      "   1 S3,S2,S1,S4,S3,S2\n",
      "   1 S3,S2,S1,S4,S3,S2,S1,S2,S3\n",
      "   1 S3,S2,S1,S4,S3,S2,S3\n",
      "   3 S3,S2,S1,S4,S4\n",
      "   2 S3,S2,S1,S4,S4,S2\n",
      "   1 S3,S2,S1,S4,S4,S2,S1,S4,S2\n",
      "   1 S3,S2,S3,S1,S4\n",
      "   1 S3,S2,S3,S4\n",
      "  75 S3,S2,S4\n",
      " 202 S3,S2,S4,S1\n",
      "   5 S3,S2,S4,S1,S2\n",
      "   2 S3,S2,S4,S1,S2,S3,S4\n",
      "   1 S3,S2,S4,S1,S2,S4\n",
      "   1 S3,S2,S4,S1,S2,S4,S3\n",
      "   1 S3,S2,S4,S1,S2,S4,S4\n",
      "   7 S3,S2,S4,S1,S3\n",
      "   3 S3,S2,S4,S1,S3,S2\n",
      "   1 S3,S2,S4,S1,S3,S3,S4,S2\n",
      "   3 S3,S2,S4,S1,S4\n",
      "   3 S3,S2,S4,S1,S4,S2\n",
      "   1 S3,S2,S4,S1,S4,S2,S3\n",
      "   1 S3,S2,S4,S1,S4,S2,S3,S2,S4,S2\n",
      "   2 S3,S2,S4,S2\n",
      "   1 S3,S2,S4,S4\n",
      " 184 S3,S4,S1\n",
      "   1 S3,S4,S1,S1\n",
      "   1 S3,S4,S1,S1,S2,S4\n",
      " 343 S3,S4,S1,S2\n",
      "   1 S3,S4,S1,S2,S1\n",
      "   1 S3,S4,S1,S2,S1,S2\n",
      "   3 S3,S4,S1,S2,S1,S4\n",
      "   2 S3,S4,S1,S2,S2\n",
      "   1 S3,S4,S1,S2,S2,S3\n",
      "   1 S3,S4,S1,S2,S2,S4\n",
      "   2 S3,S4,S1,S2,S3\n",
      "   1 S3,S4,S1,S2,S3,S2\n",
      "   1 S3,S4,S1,S2,S3,S2,S2\n",
      "   1 S3,S4,S1,S2,S3,S4\n",
      "   9 S3,S4,S1,S2,S4\n",
      "   2 S3,S4,S1,S2,S4,S1\n",
      "   1 S3,S4,S1,S2,S4,S1,S3\n",
      "   2 S3,S4,S1,S2,S4,S3,S1\n",
      "   1 S3,S4,S1,S4\n",
      "   1 S3,S4,S1,S4,S2\n",
      "  79 S3,S4,S2\n",
      " 162 S3,S4,S2,S1\n",
      "   2 S3,S4,S2,S1,S1\n",
      "   3 S3,S4,S2,S1,S2\n",
      "   1 S3,S4,S2,S1,S2,S1,S2,S3,S1,S2\n",
      "   2 S3,S4,S2,S1,S2,S4\n",
      "   3 S3,S4,S2,S1,S3\n",
      "   1 S3,S4,S2,S1,S3,S3,S2,S4,S3,S3\n",
      "   1 S3,S4,S2,S1,S3,S4\n",
      "   6 S3,S4,S2,S1,S4\n",
      "   1 S3,S4,S2,S1,S4,S2\n",
      "   1 S3,S4,S2,S1,S4,S2,S1,S4,S4,S2\n",
      "   1 S3,S4,S2,S1,S4,S2,S3,S4\n",
      "   1 S3,S4,S2,S1,S4,S3,S4,S2,S3,S2,S3,S1,S3,S2,S3,S1,S1\n",
      "   1 S3,S4,S2,S1,S4,S4,S1,S4\n",
      "   1 S3,S4,S2,S4\n",
      "   1 S4,S1,S1,S2,S3\n",
      "   1 S4,S1,S1,S3\n",
      "   1 S4,S1,S2,S1,S3,S4\n",
      "   3 S4,S1,S2,S2,S3\n",
      "   2 S4,S1,S2,S2,S3,S4\n",
      "   1 S4,S1,S2,S2,S3,S4,S3,S1,S4\n",
      "   1 S4,S1,S2,S2,S4,S3\n",
      "   1 S4,S1,S2,S2,S4,S3,S4,S2\n",
      " 523 S4,S1,S2,S3\n",
      "   4 S4,S1,S2,S3,S1\n",
      "   2 S4,S1,S2,S3,S1,S2\n",
      "   1 S4,S1,S2,S3,S1,S2,S3\n",
      "   1 S4,S1,S2,S3,S1,S4\n",
      "   5 S4,S1,S2,S3,S2\n",
      "   2 S4,S1,S2,S3,S2,S3\n",
      "   1 S4,S1,S2,S3,S2,S3,S4\n",
      "   1 S4,S1,S2,S3,S2,S4\n",
      "   1 S4,S1,S2,S3,S2,S4,S3\n",
      "   3 S4,S1,S2,S3,S3\n",
      "   1 S4,S1,S2,S3,S3,S4,S1\n",
      "   1 S4,S1,S2,S3,S3,S4,S2,S3\n",
      "  15 S4,S1,S2,S3,S4\n",
      "   1 S4,S1,S2,S3,S4,S1\n",
      "   1 S4,S1,S2,S3,S4,S1,S2,S3,S4\n",
      "   1 S4,S1,S2,S3,S4,S1,S4,S2\n",
      "   1 S4,S1,S2,S3,S4,S3,S2\n",
      "   1 S4,S1,S2,S4,S1,S2,S3,S4\n",
      "   1 S4,S1,S2,S4,S1,S2,S4,S3\n",
      "   1 S4,S1,S2,S4,S2,S3\n",
      "   1 S4,S1,S2,S4,S2,S4,S3\n",
      "   7 S4,S1,S2,S4,S3\n",
      "   1 S4,S1,S2,S4,S3,S2,S4,S4\n",
      "   1 S4,S1,S2,S4,S3,S3\n",
      " 158 S4,S1,S3\n",
      " 138 S4,S1,S3,S2\n",
      "   2 S4,S1,S3,S2,S1\n",
      "   1 S4,S1,S3,S2,S1,S3,S4\n",
      "   1 S4,S1,S3,S2,S1,S4\n",
      "   3 S4,S1,S3,S2,S3\n",
      "   1 S4,S1,S3,S2,S3,S2,S4,S3,S2,S4,S3,S2\n",
      "   1 S4,S1,S3,S2,S3,S4\n",
      "   4 S4,S1,S3,S2,S4\n",
      "   1 S4,S1,S3,S2,S4,S1,S3\n",
      "   1 S4,S1,S3,S2,S4,S1,S3,S4,S3,S1,S4\n",
      "   1 S4,S1,S3,S2,S4,S2\n",
      "   1 S4,S1,S3,S2,S4,S2,S3\n",
      "   1 S4,S1,S3,S2,S4,S3,S2,S3,S4,S1,S3,S2\n",
      "   1 S4,S1,S3,S2,S4,S4,S2\n",
      "   6 S4,S1,S3,S4\n",
      "   3 S4,S1,S3,S4,S2\n",
      "   1 S4,S1,S3,S4,S2,S3\n",
      "   1 S4,S1,S4,S2,S3\n",
      "   2 S4,S1,S4,S2,S3,S4\n",
      "   1 S4,S1,S4,S3\n",
      "   1 S4,S1,S4,S3,S2\n",
      "   1 S4,S1,S4,S3,S2,S1\n",
      "   8 S4,S2,S1,S2,S3\n",
      "   2 S4,S2,S1,S2,S3,S4\n",
      " 215 S4,S2,S1,S3\n",
      "   1 S4,S2,S1,S3,S1,S3,S1,S4\n",
      "   7 S4,S2,S1,S3,S2\n",
      "   1 S4,S2,S1,S3,S2,S1\n",
      "   3 S4,S2,S1,S3,S2,S4\n",
      "   1 S4,S2,S1,S3,S2,S4,S2,S3,S4,S3\n",
      "   1 S4,S2,S1,S3,S2,S4,S3\n",
      "   4 S4,S2,S1,S3,S3\n",
      "   1 S4,S2,S1,S3,S3,S3,S1,S4,S2,S3\n",
      "   1 S4,S2,S1,S3,S3,S4,S2,S4,S3,S2,S3\n",
      "  10 S4,S2,S1,S3,S4\n",
      "   1 S4,S2,S1,S3,S4,S1,S2,S3,S4\n",
      "   1 S4,S2,S1,S3,S4,S1,S4,S2,S4,S3\n",
      "   4 S4,S2,S1,S4,S3\n",
      "   2 S4,S2,S1,S4,S3,S2\n",
      "  74 S4,S2,S3\n",
      "  94 S4,S2,S3,S1\n",
      "   1 S4,S2,S3,S1,S2\n",
      "   1 S4,S2,S3,S1,S2,S3\n",
      "   2 S4,S2,S3,S1,S2,S4\n",
      "   4 S4,S2,S3,S1,S4\n",
      "   1 S4,S2,S3,S1,S4,S1\n",
      "   1 S4,S2,S3,S1,S4,S1,S4\n",
      "   1 S4,S2,S3,S1,S4,S2\n",
      "   2 S4,S2,S3,S4,S1\n",
      "  68 S4,S3,S1\n",
      " 115 S4,S3,S1,S2\n",
      "   2 S4,S3,S1,S2,S1\n",
      "   1 S4,S3,S1,S2,S1,S4\n",
      "   1 S4,S3,S1,S2,S1,S4,S2\n",
      "   2 S4,S3,S1,S2,S2\n",
      "   1 S4,S3,S1,S2,S2,S4,S2,S3\n",
      "   2 S4,S3,S1,S2,S2,S4,S3\n",
      "   1 S4,S3,S1,S2,S3,S4,S1\n",
      "   6 S4,S3,S1,S2,S4\n",
      "   1 S4,S3,S1,S2,S4,S1,S3\n",
      "   1 S4,S3,S1,S2,S4,S2\n",
      "   1 S4,S3,S1,S2,S4,S3\n",
      "   1 S4,S3,S1,S4\n",
      "  30 S4,S3,S2\n",
      "  58 S4,S3,S2,S1\n",
      "   1 S4,S3,S2,S1,S1,S4,S3\n",
      "   2 S4,S3,S2,S1,S2\n",
      "   3 S4,S3,S2,S1,S2,S4\n",
      "   1 S4,S3,S2,S1,S3\n",
      "   5 S4,S3,S2,S1,S4\n",
      "   1 S4,S3,S2,S1,S4,S2\n",
      "   2 S4,S3,S2,S1,S4,S2,S3\n",
      "   2 S4,S3,S2,S1,S4,S3\n",
      "   1 S4,S3,S2,S2\n",
      "   1 S4,S3,S2,S4\n",
      "   3 S4,S3,S2,S4,S1\n",
      "   1 S4,S3,S2,S4,S2,S4,S2,S1\n"
     ]
    }
   ],
   "source": [
    "%%bash\n",
    "cat 16C_26psu_*_allc_regions_named.tsv |\\\n",
    "sort -k1,1 -k2,2n |\\\n",
    "/Users/Shared/bioinformatics/bedtools2/bin/mergeBed -c 5 -o collapse |\\\n",
    "awk '{if((($4~/S1/)&&($4~/S2/)&&($4~/S3/))||(($4~/S1/)&&($4~/S3/)&&($4~/S4/))||(($4~/S2/)&&($4~/S3/)&&($4~/S4/)))print $4}' | \\\n",
    "sort |\\\n",
    "uniq -c"
   ]
  },
  {
   "cell_type": "code",
   "execution_count": null,
   "metadata": {},
   "outputs": [],
   "source": [
    "#this seems to work in that there is never representation from only two individuals"
   ]
  },
  {
   "cell_type": "code",
   "execution_count": null,
   "metadata": {},
   "outputs": [],
   "source": [
    "#do it for all groups\n",
    "# and add filtering for at least 3 in the last column (awk command)\n",
    "#this is to keep only regions with coverage in 3/4 samples in each group"
   ]
  },
  {
   "cell_type": "code",
   "execution_count": 142,
   "metadata": {},
   "outputs": [],
   "source": [
    "%%bash\n",
    "cat 16C_26psu_*_allc_regions_named.tsv |\\\n",
    "sort -k1,1 -k2,2n |\\\n",
    "/Users/Shared/bioinformatics/bedtools2/bin/mergeBed -c 5 -o collapse |\\\n",
    "awk -F\"\\t\" '{OFS=FS=\"\\t\"}{if((($4~/S1/)&&($4~/S2/)&&($4~/S3/))||(($4~/S1/)&&($4~/S3/)&&($4~/S4/))||(($4~/S2/)&&($4~/S3/)&&($4~/S4/)))print $0}' \\\n",
    "> 16C_26psu_allc_regions.tsv\n",
    "\n",
    "\n",
    "cat 16C_32psu_*_allc_regions_named.tsv |\\\n",
    "sort -k1,1 -k2,2n |\\\n",
    "/Users/Shared/bioinformatics/bedtools2/bin/mergeBed -c 5 -o collapse |\\\n",
    "awk -F\"\\t\" '{OFS=FS=\"\\t\"}{if((($4~/S1/)&&($4~/S2/)&&($4~/S3/))||(($4~/S1/)&&($4~/S3/)&&($4~/S4/))||(($4~/S2/)&&($4~/S3/)&&($4~/S4/)))print $0}' \\\n",
    "> 16C_32psu_allc_regions.tsv\n",
    "\n",
    "\n",
    "cat 8C_26psu_*_allc_regions_named.tsv |\\\n",
    "sort -k1,1 -k2,2n |\\\n",
    "/Users/Shared/bioinformatics/bedtools2/bin/mergeBed -c 5 -o collapse |\\\n",
    "awk -F\"\\t\" '{OFS=FS=\"\\t\"}{if((($4~/S1/)&&($4~/S2/)&&($4~/S3/))||(($4~/S1/)&&($4~/S3/)&&($4~/S4/))||(($4~/S2/)&&($4~/S3/)&&($4~/S4/)))print $0}' \\\n",
    "> 8C_26psu_allc_regions.tsv\n",
    "\n",
    "\n",
    "cat 8C_32psu_*_allc_regions_named.tsv |\\\n",
    "sort -k1,1 -k2,2n |\\\n",
    "/Users/Shared/bioinformatics/bedtools2/bin/mergeBed -c 5 -o collapse |\\\n",
    "awk -F\"\\t\" '{OFS=FS=\"\\t\"}{if((($4~/S1/)&&($4~/S2/)&&($4~/S3/))||(($4~/S1/)&&($4~/S3/)&&($4~/S4/))||(($4~/S2/)&&($4~/S3/)&&($4~/S4/)))print $0}' \\\n",
    "> 8C_32psu_allc_regions.tsv\n"
   ]
  },
  {
   "cell_type": "code",
   "execution_count": null,
   "metadata": {},
   "outputs": [],
   "source": [
    "#preview regions"
   ]
  },
  {
   "cell_type": "code",
   "execution_count": 143,
   "metadata": {},
   "outputs": [
    {
     "name": "stdout",
     "output_type": "stream",
     "text": [
      "==> 16C_26psu_allc_regions.tsv <==\n",
      "NC_001960.1\t107\t16572\tS2,S1,S4,S3\n",
      "NC_027300.1\t12998\t13346\tS2,S1,S3,S4\n",
      "NC_027300.1\t122359\t122463\tS2,S3,S1,S4\n",
      "NC_027300.1\t588270\t588436\tS4,S1,S3\n",
      "NC_027300.1\t753231\t753536\tS3,S2,S1,S4\n",
      "NC_027300.1\t1016836\t1016934\tS1,S2,S3\n",
      "NC_027300.1\t1077125\t1077634\tS2,S1,S4,S3\n",
      "NC_027300.1\t1141635\t1142104\tS3,S4,S1\n",
      "NC_027300.1\t1206922\t1206995\tS2,S4,S3\n",
      "NC_027300.1\t1240429\t1240497\tS1,S2,S4,S3\n",
      "\n",
      "==> 16C_32psu_allc_regions.tsv <==\n",
      "NC_001960.1\t107\t16572\tS4,S2,S3,S1\n",
      "NC_027300.1\t12783\t13772\tS1,S3,S2,S4,S2\n",
      "NC_027300.1\t18704\t18920\tS1,S2,S3\n",
      "NC_027300.1\t121973\t122061\tS3,S1,S4\n",
      "NC_027300.1\t122359\t122463\tS4,S1,S2,S3\n",
      "NC_027300.1\t189870\t190163\tS1,S4,S3\n",
      "NC_027300.1\t307168\t307490\tS4,S1,S2,S3\n",
      "NC_027300.1\t432122\t432451\tS2,S1,S3\n",
      "NC_027300.1\t588270\t588436\tS1,S3,S2\n",
      "NC_027300.1\t751005\t751063\tS3,S1,S2\n",
      "\n",
      "==> 8C_26psu_allc_regions.tsv <==\n",
      "NC_001960.1\t107\t16572\tS4,S2,S1,S3\n",
      "NC_027300.1\t12998\t13475\tS3,S1,S2\n",
      "NC_027300.1\t121973\t122061\tS1,S3,S2\n",
      "NC_027300.1\t122359\t122463\tS3,S1,S2\n",
      "NC_027300.1\t189870\t190146\tS2,S3,S1\n",
      "NC_027300.1\t222083\t222352\tS1,S2,S3\n",
      "NC_027300.1\t307168\t307435\tS1,S2,S3\n",
      "NC_027300.1\t432122\t432451\tS2,S3,S1\n",
      "NC_027300.1\t602883\t603193\tS1,S3,S2\n",
      "NC_027300.1\t751005\t751063\tS1,S2,S3\n",
      "\n",
      "==> 8C_32psu_allc_regions.tsv <==\n",
      "NC_001960.1\t107\t16572\tS4,S2,S3,S1\n",
      "NC_027300.1\t12783\t13701\tS1,S2,S3,S4\n",
      "NC_027300.1\t121973\t122061\tS1,S2,S3,S4\n",
      "NC_027300.1\t122359\t122406\tS1,S2,S3\n",
      "NC_027300.1\t222083\t222352\tS1,S3,S2\n",
      "NC_027300.1\t226834\t226918\tS1,S3,S2\n",
      "NC_027300.1\t307168\t307435\tS1,S4,S2,S3\n",
      "NC_027300.1\t432145\t432451\tS3,S1,S4,S2\n",
      "NC_027300.1\t463275\t463398\tS3,S2,S4,S1\n",
      "NC_027300.1\t588336\t588436\tS1,S2,S3\n",
      "   14079 16C_26psu_allc_regions.tsv\n",
      "   42492 16C_32psu_allc_regions.tsv\n",
      "   43260 8C_26psu_allc_regions.tsv\n",
      "   48837 8C_32psu_allc_regions.tsv\n",
      "  148668 total\n"
     ]
    }
   ],
   "source": [
    "!head *psu_allc_regions.tsv\n",
    "!wc -l *psu_allc_regions.tsv"
   ]
  },
  {
   "cell_type": "code",
   "execution_count": null,
   "metadata": {},
   "outputs": [],
   "source": [
    "####################################################\n",
    "##### DEFINING BACKGROUND REGIONS ##################\n",
    "## STEP 3:  Finding regions common across groups ##\n",
    "###################################################"
   ]
  },
  {
   "cell_type": "code",
   "execution_count": 149,
   "metadata": {},
   "outputs": [],
   "source": [
    "#add a column to each group region file that descibes each group\n",
    "!cat 16C_26psu_allc_regions.tsv | awk -F\"\\t\" '{OFS=FS=\"\\t\"}{print $0,\"16C_26PSU\"}' > 16C_26psu_allc_regions_named.tsv\n",
    "!cat 16C_32psu_allc_regions.tsv | awk -F\"\\t\" '{OFS=FS=\"\\t\"}{print $0,\"16C_32PSU\"}' > 16C_32psu_allc_regions_named.tsv\n",
    "!cat 8C_26psu_allc_regions.tsv | awk -F\"\\t\" '{OFS=FS=\"\\t\"}{print $0,\"8C_26PSU\"}' > 8C_26psu_allc_regions_named.tsv\n",
    "!cat 8C_32psu_allc_regions.tsv | awk -F\"\\t\" '{OFS=FS=\"\\t\"}{print $0,\"8C_32PSU\"}' > 8C_32psu_allc_regions_named.tsv\n"
   ]
  },
  {
   "cell_type": "code",
   "execution_count": 150,
   "metadata": {},
   "outputs": [
    {
     "name": "stdout",
     "output_type": "stream",
     "text": [
      "==> 16C_26psu_allc_regions_named.tsv <==\r\n",
      "NC_001960.1\t107\t16572\tS2,S1,S4,S3\t16C_26PSU\r\n",
      "NC_027300.1\t12998\t13346\tS2,S1,S3,S4\t16C_26PSU\r\n",
      "NC_027300.1\t122359\t122463\tS2,S3,S1,S4\t16C_26PSU\r\n",
      "NC_027300.1\t588270\t588436\tS4,S1,S3\t16C_26PSU\r\n",
      "NC_027300.1\t753231\t753536\tS3,S2,S1,S4\t16C_26PSU\r\n",
      "NC_027300.1\t1016836\t1016934\tS1,S2,S3\t16C_26PSU\r\n",
      "NC_027300.1\t1077125\t1077634\tS2,S1,S4,S3\t16C_26PSU\r\n",
      "NC_027300.1\t1141635\t1142104\tS3,S4,S1\t16C_26PSU\r\n",
      "NC_027300.1\t1206922\t1206995\tS2,S4,S3\t16C_26PSU\r\n",
      "NC_027300.1\t1240429\t1240497\tS1,S2,S4,S3\t16C_26PSU\r\n",
      "\r\n",
      "==> 16C_32psu_allc_regions_named.tsv <==\r\n",
      "NC_001960.1\t107\t16572\tS4,S2,S3,S1\t16C_32PSU\r\n",
      "NC_027300.1\t12783\t13772\tS1,S3,S2,S4,S2\t16C_32PSU\r\n",
      "NC_027300.1\t18704\t18920\tS1,S2,S3\t16C_32PSU\r\n",
      "NC_027300.1\t121973\t122061\tS3,S1,S4\t16C_32PSU\r\n",
      "NC_027300.1\t122359\t122463\tS4,S1,S2,S3\t16C_32PSU\r\n",
      "NC_027300.1\t189870\t190163\tS1,S4,S3\t16C_32PSU\r\n",
      "NC_027300.1\t307168\t307490\tS4,S1,S2,S3\t16C_32PSU\r\n",
      "NC_027300.1\t432122\t432451\tS2,S1,S3\t16C_32PSU\r\n",
      "NC_027300.1\t588270\t588436\tS1,S3,S2\t16C_32PSU\r\n",
      "NC_027300.1\t751005\t751063\tS3,S1,S2\t16C_32PSU\r\n",
      "\r\n",
      "==> 8C_26psu_allc_regions_named.tsv <==\r\n",
      "NC_001960.1\t107\t16572\tS4,S2,S1,S3\t8C_26PSU\r\n",
      "NC_027300.1\t12998\t13475\tS3,S1,S2\t8C_26PSU\r\n",
      "NC_027300.1\t121973\t122061\tS1,S3,S2\t8C_26PSU\r\n",
      "NC_027300.1\t122359\t122463\tS3,S1,S2\t8C_26PSU\r\n",
      "NC_027300.1\t189870\t190146\tS2,S3,S1\t8C_26PSU\r\n",
      "NC_027300.1\t222083\t222352\tS1,S2,S3\t8C_26PSU\r\n",
      "NC_027300.1\t307168\t307435\tS1,S2,S3\t8C_26PSU\r\n",
      "NC_027300.1\t432122\t432451\tS2,S3,S1\t8C_26PSU\r\n",
      "NC_027300.1\t602883\t603193\tS1,S3,S2\t8C_26PSU\r\n",
      "NC_027300.1\t751005\t751063\tS1,S2,S3\t8C_26PSU\r\n",
      "\r\n",
      "==> 8C_32psu_allc_regions_named.tsv <==\r\n",
      "NC_001960.1\t107\t16572\tS4,S2,S3,S1\t8C_32PSU\r\n",
      "NC_027300.1\t12783\t13701\tS1,S2,S3,S4\t8C_32PSU\r\n",
      "NC_027300.1\t121973\t122061\tS1,S2,S3,S4\t8C_32PSU\r\n",
      "NC_027300.1\t122359\t122406\tS1,S2,S3\t8C_32PSU\r\n",
      "NC_027300.1\t222083\t222352\tS1,S3,S2\t8C_32PSU\r\n",
      "NC_027300.1\t226834\t226918\tS1,S3,S2\t8C_32PSU\r\n",
      "NC_027300.1\t307168\t307435\tS1,S4,S2,S3\t8C_32PSU\r\n",
      "NC_027300.1\t432145\t432451\tS3,S1,S4,S2\t8C_32PSU\r\n",
      "NC_027300.1\t463275\t463398\tS3,S2,S4,S1\t8C_32PSU\r\n",
      "NC_027300.1\t588336\t588436\tS1,S2,S3\t8C_32PSU\r\n"
     ]
    }
   ],
   "source": [
    "!head *psu_allc_regions_named.tsv"
   ]
  },
  {
   "cell_type": "code",
   "execution_count": null,
   "metadata": {},
   "outputs": [],
   "source": [
    "#first see what the output looks like for collapsing group files\n",
    "#there should only be a min of 1 and max of 4 in the last column"
   ]
  },
  {
   "cell_type": "code",
   "execution_count": 151,
   "metadata": {},
   "outputs": [
    {
     "name": "stdout",
     "output_type": "stream",
     "text": [
      "   1 16C_26PSU,16C_32PSU,16C_26PSU,8C_26PSU,8C_32PSU\r\n",
      "   1 16C_26PSU,16C_32PSU,8C_26PSU,8C_26PSU,8C_32PSU\r\n",
      " 591 16C_26PSU,16C_32PSU,8C_26PSU,8C_32PSU\r\n",
      "   1 16C_26PSU,16C_32PSU,8C_26PSU,8C_32PSU,16C_26PSU,8C_32PSU,16C_32PSU\r\n",
      "   3 16C_26PSU,16C_32PSU,8C_26PSU,8C_32PSU,16C_32PSU\r\n",
      "   1 16C_26PSU,16C_32PSU,8C_26PSU,8C_32PSU,16C_32PSU,16C_26PSU\r\n",
      "   2 16C_26PSU,16C_32PSU,8C_26PSU,8C_32PSU,8C_26PSU\r\n",
      "   1 16C_26PSU,16C_32PSU,8C_26PSU,8C_32PSU,8C_26PSU,16C_32PSU,8C_32PSU\r\n",
      "   1 16C_26PSU,16C_32PSU,8C_26PSU,8C_32PSU,8C_26PSU,8C_32PSU\r\n",
      "   1 16C_26PSU,16C_32PSU,8C_26PSU,8C_32PSU,8C_32PSU\r\n",
      "   1 16C_26PSU,16C_32PSU,8C_26PSU,8C_32PSU,8C_32PSU,16C_32PSU\r\n",
      "   1 16C_26PSU,16C_32PSU,8C_26PSU,8C_32PSU,8C_32PSU,8C_26PSU,8C_32PSU\r\n",
      "   1 16C_26PSU,16C_32PSU,8C_32PSU,16C_32PSU,8C_26PSU\r\n",
      " 308 16C_26PSU,16C_32PSU,8C_32PSU,8C_26PSU\r\n",
      "   2 16C_26PSU,16C_32PSU,8C_32PSU,8C_26PSU,16C_26PSU\r\n",
      "   2 16C_26PSU,16C_32PSU,8C_32PSU,8C_26PSU,16C_32PSU\r\n",
      "   1 16C_26PSU,16C_32PSU,8C_32PSU,8C_26PSU,16C_32PSU,8C_26PSU,8C_32PSU\r\n",
      "   1 16C_26PSU,16C_32PSU,8C_32PSU,8C_26PSU,16C_32PSU,8C_32PSU\r\n",
      "   1 16C_26PSU,16C_32PSU,8C_32PSU,8C_26PSU,8C_32PSU\r\n",
      "   1 16C_26PSU,8C_26PSU,16C_26PSU,16C_32PSU,8C_32PSU,16C_32PSU,8C_32PSU\r\n",
      "   1 16C_26PSU,8C_26PSU,16C_32PSU,16C_26PSU,8C_32PSU,16C_32PSU,8C_32PSU\r\n",
      "   1 16C_26PSU,8C_26PSU,16C_32PSU,16C_32PSU,8C_32PSU\r\n",
      "   1 16C_26PSU,8C_26PSU,16C_32PSU,8C_26PSU,8C_32PSU\r\n",
      " 299 16C_26PSU,8C_26PSU,16C_32PSU,8C_32PSU\r\n",
      "   1 16C_26PSU,8C_26PSU,16C_32PSU,8C_32PSU,16C_26PSU,8C_26PSU\r\n",
      "   1 16C_26PSU,8C_26PSU,16C_32PSU,8C_32PSU,16C_32PSU,16C_26PSU\r\n",
      "   1 16C_26PSU,8C_26PSU,16C_32PSU,8C_32PSU,16C_32PSU,16C_26PSU,16C_32PSU,8C_32PSU\r\n",
      "   1 16C_26PSU,8C_26PSU,16C_32PSU,8C_32PSU,16C_32PSU,8C_26PSU,8C_32PSU\r\n",
      "   2 16C_26PSU,8C_26PSU,16C_32PSU,8C_32PSU,8C_26PSU\r\n",
      "   1 16C_26PSU,8C_26PSU,16C_32PSU,8C_32PSU,8C_26PSU,16C_32PSU\r\n",
      "   1 16C_26PSU,8C_26PSU,16C_32PSU,8C_32PSU,8C_26PSU,16C_32PSU,8C_32PSU\r\n",
      "   2 16C_26PSU,8C_26PSU,16C_32PSU,8C_32PSU,8C_26PSU,8C_32PSU\r\n",
      "   1 16C_26PSU,8C_26PSU,16C_32PSU,8C_32PSU,8C_32PSU,16C_32PSU\r\n",
      "   1 16C_26PSU,8C_26PSU,16C_32PSU,8C_32PSU,8C_32PSU,16C_32PSU,8C_26PSU\r\n",
      "   1 16C_26PSU,8C_26PSU,16C_32PSU,8C_32PSU,8C_32PSU,8C_32PSU\r\n",
      "   1 16C_26PSU,8C_26PSU,8C_26PSU,8C_32PSU,16C_32PSU\r\n",
      " 309 16C_26PSU,8C_26PSU,8C_32PSU,16C_32PSU\r\n",
      "   1 16C_26PSU,8C_26PSU,8C_32PSU,16C_32PSU,16C_26PSU\r\n",
      "   1 16C_26PSU,8C_26PSU,8C_32PSU,16C_32PSU,16C_26PSU,8C_26PSU,8C_32PSU\r\n",
      "   3 16C_26PSU,8C_26PSU,8C_32PSU,16C_32PSU,16C_32PSU\r\n",
      "   1 16C_26PSU,8C_26PSU,8C_32PSU,16C_32PSU,8C_26PSU\r\n",
      "   1 16C_26PSU,8C_26PSU,8C_32PSU,16C_32PSU,8C_26PSU,16C_32PSU\r\n",
      "   1 16C_26PSU,8C_26PSU,8C_32PSU,16C_32PSU,8C_26PSU,8C_32PSU,16C_32PSU\r\n",
      "   2 16C_26PSU,8C_26PSU,8C_32PSU,16C_32PSU,8C_32PSU\r\n",
      "   2 16C_26PSU,8C_26PSU,8C_32PSU,16C_32PSU,8C_32PSU,8C_26PSU\r\n",
      "   1 16C_26PSU,8C_26PSU,8C_32PSU,8C_26PSU,16C_32PSU\r\n",
      "   2 16C_26PSU,8C_32PSU,16C_32PSU,16C_26PSU,8C_26PSU\r\n",
      " 234 16C_26PSU,8C_32PSU,16C_32PSU,8C_26PSU\r\n",
      "   1 16C_26PSU,8C_32PSU,16C_32PSU,8C_26PSU,16C_26PSU,16C_32PSU\r\n",
      "   1 16C_26PSU,8C_32PSU,16C_32PSU,8C_26PSU,16C_32PSU,8C_32PSU,16C_26PSU\r\n",
      "   1 16C_26PSU,8C_32PSU,16C_32PSU,8C_26PSU,8C_26PSU\r\n",
      "   1 16C_26PSU,8C_32PSU,16C_32PSU,8C_26PSU,8C_26PSU,8C_32PSU\r\n",
      "   1 16C_26PSU,8C_32PSU,16C_32PSU,8C_26PSU,8C_32PSU\r\n",
      "   1 16C_26PSU,8C_32PSU,16C_32PSU,8C_26PSU,8C_32PSU,16C_32PSU\r\n",
      "   1 16C_26PSU,8C_32PSU,16C_32PSU,8C_26PSU,8C_32PSU,16C_32PSU,16C_26PSU\r\n",
      "   1 16C_26PSU,8C_32PSU,16C_32PSU,8C_26PSU,8C_32PSU,16C_32PSU,8C_26PSU\r\n",
      "   1 16C_26PSU,8C_32PSU,16C_32PSU,8C_32PSU,8C_26PSU\r\n",
      "   1 16C_26PSU,8C_32PSU,8C_26PSU,16C_26PSU,16C_32PSU\r\n",
      " 231 16C_26PSU,8C_32PSU,8C_26PSU,16C_32PSU\r\n",
      "   2 16C_26PSU,8C_32PSU,8C_26PSU,16C_32PSU,16C_26PSU\r\n",
      "   1 16C_26PSU,8C_32PSU,8C_26PSU,16C_32PSU,16C_26PSU,8C_26PSU,8C_32PSU\r\n",
      "   2 16C_26PSU,8C_32PSU,8C_26PSU,16C_32PSU,16C_32PSU\r\n",
      "   1 16C_26PSU,8C_32PSU,8C_26PSU,16C_32PSU,16C_32PSU,16C_32PSU\r\n",
      "   1 16C_26PSU,8C_32PSU,8C_26PSU,16C_32PSU,8C_26PSU\r\n",
      "   1 16C_26PSU,8C_32PSU,8C_26PSU,16C_32PSU,8C_26PSU,8C_32PSU\r\n",
      "   4 16C_26PSU,8C_32PSU,8C_26PSU,16C_32PSU,8C_32PSU\r\n",
      "   1 16C_26PSU,8C_32PSU,8C_26PSU,16C_32PSU,8C_32PSU,16C_26PSU,8C_26PSU,16C_32PSU,8C_32PSU\r\n",
      "   1 16C_26PSU,8C_32PSU,8C_26PSU,16C_32PSU,8C_32PSU,16C_32PSU,8C_26PSU\r\n",
      "   1 16C_26PSU,8C_32PSU,8C_26PSU,16C_32PSU,8C_32PSU,8C_26PSU\r\n",
      "   1 16C_26PSU,8C_32PSU,8C_26PSU,16C_32PSU,8C_32PSU,8C_32PSU,8C_26PSU,16C_32PSU\r\n",
      "   1 16C_26PSU,8C_32PSU,8C_26PSU,8C_32PSU,16C_32PSU,16C_26PSU\r\n",
      "   1 16C_32PSU,16C_26PSU,16C_32PSU,8C_32PSU,8C_26PSU\r\n",
      " 247 16C_32PSU,16C_26PSU,8C_26PSU,8C_32PSU\r\n",
      "   1 16C_32PSU,16C_26PSU,8C_26PSU,8C_32PSU,16C_26PSU,16C_32PSU,16C_32PSU\r\n",
      "   4 16C_32PSU,16C_26PSU,8C_26PSU,8C_32PSU,16C_32PSU\r\n",
      "   1 16C_32PSU,16C_26PSU,8C_26PSU,8C_32PSU,16C_32PSU,8C_26PSU\r\n",
      "   1 16C_32PSU,16C_26PSU,8C_26PSU,8C_32PSU,16C_32PSU,8C_32PSU\r\n",
      "   1 16C_32PSU,16C_26PSU,8C_26PSU,8C_32PSU,8C_26PSU,8C_32PSU\r\n",
      "   1 16C_32PSU,16C_26PSU,8C_26PSU,8C_32PSU,8C_32PSU,16C_26PSU,16C_32PSU,8C_26PSU\r\n",
      "   1 16C_32PSU,16C_26PSU,8C_26PSU,8C_32PSU,8C_32PSU,16C_32PSU\r\n",
      "   1 16C_32PSU,16C_26PSU,8C_32PSU,16C_26PSU,8C_26PSU,8C_32PSU\r\n",
      "   2 16C_32PSU,16C_26PSU,8C_32PSU,16C_32PSU,8C_26PSU\r\n",
      " 191 16C_32PSU,16C_26PSU,8C_32PSU,8C_26PSU\r\n",
      "   1 16C_32PSU,16C_26PSU,8C_32PSU,8C_26PSU,16C_26PSU\r\n",
      "   1 16C_32PSU,16C_26PSU,8C_32PSU,8C_26PSU,16C_26PSU,16C_32PSU,8C_32PSU\r\n",
      "   5 16C_32PSU,16C_26PSU,8C_32PSU,8C_26PSU,16C_32PSU\r\n",
      "   1 16C_32PSU,16C_26PSU,8C_32PSU,8C_26PSU,16C_32PSU,8C_26PSU,8C_32PSU\r\n",
      "   1 16C_32PSU,16C_26PSU,8C_32PSU,8C_26PSU,16C_32PSU,8C_32PSU,8C_26PSU\r\n",
      "   2 16C_32PSU,16C_26PSU,8C_32PSU,8C_26PSU,8C_26PSU\r\n",
      "   2 16C_32PSU,16C_26PSU,8C_32PSU,8C_26PSU,8C_26PSU,16C_32PSU\r\n",
      "   1 16C_32PSU,16C_26PSU,8C_32PSU,8C_26PSU,8C_26PSU,8C_32PSU\r\n",
      "   1 16C_32PSU,16C_26PSU,8C_32PSU,8C_26PSU,8C_32PSU,16C_26PSU\r\n",
      "   1 16C_32PSU,16C_26PSU,8C_32PSU,8C_26PSU,8C_32PSU,8C_26PSU\r\n",
      " 351 16C_32PSU,8C_26PSU,16C_26PSU,8C_32PSU\r\n",
      "   1 16C_32PSU,8C_26PSU,16C_26PSU,8C_32PSU,16C_26PSU,8C_32PSU\r\n",
      "   4 16C_32PSU,8C_26PSU,16C_26PSU,8C_32PSU,16C_32PSU\r\n",
      "   1 16C_32PSU,8C_26PSU,16C_26PSU,8C_32PSU,16C_32PSU,8C_26PSU\r\n",
      "   1 16C_32PSU,8C_26PSU,16C_26PSU,8C_32PSU,16C_32PSU,8C_26PSU,16C_26PSU\r\n",
      "   1 16C_32PSU,8C_26PSU,16C_26PSU,8C_32PSU,16C_32PSU,8C_32PSU\r\n",
      "   3 16C_32PSU,8C_26PSU,16C_26PSU,8C_32PSU,8C_26PSU\r\n",
      "   1 16C_32PSU,8C_26PSU,16C_26PSU,8C_32PSU,8C_26PSU,8C_32PSU\r\n",
      " 361 16C_32PSU,8C_26PSU,8C_32PSU,16C_26PSU\r\n",
      "   2 16C_32PSU,8C_26PSU,8C_32PSU,16C_26PSU,16C_32PSU\r\n",
      "   1 16C_32PSU,8C_26PSU,8C_32PSU,16C_26PSU,16C_32PSU,8C_26PSU\r\n",
      "   1 16C_32PSU,8C_26PSU,8C_32PSU,16C_26PSU,16C_32PSU,8C_26PSU,8C_32PSU\r\n",
      "   1 16C_32PSU,8C_26PSU,8C_32PSU,16C_26PSU,16C_32PSU,8C_26PSU,8C_32PSU,16C_32PSU,8C_26PSU,8C_32PSU\r\n",
      "   1 16C_32PSU,8C_26PSU,8C_32PSU,16C_26PSU,16C_32PSU,8C_32PSU,8C_26PSU,16C_32PSU,8C_32PSU\r\n",
      "   1 16C_32PSU,8C_26PSU,8C_32PSU,16C_26PSU,8C_26PSU\r\n",
      "   1 16C_32PSU,8C_26PSU,8C_32PSU,16C_26PSU,8C_26PSU,16C_32PSU\r\n",
      "   2 16C_32PSU,8C_26PSU,8C_32PSU,16C_26PSU,8C_26PSU,8C_32PSU\r\n",
      "   1 16C_32PSU,8C_26PSU,8C_32PSU,16C_26PSU,8C_26PSU,8C_32PSU,16C_32PSU\r\n",
      "   1 16C_32PSU,8C_26PSU,8C_32PSU,16C_26PSU,8C_26PSU,8C_32PSU,8C_26PSU\r\n",
      "   1 16C_32PSU,8C_26PSU,8C_32PSU,16C_26PSU,8C_32PSU\r\n",
      "   1 16C_32PSU,8C_26PSU,8C_32PSU,16C_26PSU,8C_32PSU,8C_26PSU\r\n",
      "   1 16C_32PSU,8C_26PSU,8C_32PSU,16C_26PSU,8C_32PSU,8C_26PSU,16C_32PSU,8C_26PSU\r\n",
      "   1 16C_32PSU,8C_26PSU,8C_32PSU,16C_32PSU,16C_26PSU\r\n",
      "   1 16C_32PSU,8C_26PSU,8C_32PSU,16C_32PSU,8C_26PSU,16C_26PSU\r\n",
      "   1 16C_32PSU,8C_26PSU,8C_32PSU,8C_32PSU,16C_26PSU\r\n",
      "   1 16C_32PSU,8C_26PSU,8C_32PSU,8C_32PSU,16C_26PSU,16C_32PSU,16C_32PSU\r\n",
      " 246 16C_32PSU,8C_32PSU,16C_26PSU,8C_26PSU\r\n",
      "   3 16C_32PSU,8C_32PSU,16C_26PSU,8C_26PSU,16C_32PSU\r\n",
      "   1 16C_32PSU,8C_32PSU,16C_26PSU,8C_26PSU,16C_32PSU,16C_26PSU\r\n",
      "   1 16C_32PSU,8C_32PSU,16C_26PSU,8C_26PSU,16C_32PSU,16C_26PSU,8C_32PSU\r\n",
      "   4 16C_32PSU,8C_32PSU,16C_26PSU,8C_26PSU,16C_32PSU,8C_32PSU\r\n",
      "   1 16C_32PSU,8C_32PSU,16C_26PSU,8C_26PSU,16C_32PSU,8C_32PSU,16C_26PSU\r\n",
      "   1 16C_32PSU,8C_32PSU,16C_26PSU,8C_26PSU,8C_26PSU,8C_32PSU\r\n",
      "   1 16C_32PSU,8C_32PSU,16C_26PSU,8C_26PSU,8C_32PSU\r\n",
      "   1 16C_32PSU,8C_32PSU,16C_26PSU,8C_26PSU,8C_32PSU,16C_32PSU\r\n",
      " 253 16C_32PSU,8C_32PSU,8C_26PSU,16C_26PSU\r\n",
      "   4 16C_32PSU,8C_32PSU,8C_26PSU,16C_26PSU,16C_32PSU\r\n",
      "   1 16C_32PSU,8C_32PSU,8C_26PSU,16C_26PSU,16C_32PSU,16C_32PSU\r\n",
      "   1 16C_32PSU,8C_32PSU,8C_26PSU,16C_26PSU,16C_32PSU,16C_32PSU,8C_26PSU\r\n",
      "   1 16C_32PSU,8C_32PSU,8C_26PSU,16C_26PSU,16C_32PSU,8C_32PSU\r\n",
      "   1 16C_32PSU,8C_32PSU,8C_26PSU,16C_26PSU,8C_26PSU,16C_32PSU\r\n",
      "   1 16C_32PSU,8C_32PSU,8C_26PSU,16C_26PSU,8C_26PSU,8C_32PSU,16C_32PSU\r\n",
      "   3 16C_32PSU,8C_32PSU,8C_26PSU,16C_26PSU,8C_32PSU\r\n",
      "   1 16C_32PSU,8C_32PSU,8C_26PSU,16C_26PSU,8C_32PSU,16C_32PSU,8C_26PSU\r\n",
      "   1 16C_32PSU,8C_32PSU,8C_26PSU,16C_32PSU,16C_26PSU,8C_32PSU\r\n",
      "   1 16C_32PSU,8C_32PSU,8C_26PSU,16C_32PSU,8C_32PSU,16C_26PSU\r\n",
      "   2 16C_32PSU,8C_32PSU,8C_26PSU,8C_32PSU,16C_26PSU\r\n",
      "   1 16C_32PSU,8C_32PSU,8C_26PSU,8C_32PSU,16C_32PSU,16C_26PSU\r\n",
      "   1 8C_26PSU,16C_26PSU,16C_32PSU,16C_32PSU,8C_26PSU,8C_32PSU\r\n",
      "   1 8C_26PSU,16C_26PSU,16C_32PSU,8C_26PSU,8C_32PSU\r\n",
      " 614 8C_26PSU,16C_26PSU,16C_32PSU,8C_32PSU\r\n",
      "   2 8C_26PSU,16C_26PSU,16C_32PSU,8C_32PSU,16C_32PSU\r\n",
      "   1 8C_26PSU,16C_26PSU,16C_32PSU,8C_32PSU,16C_32PSU,8C_32PSU\r\n",
      "   2 8C_26PSU,16C_26PSU,16C_32PSU,8C_32PSU,8C_26PSU\r\n",
      "   1 8C_26PSU,16C_26PSU,16C_32PSU,8C_32PSU,8C_26PSU,16C_32PSU\r\n",
      "   3 8C_26PSU,16C_26PSU,16C_32PSU,8C_32PSU,8C_32PSU\r\n",
      "   1 8C_26PSU,16C_26PSU,16C_32PSU,8C_32PSU,8C_32PSU,8C_26PSU\r\n",
      "   2 8C_26PSU,16C_26PSU,8C_26PSU,16C_32PSU,8C_32PSU\r\n",
      " 326 8C_26PSU,16C_26PSU,8C_32PSU,16C_32PSU\r\n",
      "   1 8C_26PSU,16C_26PSU,8C_32PSU,16C_32PSU,16C_26PSU\r\n",
      "   1 8C_26PSU,16C_26PSU,8C_32PSU,16C_32PSU,16C_26PSU,16C_32PSU\r\n",
      "   1 8C_26PSU,16C_26PSU,8C_32PSU,16C_32PSU,16C_26PSU,8C_26PSU,16C_32PSU,8C_32PSU,8C_32PSU,16C_32PSU\r\n",
      "   2 8C_26PSU,16C_26PSU,8C_32PSU,16C_32PSU,16C_32PSU\r\n",
      "   7 8C_26PSU,16C_26PSU,8C_32PSU,16C_32PSU,8C_26PSU\r\n",
      "   1 8C_26PSU,16C_26PSU,8C_32PSU,16C_32PSU,8C_26PSU,16C_32PSU\r\n",
      "   1 8C_26PSU,16C_26PSU,8C_32PSU,16C_32PSU,8C_26PSU,8C_32PSU,16C_32PSU,16C_26PSU,8C_26PSU,8C_32PSU\r\n",
      "   1 8C_26PSU,16C_26PSU,8C_32PSU,16C_32PSU,8C_32PSU\r\n",
      "   1 8C_26PSU,16C_26PSU,8C_32PSU,16C_32PSU,8C_32PSU,16C_26PSU\r\n",
      "   2 8C_26PSU,16C_26PSU,8C_32PSU,16C_32PSU,8C_32PSU,8C_26PSU\r\n",
      "   1 8C_26PSU,16C_26PSU,8C_32PSU,16C_32PSU,8C_32PSU,8C_26PSU,16C_26PSU,16C_26PSU,16C_32PSU\r\n",
      "   1 8C_26PSU,16C_26PSU,8C_32PSU,8C_26PSU,16C_32PSU\r\n",
      "   1 8C_26PSU,16C_32PSU,16C_26PSU,8C_26PSU,8C_32PSU\r\n",
      "   1 8C_26PSU,16C_32PSU,16C_26PSU,8C_26PSU,8C_32PSU,16C_32PSU\r\n",
      " 261 8C_26PSU,16C_32PSU,16C_26PSU,8C_32PSU\r\n",
      "   1 8C_26PSU,16C_32PSU,16C_26PSU,8C_32PSU,16C_26PSU,16C_32PSU\r\n",
      "   1 8C_26PSU,16C_32PSU,16C_26PSU,8C_32PSU,16C_32PSU\r\n",
      "   1 8C_26PSU,16C_32PSU,16C_26PSU,8C_32PSU,16C_32PSU,16C_26PSU,8C_26PSU,8C_26PSU,16C_26PSU,16C_32PSU,8C_32PSU\r\n",
      "   2 8C_26PSU,16C_32PSU,16C_26PSU,8C_32PSU,16C_32PSU,8C_26PSU\r\n",
      "   1 8C_26PSU,16C_32PSU,16C_26PSU,8C_32PSU,16C_32PSU,8C_26PSU,8C_32PSU\r\n",
      "   1 8C_26PSU,16C_32PSU,16C_26PSU,8C_32PSU,16C_32PSU,8C_32PSU\r\n",
      "   2 8C_26PSU,16C_32PSU,16C_26PSU,8C_32PSU,8C_26PSU\r\n",
      "   1 8C_26PSU,16C_32PSU,16C_26PSU,8C_32PSU,8C_26PSU,16C_26PSU,16C_32PSU\r\n",
      "   1 8C_26PSU,16C_32PSU,16C_26PSU,8C_32PSU,8C_26PSU,8C_32PSU,16C_32PSU,8C_26PSU\r\n",
      "   1 8C_26PSU,16C_32PSU,8C_26PSU,16C_26PSU,8C_32PSU\r\n",
      " 330 8C_26PSU,16C_32PSU,8C_32PSU,16C_26PSU\r\n",
      "   1 8C_26PSU,16C_32PSU,8C_32PSU,16C_26PSU,16C_26PSU\r\n",
      "   2 8C_26PSU,16C_32PSU,8C_32PSU,16C_26PSU,16C_32PSU\r\n",
      "   1 8C_26PSU,16C_32PSU,8C_32PSU,16C_26PSU,16C_32PSU,8C_26PSU\r\n",
      "   1 8C_26PSU,16C_32PSU,8C_32PSU,16C_26PSU,16C_32PSU,8C_26PSU,8C_32PSU,8C_26PSU,16C_32PSU,8C_26PSU\r\n",
      "   1 8C_26PSU,16C_32PSU,8C_32PSU,16C_26PSU,16C_32PSU,8C_32PSU,8C_26PSU\r\n",
      "   4 8C_26PSU,16C_32PSU,8C_32PSU,16C_26PSU,8C_26PSU\r\n",
      "   3 8C_26PSU,16C_32PSU,8C_32PSU,16C_26PSU,8C_26PSU,16C_32PSU\r\n",
      "   1 8C_26PSU,16C_32PSU,8C_32PSU,16C_26PSU,8C_26PSU,8C_32PSU\r\n",
      "   1 8C_26PSU,16C_32PSU,8C_32PSU,16C_26PSU,8C_26PSU,8C_32PSU,16C_32PSU,8C_32PSU,16C_32PSU\r\n",
      "   3 8C_26PSU,16C_32PSU,8C_32PSU,16C_26PSU,8C_32PSU\r\n",
      "   1 8C_26PSU,16C_32PSU,8C_32PSU,16C_26PSU,8C_32PSU,8C_26PSU\r\n",
      "   1 8C_26PSU,16C_32PSU,8C_32PSU,16C_26PSU,8C_32PSU,8C_26PSU,16C_32PSU\r\n",
      "   1 8C_26PSU,16C_32PSU,8C_32PSU,8C_26PSU,16C_26PSU,16C_32PSU\r\n",
      "   1 8C_26PSU,16C_32PSU,8C_32PSU,8C_26PSU,8C_32PSU,16C_26PSU,16C_32PSU\r\n",
      "   1 8C_26PSU,16C_32PSU,8C_32PSU,8C_26PSU,8C_32PSU,16C_26PSU,8C_32PSU,8C_26PSU\r\n",
      " 351 8C_26PSU,8C_32PSU,16C_26PSU,16C_32PSU\r\n",
      "   4 8C_26PSU,8C_32PSU,16C_26PSU,16C_32PSU,8C_26PSU\r\n",
      "   1 8C_26PSU,8C_32PSU,16C_26PSU,16C_32PSU,8C_26PSU,8C_32PSU\r\n",
      "   2 8C_26PSU,8C_32PSU,16C_26PSU,16C_32PSU,8C_32PSU\r\n",
      "   1 8C_26PSU,8C_32PSU,16C_26PSU,16C_32PSU,8C_32PSU,16C_32PSU\r\n",
      "   1 8C_26PSU,8C_32PSU,16C_26PSU,16C_32PSU,8C_32PSU,8C_26PSU\r\n",
      "   1 8C_26PSU,8C_32PSU,16C_26PSU,16C_32PSU,8C_32PSU,8C_26PSU,16C_26PSU\r\n",
      "   3 8C_26PSU,8C_32PSU,16C_26PSU,8C_26PSU,16C_32PSU\r\n",
      " 268 8C_26PSU,8C_32PSU,16C_32PSU,16C_26PSU\r\n",
      "   1 8C_26PSU,8C_32PSU,16C_32PSU,16C_26PSU,16C_32PSU\r\n",
      "   2 8C_26PSU,8C_32PSU,16C_32PSU,16C_26PSU,16C_32PSU,8C_26PSU,8C_32PSU\r\n",
      "   1 8C_26PSU,8C_32PSU,16C_32PSU,16C_26PSU,16C_32PSU,8C_32PSU\r\n",
      "   4 8C_26PSU,8C_32PSU,16C_32PSU,16C_26PSU,8C_26PSU\r\n",
      "   1 8C_26PSU,8C_32PSU,16C_32PSU,16C_26PSU,8C_26PSU,16C_32PSU,8C_32PSU\r\n",
      "   2 8C_26PSU,8C_32PSU,16C_32PSU,16C_26PSU,8C_26PSU,8C_32PSU\r\n",
      "   1 8C_26PSU,8C_32PSU,16C_32PSU,16C_26PSU,8C_32PSU,8C_26PSU\r\n",
      "   1 8C_26PSU,8C_32PSU,16C_32PSU,16C_26PSU,8C_32PSU,8C_26PSU,16C_32PSU\r\n",
      "   1 8C_26PSU,8C_32PSU,16C_32PSU,16C_26PSU,8C_32PSU,8C_26PSU,8C_26PSU\r\n",
      "   1 8C_26PSU,8C_32PSU,16C_32PSU,16C_32PSU,16C_26PSU\r\n",
      "   1 8C_26PSU,8C_32PSU,16C_32PSU,16C_32PSU,16C_26PSU,8C_32PSU\r\n",
      "   2 8C_26PSU,8C_32PSU,16C_32PSU,8C_26PSU,16C_26PSU\r\n",
      "   1 8C_26PSU,8C_32PSU,16C_32PSU,8C_26PSU,8C_32PSU,16C_26PSU\r\n",
      "   1 8C_26PSU,8C_32PSU,16C_32PSU,8C_32PSU,16C_26PSU\r\n",
      "   1 8C_26PSU,8C_32PSU,16C_32PSU,8C_32PSU,16C_26PSU,8C_26PSU\r\n",
      "   1 8C_26PSU,8C_32PSU,16C_32PSU,8C_32PSU,8C_26PSU,16C_26PSU,16C_32PSU\r\n",
      "   1 8C_26PSU,8C_32PSU,8C_26PSU,16C_26PSU,16C_32PSU\r\n",
      " 213 8C_32PSU,16C_26PSU,16C_32PSU,8C_26PSU\r\n",
      "   1 8C_32PSU,16C_26PSU,16C_32PSU,8C_26PSU,16C_26PSU\r\n",
      "   2 8C_32PSU,16C_26PSU,16C_32PSU,8C_26PSU,16C_32PSU\r\n",
      "   1 8C_32PSU,16C_26PSU,16C_32PSU,8C_26PSU,16C_32PSU,8C_26PSU\r\n",
      "   1 8C_32PSU,16C_26PSU,16C_32PSU,8C_26PSU,16C_32PSU,8C_32PSU,16C_26PSU\r\n",
      "   1 8C_32PSU,16C_26PSU,16C_32PSU,8C_26PSU,8C_26PSU\r\n",
      "   4 8C_32PSU,16C_26PSU,16C_32PSU,8C_26PSU,8C_32PSU\r\n",
      "   2 8C_32PSU,16C_26PSU,16C_32PSU,8C_26PSU,8C_32PSU,16C_32PSU\r\n",
      "   1 8C_32PSU,16C_26PSU,16C_32PSU,8C_26PSU,8C_32PSU,16C_32PSU,16C_26PSU\r\n",
      "   1 8C_32PSU,16C_26PSU,16C_32PSU,8C_26PSU,8C_32PSU,8C_26PSU,16C_32PSU\r\n",
      "   4 8C_32PSU,16C_26PSU,16C_32PSU,8C_32PSU,8C_26PSU\r\n",
      " 174 8C_32PSU,16C_26PSU,8C_26PSU,16C_32PSU\r\n",
      "   2 8C_32PSU,16C_26PSU,8C_26PSU,16C_32PSU,16C_26PSU\r\n",
      "   1 8C_32PSU,16C_26PSU,8C_26PSU,16C_32PSU,16C_32PSU,8C_26PSU,8C_32PSU\r\n",
      "   1 8C_32PSU,16C_26PSU,8C_26PSU,16C_32PSU,8C_26PSU\r\n",
      "   1 8C_32PSU,16C_26PSU,8C_26PSU,16C_32PSU,8C_26PSU,8C_32PSU\r\n",
      "   1 8C_32PSU,16C_26PSU,8C_26PSU,16C_32PSU,8C_26PSU,8C_32PSU,16C_32PSU\r\n",
      "   4 8C_32PSU,16C_26PSU,8C_26PSU,16C_32PSU,8C_32PSU\r\n",
      "   1 8C_32PSU,16C_26PSU,8C_26PSU,16C_32PSU,8C_32PSU,8C_32PSU,16C_26PSU,16C_32PSU,8C_32PSU,16C_32PSU,16C_26PSU\r\n",
      "   2 8C_32PSU,16C_26PSU,8C_26PSU,8C_32PSU,16C_32PSU\r\n",
      "   1 8C_32PSU,16C_26PSU,8C_32PSU,16C_32PSU,8C_26PSU\r\n",
      " 155 8C_32PSU,16C_32PSU,16C_26PSU,8C_26PSU\r\n",
      "   1 8C_32PSU,16C_32PSU,16C_26PSU,8C_26PSU,16C_26PSU\r\n",
      "   1 8C_32PSU,16C_32PSU,16C_26PSU,8C_26PSU,16C_32PSU\r\n",
      "   1 8C_32PSU,16C_32PSU,16C_26PSU,8C_26PSU,16C_32PSU,16C_26PSU\r\n",
      "   4 8C_32PSU,16C_32PSU,16C_26PSU,8C_26PSU,16C_32PSU,8C_32PSU\r\n",
      "   1 8C_32PSU,16C_32PSU,16C_26PSU,8C_26PSU,8C_26PSU,16C_26PSU,8C_32PSU\r\n",
      "   1 8C_32PSU,16C_32PSU,16C_26PSU,8C_26PSU,8C_26PSU,8C_32PSU\r\n",
      "   1 8C_32PSU,16C_32PSU,16C_26PSU,8C_26PSU,8C_26PSU,8C_32PSU,16C_32PSU,8C_26PSU,8C_32PSU,16C_32PSU,8C_26PSU\r\n",
      "   7 8C_32PSU,16C_32PSU,16C_26PSU,8C_26PSU,8C_32PSU\r\n",
      "   1 8C_32PSU,16C_32PSU,16C_26PSU,8C_26PSU,8C_32PSU,16C_32PSU,8C_26PSU,8C_32PSU\r\n",
      "   2 8C_32PSU,16C_32PSU,16C_26PSU,8C_32PSU,8C_26PSU\r\n",
      " 169 8C_32PSU,16C_32PSU,8C_26PSU,16C_26PSU\r\n",
      "   1 8C_32PSU,16C_32PSU,8C_26PSU,16C_26PSU,16C_26PSU,8C_26PSU,16C_32PSU\r\n",
      "   2 8C_32PSU,16C_32PSU,8C_26PSU,16C_26PSU,16C_32PSU\r\n",
      "   1 8C_32PSU,16C_32PSU,8C_26PSU,16C_26PSU,16C_32PSU,8C_26PSU\r\n",
      "   1 8C_32PSU,16C_32PSU,8C_26PSU,16C_26PSU,16C_32PSU,8C_32PSU\r\n",
      "   2 8C_32PSU,16C_32PSU,8C_26PSU,16C_26PSU,16C_32PSU,8C_32PSU,8C_26PSU\r\n",
      "   1 8C_32PSU,16C_32PSU,8C_26PSU,16C_26PSU,8C_26PSU\r\n",
      "   1 8C_32PSU,16C_32PSU,8C_26PSU,16C_26PSU,8C_26PSU,8C_32PSU\r\n",
      "   7 8C_32PSU,16C_32PSU,8C_26PSU,16C_26PSU,8C_32PSU\r\n",
      "   1 8C_32PSU,16C_32PSU,8C_26PSU,16C_26PSU,8C_32PSU,16C_32PSU\r\n",
      "   2 8C_32PSU,16C_32PSU,8C_26PSU,16C_26PSU,8C_32PSU,8C_26PSU\r\n",
      "   1 8C_32PSU,16C_32PSU,8C_26PSU,16C_26PSU,8C_32PSU,8C_26PSU,16C_32PSU\r\n",
      "   1 8C_32PSU,16C_32PSU,8C_26PSU,16C_26PSU,8C_32PSU,8C_32PSU\r\n",
      "   1 8C_32PSU,16C_32PSU,8C_26PSU,8C_26PSU,16C_32PSU,16C_26PSU\r\n",
      "   1 8C_32PSU,16C_32PSU,8C_26PSU,8C_32PSU,16C_26PSU\r\n",
      "   1 8C_32PSU,16C_32PSU,8C_32PSU,8C_26PSU,16C_26PSU\r\n",
      " 207 8C_32PSU,8C_26PSU,16C_26PSU,16C_32PSU\r\n",
      "   1 8C_32PSU,8C_26PSU,16C_26PSU,16C_32PSU,16C_26PSU,8C_26PSU,16C_32PSU\r\n",
      "   1 8C_32PSU,8C_26PSU,16C_26PSU,16C_32PSU,8C_26PSU\r\n",
      "   1 8C_32PSU,8C_26PSU,16C_26PSU,16C_32PSU,8C_26PSU,16C_32PSU\r\n",
      "   1 8C_32PSU,8C_26PSU,16C_26PSU,16C_32PSU,8C_26PSU,8C_32PSU\r\n",
      "   6 8C_32PSU,8C_26PSU,16C_26PSU,16C_32PSU,8C_32PSU\r\n",
      "   1 8C_32PSU,8C_26PSU,16C_26PSU,16C_32PSU,8C_32PSU,8C_26PSU\r\n",
      "   1 8C_32PSU,8C_26PSU,16C_26PSU,16C_32PSU,8C_32PSU,8C_26PSU,8C_32PSU\r\n",
      "   1 8C_32PSU,8C_26PSU,16C_26PSU,8C_32PSU,16C_32PSU\r\n",
      " 205 8C_32PSU,8C_26PSU,16C_32PSU,16C_26PSU\r\n",
      "   1 8C_32PSU,8C_26PSU,16C_32PSU,16C_26PSU,16C_32PSU,8C_26PSU,8C_32PSU\r\n",
      "   1 8C_32PSU,8C_26PSU,16C_32PSU,16C_26PSU,16C_32PSU,8C_32PSU\r\n",
      "   2 8C_32PSU,8C_26PSU,16C_32PSU,16C_26PSU,8C_26PSU\r\n",
      "   1 8C_32PSU,8C_26PSU,16C_32PSU,16C_26PSU,8C_26PSU,16C_32PSU,8C_32PSU\r\n",
      "   1 8C_32PSU,8C_26PSU,16C_32PSU,16C_26PSU,8C_26PSU,16C_32PSU,8C_32PSU,16C_32PSU\r\n",
      "   1 8C_32PSU,8C_26PSU,16C_32PSU,16C_26PSU,8C_26PSU,8C_32PSU\r\n",
      "   4 8C_32PSU,8C_26PSU,16C_32PSU,16C_26PSU,8C_32PSU\r\n",
      "   1 8C_32PSU,8C_26PSU,16C_32PSU,16C_26PSU,8C_32PSU,16C_32PSU,8C_32PSU,8C_26PSU\r\n",
      "   1 8C_32PSU,8C_26PSU,16C_32PSU,16C_26PSU,8C_32PSU,8C_26PSU\r\n",
      "   1 8C_32PSU,8C_26PSU,16C_32PSU,8C_26PSU,16C_26PSU\r\n",
      "   1 8C_32PSU,8C_26PSU,16C_32PSU,8C_26PSU,16C_26PSU,8C_32PSU\r\n",
      "   1 8C_32PSU,8C_26PSU,16C_32PSU,8C_26PSU,8C_32PSU,16C_26PSU\r\n",
      "   1 8C_32PSU,8C_26PSU,16C_32PSU,8C_32PSU,16C_26PSU,8C_26PSU\r\n",
      "   1 8C_32PSU,8C_26PSU,8C_32PSU,16C_32PSU,8C_26PSU,16C_26PSU,16C_32PSU,8C_32PSU\r\n"
     ]
    }
   ],
   "source": [
    "!cat *psu_allc_regions_named.tsv |\\\n",
    "sort -k1,1 -k2,2n |\\\n",
    "/Users/Shared/bioinformatics/bedtools2/bin/mergeBed -c 5 -o collapse |\\\n",
    "awk -F\"\\t\" '{OFS=FS=\"\\t\"}{if(($4~/16C_26PSU/)&&($4~/16C_32PSU/)&&($4~/8C_32PSU/)&&($4~/8C_26PSU/))print $4}' |\\\n",
    "sort | uniq -c\n"
   ]
  },
  {
   "cell_type": "code",
   "execution_count": null,
   "metadata": {},
   "outputs": [],
   "source": [
    "# apply sort and collapse command, and filter for regions present in all 4 groups(awk command)"
   ]
  },
  {
   "cell_type": "code",
   "execution_count": 160,
   "metadata": {},
   "outputs": [],
   "source": [
    "!cat *psu_allc_regions_named.tsv |\\\n",
    "sort -k1,1 -k2,2n |\\\n",
    "/Users/Shared/bioinformatics/bedtools2/bin/mergeBed -c 5 -o collapse |\\\n",
    "awk -F\"\\t\" '{OFS=FS=\"\\t\"}{if(($4~/16C_26PSU/)&&($4~/16C_32PSU/)&&($4~/8C_32PSU/)&&($4~/8C_26PSU/))print $0}' \\\n",
    "> bkgrd_regions.bed"
   ]
  },
  {
   "cell_type": "code",
   "execution_count": null,
   "metadata": {},
   "outputs": [],
   "source": [
    "#preview bkgrd_regions.bed file"
   ]
  },
  {
   "cell_type": "code",
   "execution_count": 161,
   "metadata": {},
   "outputs": [
    {
     "name": "stdout",
     "output_type": "stream",
     "text": [
      "NC_001960.1\t107\t16572\t16C_26PSU,8C_26PSU,16C_32PSU,8C_32PSU\n",
      "NC_027300.1\t12783\t13772\t8C_32PSU,16C_32PSU,16C_26PSU,8C_26PSU\n",
      "NC_027300.1\t122359\t122463\t8C_32PSU,16C_26PSU,8C_26PSU,16C_32PSU\n",
      "NC_027300.1\t753119\t753536\t16C_32PSU,8C_32PSU,8C_26PSU,16C_26PSU\n",
      "NC_027300.1\t1077125\t1077634\t8C_26PSU,8C_32PSU,16C_32PSU,16C_26PSU\n",
      "NC_027300.1\t1240429\t1240497\t16C_32PSU,8C_26PSU,8C_32PSU,16C_26PSU\n",
      "NC_027300.1\t1272463\t1273369\t16C_26PSU,16C_32PSU,8C_32PSU,8C_26PSU,16C_26PSU\n",
      "NC_027300.1\t1330528\t1330631\t16C_26PSU,8C_32PSU,16C_32PSU,8C_26PSU\n",
      "NC_027300.1\t3042357\t3042635\t16C_26PSU,16C_32PSU,8C_26PSU,8C_32PSU\n",
      "NC_027300.1\t3329753\t3329914\t8C_26PSU,16C_26PSU,8C_32PSU,16C_32PSU\n",
      "NC_027328.1\t35504581\t35504632\t8C_26PSU,8C_32PSU,16C_26PSU,16C_32PSU\n",
      "NC_027328.1\t36132911\t36133179\t16C_26PSU,8C_32PSU,16C_32PSU,8C_26PSU\n",
      "NC_027328.1\t36784168\t36784273\t16C_32PSU,16C_26PSU,8C_26PSU,8C_32PSU\n",
      "NC_027328.1\t36927158\t36927501\t8C_26PSU,8C_32PSU,16C_32PSU,16C_26PSU\n",
      "NC_027328.1\t38815216\t38815830\t16C_26PSU,16C_32PSU,8C_26PSU,8C_32PSU\n",
      "NC_027328.1\t40721312\t40721886\t8C_26PSU,16C_26PSU,16C_32PSU,8C_32PSU\n",
      "NC_027328.1\t41051411\t41051824\t16C_32PSU,8C_32PSU,8C_26PSU,16C_26PSU\n",
      "NC_027328.1\t41661199\t41661720\t16C_32PSU,8C_26PSU,8C_32PSU,16C_26PSU\n",
      "NC_027328.1\t42226821\t42227139\t16C_32PSU,8C_26PSU,8C_32PSU,16C_26PSU\n",
      "NC_027328.1\t42470882\t42471799\t8C_26PSU,8C_32PSU,16C_32PSU,16C_26PSU\n",
      "    7282 bkgrd_regions.bed\n"
     ]
    }
   ],
   "source": [
    "!head bkgrd_regions.bed \n",
    "!tail bkgrd_regions.bed \n",
    "!wc -l bkgrd_regions.bed "
   ]
  },
  {
   "cell_type": "code",
   "execution_count": null,
   "metadata": {},
   "outputs": [],
   "source": [
    "### Prepare DMR regions for overlapping with features"
   ]
  },
  {
   "cell_type": "code",
   "execution_count": null,
   "metadata": {},
   "outputs": [],
   "source": [
    "#create bed file of DMRs from statistics results file"
   ]
  },
  {
   "cell_type": "code",
   "execution_count": 155,
   "metadata": {
    "scrolled": true
   },
   "outputs": [
    {
     "name": "stdout",
     "output_type": "stream",
     "text": [
      "NC_027300.1\t110815515\t110815542\tTempxSal\r\n",
      "NC_027300.1\t28471994\t28472130\tSal\r\n",
      "NC_027300.1\t38024662\t38024794\tSal\r\n",
      "NC_027300.1\t43584685\t43584708\tSal\r\n",
      "NC_027300.1\t44881038\t44881064\tSal\r\n",
      "NC_027300.1\t93503034\t93503058\tSal\r\n",
      "NC_027300.1\t94631589\t94631672\tTemp\r\n",
      "NC_027302.1\t28075544\t28075562\tSal\r\n",
      "NC_027302.1\t42753363\t42753374\tSal\r\n",
      "NC_027302.1\t49111785\t49111893\tTempxSal\r\n"
     ]
    }
   ],
   "source": [
    "!cat /Users/strigg/Documents/GitHub/Salmon_sealice/analyses/20200812_groupStats/DMR_2way_aov_summ_stats.csv |\\\n",
    "awk -F\",\" 'NR>1{if($30 !=\"none\")print $2\"\\t\"$3\"\\t\"$4\"\\t\"$30}' |\\\n",
    "head"
   ]
  },
  {
   "cell_type": "code",
   "execution_count": 156,
   "metadata": {},
   "outputs": [],
   "source": [
    "!cat /Users/strigg/Documents/GitHub/Salmon_sealice/analyses/20200812_groupStats/DMR_2way_aov_summ_stats.csv |\\\n",
    "awk -F\",\" 'NR>1{if($30 !=\"none\")print $2\"\\t\"$3\"\\t\"$4\"\\t\"$30}' \\\n",
    "> DMR.bed"
   ]
  },
  {
   "cell_type": "code",
   "execution_count": null,
   "metadata": {},
   "outputs": [],
   "source": [
    "#### Determine overlap of DMRs and background regions with features"
   ]
  },
  {
   "cell_type": "code",
   "execution_count": null,
   "metadata": {},
   "outputs": [],
   "source": [
    "# Step 1: match up DMRs to features"
   ]
  },
  {
   "cell_type": "code",
   "execution_count": 196,
   "metadata": {},
   "outputs": [
    {
     "name": "stdout",
     "output_type": "stream",
     "text": [
      "NC_027300.1\t38024662\t38024794\tSal\tNC_027300.1\t38024412\t38024928\tTE:DNA\r",
      "\r\n",
      "NC_027300.1\t43584685\t43584708\tSal\tNC_027300.1\t43571304\t43633606\tintron\r\n",
      "NC_027300.1\t43584685\t43584708\tSal\tNC_027300.1\t43231716\t43660752\tgene\r\n",
      "NC_027300.1\t43584685\t43584708\tSal\tNC_027300.1\t43231716\t43660752\tmRNA\r\n",
      "NC_027300.1\t43584685\t43584708\tSal\tNC_027300.1\t43231716\t43660752\tmRNA\r\n",
      "NC_027300.1\t43584685\t43584708\tSal\tNC_027300.1\t43231716\t43660752\tmRNA\r\n",
      "NC_027300.1\t43584685\t43584708\tSal\tNC_027300.1\t43231716\t43660752\tmRNA\r\n",
      "NC_027300.1\t43584685\t43584708\tSal\tNC_027300.1\t43231716\t43660752\tmRNA\r\n",
      "NC_027300.1\t43584685\t43584708\tSal\tNC_027300.1\t43231716\t43660752\tmRNA\r\n",
      "NC_027300.1\t43584685\t43584708\tSal\tNC_027300.1\t43231716\t43660752\tmRNA\r\n"
     ]
    }
   ],
   "source": [
    "!/Users/Shared/bioinformatics/bedtools2/bin/intersectBed \\\n",
    "-a DMR.bed \\\n",
    "-b GCF_000233375.1_ICSASG_v2_MASTER.bed \\\n",
    "-wb |\\\n",
    "head"
   ]
  },
  {
   "cell_type": "code",
   "execution_count": 197,
   "metadata": {},
   "outputs": [],
   "source": [
    "!/Users/Shared/bioinformatics/bedtools2/bin/intersectBed \\\n",
    "-a DMR.bed \\\n",
    "-b GCF_000233375.1_ICSASG_v2_MASTER.bed \\\n",
    "-wb \\\n",
    "> DMR_features.txt"
   ]
  },
  {
   "cell_type": "code",
   "execution_count": 198,
   "metadata": {},
   "outputs": [
    {
     "name": "stdout",
     "output_type": "stream",
     "text": [
      "NC_027300.1\t38024662\t38024794\tSal\tNC_027300.1\t38024412\t38024928\tTE:DNA\n",
      "NC_027300.1\t43584685\t43584708\tSal\tNC_027300.1\t43571304\t43633606\tintron\n",
      "NC_027300.1\t43584685\t43584708\tSal\tNC_027300.1\t43231716\t43660752\tgene\n",
      "NC_027300.1\t43584685\t43584708\tSal\tNC_027300.1\t43231716\t43660752\tmRNA\n",
      "NC_027300.1\t43584685\t43584708\tSal\tNC_027300.1\t43231716\t43660752\tmRNA\n",
      "NC_027300.1\t43584685\t43584708\tSal\tNC_027300.1\t43231716\t43660752\tmRNA\n",
      "NC_027300.1\t43584685\t43584708\tSal\tNC_027300.1\t43231716\t43660752\tmRNA\n",
      "NC_027300.1\t43584685\t43584708\tSal\tNC_027300.1\t43231716\t43660752\tmRNA\n",
      "NC_027300.1\t43584685\t43584708\tSal\tNC_027300.1\t43231716\t43660752\tmRNA\n",
      "NC_027300.1\t43584685\t43584708\tSal\tNC_027300.1\t43231716\t43660752\tmRNA\n",
      "     595 DMR_features.txt\n"
     ]
    }
   ],
   "source": [
    "!head DMR_features.txt\n",
    "!wc -l DMR_features.txt"
   ]
  },
  {
   "cell_type": "code",
   "execution_count": 199,
   "metadata": {},
   "outputs": [],
   "source": [
    "# Step 2: match up background regions to features"
   ]
  },
  {
   "cell_type": "code",
   "execution_count": 200,
   "metadata": {},
   "outputs": [
    {
     "name": "stdout",
     "output_type": "stream",
     "text": [
      "NC_001960.1\t1007\t1074\t16C_26PSU,8C_26PSU,16C_32PSU,8C_32PSU\tNC_001960.1\t1007\t1074\ttRNA\r\n",
      "NC_001960.1\t1007\t1074\t16C_26PSU,8C_26PSU,16C_32PSU,8C_32PSU\tNC_001960.1\t1007\t1074\texon\r\n",
      "NC_001960.1\t1075\t2020\t16C_26PSU,8C_26PSU,16C_32PSU,8C_32PSU\tNC_001960.1\t1075\t2020\texon\r\n",
      "NC_001960.1\t2021\t2092\t16C_26PSU,8C_26PSU,16C_32PSU,8C_32PSU\tNC_001960.1\t2021\t2092\ttRNA\r\n",
      "NC_001960.1\t2021\t2092\t16C_26PSU,8C_26PSU,16C_32PSU,8C_32PSU\tNC_001960.1\t2021\t2092\texon\r\n",
      "NC_001960.1\t2093\t3770\t16C_26PSU,8C_26PSU,16C_32PSU,8C_32PSU\tNC_001960.1\t2093\t3770\texon\r\n",
      "NC_001960.1\t3771\t3845\t16C_26PSU,8C_26PSU,16C_32PSU,8C_32PSU\tNC_001960.1\t3771\t3845\ttRNA\r\n",
      "NC_001960.1\t3771\t3845\t16C_26PSU,8C_26PSU,16C_32PSU,8C_32PSU\tNC_001960.1\t3771\t3845\texon\r\n",
      "NC_001960.1\t3846\t4820\t16C_26PSU,8C_26PSU,16C_32PSU,8C_32PSU\tNC_001960.1\t3846\t4820\tgene\r\n",
      "NC_001960.1\t3846\t4820\t16C_26PSU,8C_26PSU,16C_32PSU,8C_32PSU\tNC_001960.1\t3846\t4820\tCDS\r\n"
     ]
    }
   ],
   "source": [
    "!/Users/Shared/bioinformatics/bedtools2/bin/intersectBed \\\n",
    "-a bkgrd_regions.bed \\\n",
    "-b GCF_000233375.1_ICSASG_v2_MASTER.bed \\\n",
    "-wb |\\\n",
    "head"
   ]
  },
  {
   "cell_type": "code",
   "execution_count": 201,
   "metadata": {},
   "outputs": [],
   "source": [
    "!/Users/Shared/bioinformatics/bedtools2/bin/intersectBed \\\n",
    "-a bkgrd_regions.bed \\\n",
    "-b GCF_000233375.1_ICSASG_v2_MASTER.bed \\\n",
    "-wb \\\n",
    "> bkgrd_features.txt"
   ]
  },
  {
   "cell_type": "code",
   "execution_count": 202,
   "metadata": {
    "scrolled": true
   },
   "outputs": [
    {
     "name": "stdout",
     "output_type": "stream",
     "text": [
      "NC_027328.1\t41661540\t41661720\t16C_32PSU,8C_26PSU,8C_32PSU,16C_26PSU\tNC_027328.1\t41661540\t41662483\tTE:LTR\n",
      "NC_027328.1\t42226821\t42227139\t16C_32PSU,8C_26PSU,8C_32PSU,16C_26PSU\tNC_027328.1\t42226715\t42227151\tTE:LTR/Gypsy\n",
      "NC_027328.1\t42227138\t42227139\t16C_32PSU,8C_26PSU,8C_32PSU,16C_26PSU\tNC_027328.1\t42227138\t42227261\tTE:Unknown\n",
      "NC_027328.1\t42226821\t42227139\t16C_32PSU,8C_26PSU,8C_32PSU,16C_26PSU\tNC_027328.1\t42129647\t42262656\tgene\n",
      "NC_027328.1\t42226821\t42227139\t16C_32PSU,8C_26PSU,8C_32PSU,16C_26PSU\tNC_027328.1\t42129647\t42262656\tmRNA\n",
      "NC_027328.1\t42226821\t42227139\t16C_32PSU,8C_26PSU,8C_32PSU,16C_26PSU\tNC_027328.1\t42203313\t42262556\tlast_intron\n",
      "NC_027328.1\t42226821\t42227139\t16C_32PSU,8C_26PSU,8C_32PSU,16C_26PSU\tNC_027328.1\t42203313\t42262556\tintron\n",
      "NC_027328.1\t42470882\t42471188\t8C_26PSU,8C_32PSU,16C_32PSU,16C_26PSU\tNC_027328.1\t42469166\t42471188\tTE:LTR/Gypsy\n",
      "NC_027328.1\t42471186\t42471765\t8C_26PSU,8C_32PSU,16C_32PSU,16C_26PSU\tNC_027328.1\t42471186\t42471765\tTE:LTR/Gypsy\n",
      "NC_027328.1\t42471187\t42471799\t8C_26PSU,8C_32PSU,16C_32PSU,16C_26PSU\tNC_027328.1\t42471187\t42472335\tTE:LTR/Gypsy\n",
      "   34395 bkgrd_features.txt\n"
     ]
    }
   ],
   "source": [
    "!tail bkgrd_features.txt\n",
    "!wc -l bkgrd_features.txt"
   ]
  },
  {
   "cell_type": "code",
   "execution_count": 185,
   "metadata": {},
   "outputs": [],
   "source": [
    "#copy to Gannet"
   ]
  },
  {
   "cell_type": "code",
   "execution_count": 167,
   "metadata": {
    "collapsed": true
   },
   "outputs": [
    {
     "name": "stdout",
     "output_type": "stream",
     "text": [
      "building file list ... \n",
      "68 files to consider\n",
      "20200930_GenomicFeatureAnalysis/\n",
      "20200930_GenomicFeatureAnalysis/16C_26psu_1_S13_allc_regions.tsv\n",
      "     4915189 100%   43.11MB/s    0:00:00 (xfer#1, to-check=66/68)\n",
      "20200930_GenomicFeatureAnalysis/16C_26psu_1_S13_allc_regions_named.tsv\n",
      "     5377504 100%   18.06MB/s    0:00:00 (xfer#2, to-check=65/68)\n",
      "20200930_GenomicFeatureAnalysis/16C_26psu_2_S14_allc_regions.tsv\n",
      "     3055382 100%    8.12MB/s    0:00:00 (xfer#3, to-check=64/68)\n",
      "20200930_GenomicFeatureAnalysis/16C_26psu_2_S14_allc_regions_named.tsv\n",
      "     3343031 100%    6.29MB/s    0:00:00 (xfer#4, to-check=63/68)\n",
      "20200930_GenomicFeatureAnalysis/16C_26psu_3_S15_allc_regions.tsv\n",
      "      715825 100%    1.29MB/s    0:00:00 (xfer#5, to-check=62/68)\n",
      "20200930_GenomicFeatureAnalysis/16C_26psu_3_S15_allc_regions_named.tsv\n",
      "      783238 100%    1.34MB/s    0:00:00 (xfer#6, to-check=61/68)\n",
      "20200930_GenomicFeatureAnalysis/16C_26psu_4_S16_allc_regions.tsv\n",
      "     2892794 100%    3.85MB/s    0:00:00 (xfer#7, to-check=60/68)\n",
      "20200930_GenomicFeatureAnalysis/16C_26psu_4_S16_allc_regions_named.tsv\n",
      "     3165203 100%    3.59MB/s    0:00:00 (xfer#8, to-check=59/68)\n",
      "20200930_GenomicFeatureAnalysis/16C_26psu_allc_regions.tsv\n",
      "      582760 100%  657.92kB/s    0:00:00 (xfer#9, to-check=58/68)\n",
      "20200930_GenomicFeatureAnalysis/16C_26psu_allc_regions_named.tsv\n",
      "      723550 100%  751.69kB/s    0:00:00 (xfer#10, to-check=57/68)\n",
      "20200930_GenomicFeatureAnalysis/16C_32psu_1_S1_allc_regions.tsv\n",
      "     4651767 100%    3.97MB/s    0:00:01 (xfer#11, to-check=56/68)\n",
      "20200930_GenomicFeatureAnalysis/16C_32psu_1_S1_allc_regions_named.tsv\n",
      "     5089395 100%   24.64MB/s    0:00:00 (xfer#12, to-check=55/68)\n",
      "20200930_GenomicFeatureAnalysis/16C_32psu_2_S2_allc_regions.tsv\n",
      "     2870596 100%   10.03MB/s    0:00:00 (xfer#13, to-check=54/68)\n",
      "20200930_GenomicFeatureAnalysis/16C_32psu_2_S2_allc_regions_named.tsv\n",
      "     3140887 100%    8.34MB/s    0:00:00 (xfer#14, to-check=53/68)\n",
      "20200930_GenomicFeatureAnalysis/16C_32psu_3_S3_allc_regions.tsv\n",
      "     2180874 100%    4.89MB/s    0:00:00 (xfer#15, to-check=52/68)\n",
      "20200930_GenomicFeatureAnalysis/16C_32psu_3_S3_allc_regions_named.tsv\n",
      "     2386314 100%    4.36MB/s    0:00:00 (xfer#16, to-check=51/68)\n",
      "20200930_GenomicFeatureAnalysis/16C_32psu_4_S4_allc_regions.tsv\n",
      "     1763692 100%    2.89MB/s    0:00:00 (xfer#17, to-check=50/68)\n",
      "20200930_GenomicFeatureAnalysis/16C_32psu_4_S4_allc_regions_named.tsv\n",
      "     1929820 100%    2.90MB/s    0:00:00 (xfer#18, to-check=49/68)\n",
      "20200930_GenomicFeatureAnalysis/16C_32psu_allc_regions.tsv\n",
      "     1717972 100%    2.27MB/s    0:00:00 (xfer#19, to-check=48/68)\n",
      "20200930_GenomicFeatureAnalysis/16C_32psu_allc_regions_named.tsv\n",
      "     2142892 100%    2.50MB/s    0:00:00 (xfer#20, to-check=47/68)\n",
      "20200930_GenomicFeatureAnalysis/8C_26psu_1_S9_allc_regions.tsv\n",
      "     2822439 100%    2.88MB/s    0:00:00 (xfer#21, to-check=46/68)\n",
      "20200930_GenomicFeatureAnalysis/8C_26psu_1_S9_allc_regions_named.tsv\n",
      "     3088152 100%    2.87MB/s    0:00:01 (xfer#22, to-check=45/68)\n",
      "20200930_GenomicFeatureAnalysis/8C_26psu_2_S10_allc_regions.tsv\n",
      "     3499864 100%   13.68MB/s    0:00:00 (xfer#23, to-check=44/68)\n",
      "20200930_GenomicFeatureAnalysis/8C_26psu_2_S10_allc_regions_named.tsv\n",
      "     3829222 100%    7.32MB/s    0:00:00 (xfer#24, to-check=43/68)\n",
      "20200930_GenomicFeatureAnalysis/8C_26psu_3_S11_allc_regions.tsv\n",
      "     3520709 100%    4.27MB/s    0:00:00 (xfer#25, to-check=42/68)\n",
      "20200930_GenomicFeatureAnalysis/8C_26psu_3_S11_allc_regions_named.tsv\n",
      "     3851987 100%    3.87MB/s    0:00:00 (xfer#26, to-check=41/68)\n",
      "20200930_GenomicFeatureAnalysis/8C_26psu_4_S12_allc_regions.tsv\n",
      "      333936 100%  336.89kB/s    0:00:00 (xfer#27, to-check=40/68)\n",
      "20200930_GenomicFeatureAnalysis/8C_26psu_4_S12_allc_regions_named.tsv\n",
      "      365394 100%  355.41kB/s    0:00:01 (xfer#28, to-check=39/68)\n",
      "20200930_GenomicFeatureAnalysis/8C_26psu_allc_regions.tsv\n",
      "     1700590 100%   19.54MB/s    0:00:00 (xfer#29, to-check=38/68)\n",
      "20200930_GenomicFeatureAnalysis/8C_26psu_allc_regions_named.tsv\n",
      "     2089930 100%    8.82MB/s    0:00:00 (xfer#30, to-check=37/68)\n",
      "20200930_GenomicFeatureAnalysis/8C_32psu_1_S5_allc_regions.tsv\n",
      "     3177455 100%    9.50MB/s    0:00:00 (xfer#31, to-check=36/68)\n",
      "20200930_GenomicFeatureAnalysis/8C_32psu_1_S5_allc_regions_named.tsv\n",
      "     3476465 100%    7.42MB/s    0:00:00 (xfer#32, to-check=35/68)\n",
      "20200930_GenomicFeatureAnalysis/8C_32psu_2_S6_allc_regions.tsv\n",
      "     2058498 100%    3.66MB/s    0:00:00 (xfer#33, to-check=34/68)\n",
      "20200930_GenomicFeatureAnalysis/8C_32psu_2_S6_allc_regions_named.tsv\n",
      "     2252379 100%    2.95MB/s    0:00:00 (xfer#34, to-check=33/68)\n",
      "20200930_GenomicFeatureAnalysis/8C_32psu_3_S7_allc_regions.tsv\n",
      "     2902380 100%    3.35MB/s    0:00:00 (xfer#35, to-check=32/68)\n",
      "20200930_GenomicFeatureAnalysis/8C_32psu_3_S7_allc_regions_named.tsv\n",
      "     3175677 100%    3.34MB/s    0:00:00 (xfer#36, to-check=31/68)\n",
      "20200930_GenomicFeatureAnalysis/8C_32psu_4_S8_allc_regions.tsv\n",
      "     3037394 100%    2.83MB/s    0:00:01 (xfer#37, to-check=30/68)\n",
      "20200930_GenomicFeatureAnalysis/8C_32psu_4_S8_allc_regions_named.tsv\n",
      "     3323342 100%   24.96MB/s    0:00:00 (xfer#38, to-check=29/68)\n",
      "20200930_GenomicFeatureAnalysis/8C_32psu_allc_regions.tsv\n",
      "     1980036 100%   10.55MB/s    0:00:00 (xfer#39, to-check=28/68)\n",
      "20200930_GenomicFeatureAnalysis/8C_32psu_allc_regions_named.tsv\n",
      "     2419569 100%    8.74MB/s    0:00:00 (xfer#40, to-check=27/68)\n",
      "20200930_GenomicFeatureAnalysis/DMR.bed\n",
      "        4393 100%   16.19kB/s    0:00:00 (xfer#41, to-check=26/68)\n",
      "20200930_GenomicFeatureAnalysis/DMR_features.txt\n",
      "       39751 100%  136.69kB/s    0:00:00 (xfer#42, to-check=25/68)\n",
      "20200930_GenomicFeatureAnalysis/GCF_000233375.1_ICSASG_v2_CDS.bed\n",
      "    38069801 100%   20.07MB/s    0:00:01 (xfer#43, to-check=24/68)\n",
      "20200930_GenomicFeatureAnalysis/GCF_000233375.1_ICSASG_v2_MASTER.30bp.bed\n",
      "  8183169612 100%   40.78MB/s    0:03:11 (xfer#44, to-check=23/68)\n",
      "20200930_GenomicFeatureAnalysis/GCF_000233375.1_ICSASG_v2_MASTER.bed\n",
      "   235218398 100%   34.88MB/s    0:00:06 (xfer#45, to-check=22/68)\n",
      "20200930_GenomicFeatureAnalysis/GCF_000233375.1_ICSASG_v2_exon.bed\n",
      "    43563366 100%   25.30MB/s    0:00:01 (xfer#46, to-check=21/68)\n",
      "20200930_GenomicFeatureAnalysis/GCF_000233375.1_ICSASG_v2_gene.bed\n",
      "     1745612 100%    2.31MB/s    0:00:00 (xfer#47, to-check=20/68)\n",
      "20200930_GenomicFeatureAnalysis/GCF_000233375.1_ICSASG_v2_genomic.gff\n",
      "   867524410 100%   36.90MB/s    0:00:22 (xfer#48, to-check=19/68)\n",
      "20200930_GenomicFeatureAnalysis/GCF_000233375.1_ICSASG_v2_genomic_first_exon.gff\n",
      "     3267207 100%    6.76MB/s    0:00:00 (xfer#49, to-check=18/68)\n",
      "20200930_GenomicFeatureAnalysis/GCF_000233375.1_ICSASG_v2_genomic_first_exon_neg.gff\n",
      "     1635256 100%    2.71MB/s    0:00:00 (xfer#50, to-check=17/68)\n",
      "20200930_GenomicFeatureAnalysis/GCF_000233375.1_ICSASG_v2_genomic_first_exon_pos.gff\n",
      "     1631951 100%    2.50MB/s    0:00:00 (xfer#51, to-check=16/68)\n",
      "20200930_GenomicFeatureAnalysis/GCF_000233375.1_ICSASG_v2_genomic_first_intron.gff\n",
      "     2869827 100%    3.39MB/s    0:00:00 (xfer#52, to-check=15/68)\n",
      "20200930_GenomicFeatureAnalysis/GCF_000233375.1_ICSASG_v2_genomic_first_intron_neg.gff\n",
      "     1431776 100%    1.60MB/s    0:00:00 (xfer#53, to-check=14/68)\n",
      "20200930_GenomicFeatureAnalysis/GCF_000233375.1_ICSASG_v2_genomic_first_intron_pos.gff\n",
      "     1438051 100%    1.43MB/s    0:00:00 (xfer#54, to-check=13/68)\n",
      "20200930_GenomicFeatureAnalysis/GCF_000233375.1_ICSASG_v2_genomic_last_exon.gff\n",
      "     3219041 100%    2.87MB/s    0:00:01 (xfer#55, to-check=12/68)\n",
      "20200930_GenomicFeatureAnalysis/GCF_000233375.1_ICSASG_v2_genomic_last_exon_neg.gff\n",
      "     1609551 100%    8.72MB/s    0:00:00 (xfer#56, to-check=11/68)\n",
      "20200930_GenomicFeatureAnalysis/GCF_000233375.1_ICSASG_v2_genomic_last_exon_pos.gff\n",
      "     1609490 100%    3.96MB/s    0:00:00 (xfer#57, to-check=10/68)\n",
      "20200930_GenomicFeatureAnalysis/GCF_000233375.1_ICSASG_v2_genomic_last_intron.gff\n",
      "     2869838 100%    5.90MB/s    0:00:00 (xfer#58, to-check=9/68)\n",
      "20200930_GenomicFeatureAnalysis/GCF_000233375.1_ICSASG_v2_genomic_last_intron_neg.gff\n",
      "     1431709 100%    2.51MB/s    0:00:00 (xfer#59, to-check=8/68)\n",
      "20200930_GenomicFeatureAnalysis/GCF_000233375.1_ICSASG_v2_genomic_last_intron_pos.gff\n",
      "     1438129 100%    2.23MB/s    0:00:00 (xfer#60, to-check=7/68)\n",
      "20200930_GenomicFeatureAnalysis/GCF_000233375.1_ICSASG_v2_intron.bed\n"
     ]
    },
    {
     "name": "stdout",
     "output_type": "stream",
     "text": [
      "    15063618 100%   14.42MB/s    0:00:00 (xfer#61, to-check=6/68)\n",
      "20200930_GenomicFeatureAnalysis/GCF_000233375.1_ICSASG_v2_mRNA.bed\n",
      "     3144839 100%    2.79MB/s    0:00:01 (xfer#62, to-check=5/68)\n",
      "20200930_GenomicFeatureAnalysis/GCF_000233375.1_ICSASG_v2_promoter.gff\n",
      "     8907828 100%   22.84MB/s    0:00:00 (xfer#63, to-check=4/68)\n",
      "20200930_GenomicFeatureAnalysis/bkgrd_features.txt\n",
      "     3331851 100%    5.92MB/s    0:00:00 (xfer#64, to-check=3/68)\n",
      "20200930_GenomicFeatureAnalysis/bkgrd_regions.bed\n",
      "      500001 100%  795.25kB/s    0:00:00 (xfer#65, to-check=2/68)\n",
      "20200930_GenomicFeatureAnalysis/ssal_repeats_v5.1.TEannotations.noNW.bed\n",
      "   137227247 100%   30.74MB/s    0:00:04 (xfer#66, to-check=1/68)\n",
      "20200930_GenomicFeatureAnalysis/ssal_repeats_v5.1.TEannotations.noNW.gff\n",
      "   388462067 100%   36.66MB/s    0:00:10 (xfer#67, to-check=0/68)\n",
      "\n",
      "sent 10057991087 bytes  received 1500 bytes  41648002.43 bytes/sec\n",
      "total size is 10056758723  speedup is 1.00\n"
     ]
    }
   ],
   "source": [
    "!rsync --archive --verbose --progress ../20200930_GenomicFeatureAnalysis /Volumes/web/metacarcinus/Salmo_Calig/analyses/"
   ]
  },
  {
   "cell_type": "code",
   "execution_count": null,
   "metadata": {},
   "outputs": [],
   "source": [
    "#copy updated files to gannet (had to fix first and last intron files because I forgot to replace exon with intron)"
   ]
  },
  {
   "cell_type": "code",
   "execution_count": 192,
   "metadata": {
    "collapsed": true
   },
   "outputs": [
    {
     "name": "stdout",
     "output_type": "stream",
     "text": [
      "building file list ... \n",
      "68 files to consider\n",
      "20200930_GenomicFeatureAnalysis/\n",
      "20200930_GenomicFeatureAnalysis/DMR_features.txt\n",
      "       39848 100%    6.75MB/s    0:00:00 (xfer#1, to-check=25/68)\n",
      "20200930_GenomicFeatureAnalysis/GCF_000233375.1_ICSASG_v2_MASTER.bed\n",
      "   234254133 100%   41.13MB/s    0:00:05 (xfer#2, to-check=22/68)\n",
      "20200930_GenomicFeatureAnalysis/GCF_000233375.1_ICSASG_v2_genomic_first_intron.gff\n",
      "     3146271 100%    5.24MB/s    0:00:00 (xfer#3, to-check=15/68)\n",
      "20200930_GenomicFeatureAnalysis/GCF_000233375.1_ICSASG_v2_genomic_first_intron_neg.gff\n",
      "     1569716 100%    2.42MB/s    0:00:00 (xfer#4, to-check=14/68)\n",
      "20200930_GenomicFeatureAnalysis/GCF_000233375.1_ICSASG_v2_genomic_first_intron_pos.gff\n",
      "     1576555 100%    2.10MB/s    0:00:00 (xfer#5, to-check=13/68)\n",
      "20200930_GenomicFeatureAnalysis/GCF_000233375.1_ICSASG_v2_genomic_last_intron.gff\n",
      "     3100208 100%    3.31MB/s    0:00:00 (xfer#6, to-check=9/68)\n",
      "20200930_GenomicFeatureAnalysis/GCF_000233375.1_ICSASG_v2_genomic_last_intron_neg.gff\n",
      "     1546659 100%    1.57MB/s    0:00:00 (xfer#7, to-check=8/68)\n",
      "20200930_GenomicFeatureAnalysis/GCF_000233375.1_ICSASG_v2_genomic_last_intron_pos.gff\n",
      "     1553549 100%    1.51MB/s    0:00:00 (xfer#8, to-check=7/68)\n",
      "20200930_GenomicFeatureAnalysis/bkgrd_features.txt\n",
      "     3327446 100%    2.85MB/s    0:00:01 (xfer#9, to-check=3/68)\n",
      "\n",
      "sent 250147457 bytes  received 560 bytes  38484310.31 bytes/sec\n",
      "total size is 10056803778  speedup is 40.20\n"
     ]
    }
   ],
   "source": [
    "!rsync --archive --verbose --progress ../20200930_GenomicFeatureAnalysis /Volumes/web/metacarcinus/Salmo_Calig/analyses/"
   ]
  },
  {
   "cell_type": "code",
   "execution_count": null,
   "metadata": {},
   "outputs": [],
   "source": [
    "#copy updated files to gannet (had to add intron bed file to MASTER.bed)"
   ]
  },
  {
   "cell_type": "code",
   "execution_count": 203,
   "metadata": {},
   "outputs": [
    {
     "name": "stdout",
     "output_type": "stream",
     "text": [
      "building file list ... \n",
      "68 files to consider\n",
      "20200930_GenomicFeatureAnalysis/\n",
      "20200930_GenomicFeatureAnalysis/DMR_features.txt\n",
      "       42821 100%    9.59MB/s    0:00:00 (xfer#1, to-check=25/68)\n",
      "20200930_GenomicFeatureAnalysis/GCF_000233375.1_ICSASG_v2_MASTER.bed\n",
      "   249317751 100%   41.33MB/s    0:00:05 (xfer#2, to-check=22/68)\n",
      "20200930_GenomicFeatureAnalysis/bkgrd_features.txt\n",
      "     3634011 100%    3.76MB/s    0:00:00 (xfer#3, to-check=3/68)\n",
      "\n",
      "sent 253027775 bytes  received 464 bytes  38927421.38 bytes/sec\n",
      "total size is 10072176934  speedup is 39.81\n"
     ]
    }
   ],
   "source": [
    "!rsync --archive --verbose --progress ../20200930_GenomicFeatureAnalysis /Volumes/web/metacarcinus/Salmo_Calig/analyses/"
   ]
  }
 ],
 "metadata": {
  "kernelspec": {
   "display_name": "Python 3",
   "language": "python",
   "name": "python3"
  },
  "language_info": {
   "codemirror_mode": {
    "name": "ipython",
    "version": 3
   },
   "file_extension": ".py",
   "mimetype": "text/x-python",
   "name": "python",
   "nbconvert_exporter": "python",
   "pygments_lexer": "ipython3",
   "version": "3.6.8"
  }
 },
 "nbformat": 4,
 "nbformat_minor": 4
}
