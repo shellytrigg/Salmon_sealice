{
 "cells": [
  {
   "cell_type": "code",
   "execution_count": null,
   "metadata": {},
   "outputs": [],
   "source": [
    "#make new directory on gannet for the salmon project"
   ]
  },
  {
   "cell_type": "code",
   "execution_count": 1,
   "metadata": {},
   "outputs": [],
   "source": [
    "!mkdir /Volumes/web/metacarcinus/Salmo_Calig"
   ]
  },
  {
   "cell_type": "code",
   "execution_count": null,
   "metadata": {},
   "outputs": [],
   "source": [
    "#download salmon data from the following bioproject\n",
    "#https://www.ncbi.nlm.nih.gov/genome/?term=txid8030[orgn]"
   ]
  },
  {
   "cell_type": "code",
   "execution_count": 2,
   "metadata": {},
   "outputs": [
    {
     "name": "stdout",
     "output_type": "stream",
     "text": [
      "  % Total    % Received % Xferd  Average Speed   Time    Time     Time  Current\n",
      "                                 Dload  Upload   Total   Spent    Left  Speed\n",
      "100  828M  100  828M    0     0  2199k      0  0:06:25  0:06:25 --:--:-- 2109k    0  1557k      0  0:09:04  0:00:09  0:08:55 2292k  2012k      0  0:07:01  0:00:24  0:06:37 2277k157k      0  0:06:33  0:01:44  0:04:49 2099k0     0  2165k      0  0:06:31  0:02:00  0:04:31 2294k    0  2153k      0  0:06:34  0:02:17  0:04:17 2181k0  0:06:31  0:03:26  0:03:05 2284k 0  2180k      0  0:06:29  0:03:59  0:02:30 2170k   0     0  2201k      0  0:06:25  0:05:26  0:00:59 2286k    0  2201k      0  0:06:25  0:06:19  0:00:06 2264k\n"
     ]
    }
   ],
   "source": [
    "!curl ftp://ftp.ncbi.nlm.nih.gov/genomes/all/GCA/000/233/375/GCA_000233375.4_ICSASG_v2/GCA_000233375.4_ICSASG_v2_genomic.fna.gz > /Volumes/web/metacarcinus/Salmo_Calig/GCA_000233375.4_ICSASG_v2_genomic.fna.gz"
   ]
  },
  {
   "cell_type": "code",
   "execution_count": null,
   "metadata": {},
   "outputs": [],
   "source": [
    "#download feature info for the genome"
   ]
  },
  {
   "cell_type": "code",
   "execution_count": 3,
   "metadata": {},
   "outputs": [
    {
     "name": "stdout",
     "output_type": "stream",
     "text": [
      "  % Total    % Received % Xferd  Average Speed   Time    Time     Time  Current\n",
      "                                 Dload  Upload   Total   Spent    Left  Speed\n",
      "100 19.3M  100 19.3M    0     0  1739k      0  0:00:11  0:00:11 --:--:-- 2107k\n"
     ]
    }
   ],
   "source": [
    "!curl ftp://ftp.ncbi.nlm.nih.gov/genomes/all/GCA/000/233/375/GCA_000233375.3_ICSASG_v1/GCA_000233375.3_ICSASG_v1_genomic.gff.gz > /Volumes/web/metacarcinus/Salmo_Calig/GCA_000233375.3_ICSASG_v1_genomic.gff.gz"
   ]
  },
  {
   "cell_type": "code",
   "execution_count": null,
   "metadata": {},
   "outputs": [],
   "source": [
    "#organize data"
   ]
  },
  {
   "cell_type": "code",
   "execution_count": 4,
   "metadata": {},
   "outputs": [],
   "source": [
    "!mkdir /Volumes/web/metacarcinus/Salmo_Calig/GENOMES"
   ]
  },
  {
   "cell_type": "code",
   "execution_count": 5,
   "metadata": {},
   "outputs": [],
   "source": [
    "!mkdir /Volumes/web/metacarcinus/Salmo_Calig/GENOMES/v1"
   ]
  },
  {
   "cell_type": "code",
   "execution_count": 6,
   "metadata": {},
   "outputs": [],
   "source": [
    "!mkdir /Volumes/web/metacarcinus/Salmo_Calig/GENOMES/v2"
   ]
  },
  {
   "cell_type": "code",
   "execution_count": 7,
   "metadata": {},
   "outputs": [],
   "source": [
    "!mv /Volumes/web/metacarcinus/Salmo_Calig/GCA_000233375.4_ICSASG_v2_genomic.fna.gz /Volumes/web/metacarcinus/Salmo_Calig/GENOMES/v2/"
   ]
  },
  {
   "cell_type": "code",
   "execution_count": 8,
   "metadata": {},
   "outputs": [],
   "source": [
    "!mv /Volumes/web/metacarcinus/Salmo_Calig/GCA_000233375.3_ICSASG_v1_genomic.gff.gz /Volumes/web/metacarcinus/Salmo_Calig/GENOMES/v1/"
   ]
  },
  {
   "cell_type": "code",
   "execution_count": null,
   "metadata": {},
   "outputs": [],
   "source": [
    "!"
   ]
  },
  {
   "cell_type": "code",
   "execution_count": null,
   "metadata": {},
   "outputs": [],
   "source": []
  }
 ],
 "metadata": {
  "kernelspec": {
   "display_name": "Python 3",
   "language": "python",
   "name": "python3"
  },
  "language_info": {
   "codemirror_mode": {
    "name": "ipython",
    "version": 3
   },
   "file_extension": ".py",
   "mimetype": "text/x-python",
   "name": "python",
   "nbconvert_exporter": "python",
   "pygments_lexer": "ipython3",
   "version": "3.6.6"
  }
 },
 "nbformat": 4,
 "nbformat_minor": 2
}
