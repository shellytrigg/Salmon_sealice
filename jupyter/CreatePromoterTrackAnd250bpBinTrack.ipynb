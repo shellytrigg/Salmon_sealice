{
 "cells": [
  {
   "cell_type": "code",
   "execution_count": null,
   "metadata": {},
   "outputs": [],
   "source": [
    "#create promoter track"
   ]
  },
  {
   "cell_type": "code",
   "execution_count": null,
   "metadata": {},
   "outputs": [],
   "source": [
    "#first copy genome data and gff locally"
   ]
  },
  {
   "cell_type": "code",
   "execution_count": 1,
   "metadata": {},
   "outputs": [
    {
     "name": "stdout",
     "output_type": "stream",
     "text": [
      "/Users/strigg/Documents/GitHub/Salmon_sealice/data\n"
     ]
    }
   ],
   "source": [
    "cd ~/Documents/GitHub/Salmon_sealice/data"
   ]
  },
  {
   "cell_type": "code",
   "execution_count": 4,
   "metadata": {},
   "outputs": [
    {
     "name": "stdout",
     "output_type": "stream",
     "text": [
      "GCF_000233375.1_ICSASG_v2_genomic.fa\n",
      "  2240225193 100%   34.67MB/s    0:01:01 (xfer#1, to-check=1/2)\n",
      "GCF_000233375.1_ICSASG_v2_genomic.fa.fai\n",
      "        1489 100%    1.53kB/s    0:00:00 (xfer#2, to-check=0/2)\n",
      "\n",
      "sent 2240500332 bytes  received 64 bytes  35848006.34 bytes/sec\n",
      "total size is 2240226682  speedup is 1.00\n"
     ]
    }
   ],
   "source": [
    "!rsync --progress --verbose /Volumes/web/metacarcinus/Salmo_Calig/GENOMES/v2/RefSeq/chr1-29MT/GCF_000233375.1_ICSASG_v2_genomic.fa* ."
   ]
  },
  {
   "cell_type": "code",
   "execution_count": 5,
   "metadata": {},
   "outputs": [
    {
     "name": "stdout",
     "output_type": "stream",
     "text": [
      "ref_ICSASG_v2_top_level.gff3.gz\n",
      "    37706696 100%   37.62MB/s    0:00:00 (xfer#1, to-check=0/1)\n",
      "\n",
      "sent 37711408 bytes  received 42 bytes  25140966.67 bytes/sec\n",
      "total size is 37706696  speedup is 1.00\n"
     ]
    }
   ],
   "source": [
    "!rsync --progress --verbose /Volumes/web/metacarcinus/Salmo_Calig/GENOMES/v2/RefSeq/ref_ICSASG_v2_top_level.gff3.gz ."
   ]
  },
  {
   "cell_type": "code",
   "execution_count": null,
   "metadata": {},
   "outputs": [],
   "source": [
    "#unzip gff"
   ]
  },
  {
   "cell_type": "code",
   "execution_count": 7,
   "metadata": {},
   "outputs": [],
   "source": [
    "!gunzip ref_ICSASG_v2_top_level.gff3.gz"
   ]
  },
  {
   "cell_type": "code",
   "execution_count": null,
   "metadata": {},
   "outputs": [],
   "source": [
    "#create gene gff"
   ]
  },
  {
   "cell_type": "code",
   "execution_count": 8,
   "metadata": {},
   "outputs": [],
   "source": [
    "%%bash\n",
    "cat ref_ICSASG_v2_top_level.gff3 |\\\n",
    "awk '{if($3 == \"gene\")print $0}' > ref_ICSASG_v2_top_level.gene.gff3"
   ]
  },
  {
   "cell_type": "code",
   "execution_count": null,
   "metadata": {},
   "outputs": [],
   "source": [
    "#preview gff"
   ]
  },
  {
   "cell_type": "code",
   "execution_count": 12,
   "metadata": {},
   "outputs": [
    {
     "name": "stdout",
     "output_type": "stream",
     "text": [
      "NC_027300.1\tGnomon\tgene\t5501\t62139\t.\t-\t.\tID=gene0;Dbxref=GeneID:106560212;Name=LOC106560212;gbkey=Gene;gene=LOC106560212;gene_biotype=protein_coding\r\n",
      "NC_027300.1\tGnomon\tgene\t160437\t198815\t.\t-\t.\tID=gene1;Dbxref=GeneID:106607996;Name=LOC106607996;gbkey=Gene;gene=LOC106607996;gene_biotype=protein_coding;partial=true;start_range=.,160437\r\n",
      "NC_027300.1\tGnomon\tgene\t228330\t231471\t.\t-\t.\tID=gene2;Dbxref=GeneID:106601976;Name=LOC106601976;end_range=231471,.;gbkey=Gene;gene=LOC106601976;gene_biotype=protein_coding;partial=true\r\n",
      "NC_027300.1\tGnomon\tgene\t296031\t297111\t.\t-\t.\tID=gene3;Dbxref=GeneID:106560213;Name=LOC106560213;gbkey=Gene;gene=LOC106560213;gene_biotype=protein_coding;partial=true;start_range=.,296031\r\n",
      "NC_027300.1\tGnomon\tgene\t306942\t310878\t.\t+\t.\tID=gene4;Dbxref=GeneID:106566220;Name=LOC106566220;gbkey=Gene;gene=LOC106566220;gene_biotype=protein_coding\r\n",
      "NC_027300.1\tGnomon\tgene\t331369\t346454\t.\t-\t.\tID=gene5;Dbxref=GeneID:106571988;Name=LOC106571988;end_range=346454,.;gbkey=Gene;gene=LOC106571988;gene_biotype=protein_coding;partial=true\r\n",
      "NC_027300.1\tGnomon\tgene\t355675\t362950\t.\t+\t.\tID=gene6;Dbxref=GeneID:106578259;Name=LOC106578259;end_range=362950,.;gbkey=Gene;gene=LOC106578259;gene_biotype=protein_coding;partial=true\r\n",
      "NC_027300.1\tGnomon\tgene\t401623\t416794\t.\t+\t.\tID=gene7;Dbxref=GeneID:106583877;Name=LOC106583877;gbkey=Gene;gene=LOC106583877;gene_biotype=protein_coding\r\n",
      "NC_027300.1\tGnomon\tgene\t431662\t432555\t.\t-\t.\tID=gene8;Dbxref=GeneID:106589664;Name=LOC106589664;gbkey=Gene;gene=LOC106589664;gene_biotype=protein_coding\r\n",
      "NC_027300.1\tGnomon\tgene\t449112\t490663\t.\t+\t.\tID=gene9;Dbxref=GeneID:106596642;Name=LOC106596642;end_range=490663,.;gbkey=Gene;gene=LOC106596642;gene_biotype=protein_coding;partial=true\r\n"
     ]
    }
   ],
   "source": [
    "!head ref_ICSASG_v2_top_level.gene.gff3"
   ]
  },
  {
   "cell_type": "code",
   "execution_count": null,
   "metadata": {},
   "outputs": [],
   "source": [
    "#create promoter track"
   ]
  },
  {
   "cell_type": "code",
   "execution_count": 17,
   "metadata": {},
   "outputs": [
    {
     "name": "stdout",
     "output_type": "stream",
     "text": [
      "NC_027300.1\tGnomon\tgene\t62140\t64639\t.\t-\t.\tID=gene0;Dbxref=GeneID:106560212;Name=LOC106560212;gbkey=Gene;gene=LOC106560212;gene_biotype=protein_coding\n",
      "NC_027300.1\tGnomon\tgene\t198816\t201315\t.\t-\t.\tID=gene1;Dbxref=GeneID:106607996;Name=LOC106607996;gbkey=Gene;gene=LOC106607996;gene_biotype=protein_coding;partial=true;start_range=.,160437\n",
      "NC_027300.1\tGnomon\tgene\t231472\t233971\t.\t-\t.\tID=gene2;Dbxref=GeneID:106601976;Name=LOC106601976;end_range=231471,.;gbkey=Gene;gene=LOC106601976;gene_biotype=protein_coding;partial=true\n",
      "NC_027300.1\tGnomon\tgene\t297112\t299611\t.\t-\t.\tID=gene3;Dbxref=GeneID:106560213;Name=LOC106560213;gbkey=Gene;gene=LOC106560213;gene_biotype=protein_coding;partial=true;start_range=.,296031\n",
      "NC_027300.1\tGnomon\tgene\t304442\t306941\t.\t+\t.\tID=gene4;Dbxref=GeneID:106566220;Name=LOC106566220;gbkey=Gene;gene=LOC106566220;gene_biotype=protein_coding\n",
      "NC_027300.1\tGnomon\tgene\t346455\t348954\t.\t-\t.\tID=gene5;Dbxref=GeneID:106571988;Name=LOC106571988;end_range=346454,.;gbkey=Gene;gene=LOC106571988;gene_biotype=protein_coding;partial=true\n",
      "NC_027300.1\tGnomon\tgene\t353175\t355674\t.\t+\t.\tID=gene6;Dbxref=GeneID:106578259;Name=LOC106578259;end_range=362950,.;gbkey=Gene;gene=LOC106578259;gene_biotype=protein_coding;partial=true\n",
      "NC_027300.1\tGnomon\tgene\t399123\t401622\t.\t+\t.\tID=gene7;Dbxref=GeneID:106583877;Name=LOC106583877;gbkey=Gene;gene=LOC106583877;gene_biotype=protein_coding\n",
      "NC_027300.1\tGnomon\tgene\t432556\t435055\t.\t-\t.\tID=gene8;Dbxref=GeneID:106589664;Name=LOC106589664;gbkey=Gene;gene=LOC106589664;gene_biotype=protein_coding\n",
      "NC_027300.1\tGnomon\tgene\t446612\t449111\t.\t+\t.\tID=gene9;Dbxref=GeneID:106596642;Name=LOC106596642;end_range=490663,.;gbkey=Gene;gene=LOC106596642;gene_biotype=protein_coding;partial=true\n"
     ]
    }
   ],
   "source": [
    "%%bash\n",
    "/Users/Shared/bioinformatics/bedtools2/bin/flankBed \\\n",
    "-i ref_ICSASG_v2_top_level.gene.gff3 \\\n",
    "-g GCF_000233375.1_ICSASG_v2_genomic.fa.fai \\\n",
    "-l 2500 \\\n",
    "-r 0 -s |\\\n",
    "head"
   ]
  },
  {
   "cell_type": "code",
   "execution_count": null,
   "metadata": {},
   "outputs": [],
   "source": [
    "#looks good so save as bed"
   ]
  },
  {
   "cell_type": "code",
   "execution_count": 18,
   "metadata": {},
   "outputs": [
    {
     "name": "stdout",
     "output_type": "stream",
     "text": [
      "NC_027300.1\t62140\t64639\tLOC106560212\n",
      "NC_027300.1\t198816\t201315\tLOC106607996\n",
      "NC_027300.1\t231472\t233971\tLOC106601976\n",
      "NC_027300.1\t297112\t299611\tLOC106560213\n",
      "NC_027300.1\t304442\t306941\tLOC106566220\n",
      "NC_027300.1\t346455\t348954\tLOC106571988\n",
      "NC_027300.1\t353175\t355674\tLOC106578259\n",
      "NC_027300.1\t399123\t401622\tLOC106583877\n",
      "NC_027300.1\t432556\t435055\tLOC106589664\n",
      "NC_027300.1\t446612\t449111\tLOC106596642\n"
     ]
    }
   ],
   "source": [
    "%%bash\n",
    "/Users/Shared/bioinformatics/bedtools2/bin/flankBed \\\n",
    "-i ref_ICSASG_v2_top_level.gene.gff3 \\\n",
    "-g GCF_000233375.1_ICSASG_v2_genomic.fa.fai \\\n",
    "-l 2500 \\\n",
    "-r 0 -s |\\\n",
    "awk -F\"\\t\" '{sub(/.*;gene=/,\"\",$9);sub(/;gene_biotype.*/,\"\",$9);print $1\"\\t\"$4\"\\t\"$5\"\\t\"$9}'|\\\n",
    "head"
   ]
  },
  {
   "cell_type": "code",
   "execution_count": 19,
   "metadata": {},
   "outputs": [],
   "source": [
    "%%bash\n",
    "/Users/Shared/bioinformatics/bedtools2/bin/flankBed \\\n",
    "-i ref_ICSASG_v2_top_level.gene.gff3 \\\n",
    "-g GCF_000233375.1_ICSASG_v2_genomic.fa.fai \\\n",
    "-l 2500 \\\n",
    "-r 0 -s |\\\n",
    "awk -F\"\\t\" '{sub(/.*;gene=/,\"\",$9);sub(/;gene_biotype.*/,\"\",$9);print $1\"\\t\"$4\"\\t\"$5\"\\t\"$9}'|\\\n",
    "> ref_ICSASG_v2_top_level.GenePromoter.bed"
   ]
  },
  {
   "cell_type": "code",
   "execution_count": null,
   "metadata": {},
   "outputs": [],
   "source": [
    "#create bed file of genome binned into 250 bp windows"
   ]
  },
  {
   "cell_type": "code",
   "execution_count": 20,
   "metadata": {},
   "outputs": [
    {
     "name": "stdout",
     "output_type": "stream",
     "text": [
      "NC_027300.1\t0\t250\n",
      "NC_027300.1\t250\t500\n",
      "NC_027300.1\t500\t750\n",
      "NC_027300.1\t750\t1000\n",
      "NC_027300.1\t1000\t1250\n",
      "NC_027300.1\t1250\t1500\n",
      "NC_027300.1\t1500\t1750\n",
      "NC_027300.1\t1750\t2000\n",
      "NC_027300.1\t2000\t2250\n",
      "NC_027300.1\t2250\t2500\n"
     ]
    }
   ],
   "source": [
    "%%bash\n",
    "/Users/Shared/bioinformatics/bedtools2/bin/windowMaker \\\n",
    "-g GCF_000233375.1_ICSASG_v2_genomic.fa.fai \\\n",
    "-w 250 |\\\n",
    "head\n"
   ]
  },
  {
   "cell_type": "code",
   "execution_count": null,
   "metadata": {},
   "outputs": [],
   "source": [
    "#looks good so save output to file"
   ]
  },
  {
   "cell_type": "code",
   "execution_count": 21,
   "metadata": {},
   "outputs": [],
   "source": [
    "%%bash\n",
    "/Users/Shared/bioinformatics/bedtools2/bin/windowMaker \\\n",
    "-g GCF_000233375.1_ICSASG_v2_genomic.fa.fai \\\n",
    "-w 250 \\\n",
    "> GCF_000233375.1_ICSASG_v2_genomic.250bp.bed"
   ]
  },
  {
   "cell_type": "code",
   "execution_count": 22,
   "metadata": {},
   "outputs": [
    {
     "name": "stdout",
     "output_type": "stream",
     "text": [
      "DEG_salinity.bed\r\n",
      "DEG_salinity_NCid.bed\r\n",
      "DEG_salinity_gff.txt\r\n",
      "DEG_temperature.bed\r\n",
      "DEG_temperature_NCid.bed\r\n",
      "GCF_000233375.1_ICSASG_v2_genomic.250bp.bed\r\n",
      "\u001b[31mGCF_000233375.1_ICSASG_v2_genomic.fa\u001b[m\u001b[m\r\n",
      "\u001b[31mGCF_000233375.1_ICSASG_v2_genomic.fa.fai\u001b[m\u001b[m\r\n",
      "List of DE genes.xlsx\r\n",
      "TempXSal_DMR_tuk0.05_anno.txt\r\n",
      "allc_5x_0.75Xgrp_CpG.txt\r\n",
      "allc_5x_CpG.txt\r\n",
      "chr_5x0.75grp_cov.txt\r\n",
      "chr_name_conversion.txt\r\n",
      "ref_ICSASG_v2_top_level.GenePromoter.bed\r\n",
      "ref_ICSASG_v2_top_level.gene.gff3\r\n",
      "\u001b[31mref_ICSASG_v2_top_level.gff3\u001b[m\u001b[m\r\n"
     ]
    }
   ],
   "source": [
    "!ls"
   ]
  },
  {
   "cell_type": "code",
   "execution_count": null,
   "metadata": {},
   "outputs": [],
   "source": [
    "#copy new bed files to gannet"
   ]
  },
  {
   "cell_type": "code",
   "execution_count": 24,
   "metadata": {},
   "outputs": [
    {
     "name": "stdout",
     "output_type": "stream",
     "text": [
      "ref_ICSASG_v2_top_level.GenePromoter.bed\r\n",
      "           0 100%    0.00kB/s    0:00:00 (xfer#1, to-check=0/1)\r\n",
      "\r\n",
      "sent 117 bytes  received 42 bytes  318.00 bytes/sec\r\n",
      "total size is 0  speedup is 0.00\r\n"
     ]
    }
   ],
   "source": [
    "!rsync --progress --verbose ref_ICSASG_v2_top_level.GenePromoter.bed \\\n",
    "/Volumes/web/metacarcinus/Salmo_Calig/GENOMES/v2/RefSeq/chr1-29MT"
   ]
  },
  {
   "cell_type": "code",
   "execution_count": 25,
   "metadata": {},
   "outputs": [
    {
     "name": "stdout",
     "output_type": "stream",
     "text": [
      "GCF_000233375.1_ICSASG_v2_genomic.250bp.bed\n",
      "   267277748 100%   43.40MB/s    0:00:05 (xfer#1, to-check=0/1)\n",
      "\n",
      "sent 267310496 bytes  received 42 bytes  41124698.15 bytes/sec\n",
      "total size is 267277748  speedup is 1.00\n"
     ]
    }
   ],
   "source": [
    "!rsync --progress --verbose GCF_000233375.1_ICSASG_v2_genomic.250bp.bed \\\n",
    "/Volumes/web/metacarcinus/Salmo_Calig/GENOMES/v2/RefSeq/chr1-29MT"
   ]
  },
  {
   "cell_type": "code",
   "execution_count": null,
   "metadata": {},
   "outputs": [],
   "source": []
  }
 ],
 "metadata": {
  "kernelspec": {
   "display_name": "Python 3",
   "language": "python",
   "name": "python3"
  },
  "language_info": {
   "codemirror_mode": {
    "name": "ipython",
    "version": 3
   },
   "file_extension": ".py",
   "mimetype": "text/x-python",
   "name": "python",
   "nbconvert_exporter": "python",
   "pygments_lexer": "ipython3",
   "version": "3.6.8"
  }
 },
 "nbformat": 4,
 "nbformat_minor": 2
}
