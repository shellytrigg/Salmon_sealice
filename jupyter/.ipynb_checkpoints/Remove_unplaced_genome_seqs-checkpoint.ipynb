{
 "cells": [
  {
   "cell_type": "code",
   "execution_count": null,
   "metadata": {},
   "outputs": [],
   "source": [
    "#realized there is ~750 Mb of sequence that is not chrom. 1-29 or MT DNA\n",
    "#see bamqc report here :  https://gannet.fish.washington.edu/metacarcinus/Salmo_Calig/analyses/20190814_Salmo/16C_26psu_1_S13.sorted_stats/qualimapReport.html\n",
    "#need to remove unplaced genome sequences, build the bismark genome again, and re-align\n",
    "#I will do this by parsing the genome fasta for the 29 chromosomes + MT DNA"
   ]
  },
  {
   "cell_type": "code",
   "execution_count": 2,
   "metadata": {},
   "outputs": [
    {
     "name": "stdout",
     "output_type": "stream",
     "text": [
      "/Volumes/web/metacarcinus/Salmo_Calig/GENOMES/v2/RefSeq\n"
     ]
    }
   ],
   "source": [
    "cd /Volumes/web/metacarcinus/Salmo_Calig/GENOMES/v2/RefSeq/"
   ]
  },
  {
   "cell_type": "code",
   "execution_count": null,
   "metadata": {},
   "outputs": [],
   "source": [
    "#look at a few fasta file sequence names"
   ]
  },
  {
   "cell_type": "code",
   "execution_count": 3,
   "metadata": {},
   "outputs": [
    {
     "name": "stdout",
     "output_type": "stream",
     "text": [
      ">NC_027300.1 Salmo salar isolate Sally breed double haploid chromosome ssa01, ICSASG_v2, whole genome shotgun sequence\n",
      ">NC_027301.1 Salmo salar isolate Sally breed double haploid chromosome ssa02, ICSASG_v2, whole genome shotgun sequence\n",
      ">NC_027302.1 Salmo salar isolate Sally breed double haploid chromosome ssa03, ICSASG_v2, whole genome shotgun sequence\n",
      ">NC_027303.1 Salmo salar isolate Sally breed double haploid chromosome ssa04, ICSASG_v2, whole genome shotgun sequence\n",
      ">NC_027304.1 Salmo salar isolate Sally breed double haploid chromosome ssa05, ICSASG_v2, whole genome shotgun sequence\n",
      ">NC_027305.1 Salmo salar isolate Sally breed double haploid chromosome ssa06, ICSASG_v2, whole genome shotgun sequence\n",
      ">NC_027306.1 Salmo salar isolate Sally breed double haploid chromosome ssa07, ICSASG_v2, whole genome shotgun sequence\n",
      ">NC_027307.1 Salmo salar isolate Sally breed double haploid chromosome ssa08, ICSASG_v2, whole genome shotgun sequence\n",
      ">NC_027308.1 Salmo salar isolate Sally breed double haploid chromosome ssa09, ICSASG_v2, whole genome shotgun sequence\n",
      ">NC_027309.1 Salmo salar isolate Sally breed double haploid chromosome ssa10, ICSASG_v2, whole genome shotgun sequence\n",
      ">NC_027310.1 Salmo salar isolate Sally breed double haploid chromosome ssa11, ICSASG_v2, whole genome shotgun sequence\n",
      ">NC_027311.1 Salmo salar isolate Sally breed double haploid chromosome ssa12, ICSASG_v2, whole genome shotgun sequence\n",
      ">NC_027312.1 Salmo salar isolate Sally breed double haploid chromosome ssa13, ICSASG_v2, whole genome shotgun sequence\n",
      ">NC_027313.1 Salmo salar isolate Sally breed double haploid chromosome ssa14, ICSASG_v2, whole genome shotgun sequence\n",
      ">NC_027314.1 Salmo salar isolate Sally breed double haploid chromosome ssa15, ICSASG_v2, whole genome shotgun sequence\n",
      ">NC_027315.1 Salmo salar isolate Sally breed double haploid chromosome ssa16, ICSASG_v2, whole genome shotgun sequence\n",
      ">NC_027316.1 Salmo salar isolate Sally breed double haploid chromosome ssa17, ICSASG_v2, whole genome shotgun sequence\n",
      ">NC_027317.1 Salmo salar isolate Sally breed double haploid chromosome ssa18, ICSASG_v2, whole genome shotgun sequence\n",
      ">NC_027318.1 Salmo salar isolate Sally breed double haploid chromosome ssa19, ICSASG_v2, whole genome shotgun sequence\n",
      ">NC_027319.1 Salmo salar isolate Sally breed double haploid chromosome ssa20, ICSASG_v2, whole genome shotgun sequence\n",
      ">NC_027320.1 Salmo salar isolate Sally breed double haploid chromosome ssa21, ICSASG_v2, whole genome shotgun sequence\n",
      ">NC_027321.1 Salmo salar isolate Sally breed double haploid chromosome ssa22, ICSASG_v2, whole genome shotgun sequence\n",
      ">NC_027322.1 Salmo salar isolate Sally breed double haploid chromosome ssa23, ICSASG_v2, whole genome shotgun sequence\n",
      ">NC_027323.1 Salmo salar isolate Sally breed double haploid chromosome ssa24, ICSASG_v2, whole genome shotgun sequence\n",
      ">NC_027324.1 Salmo salar isolate Sally breed double haploid chromosome ssa25, ICSASG_v2, whole genome shotgun sequence\n",
      ">NC_027325.1 Salmo salar isolate Sally breed double haploid chromosome ssa26, ICSASG_v2, whole genome shotgun sequence\n",
      ">NC_027326.1 Salmo salar isolate Sally breed double haploid chromosome ssa27, ICSASG_v2, whole genome shotgun sequence\n",
      ">NC_027327.1 Salmo salar isolate Sally breed double haploid chromosome ssa28, ICSASG_v2, whole genome shotgun sequence\n",
      ">NC_027328.1 Salmo salar isolate Sally breed double haploid chromosome ssa29, ICSASG_v2, whole genome shotgun sequence\n",
      ">NW_012341867.1 Salmo salar isolate Sally breed double haploid unplaced genomic scaffold, ICSASG_v2 scf_ccf1000001140_0-0_0_0, whole genome shotgun sequence\n",
      ">NW_012341873.1 Salmo salar isolate Sally breed double haploid unplaced genomic scaffold, ICSASG_v2 scf_ccf1000001300_0-0_0_0, whole genome shotgun sequence\n",
      ">NW_012397676.1 Salmo salar isolate Sally breed double haploid unplaced genomic scaffold, ICSASG_v2 scf_jcf1000000004_0_0, whole genome shotgun sequence\n",
      ">NW_012520740.1 Salmo salar isolate Sally breed double haploid unplaced genomic scaffold, ICSASG_v2 scf_jcf1000000005_0_0, whole genome shotgun sequence\n",
      ">NW_012533698.1 Salmo salar isolate Sally breed double haploid unplaced genomic scaffold, ICSASG_v2 scf_jcf1000000010_0_0, whole genome shotgun sequence\n",
      ">NW_012527290.1 Salmo salar isolate Sally breed double haploid unplaced genomic scaffold, ICSASG_v2 scf_jcf1000000014_0_0, whole genome shotgun sequence\n",
      ">NW_012539745.1 Salmo salar isolate Sally breed double haploid unplaced genomic scaffold, ICSASG_v2 scf_jcf1000000017_0_0, whole genome shotgun sequence\n",
      ">NW_012553565.1 Salmo salar isolate Sally breed double haploid unplaced genomic scaffold, ICSASG_v2 scf_jcf1000000026_0_0, whole genome shotgun sequence\n",
      ">NW_012447123.1 Salmo salar isolate Sally breed double haploid unplaced genomic scaffold, ICSASG_v2 scf_jcf1000000027_0_0, whole genome shotgun sequence\n",
      ">NW_012433467.1 Salmo salar isolate Sally breed double haploid unplaced genomic scaffold, ICSASG_v2 scf_jcf1000000031_0_0, whole genome shotgun sequence\n",
      ">NW_012355069.1 Salmo salar isolate Sally breed double haploid unplaced genomic scaffold, ICSASG_v2 scf_jcf1000000040_0_0, whole genome shotgun sequence\n",
      "awk: write error on /dev/stdout\n",
      " input record number 28012412, file GCF_000233375.1_ICSASG_v2_genomic.fna\n",
      " source line number 1\n"
     ]
    }
   ],
   "source": [
    "!awk '{if($1~/>/)print $0}' GCF_000233375.1_ICSASG_v2_genomic.fna | head -40"
   ]
  },
  {
   "cell_type": "code",
   "execution_count": null,
   "metadata": {},
   "outputs": [],
   "source": [
    "#preview fasta file format"
   ]
  },
  {
   "cell_type": "code",
   "execution_count": 4,
   "metadata": {},
   "outputs": [
    {
     "name": "stdout",
     "output_type": "stream",
     "text": [
      ">NC_027300.1 Salmo salar isolate Sally breed double haploid chromosome ssa01, ICSASG_v2, whole genome shotgun sequence\r\n",
      "CGGACCTACACAGAGCacaacaccaccagccacatacacacccccaccccaaccaattaacacccccccaagtcaaccat\r\n",
      "gcccacacaCAATTTAGGCCCCttcagatcagacctatgcccctccttCCCACCCCATGCACCCCCGAAAAAAAGGGCCT\r\n",
      "CAACATGGAAGACACACAtacgcccaggccgtgagcagccaaacaggcccaacccccactctgacactagcccaagccaa\r\n",
      "tggcatgtaccagatgctcagcaggctctgctcacacttactggcctgaATCCAAACCACACGACttacaacattggaca\r\n",
      "ctttatgaaACACAAaaccttcactatctcatcctggaatatccaaggcctgaggtcatctgcctttggcctaaagggca\r\n",
      "ggaacctggacttcaacaAAGAAATCaggaatacagacattgtcaaccTACACGAaaaatggtatagaggagacggaccc\r\n",
      "actggtttcccTTGTAGGTTACagggagctggtagtcccatccaccaaactaccaggtgtgaaacaggaaagagactcag\r\n",
      "ggggtatgctcatttgatatagagcagacctaaaccacaatcaaaacaggaacattttacatttggctagaaattaaaaa\r\n",
      "ggaaatgatcttaacAGAAATTCAAATTtgtctcaacagagaaaaatgtcctcctgtgtgctatctatatccccccacta\r\n"
     ]
    }
   ],
   "source": [
    "!head GCF_000233375.1_ICSASG_v2_genomic.fna"
   ]
  },
  {
   "cell_type": "code",
   "execution_count": null,
   "metadata": {},
   "outputs": [],
   "source": [
    "#since fasta file has each sequence split on multiple lines,\n",
    "#these will need to be collapsed to one line before parsing "
   ]
  },
  {
   "cell_type": "code",
   "execution_count": null,
   "metadata": {},
   "outputs": [],
   "source": [
    "#created atext file with RefSeq sequence name for chromosomes 1-29 + MT chromosome \n",
    "#by copying names from https://www.ncbi.nlm.nih.gov/assembly/GCF_000233375.1/#/def \n",
    "#into vim and saved it as ssa_chr1-29_MT.txt "
   ]
  },
  {
   "cell_type": "code",
   "execution_count": 6,
   "metadata": {},
   "outputs": [
    {
     "name": "stdout",
     "output_type": "stream",
     "text": [
      "NC_027300.1\r\n",
      "NC_027301.1\r\n",
      "NC_027302.1\r\n",
      "NC_027303.1\r\n",
      "NC_027304.1\r\n",
      "NC_027305.1\r\n",
      "NC_027306.1\r\n",
      "NC_027307.1\r\n",
      "NC_027308.1\r\n",
      "NC_027309.1\r\n",
      "NC_027310.1\r\n",
      "NC_027311.1\r\n",
      "NC_027312.1\r\n",
      "NC_027313.1\r\n",
      "NC_027314.1\r\n",
      "NC_027315.1\r\n",
      "NC_027316.1\r\n",
      "NC_027317.1\r\n",
      "NC_027318.1\r\n",
      "NC_027319.1\r\n",
      "NC_027320.1\r\n",
      "NC_027321.1\r\n",
      "NC_027322.1\r\n",
      "NC_027323.1\r\n",
      "NC_027324.1\r\n",
      "NC_027325.1\r\n",
      "NC_027326.1\r\n",
      "NC_027327.1\r\n",
      "NC_027328.1\r\n",
      "NC_001960.1\r\n"
     ]
    }
   ],
   "source": [
    "!cat ssa_chr1-29_MT.txt"
   ]
  },
  {
   "cell_type": "code",
   "execution_count": null,
   "metadata": {},
   "outputs": [],
   "source": [
    "#first determine field coordinates in sequence names \n",
    "## from genome fasta file that will be parsed using awk substring"
   ]
  },
  {
   "cell_type": "code",
   "execution_count": 11,
   "metadata": {},
   "outputs": [
    {
     "name": "stdout",
     "output_type": "stream",
     "text": [
      "NC_027300.1\n",
      "NC_027301.1\n",
      "NC_027302.1\n",
      "NC_027303.1\n",
      "NC_027304.1\n",
      "NC_027305.1\n",
      "NC_027306.1\n",
      "NC_027307.1\n",
      "NC_027308.1\n",
      "NC_027309.1\n",
      "awk: write error on /dev/stdout\n",
      " input record number 28120085, file GCF_000233375.1_ICSASG_v2_genomic.fna\n",
      " source line number 1\n"
     ]
    }
   ],
   "source": [
    "!awk '{if($1~/>/)print substr($1,2,11)}' GCF_000233375.1_ICSASG_v2_genomic.fna | head"
   ]
  },
  {
   "cell_type": "code",
   "execution_count": null,
   "metadata": {},
   "outputs": [],
   "source": [
    "#find a test fasta to run practice code on\n",
    "#copied and pasted test fasta from here: http://www.cbs.dtu.dk/services/NetGene2/fasta.php\n",
    "#saved it as test.fasta"
   ]
  },
  {
   "cell_type": "code",
   "execution_count": null,
   "metadata": {},
   "outputs": [],
   "source": [
    "#First add unique characters to beginning and end of lines containing >\n",
    "#These will later be replaced with newlines"
   ]
  },
  {
   "cell_type": "code",
   "execution_count": 16,
   "metadata": {},
   "outputs": [
    {
     "name": "stdout",
     "output_type": "stream",
     "text": [
      "@>HSBGPG Human gene for bone gla protein (BGP)&\r\n",
      "GGCAGATTCCCCCTAGACCCGCCCGCACCATGGTCAGGCATGCCCCTCCTCATCGCTGGGCACAGCCCAGAGGGT\r\n",
      "ATAAACAGTGCTGGAGGCTGGCGGGGCAGGCCAGCTGAGTCCTGAGCAGCAGCCCAGCGCAGCCACCGAGACACC\r\n",
      "ATGAGAGCCCTCACACTCCTCGCCCTATTGGCCCTGGCCGCACTTTGCATCGCTGGCCAGGCAGGTGAGTGCCCC\r\n",
      "CACCTCCCCTCAGGCCGCATTGCAGTGGGGGCTGAGAGGAGGAAGCACCATGGCCCACCTCTTCTCACCCCTTTG\r\n",
      "GCTGGCAGTCCCTTTGCAGTCTAACCACCTTGTTGCAGGCTCAATCCATTTGCCCCAGCTCTGCCCTTGCAGAGG\r\n",
      "GAGAGGAGGGAAGAGCAAGCTGCCCGAGACGCAGGGGAAGGAGGATGAGGGCCCTGGGGATGAGCTGGGGTGAAC\r\n",
      "CAGGCTCCCTTTCCTTTGCAGGTGCGAAGCCCAGCGGTGCAGAGTCCAGCAAAGGTGCAGGTATGAGGATGGACC\r\n",
      "TGATGGGTTCCTGGACCCTCCCCTCTCACCCTGGTCCCTCAGTCTCATTCCCCCACTCCTGCCACCTCCTGTCTG\r\n",
      "GCCATCAGGAAGGCCAGCCTGCTCCCCACCTGATCCTCCCAAACCCAGAGCCACCTGATGCCTGCCCCTCTGCTC\r\n"
     ]
    }
   ],
   "source": [
    "!awk '{if($1~/>/)print \"@\"$0\"&\";else print $0}' test.fasta | \\\n",
    "head"
   ]
  },
  {
   "cell_type": "code",
   "execution_count": null,
   "metadata": {},
   "outputs": [],
   "source": [
    "#next remove all new lines in the file so it's just one big line"
   ]
  },
  {
   "cell_type": "code",
   "execution_count": 17,
   "metadata": {},
   "outputs": [
    {
     "name": "stdout",
     "output_type": "stream",
     "text": [
      "@>HSBGPG Human gene for bone gla protein (BGP)&GGCAGATTCCCCCTAGACCCGCCCGCACCATGGTCAGGCATGCCCCTCCTCATCGCTGGGCACAGCCCAGAGGGTATAAACAGTGCTGGAGGCTGGCGGGGCAGGCCAGCTGAGTCCTGAGCAGCAGCCCAGCGCAGCCACCGAGACACCATGAGAGCCCTCACACTCCTCGCCCTATTGGCCCTGGCCGCACTTTGCATCGCTGGCCAGGCAGGTGAGTGCCCCCACCTCCCCTCAGGCCGCATTGCAGTGGGGGCTGAGAGGAGGAAGCACCATGGCCCACCTCTTCTCACCCCTTTGGCTGGCAGTCCCTTTGCAGTCTAACCACCTTGTTGCAGGCTCAATCCATTTGCCCCAGCTCTGCCCTTGCAGAGGGAGAGGAGGGAAGAGCAAGCTGCCCGAGACGCAGGGGAAGGAGGATGAGGGCCCTGGGGATGAGCTGGGGTGAACCAGGCTCCCTTTCCTTTGCAGGTGCGAAGCCCAGCGGTGCAGAGTCCAGCAAAGGTGCAGGTATGAGGATGGACCTGATGGGTTCCTGGACCCTCCCCTCTCACCCTGGTCCCTCAGTCTCATTCCCCCACTCCTGCCACCTCCTGTCTGGCCATCAGGAAGGCCAGCCTGCTCCCCACCTGATCCTCCCAAACCCAGAGCCACCTGATGCCTGCCCCTCTGCTCCACAGCCTTTGTGTCCAAGCAGGAGGGCAGCGAGGTAGTGAAGAGACCCAGGCGCTACCTGTATCAATGGCTGGGGTGAGAGAAAAGGCAGAGCTGGGCCAAGGCCCTGCCTCTCCGGGATGGTCTGTGGGGGAGCTGCAGCAGGGAGTGGCCTCTCTGGGTTGTGGTGGGGGTACAGGCAGCCTGCCCTGGTGGGCACCCTGGAGCCCCATGTGTAGGGAGAGGAGGGATGGGCATTTTGCACGGGGGCTGATGCCACCACGTCGGGTGTCTCAGAGCCCCAGTCCCCTACCCGGATCCCCTGGAGCCCAGGAGGGAGGTGTGTGAGCTCAATCCGGACTGTGACGAGTTGGCTGACCACATCGGCTTTCAGGAGGCCTATCGGCGCTTCTACGGCCCGGTCTAGGGTGTCGCTCTGCTGGCCTGGCCGGCAACCCCAGTTCTGCTCCTCTCCAGGCACCCTTCTTTCCTCTTCCCCTTGCCCTTGCCCTGACCTCCCAGCCCTATGGATGTGGGGTCCCCATCATCCCAGCTGCTCCCAAATAAACTCCAGAAG@>HSGLTH1 Human theta 1-globin gene&CCACTGCACTCACCGCACCCGGCCAATTTTTGTGTTTTTAGTAGAGACTAAATACCATATAGTGAACACCTAAGACGGGGGGCCTTGGATCCAGGGCGATTCAGAGGGCCCCGGTCGGAGCTGTCGGAGATTGAGCGCGCGCGGTCCCGGGATCTCCGACGAGGCCCTGGACCCCCGGGCGGCGAAGCTGCGGCGCGGCGCCCCCTGGAGGCCGCGGGACCCCTGGCCGGTCCGCGCAGGCGCAGCGGGGTCGCAGGGCGCGGCGGGTTCCAGCGCGGGGATGGCGCTGTCCGCGGAGGACCGGGCGCTGGTGCGCGCCCTGTGGAAGAAGCTGGGCAGCAACGTCGGCGTCTACACGACAGAGGCCCTGGAAAGGTGCGGCAGGCTGGGCGCCCCCGCCCCCAGGGGCCCTCCCTCCCCAAGCCCCCCGGACGCGCCTCACCCACGTTCCTCTCGCAGGACCTTCCTGGCTTTCCCCGCCACGAAGACCTACTTCTCCCACCTGGACCTGAGCCCCGGCTCCTCACAAGTCAGAGCCCACGGCCAGAAGGTGGCGGACGCGCTGAGCCTCGCCGTGGAGCGCCTGGACGACCTACCCCACGCGCTGTCCGCGCTGAGCCACCTGCACGCGTGCCAGCTGCGAGTGGACCCGGCCAGCTTCCAGGTGAGCGGCTGCCGTGCTGGGCCCCTGTCCCCGGGAGGGCCCCGGCGGGGTGGGTGCGGGGGGCGTGCGGGGCGGGTGCAGGCGAGTGAGCCTTGAGCGCTCGCCGCAGCTCCTGGGCCACTGCCTGCTGGTAACCCTCGCCCGGCACTACCCCGGAGACTTCAGCCCCGCGCTGCAGGCGTCGCTGGACAAGTTCCTGAGCCACGTTATCTCGGCGCTGGTTTCCGAGTACCGCTGAACTGTGGGTGGGTGGCCGCGGGATCCCCAGGCGACCTTCCCCGTGTTTGAGTAAAGCCTCTCCCAGGAGCAGCCTTCTTGCCGTGCTCTCTCGAGGTCAGGACGCGAGAGGAAGGCGC"
     ]
    }
   ],
   "source": [
    "!awk '{if($1~/>/)print \"@\"$0\"&\";else print $0}' test.fasta | \\\n",
    "tr -d '\\n' |\\\n",
    "head"
   ]
  },
  {
   "cell_type": "code",
   "execution_count": null,
   "metadata": {},
   "outputs": [],
   "source": [
    "#next separate chromosomes by substituting newline for each \"@\""
   ]
  },
  {
   "cell_type": "code",
   "execution_count": 18,
   "metadata": {},
   "outputs": [
    {
     "name": "stdout",
     "output_type": "stream",
     "text": [
      "\r\n",
      ">HSBGPG Human gene for bone gla protein (BGP)&GGCAGATTCCCCCTAGACCCGCCCGCACCATGGTCAGGCATGCCCCTCCTCATCGCTGGGCACAGCCCAGAGGGTATAAACAGTGCTGGAGGCTGGCGGGGCAGGCCAGCTGAGTCCTGAGCAGCAGCCCAGCGCAGCCACCGAGACACCATGAGAGCCCTCACACTCCTCGCCCTATTGGCCCTGGCCGCACTTTGCATCGCTGGCCAGGCAGGTGAGTGCCCCCACCTCCCCTCAGGCCGCATTGCAGTGGGGGCTGAGAGGAGGAAGCACCATGGCCCACCTCTTCTCACCCCTTTGGCTGGCAGTCCCTTTGCAGTCTAACCACCTTGTTGCAGGCTCAATCCATTTGCCCCAGCTCTGCCCTTGCAGAGGGAGAGGAGGGAAGAGCAAGCTGCCCGAGACGCAGGGGAAGGAGGATGAGGGCCCTGGGGATGAGCTGGGGTGAACCAGGCTCCCTTTCCTTTGCAGGTGCGAAGCCCAGCGGTGCAGAGTCCAGCAAAGGTGCAGGTATGAGGATGGACCTGATGGGTTCCTGGACCCTCCCCTCTCACCCTGGTCCCTCAGTCTCATTCCCCCACTCCTGCCACCTCCTGTCTGGCCATCAGGAAGGCCAGCCTGCTCCCCACCTGATCCTCCCAAACCCAGAGCCACCTGATGCCTGCCCCTCTGCTCCACAGCCTTTGTGTCCAAGCAGGAGGGCAGCGAGGTAGTGAAGAGACCCAGGCGCTACCTGTATCAATGGCTGGGGTGAGAGAAAAGGCAGAGCTGGGCCAAGGCCCTGCCTCTCCGGGATGGTCTGTGGGGGAGCTGCAGCAGGGAGTGGCCTCTCTGGGTTGTGGTGGGGGTACAGGCAGCCTGCCCTGGTGGGCACCCTGGAGCCCCATGTGTAGGGAGAGGAGGGATGGGCATTTTGCACGGGGGCTGATGCCACCACGTCGGGTGTCTCAGAGCCCCAGTCCCCTACCCGGATCCCCTGGAGCCCAGGAGGGAGGTGTGTGAGCTCAATCCGGACTGTGACGAGTTGGCTGACCACATCGGCTTTCAGGAGGCCTATCGGCGCTTCTACGGCCCGGTCTAGGGTGTCGCTCTGCTGGCCTGGCCGGCAACCCCAGTTCTGCTCCTCTCCAGGCACCCTTCTTTCCTCTTCCCCTTGCCCTTGCCCTGACCTCCCAGCCCTATGGATGTGGGGTCCCCATCATCCCAGCTGCTCCCAAATAAACTCCAGAAG\r\n",
      ">HSGLTH1 Human theta 1-globin gene&CCACTGCACTCACCGCACCCGGCCAATTTTTGTGTTTTTAGTAGAGACTAAATACCATATAGTGAACACCTAAGACGGGGGGCCTTGGATCCAGGGCGATTCAGAGGGCCCCGGTCGGAGCTGTCGGAGATTGAGCGCGCGCGGTCCCGGGATCTCCGACGAGGCCCTGGACCCCCGGGCGGCGAAGCTGCGGCGCGGCGCCCCCTGGAGGCCGCGGGACCCCTGGCCGGTCCGCGCAGGCGCAGCGGGGTCGCAGGGCGCGGCGGGTTCCAGCGCGGGGATGGCGCTGTCCGCGGAGGACCGGGCGCTGGTGCGCGCCCTGTGGAAGAAGCTGGGCAGCAACGTCGGCGTCTACACGACAGAGGCCCTGGAAAGGTGCGGCAGGCTGGGCGCCCCCGCCCCCAGGGGCCCTCCCTCCCCAAGCCCCCCGGACGCGCCTCACCCACGTTCCTCTCGCAGGACCTTCCTGGCTTTCCCCGCCACGAAGACCTACTTCTCCCACCTGGACCTGAGCCCCGGCTCCTCACAAGTCAGAGCCCACGGCCAGAAGGTGGCGGACGCGCTGAGCCTCGCCGTGGAGCGCCTGGACGACCTACCCCACGCGCTGTCCGCGCTGAGCCACCTGCACGCGTGCCAGCTGCGAGTGGACCCGGCCAGCTTCCAGGTGAGCGGCTGCCGTGCTGGGCCCCTGTCCCCGGGAGGGCCCCGGCGGGGTGGGTGCGGGGGGCGTGCGGGGCGGGTGCAGGCGAGTGAGCCTTGAGCGCTCGCCGCAGCTCCTGGGCCACTGCCTGCTGGTAACCCTCGCCCGGCACTACCCCGGAGACTTCAGCCCCGCGCTGCAGGCGTCGCTGGACAAGTTCCTGAGCCACGTTATCTCGGCGCTGGTTTCCGAGTACCGCTGAACTGTGGGTGGGTGGCCGCGGGATCCCCAGGCGACCTTCCCCGTGTTTGAGTAAAGCCTCTCCCAGGAGCAGCCTTCTTGCCGTGCTCTCTCGAGGTCAGGACGCGAGAGGAAGGCGC"
     ]
    }
   ],
   "source": [
    "!awk '{if($1~/>/)print \"@\"$0\"&\";else print $0}' test.fasta | \\\n",
    "tr -d '\\n' |\\\n",
    "tr '@' '\\n' | \\\n",
    "head"
   ]
  },
  {
   "cell_type": "code",
   "execution_count": 21,
   "metadata": {},
   "outputs": [],
   "source": [
    "#now each chromosome + its sequence is on a separate line. \n",
    "#These lines are ready to be parsed.\n",
    "#Parsing will be done by creating an awk array with ssa_chr1-29_MT.txt and parsing \n",
    "# GCF_000233375.1_ICSASG_v2_genomic.fna in the field determined above\n",
    "#    substr($1,2,11)\n",
    "#After parsing, chromosome + sequence can be separated out onto different lines by\n",
    "#substituting \"&\" for newline"
   ]
  },
  {
   "cell_type": "code",
   "execution_count": 19,
   "metadata": {},
   "outputs": [
    {
     "name": "stdout",
     "output_type": "stream",
     "text": [
      "\r\n",
      ">HSBGPG Human gene for bone gla protein (BGP)\r\n",
      "GGCAGATTCCCCCTAGACCCGCCCGCACCATGGTCAGGCATGCCCCTCCTCATCGCTGGGCACAGCCCAGAGGGTATAAACAGTGCTGGAGGCTGGCGGGGCAGGCCAGCTGAGTCCTGAGCAGCAGCCCAGCGCAGCCACCGAGACACCATGAGAGCCCTCACACTCCTCGCCCTATTGGCCCTGGCCGCACTTTGCATCGCTGGCCAGGCAGGTGAGTGCCCCCACCTCCCCTCAGGCCGCATTGCAGTGGGGGCTGAGAGGAGGAAGCACCATGGCCCACCTCTTCTCACCCCTTTGGCTGGCAGTCCCTTTGCAGTCTAACCACCTTGTTGCAGGCTCAATCCATTTGCCCCAGCTCTGCCCTTGCAGAGGGAGAGGAGGGAAGAGCAAGCTGCCCGAGACGCAGGGGAAGGAGGATGAGGGCCCTGGGGATGAGCTGGGGTGAACCAGGCTCCCTTTCCTTTGCAGGTGCGAAGCCCAGCGGTGCAGAGTCCAGCAAAGGTGCAGGTATGAGGATGGACCTGATGGGTTCCTGGACCCTCCCCTCTCACCCTGGTCCCTCAGTCTCATTCCCCCACTCCTGCCACCTCCTGTCTGGCCATCAGGAAGGCCAGCCTGCTCCCCACCTGATCCTCCCAAACCCAGAGCCACCTGATGCCTGCCCCTCTGCTCCACAGCCTTTGTGTCCAAGCAGGAGGGCAGCGAGGTAGTGAAGAGACCCAGGCGCTACCTGTATCAATGGCTGGGGTGAGAGAAAAGGCAGAGCTGGGCCAAGGCCCTGCCTCTCCGGGATGGTCTGTGGGGGAGCTGCAGCAGGGAGTGGCCTCTCTGGGTTGTGGTGGGGGTACAGGCAGCCTGCCCTGGTGGGCACCCTGGAGCCCCATGTGTAGGGAGAGGAGGGATGGGCATTTTGCACGGGGGCTGATGCCACCACGTCGGGTGTCTCAGAGCCCCAGTCCCCTACCCGGATCCCCTGGAGCCCAGGAGGGAGGTGTGTGAGCTCAATCCGGACTGTGACGAGTTGGCTGACCACATCGGCTTTCAGGAGGCCTATCGGCGCTTCTACGGCCCGGTCTAGGGTGTCGCTCTGCTGGCCTGGCCGGCAACCCCAGTTCTGCTCCTCTCCAGGCACCCTTCTTTCCTCTTCCCCTTGCCCTTGCCCTGACCTCCCAGCCCTATGGATGTGGGGTCCCCATCATCCCAGCTGCTCCCAAATAAACTCCAGAAG\r\n",
      ">HSGLTH1 Human theta 1-globin gene\r\n",
      "CCACTGCACTCACCGCACCCGGCCAATTTTTGTGTTTTTAGTAGAGACTAAATACCATATAGTGAACACCTAAGACGGGGGGCCTTGGATCCAGGGCGATTCAGAGGGCCCCGGTCGGAGCTGTCGGAGATTGAGCGCGCGCGGTCCCGGGATCTCCGACGAGGCCCTGGACCCCCGGGCGGCGAAGCTGCGGCGCGGCGCCCCCTGGAGGCCGCGGGACCCCTGGCCGGTCCGCGCAGGCGCAGCGGGGTCGCAGGGCGCGGCGGGTTCCAGCGCGGGGATGGCGCTGTCCGCGGAGGACCGGGCGCTGGTGCGCGCCCTGTGGAAGAAGCTGGGCAGCAACGTCGGCGTCTACACGACAGAGGCCCTGGAAAGGTGCGGCAGGCTGGGCGCCCCCGCCCCCAGGGGCCCTCCCTCCCCAAGCCCCCCGGACGCGCCTCACCCACGTTCCTCTCGCAGGACCTTCCTGGCTTTCCCCGCCACGAAGACCTACTTCTCCCACCTGGACCTGAGCCCCGGCTCCTCACAAGTCAGAGCCCACGGCCAGAAGGTGGCGGACGCGCTGAGCCTCGCCGTGGAGCGCCTGGACGACCTACCCCACGCGCTGTCCGCGCTGAGCCACCTGCACGCGTGCCAGCTGCGAGTGGACCCGGCCAGCTTCCAGGTGAGCGGCTGCCGTGCTGGGCCCCTGTCCCCGGGAGGGCCCCGGCGGGGTGGGTGCGGGGGGCGTGCGGGGCGGGTGCAGGCGAGTGAGCCTTGAGCGCTCGCCGCAGCTCCTGGGCCACTGCCTGCTGGTAACCCTCGCCCGGCACTACCCCGGAGACTTCAGCCCCGCGCTGCAGGCGTCGCTGGACAAGTTCCTGAGCCACGTTATCTCGGCGCTGGTTTCCGAGTACCGCTGAACTGTGGGTGGGTGGCCGCGGGATCCCCAGGCGACCTTCCCCGTGTTTGAGTAAAGCCTCTCCCAGGAGCAGCCTTCTTGCCGTGCTCTCTCGAGGTCAGGACGCGAGAGGAAGGCGC"
     ]
    }
   ],
   "source": [
    "!awk '{if($1~/>/)print \"@\"$0\"&\";else print $0}' test.fasta | \\\n",
    "tr -d '\\n' |\\\n",
    "tr '@' '\\n' | \\\n",
    "tr '&' '\\n' | \\\n",
    "head"
   ]
  },
  {
   "cell_type": "code",
   "execution_count": null,
   "metadata": {},
   "outputs": [],
   "source": [
    "#next practice on real genome file"
   ]
  },
  {
   "cell_type": "code",
   "execution_count": 24,
   "metadata": {},
   "outputs": [
    {
     "name": "stdout",
     "output_type": "stream",
     "text": [
      "\n",
      "NC_027300.1\n",
      "NC_027301.1\n",
      "NC_027302.1\n",
      "NC_027303.1\n",
      "NC_027304.1\n",
      "NC_027305.1\n",
      "NC_027306.1\n",
      "NC_027307.1\n",
      "NC_027308.1\n",
      "awk: write error on /dev/stdout\n",
      " input record number 2732, file \n",
      " source line number 1\n",
      "^C\n"
     ]
    }
   ],
   "source": [
    "!awk '{if($1~/>/)print \"@\"$0\"&\";else print $0}' GCF_000233375.1_ICSASG_v2_genomic.fna | \\\n",
    "tr -d '\\n' |\\\n",
    "tr '@' '\\n' | \\\n",
    "awk '{print substr($1,2,11)}' |\\\n",
    "head"
   ]
  },
  {
   "cell_type": "code",
   "execution_count": null,
   "metadata": {},
   "outputs": [],
   "source": [
    "#above code seems to be behaving. So print out the first 5 lines as a test"
   ]
  },
  {
   "cell_type": "code",
   "execution_count": 30,
   "metadata": {},
   "outputs": [],
   "source": [
    "%%bash\n",
    "awk '{if($1~/>/)print \"@\"$0\"&\";else print $0}' GCF_000233375.1_ICSASG_v2_genomic.fna | \\\n",
    "tr -d '\\n' |\\\n",
    "tr '@' '\\n' | \\\n",
    "head -5 \\\n",
    "> test_salmon.fa"
   ]
  },
  {
   "cell_type": "code",
   "execution_count": null,
   "metadata": {},
   "outputs": [],
   "source": [
    "#preview the file with the list of chromosomes we want"
   ]
  },
  {
   "cell_type": "code",
   "execution_count": 31,
   "metadata": {},
   "outputs": [
    {
     "name": "stdout",
     "output_type": "stream",
     "text": [
      "NC_027300.1\r\n",
      "NC_027301.1\r\n",
      "NC_027302.1\r\n",
      "NC_027303.1\r\n",
      "NC_027304.1\r\n",
      "NC_027305.1\r\n",
      "NC_027306.1\r\n",
      "NC_027307.1\r\n",
      "NC_027308.1\r\n",
      "NC_027309.1\r\n"
     ]
    }
   ],
   "source": [
    "!head ssa_chr1-29_MT.txt | awk '{print $1}'"
   ]
  },
  {
   "cell_type": "code",
   "execution_count": null,
   "metadata": {},
   "outputs": [],
   "source": [
    "#Test awk parser command on test_salmon.fa file"
   ]
  },
  {
   "cell_type": "code",
   "execution_count": 32,
   "metadata": {},
   "outputs": [],
   "source": [
    "!awk 'NR==FNR{a[$1]=$1;next}(substr($1,2,11) in a){print $0}' \\\n",
    "ssa_chr1-29_MT.txt test_salmon.fa \\\n",
    "> test.output.fa\n"
   ]
  },
  {
   "cell_type": "code",
   "execution_count": null,
   "metadata": {},
   "outputs": [],
   "source": [
    "#check how many chromosomes are in the output"
   ]
  },
  {
   "cell_type": "code",
   "execution_count": 33,
   "metadata": {},
   "outputs": [
    {
     "name": "stdout",
     "output_type": "stream",
     "text": [
      ">NC_027300.1\n",
      ">NC_027301.1\n",
      ">NC_027302.1\n",
      ">NC_027303.1\n"
     ]
    }
   ],
   "source": [
    "!awk '{print $1}' test.output.fa"
   ]
  },
  {
   "cell_type": "code",
   "execution_count": null,
   "metadata": {},
   "outputs": [],
   "source": [
    "#above code confirms code is working correctly. In my test above\n",
    "#I printed the first 5 lines of output when generating test_salmon.fa\n",
    "#Four chromosomes are output because the first line in test_salmon.fa is\n",
    "# actually a \"\\n\" because I replaced all \"@\" with \"\\n\"\n",
    "\n",
    "#next confirm the last part of the code works"
   ]
  },
  {
   "cell_type": "code",
   "execution_count": 36,
   "metadata": {},
   "outputs": [],
   "source": [
    "!awk 'NR==FNR{a[$1]=$1;next}(substr($1,2,11) in a){print $0}' \\\n",
    "ssa_chr1-29_MT.txt test_salmon.fa | \\\n",
    "tr '&' '\\n' > test.output_newlines.fa"
   ]
  },
  {
   "cell_type": "code",
   "execution_count": null,
   "metadata": {},
   "outputs": [],
   "source": [
    "#count the number of lines in the output to confirm it worked"
   ]
  },
  {
   "cell_type": "code",
   "execution_count": 38,
   "metadata": {},
   "outputs": [
    {
     "name": "stdout",
     "output_type": "stream",
     "text": [
      "       8 test.output_newlines.fa\r\n"
     ]
    }
   ],
   "source": [
    "!wc -l test.output_newlines.fa"
   ]
  },
  {
   "cell_type": "code",
   "execution_count": null,
   "metadata": {},
   "outputs": [],
   "source": [
    "#it worked; there are now 4 chromosome names and 4 chromosome sequences on their own lines \n",
    "#now apply code to whole file"
   ]
  },
  {
   "cell_type": "code",
   "execution_count": 39,
   "metadata": {},
   "outputs": [],
   "source": [
    "%%bash\n",
    "awk '{if($1~/>/)print \"@\"$0\"&\";else print $0}' GCF_000233375.1_ICSASG_v2_genomic.fna | \\\n",
    "tr -d '\\n' |\\\n",
    "tr '@' '\\n' | \\\n",
    "awk 'NR==FNR{a[$1]=$1;next}(substr($1,2,11) in a){print $0}' \\\n",
    "ssa_chr1-29_MT.txt - | \\\n",
    "tr '&' '\\n' > GCF_000233375.1_ICSASG_v2_genomic.fa"
   ]
  },
  {
   "cell_type": "code",
   "execution_count": null,
   "metadata": {},
   "outputs": [],
   "source": [
    "#now check parsing was done correctly"
   ]
  },
  {
   "cell_type": "code",
   "execution_count": 40,
   "metadata": {},
   "outputs": [
    {
     "name": "stdout",
     "output_type": "stream",
     "text": [
      ">NC_027300.1 Salmo salar isolate Sally breed double haploid chromosome ssa01, ICSASG_v2, whole genome shotgun sequence\n",
      ">NC_027301.1 Salmo salar isolate Sally breed double haploid chromosome ssa02, ICSASG_v2, whole genome shotgun sequence\n",
      ">NC_027302.1 Salmo salar isolate Sally breed double haploid chromosome ssa03, ICSASG_v2, whole genome shotgun sequence\n",
      ">NC_027303.1 Salmo salar isolate Sally breed double haploid chromosome ssa04, ICSASG_v2, whole genome shotgun sequence\n",
      ">NC_027304.1 Salmo salar isolate Sally breed double haploid chromosome ssa05, ICSASG_v2, whole genome shotgun sequence\n",
      ">NC_027305.1 Salmo salar isolate Sally breed double haploid chromosome ssa06, ICSASG_v2, whole genome shotgun sequence\n",
      ">NC_027306.1 Salmo salar isolate Sally breed double haploid chromosome ssa07, ICSASG_v2, whole genome shotgun sequence\n",
      ">NC_027307.1 Salmo salar isolate Sally breed double haploid chromosome ssa08, ICSASG_v2, whole genome shotgun sequence\n",
      ">NC_027308.1 Salmo salar isolate Sally breed double haploid chromosome ssa09, ICSASG_v2, whole genome shotgun sequence\n",
      ">NC_027309.1 Salmo salar isolate Sally breed double haploid chromosome ssa10, ICSASG_v2, whole genome shotgun sequence\n",
      ">NC_027310.1 Salmo salar isolate Sally breed double haploid chromosome ssa11, ICSASG_v2, whole genome shotgun sequence\n",
      ">NC_027311.1 Salmo salar isolate Sally breed double haploid chromosome ssa12, ICSASG_v2, whole genome shotgun sequence\n",
      ">NC_027312.1 Salmo salar isolate Sally breed double haploid chromosome ssa13, ICSASG_v2, whole genome shotgun sequence\n",
      ">NC_027313.1 Salmo salar isolate Sally breed double haploid chromosome ssa14, ICSASG_v2, whole genome shotgun sequence\n",
      ">NC_027314.1 Salmo salar isolate Sally breed double haploid chromosome ssa15, ICSASG_v2, whole genome shotgun sequence\n",
      ">NC_027315.1 Salmo salar isolate Sally breed double haploid chromosome ssa16, ICSASG_v2, whole genome shotgun sequence\n",
      ">NC_027316.1 Salmo salar isolate Sally breed double haploid chromosome ssa17, ICSASG_v2, whole genome shotgun sequence\n",
      ">NC_027317.1 Salmo salar isolate Sally breed double haploid chromosome ssa18, ICSASG_v2, whole genome shotgun sequence\n",
      ">NC_027318.1 Salmo salar isolate Sally breed double haploid chromosome ssa19, ICSASG_v2, whole genome shotgun sequence\n",
      ">NC_027319.1 Salmo salar isolate Sally breed double haploid chromosome ssa20, ICSASG_v2, whole genome shotgun sequence\n",
      ">NC_027320.1 Salmo salar isolate Sally breed double haploid chromosome ssa21, ICSASG_v2, whole genome shotgun sequence\n",
      ">NC_027321.1 Salmo salar isolate Sally breed double haploid chromosome ssa22, ICSASG_v2, whole genome shotgun sequence\n",
      ">NC_027322.1 Salmo salar isolate Sally breed double haploid chromosome ssa23, ICSASG_v2, whole genome shotgun sequence\n",
      ">NC_027323.1 Salmo salar isolate Sally breed double haploid chromosome ssa24, ICSASG_v2, whole genome shotgun sequence\n",
      ">NC_027324.1 Salmo salar isolate Sally breed double haploid chromosome ssa25, ICSASG_v2, whole genome shotgun sequence\n",
      ">NC_027325.1 Salmo salar isolate Sally breed double haploid chromosome ssa26, ICSASG_v2, whole genome shotgun sequence\n",
      ">NC_027326.1 Salmo salar isolate Sally breed double haploid chromosome ssa27, ICSASG_v2, whole genome shotgun sequence\n",
      ">NC_027327.1 Salmo salar isolate Sally breed double haploid chromosome ssa28, ICSASG_v2, whole genome shotgun sequence\n",
      ">NC_027328.1 Salmo salar isolate Sally breed double haploid chromosome ssa29, ICSASG_v2, whole genome shotgun sequence\n",
      ">NC_001960.1 Salmo salar mitochondrion, complete genome\n"
     ]
    }
   ],
   "source": [
    "!awk '{if($1~/>/)print $0}' GCF_000233375.1_ICSASG_v2_genomic.fa"
   ]
  },
  {
   "cell_type": "code",
   "execution_count": 41,
   "metadata": {},
   "outputs": [
    {
     "name": "stdout",
     "output_type": "stream",
     "text": [
      "      30\r\n"
     ]
    }
   ],
   "source": [
    "!awk '{if($1~/>/)print $0}' GCF_000233375.1_ICSASG_v2_genomic.fa | wc -l"
   ]
  },
  {
   "cell_type": "code",
   "execution_count": 42,
   "metadata": {},
   "outputs": [
    {
     "name": "stdout",
     "output_type": "stream",
     "text": [
      "      60 GCF_000233375.1_ICSASG_v2_genomic.fa\r\n"
     ]
    }
   ],
   "source": [
    "!wc -l GCF_000233375.1_ICSASG_v2_genomic.fa"
   ]
  },
  {
   "cell_type": "code",
   "execution_count": null,
   "metadata": {},
   "outputs": [],
   "source": [
    "#everything looks good so copy to mox"
   ]
  },
  {
   "cell_type": "code",
   "execution_count": null,
   "metadata": {},
   "outputs": [],
   "source": [
    "#output from copying from Ostrich to mox:\n",
    "#(base) [strigg@mox2 chr1-29MT]$ pwd\n",
    "#/gscratch/srlab/strigg/data/Ssalar/GENOMES/chr1-29MT\n",
    "#(base) [strigg@mox2 chr1-29MT]$ scp strigg@ostrich.fish.washington.edu:/Volumes/web/metacarcinus/Salmo_Calig/GENOMES/v2/RefSeq/GCF_000233375.1_ICSASG_v2_genomic.fa .\n",
    "#Password:\n",
    "#GCF_000233375.1_ICSASG_v2_genomic.fa                                                                               100% 2136MB  40.6MB/s   00:52    \n"
   ]
  }
 ],
 "metadata": {
  "kernelspec": {
   "display_name": "Python 3",
   "language": "python",
   "name": "python3"
  },
  "language_info": {
   "codemirror_mode": {
    "name": "ipython",
    "version": 3
   },
   "file_extension": ".py",
   "mimetype": "text/x-python",
   "name": "python",
   "nbconvert_exporter": "python",
   "pygments_lexer": "ipython3",
   "version": "3.6.8"
  }
 },
 "nbformat": 4,
 "nbformat_minor": 2
}
