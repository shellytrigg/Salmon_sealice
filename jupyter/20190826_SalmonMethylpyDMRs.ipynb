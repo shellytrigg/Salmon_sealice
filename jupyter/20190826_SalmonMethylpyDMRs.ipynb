{
 "cells": [
  {
   "cell_type": "code",
   "execution_count": null,
   "metadata": {},
   "outputs": [],
   "source": [
    "#################################################################################################################\n",
    "################### STEP 1:  run methylpy call-methylation-state on bismark alignments ##########################\n",
    "#################################################################################################################\n",
    "\n",
    "##NOT REQUIRING MIN COVERAGE AT THIS STEP BECAUSE DATA IS STILL STRANDED\n",
    "\n",
    "#create allc files for bismark alignments\n"
   ]
  },
  {
   "cell_type": "code",
   "execution_count": 3,
   "metadata": {},
   "outputs": [
    {
     "name": "stdout",
     "output_type": "stream",
     "text": [
      "Process is interrupted.\n"
     ]
    }
   ],
   "source": [
    "%%bash\n",
    "find /Volumes/web/metacarcinus/Salmo_Calig/analyses/20190814_Salmo/*.sorted.bam \\\n",
    "| xargs basename -s .sorted.bam | xargs -I{} methylpy call-methylation-state \\\n",
    "--input-file /Volumes/web/metacarcinus/Salmo_Calig/analyses/20190814_Salmo/{}.sorted.bam \\\n",
    "--paired-end TRUE \\\n",
    "--path-to-output /Volumes/web/metacarcinus/Salmo_Calig/analyses/20190823_Salmo \\\n",
    "--sample {} \\\n",
    "--ref-fasta /Volumes/web/metacarcinus/Salmo_Calig/GENOMES/v2/RefSeq/GCF_000233375.1_ICSASG_v2_genomic.fa \\\n",
    "--num-procs 8 "
   ]
  },
  {
   "cell_type": "code",
   "execution_count": null,
   "metadata": {},
   "outputs": [],
   "source": [
    "#################################################################################################################\n",
    "############################################ STEP 3:  Find DMRs  ################################################\n",
    "#################################################################################################################\n",
    "\n",
    "# For all samples\n",
    "\n"
   ]
  },
  {
   "cell_type": "code",
   "execution_count": null,
   "metadata": {},
   "outputs": [],
   "source": [
    "%%bash\n",
    "\n",
    "methylpy DMRfind \\\n",
    "--allc-files /Volumes/web/metacarcinus/Salmo_Calig/analyses/20190823_Salmo/allc_16C_26psu_1_S13.tsv.gz \\\n",
    "/Volumes/web/metacarcinus/Salmo_Calig/analyses/20190823_Salmo/allc_16C_26psu_2_S14.tsv.gz \\\n",
    "/Volumes/web/metacarcinus/Salmo_Calig/analyses/20190823_Salmo/allc_16C_26psu_3_S15.tsv.gz \\\n",
    "/Volumes/web/metacarcinus/Salmo_Calig/analyses/20190823_Salmo/allc_16C_26psu_4_S16.tsv.gz \\\n",
    "/Volumes/web/metacarcinus/Salmo_Calig/analyses/20190823_Salmo/allc_16C_32psu_1_S1.tsv.gz \\\n",
    "/Volumes/web/metacarcinus/Salmo_Calig/analyses/20190823_Salmo/allc_16C_32psu_2_S2.tsv.gz \\\n",
    "/Volumes/web/metacarcinus/Salmo_Calig/analyses/20190823_Salmo/allc_16C_32psu_3_S3.tsv.gz \\\n",
    "/Volumes/web/metacarcinus/Salmo_Calig/analyses/20190823_Salmo/allc_16C_32psu_4_S4.tsv.gz \\\n",
    "/Volumes/web/metacarcinus/Salmo_Calig/analyses/20190823_Salmo/allc_8C_26psu_1_S9.tsv.gz \\\n",
    "/Volumes/web/metacarcinus/Salmo_Calig/analyses/20190823_Salmo/allc_8C_26psu_2_S10.tsv.gz \\\n",
    "/Volumes/web/metacarcinus/Salmo_Calig/analyses/20190823_Salmo/allc_8C_26psu_3_S11.tsv.gz \\\n",
    "/Volumes/web/metacarcinus/Salmo_Calig/analyses/20190823_Salmo/allc_8C_26psu_4_S12.tsv.gz \\\n",
    "/Volumes/web/metacarcinus/Salmo_Calig/analyses/20190823_Salmo/allc_8C_32psu_1_S5.tsv.gz \\\n",
    "/Volumes/web/metacarcinus/Salmo_Calig/analyses/20190823_Salmo/allc_8C_32psu_2_S6.tsv.gz \\\n",
    "/Volumes/web/metacarcinus/Salmo_Calig/analyses/20190823_Salmo/allc_8C_32psu_3_S7.tsv.gz \\\n",
    "/Volumes/web/metacarcinus/Salmo_Calig/analyses/20190823_Salmo/allc_8C_32psu_4_S8.tsv.gz \\\n",
    "/Volumes/web/metacarcinus/Salmo_Calig/analyses/20190823_Salmo/allc_CTRL_16C_26psu_1_S19.tsv.gz \\\n",
    "/Volumes/web/metacarcinus/Salmo_Calig/analyses/20190823_Salmo/allc_CTRL_16C_26psu_2_S21.tsv.gz \\\n",
    "/Volumes/web/metacarcinus/Salmo_Calig/analyses/20190823_Salmo/allc_CTRL_8C_26psu_1_S17.tsv.gz \\\n",
    "/Volumes/web/metacarcinus/Salmo_Calig/analyses/20190823_Salmo/allc_CTRL_8C_26psu_2_S18.tsv.gz \\\n",
    "--samples 16C_26psu_1 16C_26psu_2 16C_26psu_3 16C_26psu_4 16C_32psu_1 16C_32psu_2 16C_32psu_3 16C_32psu_4 8C_26psu_1 8C_26psu_2 8C_26psu_3 8C_26psu_4 8C_32psu_1 8C_32psu_2 8C_32psu_3 8C_32psu_4 CTRL_16C_26psu_1 CTRL_16C_26psu_2 CTRL_8C_26psu_1 CTRL_8C_26psu_2 \\\n",
    "--mc-type \"CGN\" \\\n",
    "--num-procs 8 \\\n",
    "--min-cov 5 \\\n",
    "--output-prefix DMR250bp_cov5x \\\n",
    "--dmr-max-dist 250 \\\n",
    "--min-num-dms 3 \\\n",
    "--sample-category 0 0 0 0 1 1 1 1 2 2 2 2 3 3 3 3 4 4 5 5 "
   ]
  }
 ],
 "metadata": {
  "kernelspec": {
   "display_name": "Python 3",
   "language": "python",
   "name": "python3"
  },
  "language_info": {
   "codemirror_mode": {
    "name": "ipython",
    "version": 3
   },
   "file_extension": ".py",
   "mimetype": "text/x-python",
   "name": "python",
   "nbconvert_exporter": "python",
   "pygments_lexer": "ipython3",
   "version": "3.6.8"
  }
 },
 "nbformat": 4,
 "nbformat_minor": 2
}
