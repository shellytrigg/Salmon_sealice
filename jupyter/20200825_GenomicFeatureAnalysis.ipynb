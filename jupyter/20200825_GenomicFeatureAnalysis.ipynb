{
 "cells": [
  {
   "cell_type": "code",
   "execution_count": null,
   "metadata": {},
   "outputs": [],
   "source": [
    "#change dirs"
   ]
  },
  {
   "cell_type": "code",
   "execution_count": 1,
   "metadata": {},
   "outputs": [
    {
     "name": "stdout",
     "output_type": "stream",
     "text": [
      "/Users/strigg/Documents/GitHub/Salmon_sealice/analyses/20200825_GenomicFeatureAnalysis\n"
     ]
    }
   ],
   "source": [
    "cd ~/Documents/GitHub/Salmon_sealice/analyses/20200825_GenomicFeatureAnalysis"
   ]
  },
  {
   "cell_type": "code",
   "execution_count": null,
   "metadata": {},
   "outputs": [],
   "source": [
    "#convert genome GFF to bed file"
   ]
  },
  {
   "cell_type": "code",
   "execution_count": 2,
   "metadata": {},
   "outputs": [
    {
     "name": "stdout",
     "output_type": "stream",
     "text": [
      "ref_ICSASG_v2_top_level.gff3.gz\n",
      "    36538302 100%   39.56MB/s    0:00:00 (xfer#1, to-check=0/1)\n",
      "\n",
      "sent 36542874 bytes  received 42 bytes  24361944.00 bytes/sec\n",
      "total size is 36538302  speedup is 1.00\n"
     ]
    }
   ],
   "source": [
    "!rsync --progress --verbose /Volumes/web/metacarcinus/Salmo_Calig/GENOMES/v2/RefSeq/ref_ICSASG_v2_top_level.gff3.gz ."
   ]
  },
  {
   "cell_type": "code",
   "execution_count": 3,
   "metadata": {},
   "outputs": [],
   "source": [
    "!gunzip ref_ICSASG_v2_top_level.gff3.gz"
   ]
  },
  {
   "cell_type": "code",
   "execution_count": null,
   "metadata": {},
   "outputs": [],
   "source": [
    "#preview gff"
   ]
  },
  {
   "cell_type": "code",
   "execution_count": 32,
   "metadata": {},
   "outputs": [
    {
     "name": "stdout",
     "output_type": "stream",
     "text": [
      "##gff-version 3\r\n",
      "#!gff-spec-version 1.21\r\n",
      "#!processor NCBI annotwriter\r\n",
      "#!genome-build ICSASG_v2\r\n",
      "#!genome-build-accession NCBI_Assembly:GCF_000233375.1\r\n",
      "#!annotation-date 22 September 2015\r\n",
      "#!annotation-source NCBI Salmo salar Annotation Release 100\r\n",
      "##sequence-region NC_027300.1 1 159038749\r\n",
      "##species https://www.ncbi.nlm.nih.gov/Taxonomy/Browser/wwwtax.cgi?id=8030\r\n",
      "NC_027300.1\tRefSeq\tregion\t1\t159038749\t.\t+\t.\tID=id0;Dbxref=taxon:8030;Name=ssa01;breed=double haploid;chromosome=ssa01;dev-stage=adult;gbkey=Src;genome=chromosome;isolate=Sally;mol_type=genomic DNA;sex=female;tissue-type=muscle\r\n",
      "NC_027300.1\tGnomon\tgene\t5501\t62139\t.\t-\t.\tID=gene0;Dbxref=GeneID:106560212;Name=LOC106560212;gbkey=Gene;gene=LOC106560212;gene_biotype=protein_coding\r\n",
      "NC_027300.1\tGnomon\tmRNA\t5501\t62139\t.\t-\t.\tID=rna0;Parent=gene0;Dbxref=GeneID:106560212,Genbank:XM_014160784.1;Name=XM_014160784.1;gbkey=mRNA;gene=LOC106560212;product=fibroblast growth factor receptor 3-like;transcript_id=XM_014160784.1\r\n",
      "NC_027300.1\tGnomon\texon\t61647\t62139\t.\t-\t.\tID=id1;Parent=rna0;Dbxref=GeneID:106560212,Genbank:XM_014160784.1;gbkey=mRNA;gene=LOC106560212;product=fibroblast growth factor receptor 3-like;transcript_id=XM_014160784.1\r\n",
      "NC_027300.1\tGnomon\texon\t43486\t43714\t.\t-\t.\tID=id2;Parent=rna0;Dbxref=GeneID:106560212,Genbank:XM_014160784.1;gbkey=mRNA;gene=LOC106560212;product=fibroblast growth factor receptor 3-like;transcript_id=XM_014160784.1\r\n",
      "NC_027300.1\tGnomon\texon\t23978\t24241\t.\t-\t.\tID=id3;Parent=rna0;Dbxref=GeneID:106560212,Genbank:XM_014160784.1;gbkey=mRNA;gene=LOC106560212;product=fibroblast growth factor receptor 3-like;transcript_id=XM_014160784.1\r\n",
      "NC_027300.1\tGnomon\texon\t16966\t17019\t.\t-\t.\tID=id4;Parent=rna0;Dbxref=GeneID:106560212,Genbank:XM_014160784.1;gbkey=mRNA;gene=LOC106560212;product=fibroblast growth factor receptor 3-like;transcript_id=XM_014160784.1\r\n",
      "NC_027300.1\tGnomon\texon\t5501\t5691\t.\t-\t.\tID=id5;Parent=rna0;Dbxref=GeneID:106560212,Genbank:XM_014160784.1;gbkey=mRNA;gene=LOC106560212;product=fibroblast growth factor receptor 3-like;transcript_id=XM_014160784.1\r\n",
      "NC_027300.1\tGnomon\tCDS\t43486\t43633\t.\t-\t0\tID=cds0;Parent=rna0;Dbxref=GeneID:106560212,Genbank:XP_014016259.1;Name=XP_014016259.1;gbkey=CDS;gene=LOC106560212;product=fibroblast growth factor receptor 3-like;protein_id=XP_014016259.1\r\n",
      "NC_027300.1\tGnomon\tCDS\t23978\t24241\t.\t-\t2\tID=cds0;Parent=rna0;Dbxref=GeneID:106560212,Genbank:XP_014016259.1;Name=XP_014016259.1;gbkey=CDS;gene=LOC106560212;product=fibroblast growth factor receptor 3-like;protein_id=XP_014016259.1\r\n",
      "NC_027300.1\tGnomon\tCDS\t16966\t17019\t.\t-\t2\tID=cds0;Parent=rna0;Dbxref=GeneID:106560212,Genbank:XP_014016259.1;Name=XP_014016259.1;gbkey=CDS;gene=LOC106560212;product=fibroblast growth factor receptor 3-like;protein_id=XP_014016259.1\r\n"
     ]
    }
   ],
   "source": [
    "!head -20 ref_ICSASG_v2_top_level.gff3"
   ]
  },
  {
   "cell_type": "code",
   "execution_count": null,
   "metadata": {},
   "outputs": [],
   "source": [
    "#remove features on NW chromosomes"
   ]
  },
  {
   "cell_type": "code",
   "execution_count": 56,
   "metadata": {},
   "outputs": [],
   "source": [
    "!cat ref_ICSASG_v2_top_level.gff3 |\\\n",
    "awk -F\"\\t\" '{if($0!~/NW_/)print $0}' \\\n",
    "> ref_ICSASG_v2_top_level.noNW.gff3"
   ]
  },
  {
   "cell_type": "code",
   "execution_count": 57,
   "metadata": {},
   "outputs": [
    {
     "name": "stdout",
     "output_type": "stream",
     "text": [
      "##gff-version 3\r\n",
      "#!gff-spec-version 1.21\r\n",
      "#!processor NCBI annotwriter\r\n",
      "#!genome-build ICSASG_v2\r\n",
      "#!genome-build-accession NCBI_Assembly:GCF_000233375.1\r\n",
      "#!annotation-date 22 September 2015\r\n",
      "#!annotation-source NCBI Salmo salar Annotation Release 100\r\n",
      "##sequence-region NC_027300.1 1 159038749\r\n",
      "##species https://www.ncbi.nlm.nih.gov/Taxonomy/Browser/wwwtax.cgi?id=8030\r\n",
      "NC_027300.1\tRefSeq\tregion\t1\t159038749\t.\t+\t.\tID=id0;Dbxref=taxon:8030;Name=ssa01;breed=double haploid;chromosome=ssa01;dev-stage=adult;gbkey=Src;genome=chromosome;isolate=Sally;mol_type=genomic DNA;sex=female;tissue-type=muscle\r\n"
     ]
    }
   ],
   "source": [
    "!head ref_ICSASG_v2_top_level.gff3"
   ]
  },
  {
   "cell_type": "code",
   "execution_count": null,
   "metadata": {},
   "outputs": [],
   "source": [
    "#preview feature categories"
   ]
  },
  {
   "cell_type": "code",
   "execution_count": 59,
   "metadata": {},
   "outputs": [
    {
     "name": "stdout",
     "output_type": "stream",
     "text": [
      "232193 \n",
      "1123214 CDS\n",
      "  30 C_gene_segment\n",
      "   1 D_loop\n",
      "  94 V_gene_segment\n",
      "35513 cDNA_match\n",
      "1248604 exon\n",
      "52273 gene\n",
      "90161 mRNA\n",
      " 376 match\n",
      "7207 ncRNA\n",
      "   2 rRNA\n",
      "  31 region\n",
      "2800 tRNA\n",
      "2433 transcript\n"
     ]
    }
   ],
   "source": [
    "!cat ref_ICSASG_v2_top_level.noNW.gff3 | awk -F\"\\t\" '{print $3}' | sort | uniq -c"
   ]
  },
  {
   "cell_type": "code",
   "execution_count": null,
   "metadata": {},
   "outputs": [],
   "source": [
    "#just curious what match is so taking a look"
   ]
  },
  {
   "cell_type": "code",
   "execution_count": 60,
   "metadata": {},
   "outputs": [
    {
     "name": "stdout",
     "output_type": "stream",
     "text": [
      "NC_027300.1\tRefSeq\tmatch\t154056984\t154057113\t.\t+\t.\tID=2b1ea53e-f1d2-4ec3-987d-9400d992320f;Target=XR_001321085.1 385 514 +;for_remapping=2;gap_count=0;num_ident=2925;num_mismatch=0;pct_coverage=88.3953;pct_coverage_hiqual=88.3953;pct_identity_gap=100;pct_identity_ungap=100;rank=1\r\n",
      "NC_027300.1\tRefSeq\tmatch\t154061203\t154061252\t.\t+\t.\tID=2b1ea53e-f1d2-4ec3-987d-9400d992320f;Target=XR_001321085.1 515 564 +;for_remapping=2;gap_count=0;num_ident=2925;num_mismatch=0;pct_coverage=88.3953;pct_coverage_hiqual=88.3953;pct_identity_gap=100;pct_identity_ungap=100;rank=1\r\n",
      "NC_027300.1\tRefSeq\tmatch\t154071540\t154072777\t.\t+\t.\tID=2b1ea53e-f1d2-4ec3-987d-9400d992320f;Target=XR_001321085.1 565 1802 +;for_remapping=2;gap_count=0;num_ident=2925;num_mismatch=0;pct_coverage=88.3953;pct_coverage_hiqual=88.3953;pct_identity_gap=100;pct_identity_ungap=100;rank=1\r\n",
      "NC_027300.1\tRefSeq\tmatch\t154073048\t154074554\t.\t+\t.\tID=2b1ea53e-f1d2-4ec3-987d-9400d992320f;Target=XR_001321085.1 1803 3309 +;for_remapping=2;gap_count=0;num_ident=2925;num_mismatch=0;pct_coverage=88.3953;pct_coverage_hiqual=88.3953;pct_identity_gap=100;pct_identity_ungap=100;rank=1\r\n",
      "NC_027301.1\tRefSeq\tmatch\t71287525\t71287627\t.\t+\t.\tID=2c879b77-e988-477c-a8ca-0e09e0b59c80;Target=XR_001326386.1 1061 1163 +;for_remapping=2;gap_count=0;num_ident=2049;num_mismatch=0;pct_coverage=65.9054;pct_coverage_hiqual=65.9054;pct_identity_gap=100;pct_identity_ungap=100;rank=1\r\n",
      "NC_027301.1\tRefSeq\tmatch\t71287827\t71287946\t.\t+\t.\tID=2c879b77-e988-477c-a8ca-0e09e0b59c80;Target=XR_001326386.1 1164 1283 +;for_remapping=2;gap_count=0;num_ident=2049;num_mismatch=0;pct_coverage=65.9054;pct_coverage_hiqual=65.9054;pct_identity_gap=100;pct_identity_ungap=100;rank=1\r\n",
      "NC_027301.1\tRefSeq\tmatch\t71288032\t71288150\t.\t+\t.\tID=2c879b77-e988-477c-a8ca-0e09e0b59c80;Target=XR_001326386.1 1284 1402 +;for_remapping=2;gap_count=0;num_ident=2049;num_mismatch=0;pct_coverage=65.9054;pct_coverage_hiqual=65.9054;pct_identity_gap=100;pct_identity_ungap=100;rank=1\r\n",
      "NC_027301.1\tRefSeq\tmatch\t71289267\t71289398\t.\t+\t.\tID=2c879b77-e988-477c-a8ca-0e09e0b59c80;Target=XR_001326386.1 1403 1534 +;for_remapping=2;gap_count=0;num_ident=2049;num_mismatch=0;pct_coverage=65.9054;pct_coverage_hiqual=65.9054;pct_identity_gap=100;pct_identity_ungap=100;rank=1\r\n",
      "NC_027301.1\tRefSeq\tmatch\t71290577\t71290687\t.\t+\t.\tID=2c879b77-e988-477c-a8ca-0e09e0b59c80;Target=XR_001326386.1 1535 1645 +;for_remapping=2;gap_count=0;num_ident=2049;num_mismatch=0;pct_coverage=65.9054;pct_coverage_hiqual=65.9054;pct_identity_gap=100;pct_identity_ungap=100;rank=1\r\n",
      "NC_027301.1\tRefSeq\tmatch\t71291785\t71291898\t.\t+\t.\tID=2c879b77-e988-477c-a8ca-0e09e0b59c80;Target=XR_001326386.1 1646 1759 +;for_remapping=2;gap_count=0;num_ident=2049;num_mismatch=0;pct_coverage=65.9054;pct_coverage_hiqual=65.9054;pct_identity_gap=100;pct_identity_ungap=100;rank=1\r\n",
      "awk: write error on /dev/stdout\r\n",
      " input record number 572599, file \r\n",
      " source line number 1\r\n",
      "cat: stdout: Broken pipe\r\n"
     ]
    }
   ],
   "source": [
    "!cat ref_ICSASG_v2_top_level.noNW.gff3 |awk -F\"\\t\" '{if ($3==\"match\") print $0}' | head"
   ]
  },
  {
   "cell_type": "code",
   "execution_count": 61,
   "metadata": {},
   "outputs": [
    {
     "name": "stdout",
     "output_type": "stream",
     "text": [
      "NC_027300.1\tRefSeq\tcDNA_match\t346320\t346454\t.\t-\t.\tID=3432514530;Target=XM_014149530.1 722 856 +;for_remapping=2;gap_count=0;num_ident=558;num_mismatch=0;pct_coverage=43.6278;pct_coverage_hiqual=43.6278;pct_identity_gap=100;pct_identity_ungap=100;rank=1\r\n",
      "NC_027300.1\tRefSeq\tcDNA_match\t334437\t334597\t.\t-\t.\tID=3432514530;Target=XM_014149530.1 857 1017 +;for_remapping=2;gap_count=0;num_ident=558;num_mismatch=0;pct_coverage=43.6278;pct_coverage_hiqual=43.6278;pct_identity_gap=100;pct_identity_ungap=100;rank=1\r\n",
      "NC_027300.1\tRefSeq\tcDNA_match\t331369\t331630\t.\t-\t.\tID=3432514530;Target=XM_014149530.1 1018 1279 +;for_remapping=2;gap_count=0;num_ident=558;num_mismatch=0;pct_coverage=43.6278;pct_coverage_hiqual=43.6278;pct_identity_gap=100;pct_identity_ungap=100;rank=1\r\n",
      "NC_027300.1\tRefSeq\tcDNA_match\t1256356\t1256522\t.\t+\t.\tID=330949465716;Target=XM_014127816.1 169 335 +;for_remapping=2;gap_count=0;num_ident=1635;num_mismatch=0;pct_coverage=90.6822;pct_coverage_hiqual=90.6822;pct_identity_gap=100;pct_identity_ungap=100;rank=1\r\n",
      "NC_027300.1\tRefSeq\tcDNA_match\t1257777\t1259244\t.\t+\t.\tID=330949465716;Target=XM_014127816.1 336 1803 +;for_remapping=2;gap_count=0;num_ident=1635;num_mismatch=0;pct_coverage=90.6822;pct_coverage_hiqual=90.6822;pct_identity_gap=100;pct_identity_ungap=100;rank=1\r\n",
      "NC_027300.1\tRefSeq\tcDNA_match\t1338414\t1338436\t23\t+\t.\tID=bce1409a-d636-4b13-9832-5e0bef0ade5d;Target=NM_001168352.1 1 23 +;consensus_splices=10;exon_identity=0.998515;for_remapping=2;gap_count=1;identity=0.998515;idty=1;matches=2017;num_ident=2017;num_mismatch=1;pct_coverage=100;pct_coverage_hiqual=100;pct_identity_gap=99.8515;pct_identity_ungap=99.9504;product_coverage=1;rank=1;score=23;splices=10;weighted_identity=0.997575\r\n",
      "NC_027300.1\tRefSeq\tcDNA_match\t1342351\t1342421\t71\t+\t.\tID=bce1409a-d636-4b13-9832-5e0bef0ade5d;Target=NM_001168352.1 24 94 +;consensus_splices=10;exon_identity=0.998515;for_remapping=2;gap_count=1;identity=0.998515;idty=1;matches=2017;num_ident=2017;num_mismatch=1;pct_coverage=100;pct_coverage_hiqual=100;pct_identity_gap=99.8515;pct_identity_ungap=99.9504;product_coverage=1;rank=1;score=71;splices=10;weighted_identity=0.997575\r\n",
      "NC_027300.1\tRefSeq\tcDNA_match\t1342521\t1342649\t129\t+\t.\tID=bce1409a-d636-4b13-9832-5e0bef0ade5d;Target=NM_001168352.1 95 223 +;consensus_splices=10;exon_identity=0.998515;for_remapping=2;gap_count=1;identity=0.998515;idty=1;matches=2017;num_ident=2017;num_mismatch=1;pct_coverage=100;pct_coverage_hiqual=100;pct_identity_gap=99.8515;pct_identity_ungap=99.9504;product_coverage=1;rank=1;score=129;splices=10;weighted_identity=0.997575\r\n",
      "NC_027300.1\tRefSeq\tcDNA_match\t1342922\t1343099\t178\t+\t.\tID=bce1409a-d636-4b13-9832-5e0bef0ade5d;Target=NM_001168352.1 224 401 +;consensus_splices=10;exon_identity=0.998515;for_remapping=2;gap_count=1;identity=0.998515;idty=1;matches=2017;num_ident=2017;num_mismatch=1;pct_coverage=100;pct_coverage_hiqual=100;pct_identity_gap=99.8515;pct_identity_ungap=99.9504;product_coverage=1;rank=1;score=178;splices=10;weighted_identity=0.997575\r\n",
      "NC_027300.1\tRefSeq\tcDNA_match\t1343567\t1344243\t677\t+\t.\tID=bce1409a-d636-4b13-9832-5e0bef0ade5d;Target=NM_001168352.1 402 1078 +;consensus_splices=10;exon_identity=0.998515;for_remapping=2;gap_count=1;identity=0.998515;idty=1;matches=2017;num_ident=2017;num_mismatch=1;pct_coverage=100;pct_coverage_hiqual=100;pct_identity_gap=99.8515;pct_identity_ungap=99.9504;product_coverage=1;rank=1;score=677;splices=10;weighted_identity=0.997575\r\n",
      "awk: write error on /dev/stdout\r\n",
      " input record number 187336, file \r\n",
      " source line number 1\r\n",
      "cat: stdout: Broken pipe\r\n"
     ]
    }
   ],
   "source": [
    "!cat ref_ICSASG_v2_top_level.noNW.gff3 |awk -F\"\\t\" '{if ($3==\"cDNA_match\") print $0}' | head"
   ]
  },
  {
   "cell_type": "code",
   "execution_count": null,
   "metadata": {},
   "outputs": [],
   "source": [
    "#bin genome features to median DMR length (30bp)"
   ]
  },
  {
   "cell_type": "code",
   "execution_count": 107,
   "metadata": {},
   "outputs": [
    {
     "name": "stdout",
     "output_type": "stream",
     "text": [
      "NC_027300.1\t5501\t62139\tgene\r\n",
      "NC_027300.1\t5501\t62139\tmRNA\r\n",
      "NC_027300.1\t61647\t62139\texon\r\n",
      "NC_027300.1\t43486\t43714\texon\r\n",
      "NC_027300.1\t23978\t24241\texon\r\n",
      "NC_027300.1\t16966\t17019\texon\r\n",
      "NC_027300.1\t5501\t5691\texon\r\n",
      "NC_027300.1\t43486\t43633\tCDS\r\n",
      "NC_027300.1\t23978\t24241\tCDS\r\n",
      "NC_027300.1\t16966\t17019\tCDS\r\n",
      "awk: write error on /dev/stdout\r\n",
      " input record number 1035, file \r\n",
      " source line number 1\r\n",
      "cat: stdout: Broken pipe\r\n"
     ]
    }
   ],
   "source": [
    "!cat ref_ICSASG_v2_top_level.noNW.gff3|\\\n",
    "awk -F\"\\t\" '{OFS=FS=\"\\t\"}{if(($0!~/#/)&&($3!=\"region\"))print $1\"\\t\"$4\"\\t\"$5\"\\t\"$3}'|\\\n",
    "head"
   ]
  },
  {
   "cell_type": "code",
   "execution_count": 165,
   "metadata": {},
   "outputs": [
    {
     "name": "stdout",
     "output_type": "stream",
     "text": [
      "NC_027300.1\t5501\t5531\tgene\r\n",
      "NC_027300.1\t5532\t5562\tgene\r\n",
      "NC_027300.1\t5563\t5593\tgene\r\n",
      "NC_027300.1\t5594\t5624\tgene\r\n",
      "NC_027300.1\t5625\t5655\tgene\r\n",
      "NC_027300.1\t5656\t5686\tgene\r\n",
      "NC_027300.1\t5687\t5717\tgene\r\n",
      "NC_027300.1\t5718\t5748\tgene\r\n",
      "NC_027300.1\t5749\t5779\tgene\r\n",
      "NC_027300.1\t5780\t5810\tgene\r\n"
     ]
    }
   ],
   "source": [
    "!cat ref_ICSASG_v2_top_level.noNW.gff3|\\\n",
    "awk -F\"\\t\" '{OFS=FS=\"\\t\"}{if(($0!~/#/)&&($3!=\"region\"))print $1\"\\t\"$4\"\\t\"$5\"\\t\"$3}'|\\\n",
    "/Users/Shared/bioinformatics/bedtools2/bin/bedtools makewindows \\\n",
    "-b - \\\n",
    "-w 30 \\\n",
    "-s 31 \\\n",
    "-i src |\\\n",
    "head"
   ]
  },
  {
   "cell_type": "code",
   "execution_count": 166,
   "metadata": {},
   "outputs": [],
   "source": [
    "!cat ref_ICSASG_v2_top_level.noNW.gff3|\\\n",
    "awk -F\"\\t\" '{OFS=FS=\"\\t\"}{if(($0!~/#/)&&($3!=\"region\"))print $1\"\\t\"$4\"\\t\"$5\"\\t\"$3}'|\\\n",
    "/Users/Shared/bioinformatics/bedtools2/bin/bedtools makewindows \\\n",
    "-b - \\\n",
    "-w 30 \\\n",
    "-s 31 \\\n",
    "-i src \\\n",
    "> ref_ICSASG_v2_top_level.noNW.noregion.bed"
   ]
  },
  {
   "cell_type": "code",
   "execution_count": null,
   "metadata": {},
   "outputs": [],
   "source": [
    "#create binned gene promoter file"
   ]
  },
  {
   "cell_type": "code",
   "execution_count": 167,
   "metadata": {},
   "outputs": [],
   "source": [
    "!cat /Volumes/web/metacarcinus/Salmo_Calig/GENOMES/v2/RefSeq/chr1-29MT/ref_ICSASG_v2_top_level.GenePromoter.gff|\\\n",
    "awk -F\"\\t\" '{OFS=FS=\"\\t\"}{if(($0!~/#/)&&($3!=\"region\"))print $1\"\\t\"$4\"\\t\"$5\"\\t\"$3}'|\\\n",
    "/Users/Shared/bioinformatics/bedtools2/bin/bedtools makewindows \\\n",
    "-b - \\\n",
    "-w 30 \\\n",
    "-s 31 \\\n",
    "-i src \\\n",
    "> ref_ICSASG_v2_top_level.GenePromoter.bed"
   ]
  },
  {
   "cell_type": "code",
   "execution_count": null,
   "metadata": {},
   "outputs": [],
   "source": [
    "#create binned gene 3 prime file"
   ]
  },
  {
   "cell_type": "code",
   "execution_count": 168,
   "metadata": {},
   "outputs": [],
   "source": [
    "!cat /Volumes/web/metacarcinus/Salmo_Calig/GENOMES/v2/RefSeq/chr1-29MT/ref_ICSASG_v2_top_level.Gene3primerUTR.gff|\\\n",
    "awk -F\"\\t\" '{OFS=FS=\"\\t\"}{if(($0!~/#/)&&($3!=\"region\"))print $1\"\\t\"$4\"\\t\"$5\"\\t\"$3}'|\\\n",
    "/Users/Shared/bioinformatics/bedtools2/bin/bedtools makewindows \\\n",
    "-b - \\\n",
    "-w 30 \\\n",
    "-s 31 \\\n",
    "-i src \\\n",
    "> ref_ICSASG_v2_top_level.Gene3prime.bed"
   ]
  },
  {
   "cell_type": "code",
   "execution_count": null,
   "metadata": {},
   "outputs": [],
   "source": [
    "#concatenate reference binned bed files"
   ]
  },
  {
   "cell_type": "code",
   "execution_count": 169,
   "metadata": {},
   "outputs": [],
   "source": [
    "!cat ref_ICSASG_v2_top_level.noNW.noregion.bed \\\n",
    "ref_ICSASG_v2_top_level.GenePromoter.bed \\\n",
    "ref_ICSASG_v2_top_level.Gene3prime.bed |\\\n",
    "sort -k1,1 -k2,2n | uniq \\\n",
    "> ref_ICSASG_v2_top_level.all.30bp.bed"
   ]
  },
  {
   "cell_type": "code",
   "execution_count": null,
   "metadata": {},
   "outputs": [],
   "source": [
    "#preview binned file "
   ]
  },
  {
   "cell_type": "code",
   "execution_count": 170,
   "metadata": {},
   "outputs": [
    {
     "name": "stdout",
     "output_type": "stream",
     "text": [
      "NC_001960.1\t1\t31\tD_loop\r\n",
      "NC_001960.1\t32\t62\tD_loop\r\n",
      "NC_001960.1\t63\t93\tD_loop\r\n",
      "NC_001960.1\t94\t124\tD_loop\r\n",
      "NC_001960.1\t125\t155\tD_loop\r\n",
      "NC_001960.1\t156\t186\tD_loop\r\n",
      "NC_001960.1\t187\t217\tD_loop\r\n",
      "NC_001960.1\t218\t248\tD_loop\r\n",
      "NC_001960.1\t249\t279\tD_loop\r\n",
      "NC_001960.1\t280\t310\tD_loop\r\n"
     ]
    }
   ],
   "source": [
    "!head ref_ICSASG_v2_top_level.all.30bp.bed"
   ]
  },
  {
   "cell_type": "code",
   "execution_count": 171,
   "metadata": {
    "scrolled": true
   },
   "outputs": [
    {
     "name": "stdout",
     "output_type": "stream",
     "text": [
      "NC_027328.1\t42464865\t42464895\tput_promoter\r\n",
      "NC_027328.1\t42464896\t42464926\tput_promoter\r\n",
      "NC_027328.1\t42464927\t42464957\tput_promoter\r\n",
      "NC_027328.1\t42464958\t42464988\tput_promoter\r\n",
      "NC_027328.1\t42464989\t42465019\tput_promoter\r\n",
      "NC_027328.1\t42465020\t42465050\tput_promoter\r\n",
      "NC_027328.1\t42465051\t42465081\tput_promoter\r\n",
      "NC_027328.1\t42465082\t42465112\tput_promoter\r\n",
      "NC_027328.1\t42465113\t42465143\tput_promoter\r\n",
      "NC_027328.1\t42465144\t42465163\tput_promoter\r\n"
     ]
    }
   ],
   "source": [
    "!tail ref_ICSASG_v2_top_level.all.30bp.bed"
   ]
  },
  {
   "cell_type": "code",
   "execution_count": 172,
   "metadata": {},
   "outputs": [
    {
     "name": "stdout",
     "output_type": "stream",
     "text": [
      " 109437999 ref_ICSASG_v2_top_level.all.30bp.bed\r\n"
     ]
    }
   ],
   "source": [
    "!wc -l ref_ICSASG_v2_top_level.all.30bp.bed"
   ]
  },
  {
   "cell_type": "code",
   "execution_count": null,
   "metadata": {},
   "outputs": [],
   "source": [
    "#create bed file from DMR table"
   ]
  },
  {
   "cell_type": "code",
   "execution_count": 77,
   "metadata": {
    "scrolled": true
   },
   "outputs": [
    {
     "name": "stdout",
     "output_type": "stream",
     "text": [
      "NC_027300.1\t110815515\t110815542\tTempxSal\r\n",
      "NC_027300.1\t28471994\t28472130\tSal\r\n",
      "NC_027300.1\t38024662\t38024794\tSal\r\n",
      "NC_027300.1\t43584685\t43584708\tSal\r\n",
      "NC_027300.1\t44881038\t44881064\tSal\r\n",
      "NC_027300.1\t93503034\t93503058\tSal\r\n",
      "NC_027300.1\t94631589\t94631672\tTemp\r\n",
      "NC_027302.1\t28075544\t28075562\tSal\r\n",
      "NC_027302.1\t42753363\t42753374\tSal\r\n",
      "NC_027302.1\t49111785\t49111893\tTempxSal\r\n"
     ]
    }
   ],
   "source": [
    "!cat /Users/strigg/Documents/GitHub/Salmon_sealice/analyses/20200812_groupStats/DMR_2way_aov_summ_stats.csv |\\\n",
    "awk -F\",\" 'NR>1{if($30 !=\"none\")print $2\"\\t\"$3\"\\t\"$4\"\\t\"$30}' |\\\n",
    "head"
   ]
  },
  {
   "cell_type": "code",
   "execution_count": 78,
   "metadata": {},
   "outputs": [],
   "source": [
    "!cat /Users/strigg/Documents/GitHub/Salmon_sealice/analyses/20200812_groupStats/DMR_2way_aov_summ_stats.csv |\\\n",
    "awk -F\",\" 'NR>1{if($30 !=\"none\")print $2\"\\t\"$3\"\\t\"$4\"\\t\"$30}' \\\n",
    "> DMR.bed"
   ]
  },
  {
   "cell_type": "code",
   "execution_count": null,
   "metadata": {},
   "outputs": [],
   "source": [
    "#match up DMRs to features"
   ]
  },
  {
   "cell_type": "code",
   "execution_count": 93,
   "metadata": {},
   "outputs": [],
   "source": [
    "!/Users/Shared/bioinformatics/bedtools2/bin/intersectBed \\\n",
    "-a DMR.bed \\\n",
    "-b /Volumes/web/metacarcinus/Salmo_Calig/GENOMES/v2/RefSeq/chr1-29MT/ref_ICSASG_v2_top_level.GenePromoter.gff \\\n",
    "-wb \\\n",
    "> DMR_geneProm.txt"
   ]
  },
  {
   "cell_type": "code",
   "execution_count": 94,
   "metadata": {},
   "outputs": [],
   "source": [
    "!/Users/Shared/bioinformatics/bedtools2/bin/intersectBed \\\n",
    "-a DMR.bed \\\n",
    "-b /Volumes/web/metacarcinus/Salmo_Calig/GENOMES/v2/RefSeq/chr1-29MT/ref_ICSASG_v2_top_level.Gene3primerUTR.gff \\\n",
    "-wb \\\n",
    "> DMR_gene3prime.txt"
   ]
  },
  {
   "cell_type": "code",
   "execution_count": 95,
   "metadata": {},
   "outputs": [],
   "source": [
    "!/Users/Shared/bioinformatics/bedtools2/bin/intersectBed \\\n",
    "-a DMR.bed \\\n",
    "-b ref_ICSASG_v2_top_level.noNW.gff3 \\\n",
    "-wb \\\n",
    "> DMR_noNW.txt"
   ]
  },
  {
   "cell_type": "code",
   "execution_count": null,
   "metadata": {},
   "outputs": [],
   "source": [
    "#concatenate all DMR features"
   ]
  },
  {
   "cell_type": "code",
   "execution_count": 96,
   "metadata": {},
   "outputs": [],
   "source": [
    "!cat DMR_geneProm.txt DMR_gene3prime.txt DMR_noNW.txt > DMR_features.txt"
   ]
  },
  {
   "cell_type": "code",
   "execution_count": 97,
   "metadata": {
    "collapsed": true
   },
   "outputs": [
    {
     "name": "stdout",
     "output_type": "stream",
     "text": [
      "NC_027300.1\t94631589\t94631672\tTemp\tNC_027300.1\tGnomon\tput_promoter\t94630460\t94632959\t.\t+\t.\tID=gene1783;Dbxref=GeneID:106612362;Name=LOC106612362;gbkey=Gene;gene=LOC106612362;gene_biotype=protein_coding\r\n",
      "NC_027302.1\t55868328\t55868382\tTemp\tNC_027302.1\tGnomon\tput_promoter\t55868112\t55870611\t.\t+\t.\tID=gene7241;Dbxref=GeneID:106600867;Name=LOC106600867;gbkey=Gene;gene=LOC106600867;gene_biotype=protein_coding\r\n",
      "NC_027304.1\t29426673\t29426797\tTemp\tNC_027304.1\tGnomon\tput_promoter\t29425942\t29428441\t.\t+\t.\tID=gene11261;Dbxref=GeneID:106604632;Name=LOC106604632;gbkey=Gene;gene=LOC106604632;gene_biotype=protein_coding\r\n",
      "NC_027307.1\t17061731\t17061994\tTemp\tNC_027307.1\tGnomon\tput_promoter\t17061587\t17064086\t.\t+\t.\tID=gene17196;Dbxref=GeneID:106610287;Name=LOC106610287;gbkey=Gene;gene=LOC106610287;gene_biotype=protein_coding\r\n",
      "NC_027311.1\t20670243\t20670274\tTemp+Sal\tNC_027311.1\tGnomon\tput_promoter\t20667840\t20670339\t.\t+\t.\tID=gene25534;Dbxref=GeneID:106564664;Name=LOC106564664;gbkey=Gene;gene=LOC106564664;gene_biotype=protein_coding\r\n",
      "NC_027311.1\t30818546\t30818587\tTemp\tNC_027311.1\tGnomon\tput_promoter\t30817241\t30819740\t.\t+\t.\tID=gene25852;Dbxref=GeneID:106565014;Name=LOC106565014;gbkey=Gene;gene=LOC106565014;gene_biotype=protein_coding\r\n",
      "NC_027311.1\t7770437\t7770464\tTemp\tNC_027311.1\tGnomon\tput_promoter\t7769781\t7772280\t.\t-\t.\tID=gene25132;Dbxref=GeneID:106564273;Name=LOC106564273;gbkey=Gene;gene=LOC106564273;gene_biotype=pseudogene;pseudo=true\r\n",
      "NC_027315.1\t71056323\t71056342\tTempxSal\tNC_027315.1\tGnomon\tput_promoter\t71056130\t71058629\t.\t-\t.\tID=gene35580;Dbxref=GeneID:106574552;Name=LOC106574552;gbkey=Gene;gene=LOC106574552;gene_biotype=protein_coding\r\n",
      "NC_027316.1\t16906518\t16906569\tSal\tNC_027316.1\tGnomon\tput_promoter\t16904852\t16907351\t.\t+\t.\tID=gene36576;Dbxref=GeneID:106575491;Name=LOC106575491;gbkey=Gene;gene=LOC106575491;gene_biotype=protein_coding\r\n",
      "NC_027317.1\t36693758\t36693771\tSal\tNC_027317.1\tGnomon\tput_promoter\t36691357\t36693856\t.\t-\t.\tID=gene38477;Dbxref=GeneID:106577382;Name=LOC106577382;gbkey=Gene;gene=LOC106577382;gene_biotype=lncRNA\r\n",
      "NC_027319.1\t11655883\t11656222\tTemp+Sal\tNC_027319.1\ttRNAscan-SE\tput_promoter\t11655721\t11658220\t.\t-\t.\tID=gene41040;Dbxref=GeneID:106455086;Name=trnav-uac;gbkey=Gene;gene=trnav-uac;gene_biotype=tRNA\r\n",
      "NC_027319.1\t84970884\t84970897\tSal\tNC_027319.1\ttRNAscan-SE\tput_promoter\t84969843\t84972342\t.\t-\t.\tID=gene42745;Dbxref=GeneID:106455092;Name=trnap-agg;gbkey=Gene;gene=trnap-agg;gene_biotype=tRNA\r\n",
      "NC_027322.1\t324517\t324547\tTempxSal\tNC_027322.1\tGnomon\tput_promoter\t322735\t325234\t.\t-\t.\tID=gene45119;Dbxref=GeneID:106583876;Name=LOC106583876;gbkey=Gene;gene=LOC106583876;gene_biotype=protein_coding\r\n",
      "NC_027323.1\t15873355\t15873411\tTemp\tNC_027323.1\tGnomon\tput_promoter\t15873162\t15875661\t.\t+\t.\tID=gene46499;Dbxref=GeneID:106584988;Name=LOC106584988;gbkey=Gene;gene=LOC106584988;gene_biotype=protein_coding\r\n",
      "NC_027304.1\t19183883\t19183901\tTempxSal\tNC_027304.1\tGnomon\tput_promoter\t19182175\t19184674\t.\t+\t.\tID=gene11098;Dbxref=GeneID:106604483;Name=clnk;gbkey=Gene;gene=clnk;gene_biotype=protein_coding\r\n",
      "NC_027307.1\t17061731\t17061994\tTemp\tNC_027307.1\tGnomon\tput_promoter\t17060390\t17062889\t.\t+\t.\tID=gene17195;Dbxref=GeneID:106610288;Name=LOC106610288;gbkey=Gene;gene=LOC106610288;gene_biotype=protein_coding\r\n",
      "NC_027307.1\t381987\t382077\tTempxSal\tNC_027307.1\tGnomon\tput_promoter\t380536\t383035\t.\t+\t.\tID=gene16790;Dbxref=GeneID:106609880;Name=LOC106609880;gbkey=Gene;gene=LOC106609880;gene_biotype=protein_coding\r\n",
      "NC_027307.1\t381987\t382077\tTempxSal\tNC_027307.1\tGnomon\tput_promoter\t381067\t383566\t.\t-\t.\tID=gene16791;Dbxref=GeneID:106609883;Name=LOC106609883;gbkey=Gene;gene=LOC106609883;gene_biotype=protein_coding\r\n",
      "NC_027308.1\t17090706\t17090869\tTempxSal\tNC_027308.1\tGnomon\tput_promoter\t17090093\t17092592\t.\t-\t.\tID=gene17761;Dbxref=GeneID:106610812;Name=LOC106610812;gbkey=Gene;gene=LOC106610812;gene_biotype=protein_coding\r\n",
      "NC_027308.1\t4330278\t4330314\tTemp\tNC_027308.1\tGnomon\tput_promoter\t4329891\t4332390\t.\t+\t.\tID=gene17558;Dbxref=GeneID:106610614;Name=ero1a;gbkey=Gene;gene=ero1a;gene_biotype=protein_coding\r\n",
      "NC_027315.1\t71056323\t71056342\tTempxSal\tNC_027315.1\tGnomon\tput_promoter\t71054194\t71056693\t.\t-\t.\tID=gene35581;Dbxref=GeneID:106574556;Name=LOC106574556;gbkey=Gene;gene=LOC106574556;gene_biotype=protein_coding\r\n",
      "NC_027324.1\t10807523\t10807533\tSal\tNC_027324.1\tGnomon\tput_promoter\t10806342\t10808841\t.\t-\t.\tID=gene47386;Dbxref=GeneID:106586076;Name=LOC106586076;gbkey=Gene;gene=LOC106586076;gene_biotype=pseudogene;pseudo=true\r\n",
      "NC_027300.1\t110815515\t110815542\tTempxSal\tNC_027300.1\tRefSeq\tregion\t1\t159038749\t.\t+\t.\tID=id0;Dbxref=taxon:8030;Name=ssa01;breed=double haploid;chromosome=ssa01;dev-stage=adult;gbkey=Src;genome=chromosome;isolate=Sally;mol_type=genomic DNA;sex=female;tissue-type=muscle\r\n",
      "NC_027300.1\t28471994\t28472130\tSal\tNC_027300.1\tRefSeq\tregion\t1\t159038749\t.\t+\t.\tID=id0;Dbxref=taxon:8030;Name=ssa01;breed=double haploid;chromosome=ssa01;dev-stage=adult;gbkey=Src;genome=chromosome;isolate=Sally;mol_type=genomic DNA;sex=female;tissue-type=muscle\r\n",
      "NC_027300.1\t38024662\t38024794\tSal\tNC_027300.1\tRefSeq\tregion\t1\t159038749\t.\t+\t.\tID=id0;Dbxref=taxon:8030;Name=ssa01;breed=double haploid;chromosome=ssa01;dev-stage=adult;gbkey=Src;genome=chromosome;isolate=Sally;mol_type=genomic DNA;sex=female;tissue-type=muscle\r\n",
      "NC_027300.1\t43584685\t43584708\tSal\tNC_027300.1\tGnomon\tgene\t43231716\t43660752\t.\t-\t.\tID=gene973;Dbxref=GeneID:106603022;Name=nrxn3;gbkey=Gene;gene=nrxn3;gene_biotype=protein_coding\r\n",
      "NC_027300.1\t43584685\t43584708\tSal\tNC_027300.1\tGnomon\tmRNA\t43231716\t43660752\t.\t-\t.\tID=rna1964;Parent=gene973;Dbxref=GeneID:106603022,Genbank:XM_014196169.1;Name=XM_014196169.1;gbkey=mRNA;gene=nrxn3;product=neurexin 3%2C transcript variant X7;transcript_id=XM_014196169.1\r\n",
      "NC_027300.1\t43584685\t43584708\tSal\tNC_027300.1\tGnomon\tmRNA\t43231716\t43660752\t.\t-\t.\tID=rna1965;Parent=gene973;Dbxref=GeneID:106603022,Genbank:XM_014196172.1;Name=XM_014196172.1;gbkey=mRNA;gene=nrxn3;product=neurexin 3%2C transcript variant X8;transcript_id=XM_014196172.1\r\n",
      "NC_027300.1\t43584685\t43584708\tSal\tNC_027300.1\tGnomon\tmRNA\t43231716\t43660752\t.\t-\t.\tID=rna1966;Parent=gene973;Dbxref=GeneID:106603022,Genbank:XM_014196159.1;Name=XM_014196159.1;gbkey=mRNA;gene=nrxn3;product=neurexin 3%2C transcript variant X6;transcript_id=XM_014196159.1\r\n",
      "NC_027300.1\t43584685\t43584708\tSal\tNC_027300.1\tGnomon\tmRNA\t43231716\t43660752\t.\t-\t.\tID=rna1967;Parent=gene973;Dbxref=GeneID:106603022,Genbank:XM_014196150.1;Name=XM_014196150.1;gbkey=mRNA;gene=nrxn3;product=neurexin 3%2C transcript variant X5;transcript_id=XM_014196150.1\r\n",
      "NC_027300.1\t43584685\t43584708\tSal\tNC_027300.1\tGnomon\tmRNA\t43231716\t43660752\t.\t-\t.\tID=rna1968;Parent=gene973;Dbxref=GeneID:106603022,Genbank:XM_014196206.1;Name=XM_014196206.1;gbkey=mRNA;gene=nrxn3;product=neurexin 3%2C transcript variant X12;transcript_id=XM_014196206.1\r\n",
      "NC_027300.1\t43584685\t43584708\tSal\tNC_027300.1\tGnomon\tmRNA\t43231716\t43660752\t.\t-\t.\tID=rna1969;Parent=gene973;Dbxref=GeneID:106603022,Genbank:XM_014196190.1;Name=XM_014196190.1;gbkey=mRNA;gene=nrxn3;product=neurexin 3%2C transcript variant X10;transcript_id=XM_014196190.1\r\n",
      "NC_027300.1\t43584685\t43584708\tSal\tNC_027300.1\tGnomon\tmRNA\t43231716\t43660752\t.\t-\t.\tID=rna1970;Parent=gene973;Dbxref=GeneID:106603022,Genbank:XM_014196138.1;Name=XM_014196138.1;gbkey=mRNA;gene=nrxn3;product=neurexin 3%2C transcript variant X2;transcript_id=XM_014196138.1\r\n",
      "NC_027300.1\t43584685\t43584708\tSal\tNC_027300.1\tGnomon\tmRNA\t43231716\t43660752\t.\t-\t.\tID=rna1971;Parent=gene973;Dbxref=GeneID:106603022,Genbank:XM_014196199.1;Name=XM_014196199.1;gbkey=mRNA;gene=nrxn3;product=neurexin 3%2C transcript variant X11;transcript_id=XM_014196199.1\r\n",
      "NC_027300.1\t43584685\t43584708\tSal\tNC_027300.1\tGnomon\tmRNA\t43231716\t43660752\t.\t-\t.\tID=rna1972;Parent=gene973;Dbxref=GeneID:106603022,Genbank:XM_014196182.1;Name=XM_014196182.1;gbkey=mRNA;gene=nrxn3;product=neurexin 3%2C transcript variant X9;transcript_id=XM_014196182.1\r\n",
      "NC_027300.1\t43584685\t43584708\tSal\tNC_027300.1\tGnomon\tmRNA\t43231716\t43660752\t.\t-\t.\tID=rna1973;Parent=gene973;Dbxref=GeneID:106603022,Genbank:XM_014196133.1;Name=XM_014196133.1;gbkey=mRNA;gene=nrxn3;product=neurexin 3%2C transcript variant X1;transcript_id=XM_014196133.1\r\n",
      "NC_027300.1\t43584685\t43584708\tSal\tNC_027300.1\tGnomon\tmRNA\t43231716\t43660752\t.\t-\t.\tID=rna1974;Parent=gene973;Dbxref=GeneID:106603022,Genbank:XM_014196141.1;Name=XM_014196141.1;gbkey=mRNA;gene=nrxn3;product=neurexin 3%2C transcript variant X3;transcript_id=XM_014196141.1\r\n",
      "NC_027300.1\t43584685\t43584708\tSal\tNC_027300.1\tGnomon\tmRNA\t43231716\t43660751\t.\t-\t.\tID=rna1975;Parent=gene973;Dbxref=GeneID:106603022,Genbank:XM_014196215.1;Name=XM_014196215.1;gbkey=mRNA;gene=nrxn3;product=neurexin 3%2C transcript variant X13;transcript_id=XM_014196215.1\r\n",
      "NC_027300.1\t43584685\t43584708\tSal\tNC_027300.1\tGnomon\tmRNA\t43231716\t43660751\t.\t-\t.\tID=rna1976;Parent=gene973;Dbxref=GeneID:106603022,Genbank:XM_014196145.1;Name=XM_014196145.1;gbkey=mRNA;gene=nrxn3;product=neurexin 3%2C transcript variant X4;transcript_id=XM_014196145.1\r\n",
      "NC_027300.1\t43584685\t43584708\tSal\tNC_027300.1\tGnomon\ttranscript\t43234029\t43660752\t.\t-\t.\tID=rna1979;Parent=gene973;Dbxref=GeneID:106603022,Genbank:XR_001328368.1;Name=XR_001328368.1;gbkey=misc_RNA;gene=nrxn3;product=neurexin 3%2C transcript variant X19;transcript_id=XR_001328368.1\r\n",
      "NC_027300.1\t43584685\t43584708\tSal\tNC_027300.1\tGnomon\ttranscript\t43234029\t43660752\t.\t-\t.\tID=rna1980;Parent=gene973;Dbxref=GeneID:106603022,Genbank:XR_001328365.1;Name=XR_001328365.1;gbkey=misc_RNA;gene=nrxn3;product=neurexin 3%2C transcript variant X16;transcript_id=XR_001328365.1\r\n",
      "NC_027300.1\t43584685\t43584708\tSal\tNC_027300.1\tGnomon\ttranscript\t43234029\t43660752\t.\t-\t.\tID=rna1981;Parent=gene973;Dbxref=GeneID:106603022,Genbank:XR_001328364.1;Name=XR_001328364.1;gbkey=misc_RNA;gene=nrxn3;product=neurexin 3%2C transcript variant X14;transcript_id=XR_001328364.1\r\n",
      "NC_027300.1\t43584685\t43584708\tSal\tNC_027300.1\tGnomon\tmRNA\t43237262\t43660752\t.\t-\t.\tID=rna1982;Parent=gene973;Dbxref=GeneID:106603022,Genbank:XM_014196229.1;Name=XM_014196229.1;gbkey=mRNA;gene=nrxn3;product=neurexin 3%2C transcript variant X15;transcript_id=XM_014196229.1\r\n",
      "NC_027300.1\t43584685\t43584708\tSal\tNC_027300.1\tRefSeq\tregion\t1\t159038749\t.\t+\t.\tID=id0;Dbxref=taxon:8030;Name=ssa01;breed=double haploid;chromosome=ssa01;dev-stage=adult;gbkey=Src;genome=chromosome;isolate=Sally;mol_type=genomic DNA;sex=female;tissue-type=muscle\r\n",
      "NC_027300.1\t44881038\t44881064\tSal\tNC_027300.1\tGnomon\tgene\t44861490\t44888008\t.\t-\t.\tID=gene985;Dbxref=GeneID:106602973;Name=LOC106602973;gbkey=Gene;gene=LOC106602973;gene_biotype=protein_coding\r\n",
      "NC_027300.1\t44881038\t44881064\tSal\tNC_027300.1\tGnomon\tmRNA\t44861490\t44888008\t.\t-\t.\tID=rna2002;Parent=gene985;Dbxref=GeneID:106602973,Genbank:XM_014196063.1;Name=XM_014196063.1;gbkey=mRNA;gene=LOC106602973;product=GTP cyclohydrolase 1-like;transcript_id=XM_014196063.1\r\n",
      "NC_027300.1\t44881038\t44881064\tSal\tNC_027300.1\tRefSeq\tregion\t1\t159038749\t.\t+\t.\tID=id0;Dbxref=taxon:8030;Name=ssa01;breed=double haploid;chromosome=ssa01;dev-stage=adult;gbkey=Src;genome=chromosome;isolate=Sally;mol_type=genomic DNA;sex=female;tissue-type=muscle\r\n",
      "NC_027300.1\t93503034\t93503058\tSal\tNC_027300.1\tGnomon\tgene\t93113743\t93675639\t.\t+\t.\tID=gene1755;Dbxref=GeneID:106612532;Name=LOC106612532;gbkey=Gene;gene=LOC106612532;gene_biotype=protein_coding\r\n",
      "NC_027300.1\t93503034\t93503058\tSal\tNC_027300.1\tGnomon\tmRNA\t93113743\t93675639\t.\t+\t.\tID=rna3757;Parent=gene1755;Dbxref=GeneID:106612532,Genbank:XM_014213739.1;Name=XM_014213739.1;gbkey=mRNA;gene=LOC106612532;product=CUB and sushi domain-containing protein 1-like;transcript_id=XM_014213739.1\r\n",
      "NC_027300.1\t93503034\t93503058\tSal\tNC_027300.1\tRefSeq\tregion\t1\t159038749\t.\t+\t.\tID=id0;Dbxref=taxon:8030;Name=ssa01;breed=double haploid;chromosome=ssa01;dev-stage=adult;gbkey=Src;genome=chromosome;isolate=Sally;mol_type=genomic DNA;sex=female;tissue-type=muscle\r\n",
      "NC_027300.1\t94631589\t94631672\tTemp\tNC_027300.1\tRefSeq\tregion\t1\t159038749\t.\t+\t.\tID=id0;Dbxref=taxon:8030;Name=ssa01;breed=double haploid;chromosome=ssa01;dev-stage=adult;gbkey=Src;genome=chromosome;isolate=Sally;mol_type=genomic DNA;sex=female;tissue-type=muscle\r\n",
      "NC_027302.1\t28075544\t28075562\tSal\tNC_027302.1\tRefSeq\tregion\t1\t92503428\t.\t+\t.\tID=id138090;Dbxref=taxon:8030;Name=ssa03;breed=double haploid;chromosome=ssa03;dev-stage=adult;gbkey=Src;genome=chromosome;isolate=Sally;mol_type=genomic DNA;sex=female;tissue-type=muscle\r\n",
      "NC_027302.1\t42753363\t42753374\tSal\tNC_027302.1\tRefSeq\tregion\t1\t92503428\t.\t+\t.\tID=id138090;Dbxref=taxon:8030;Name=ssa03;breed=double haploid;chromosome=ssa03;dev-stage=adult;gbkey=Src;genome=chromosome;isolate=Sally;mol_type=genomic DNA;sex=female;tissue-type=muscle\r\n",
      "NC_027302.1\t49111785\t49111893\tTempxSal\tNC_027302.1\tRefSeq\tregion\t1\t92503428\t.\t+\t.\tID=id138090;Dbxref=taxon:8030;Name=ssa03;breed=double haploid;chromosome=ssa03;dev-stage=adult;gbkey=Src;genome=chromosome;isolate=Sally;mol_type=genomic DNA;sex=female;tissue-type=muscle\r\n",
      "NC_027302.1\t55868328\t55868382\tTemp\tNC_027302.1\tRefSeq\tregion\t1\t92503428\t.\t+\t.\tID=id138090;Dbxref=taxon:8030;Name=ssa03;breed=double haploid;chromosome=ssa03;dev-stage=adult;gbkey=Src;genome=chromosome;isolate=Sally;mol_type=genomic DNA;sex=female;tissue-type=muscle\r\n",
      "NC_027302.1\t57141373\t57141415\tTemp\tNC_027302.1\tRefSeq\tregion\t1\t92503428\t.\t+\t.\tID=id138090;Dbxref=taxon:8030;Name=ssa03;breed=double haploid;chromosome=ssa03;dev-stage=adult;gbkey=Src;genome=chromosome;isolate=Sally;mol_type=genomic DNA;sex=female;tissue-type=muscle\r\n",
      "NC_027302.1\t72427680\t72427934\tTemp\tNC_027302.1\tRefSeq\tregion\t1\t92503428\t.\t+\t.\tID=id138090;Dbxref=taxon:8030;Name=ssa03;breed=double haploid;chromosome=ssa03;dev-stage=adult;gbkey=Src;genome=chromosome;isolate=Sally;mol_type=genomic DNA;sex=female;tissue-type=muscle\r\n",
      "NC_027302.1\t74632956\t74632979\tSal\tNC_027302.1\tGnomon\texon\t74632813\t74632987\t.\t+\t.\tID=id184597;Parent=rna15193;Dbxref=GeneID:106601526,Genbank:XM_014193776.1;gbkey=mRNA;gene=LOC106601526;product=uncharacterized LOC106601526%2C transcript variant X1;transcript_id=XM_014193776.1\r\n",
      "NC_027302.1\t74632956\t74632979\tSal\tNC_027302.1\tGnomon\texon\t74632813\t74632987\t.\t+\t.\tID=id184614;Parent=rna15194;Dbxref=GeneID:106601526,Genbank:XM_014193778.1;gbkey=mRNA;gene=LOC106601526;product=uncharacterized LOC106601526%2C transcript variant X2;transcript_id=XM_014193778.1\r\n",
      "NC_027302.1\t74632956\t74632979\tSal\tNC_027302.1\tGnomon\tCDS\t74632813\t74632987\t.\t+\t1\tID=cds13380;Parent=rna15193;Dbxref=GeneID:106601526,Genbank:XP_014049251.1;Name=XP_014049251.1;gbkey=CDS;gene=LOC106601526;product=uncharacterized protein LOC106601526 isoform X1;protein_id=XP_014049251.1\r\n",
      "NC_027302.1\t74632956\t74632979\tSal\tNC_027302.1\tGnomon\tCDS\t74632813\t74632987\t.\t+\t1\tID=cds13381;Parent=rna15194;Dbxref=GeneID:106601526,Genbank:XP_014049253.1;Name=XP_014049253.1;gbkey=CDS;gene=LOC106601526;product=uncharacterized protein LOC106601526 isoform X2;protein_id=XP_014049253.1\r\n",
      "NC_027302.1\t74632956\t74632979\tSal\tNC_027302.1\tGnomon\tgene\t74620014\t74636310\t.\t+\t.\tID=gene7903;Dbxref=GeneID:106601526;Name=LOC106601526;gbkey=Gene;gene=LOC106601526;gene_biotype=protein_coding\r\n",
      "NC_027302.1\t74632956\t74632979\tSal\tNC_027302.1\tGnomon\tmRNA\t74620014\t74636310\t.\t+\t.\tID=rna15193;Parent=gene7903;Dbxref=GeneID:106601526,Genbank:XM_014193776.1;Name=XM_014193776.1;gbkey=mRNA;gene=LOC106601526;product=uncharacterized LOC106601526%2C transcript variant X1;transcript_id=XM_014193776.1\r\n",
      "NC_027302.1\t74632956\t74632979\tSal\tNC_027302.1\tGnomon\tmRNA\t74620014\t74636310\t.\t+\t.\tID=rna15194;Parent=gene7903;Dbxref=GeneID:106601526,Genbank:XM_014193778.1;Name=XM_014193778.1;gbkey=mRNA;gene=LOC106601526;product=uncharacterized LOC106601526%2C transcript variant X2;transcript_id=XM_014193778.1\r\n",
      "NC_027302.1\t74632956\t74632979\tSal\tNC_027302.1\tRefSeq\tregion\t1\t92503428\t.\t+\t.\tID=id138090;Dbxref=taxon:8030;Name=ssa03;breed=double haploid;chromosome=ssa03;dev-stage=adult;gbkey=Src;genome=chromosome;isolate=Sally;mol_type=genomic DNA;sex=female;tissue-type=muscle\r\n",
      "NC_027303.1\t12923057\t12923077\tTempxSal\tNC_027303.1\tGnomon\tgene\t12920139\t12925833\t.\t-\t.\tID=gene8852;Dbxref=GeneID:106602469;Name=LOC106602469;gbkey=Gene;gene=LOC106602469;gene_biotype=protein_coding\r\n",
      "NC_027303.1\t12923057\t12923077\tTempxSal\tNC_027303.1\tGnomon\tmRNA\t12920139\t12925833\t.\t-\t.\tID=rna16623;Parent=gene8852;Dbxref=GeneID:106602469,Genbank:XM_014195138.1;Name=XM_014195138.1;gbkey=mRNA;gene=LOC106602469;product=zinc finger protein 33A-like;transcript_id=XM_014195138.1\r\n",
      "NC_027303.1\t12923057\t12923077\tTempxSal\tNC_027303.1\tGnomon\texon\t12920139\t12925833\t.\t-\t.\tID=id195504;Parent=rna16623;Dbxref=GeneID:106602469,Genbank:XM_014195138.1;gbkey=mRNA;gene=LOC106602469;product=zinc finger protein 33A-like;transcript_id=XM_014195138.1\r\n",
      "NC_027303.1\t12923057\t12923077\tTempxSal\tNC_027303.1\tBestRefSeq%2CGnomon\tgene\t12827575\t13224068\t.\t-\t.\tID=gene8846;Dbxref=GeneID:100306737;Name=zn271;description=Zinc finger protein 271;gbkey=Gene;gene=zn271;gene_biotype=protein_coding\r\n",
      "NC_027303.1\t12923057\t12923077\tTempxSal\tNC_027303.1\tGnomon\tmRNA\t12827575\t13224061\t.\t-\t.\tID=rna16610;Parent=gene8846;Dbxref=GeneID:100306737,Genbank:XM_014195007.1;Name=XM_014195007.1;gbkey=mRNA;gene=zn271;product=Zinc finger protein 271%2C transcript variant X3;transcript_id=XM_014195007.1\r\n",
      "NC_027303.1\t12923057\t12923077\tTempxSal\tNC_027303.1\tRefSeq\tregion\t1\t82398023\t.\t+\t.\tID=id191290;Dbxref=taxon:8030;Name=ssa04;breed=double haploid;chromosome=ssa04;dev-stage=adult;gbkey=Src;genome=chromosome;isolate=Sally;mol_type=genomic DNA;sex=female;tissue-type=muscle\r\n",
      "NC_027303.1\t37945477\t37945486\tTemp\tNC_027303.1\tGnomon\tgene\t37938480\t37972229\t.\t+\t.\tID=gene9722;Dbxref=GeneID:106603167;Name=LOC106603167;gbkey=Gene;gene=LOC106603167;gene_biotype=protein_coding\r\n",
      "NC_027303.1\t37945477\t37945486\tTemp\tNC_027303.1\tGnomon\tmRNA\t37938480\t37972229\t.\t+\t.\tID=rna18255;Parent=gene9722;Dbxref=GeneID:106603167,Genbank:XM_014196477.1;Name=XM_014196477.1;gbkey=mRNA;gene=LOC106603167;product=AMME syndrome candidate gene 1 protein-like;transcript_id=XM_014196477.1\r\n",
      "NC_027303.1\t37945477\t37945486\tTemp\tNC_027303.1\tRefSeq\tregion\t1\t82398023\t.\t+\t.\tID=id191290;Dbxref=taxon:8030;Name=ssa04;breed=double haploid;chromosome=ssa04;dev-stage=adult;gbkey=Src;genome=chromosome;isolate=Sally;mol_type=genomic DNA;sex=female;tissue-type=muscle\r\n",
      "NC_027303.1\t70887310\t70887383\tSal\tNC_027303.1\tRefSeq\tregion\t1\t82398023\t.\t+\t.\tID=id191290;Dbxref=taxon:8030;Name=ssa04;breed=double haploid;chromosome=ssa04;dev-stage=adult;gbkey=Src;genome=chromosome;isolate=Sally;mol_type=genomic DNA;sex=female;tissue-type=muscle\r\n",
      "NC_027304.1\t19183883\t19183901\tTempxSal\tNC_027304.1\tRefSeq\tregion\t1\t80503876\t.\t+\t.\tID=id237590;Dbxref=taxon:8030;Name=ssa05;breed=double haploid;chromosome=ssa05;dev-stage=adult;gbkey=Src;genome=chromosome;isolate=Sally;mol_type=genomic DNA;sex=female;tissue-type=muscle\r\n",
      "NC_027304.1\t29426673\t29426797\tTemp\tNC_027304.1\tRefSeq\tregion\t1\t80503876\t.\t+\t.\tID=id237590;Dbxref=taxon:8030;Name=ssa05;breed=double haploid;chromosome=ssa05;dev-stage=adult;gbkey=Src;genome=chromosome;isolate=Sally;mol_type=genomic DNA;sex=female;tissue-type=muscle\r\n",
      "NC_027304.1\t38776704\t38776764\tTempxSal\tNC_027304.1\tGnomon\tgene\t38759101\t38795853\t.\t+\t.\tID=gene11550;Dbxref=GeneID:106604909;Name=LOC106604909;gbkey=Gene;gene=LOC106604909;gene_biotype=protein_coding\r\n",
      "NC_027304.1\t38776704\t38776764\tTempxSal\tNC_027304.1\tGnomon\tmRNA\t38759101\t38795853\t.\t+\t.\tID=rna21972;Parent=gene11550;Dbxref=GeneID:106604909,Genbank:XM_014200030.1;Name=XM_014200030.1;gbkey=mRNA;gene=LOC106604909;product=glutamine--fructose-6-phosphate aminotransferase [isomerizing] 2-like;transcript_id=XM_014200030.1\r\n",
      "NC_027304.1\t38776704\t38776764\tTempxSal\tNC_027304.1\tRefSeq\tregion\t1\t80503876\t.\t+\t.\tID=id237590;Dbxref=taxon:8030;Name=ssa05;breed=double haploid;chromosome=ssa05;dev-stage=adult;gbkey=Src;genome=chromosome;isolate=Sally;mol_type=genomic DNA;sex=female;tissue-type=muscle\r\n",
      "NC_027304.1\t48224553\t48224577\tTemp+Sal\tNC_027304.1\tGnomon\tgene\t48171765\t48246059\t.\t+\t.\tID=gene11701;Dbxref=GeneID:106605061;Name=LOC106605061;gbkey=Gene;gene=LOC106605061;gene_biotype=protein_coding;partial=true\r\n",
      "NC_027304.1\t48224553\t48224577\tTemp+Sal\tNC_027304.1\tGnomon\tmRNA\t48171765\t48246059\t.\t+\t.\tID=rna22265;Parent=gene11701;Dbxref=GeneID:106605061,Genbank:XM_014200320.1;Name=XM_014200320.1;Note=The sequence of the model RefSeq transcript was modified relative to this genomic sequence to represent the inferred CDS: added 3180 bases not found in genome assembly;exception=annotated by transcript or proteomic data;gbkey=mRNA;gene=LOC106605061;partial=true;product=plectin-like;transcript_id=XM_014200320.1\r\n",
      "NC_027304.1\t48224553\t48224577\tTemp+Sal\tNC_027304.1\tRefSeq\tregion\t1\t80503876\t.\t+\t.\tID=id237590;Dbxref=taxon:8030;Name=ssa05;breed=double haploid;chromosome=ssa05;dev-stage=adult;gbkey=Src;genome=chromosome;isolate=Sally;mol_type=genomic DNA;sex=female;tissue-type=muscle\r\n",
      "NC_027304.1\t73045273\t73045324\tSal\tNC_027304.1\tRefSeq\tregion\t1\t80503876\t.\t+\t.\tID=id237590;Dbxref=taxon:8030;Name=ssa05;breed=double haploid;chromosome=ssa05;dev-stage=adult;gbkey=Src;genome=chromosome;isolate=Sally;mol_type=genomic DNA;sex=female;tissue-type=muscle\r\n",
      "NC_027305.1\t13419303\t13419319\tTempxSal\tNC_027305.1\tRefSeq\tregion\t1\t87043187\t.\t+\t.\tID=id278955;Dbxref=taxon:8030;Name=ssa06;breed=double haploid;chromosome=ssa06;dev-stage=adult;gbkey=Src;genome=chromosome;isolate=Sally;mol_type=genomic DNA;sex=female;tissue-type=muscle\r\n",
      "NC_027305.1\t1463039\t1463383\tTempxSal\tNC_027305.1\tGnomon\tgene\t1462158\t1467551\t.\t-\t.\tID=gene12887;Dbxref=GeneID:106606233;Name=LOC106606233;gbkey=Gene;gene=LOC106606233;gene_biotype=protein_coding\r\n",
      "NC_027305.1\t1463039\t1463383\tTempxSal\tNC_027305.1\tGnomon\tmRNA\t1462158\t1467551\t.\t-\t.\tID=rna24456;Parent=gene12887;Dbxref=GeneID:106606233,Genbank:XM_014202381.1;Name=XM_014202381.1;gbkey=mRNA;gene=LOC106606233;product=GTPase IMAP family member 4-like;transcript_id=XM_014202381.1\r\n",
      "NC_027305.1\t1463039\t1463383\tTempxSal\tNC_027305.1\tGnomon\texon\t1462158\t1463456\t.\t-\t.\tID=id279449;Parent=rna24456;Dbxref=GeneID:106606233,Genbank:XM_014202381.1;gbkey=mRNA;gene=LOC106606233;product=GTPase IMAP family member 4-like;transcript_id=XM_014202381.1\r\n",
      "NC_027305.1\t1463039\t1463383\tTempxSal\tNC_027305.1\tGnomon\tCDS\t1462667\t1463456\t.\t-\t1\tID=cds21419;Parent=rna24456;Dbxref=GeneID:106606233,Genbank:XP_014057856.1;Name=XP_014057856.1;gbkey=CDS;gene=LOC106606233;product=GTPase IMAP family member 4-like;protein_id=XP_014057856.1\r\n",
      "NC_027305.1\t1463039\t1463383\tTempxSal\tNC_027305.1\tRefSeq\tregion\t1\t87043187\t.\t+\t.\tID=id278955;Dbxref=taxon:8030;Name=ssa06;breed=double haploid;chromosome=ssa06;dev-stage=adult;gbkey=Src;genome=chromosome;isolate=Sally;mol_type=genomic DNA;sex=female;tissue-type=muscle\r\n",
      "NC_027305.1\t46511852\t46511875\tTemp\tNC_027305.1\tRefSeq\tregion\t1\t87043187\t.\t+\t.\tID=id278955;Dbxref=taxon:8030;Name=ssa06;breed=double haploid;chromosome=ssa06;dev-stage=adult;gbkey=Src;genome=chromosome;isolate=Sally;mol_type=genomic DNA;sex=female;tissue-type=muscle\r\n",
      "NC_027305.1\t66254286\t66254362\tSal\tNC_027305.1\tGnomon\texon\t66253819\t66254686\t.\t-\t.\tID=id315001;Parent=rna27827;Dbxref=GeneID:106607995,Genbank:XM_014205579.1;gbkey=mRNA;gene=LOC106607995;product=metabotropic glutamate receptor 1-like%2C transcript variant X1;transcript_id=XM_014205579.1\r\n",
      "NC_027305.1\t66254286\t66254362\tSal\tNC_027305.1\tGnomon\texon\t66253819\t66254686\t.\t-\t.\tID=id315011;Parent=rna27828;Dbxref=GeneID:106607995,Genbank:XM_014205581.1;gbkey=mRNA;gene=LOC106607995;product=metabotropic glutamate receptor 1-like%2C transcript variant X3;transcript_id=XM_014205581.1\r\n",
      "NC_027305.1\t66254286\t66254362\tSal\tNC_027305.1\tGnomon\texon\t66253819\t66254686\t.\t-\t.\tID=id315020;Parent=rna27829;Dbxref=GeneID:106607995,Genbank:XM_014205580.1;gbkey=mRNA;gene=LOC106607995;product=metabotropic glutamate receptor 1-like%2C transcript variant X2;transcript_id=XM_014205580.1\r\n",
      "NC_027305.1\t66254286\t66254362\tSal\tNC_027305.1\tGnomon\tCDS\t66253819\t66254545\t.\t-\t0\tID=cds24381;Parent=rna27828;Dbxref=GeneID:106607995,Genbank:XP_014061056.1;Name=XP_014061056.1;gbkey=CDS;gene=LOC106607995;product=metabotropic glutamate receptor 1-like isoform X2;protein_id=XP_014061056.1\r\n",
      "NC_027305.1\t66254286\t66254362\tSal\tNC_027305.1\tGnomon\tCDS\t66253819\t66254545\t.\t-\t0\tID=cds24382;Parent=rna27827;Dbxref=GeneID:106607995,Genbank:XP_014061054.1;Name=XP_014061054.1;gbkey=CDS;gene=LOC106607995;product=metabotropic glutamate receptor 1-like isoform X1;protein_id=XP_014061054.1\r\n",
      "NC_027305.1\t66254286\t66254362\tSal\tNC_027305.1\tGnomon\tCDS\t66253819\t66254545\t.\t-\t0\tID=cds24383;Parent=rna27829;Dbxref=GeneID:106607995,Genbank:XP_014061055.1;Name=XP_014061055.1;gbkey=CDS;gene=LOC106607995;product=metabotropic glutamate receptor 1-like isoform X1;protein_id=XP_014061055.1\r\n",
      "NC_027305.1\t66254286\t66254362\tSal\tNC_027305.1\tGnomon\texon\t66253819\t66254686\t.\t-\t.\tID=id315030;Parent=rna27830;Dbxref=GeneID:106607995,Genbank:XM_014205583.1;gbkey=mRNA;gene=LOC106607995;product=metabotropic glutamate receptor 1-like%2C transcript variant X4;transcript_id=XM_014205583.1\r\n",
      "NC_027305.1\t66254286\t66254362\tSal\tNC_027305.1\tGnomon\tCDS\t66253819\t66254545\t.\t-\t0\tID=cds24384;Parent=rna27830;Dbxref=GeneID:106607995,Genbank:XP_014061058.1;Name=XP_014061058.1;gbkey=CDS;gene=LOC106607995;product=metabotropic glutamate receptor 1-like isoform X3;protein_id=XP_014061058.1\r\n",
      "NC_027305.1\t66254286\t66254362\tSal\tNC_027305.1\tGnomon\tgene\t66212406\t66256146\t.\t-\t.\tID=gene14802;Dbxref=GeneID:106607995;Name=LOC106607995;gbkey=Gene;gene=LOC106607995;gene_biotype=protein_coding\r\n",
      "NC_027305.1\t66254286\t66254362\tSal\tNC_027305.1\tGnomon\tmRNA\t66212406\t66256146\t.\t-\t.\tID=rna27827;Parent=gene14802;Dbxref=GeneID:106607995,Genbank:XM_014205579.1;Name=XM_014205579.1;gbkey=mRNA;gene=LOC106607995;product=metabotropic glutamate receptor 1-like%2C transcript variant X1;transcript_id=XM_014205579.1\r\n",
      "NC_027305.1\t66254286\t66254362\tSal\tNC_027305.1\tGnomon\tmRNA\t66212406\t66256143\t.\t-\t.\tID=rna27828;Parent=gene14802;Dbxref=GeneID:106607995,Genbank:XM_014205581.1;Name=XM_014205581.1;gbkey=mRNA;gene=LOC106607995;product=metabotropic glutamate receptor 1-like%2C transcript variant X3;transcript_id=XM_014205581.1\r\n",
      "NC_027305.1\t66254286\t66254362\tSal\tNC_027305.1\tGnomon\tmRNA\t66212406\t66255667\t.\t-\t.\tID=rna27829;Parent=gene14802;Dbxref=GeneID:106607995,Genbank:XM_014205580.1;Name=XM_014205580.1;gbkey=mRNA;gene=LOC106607995;product=metabotropic glutamate receptor 1-like%2C transcript variant X2;transcript_id=XM_014205580.1\r\n",
      "NC_027305.1\t66254286\t66254362\tSal\tNC_027305.1\tGnomon\tmRNA\t66215618\t66256142\t.\t-\t.\tID=rna27830;Parent=gene14802;Dbxref=GeneID:106607995,Genbank:XM_014205583.1;Name=XM_014205583.1;gbkey=mRNA;gene=LOC106607995;product=metabotropic glutamate receptor 1-like%2C transcript variant X4;transcript_id=XM_014205583.1\r\n",
      "NC_027305.1\t66254286\t66254362\tSal\tNC_027305.1\tRefSeq\tregion\t1\t87043187\t.\t+\t.\tID=id278955;Dbxref=taxon:8030;Name=ssa06;breed=double haploid;chromosome=ssa06;dev-stage=adult;gbkey=Src;genome=chromosome;isolate=Sally;mol_type=genomic DNA;sex=female;tissue-type=muscle\r\n",
      "NC_027305.1\t85886705\t85886790\tTemp\tNC_027305.1\tRefSeq\tregion\t1\t87043187\t.\t+\t.\tID=id278955;Dbxref=taxon:8030;Name=ssa06;breed=double haploid;chromosome=ssa06;dev-stage=adult;gbkey=Src;genome=chromosome;isolate=Sally;mol_type=genomic DNA;sex=female;tissue-type=muscle\r\n",
      "NC_027307.1\t17061731\t17061994\tTemp\tNC_027307.1\tRefSeq\tregion\t1\t26434011\t.\t+\t.\tID=id356117;Dbxref=taxon:8030;Name=ssa08;breed=double haploid;chromosome=ssa08;dev-stage=adult;gbkey=Src;genome=chromosome;isolate=Sally;mol_type=genomic DNA;sex=female;tissue-type=muscle\r\n",
      "NC_027307.1\t381987\t382077\tTempxSal\tNC_027307.1\tRefSeq\tregion\t1\t26434011\t.\t+\t.\tID=id356117;Dbxref=taxon:8030;Name=ssa08;breed=double haploid;chromosome=ssa08;dev-stage=adult;gbkey=Src;genome=chromosome;isolate=Sally;mol_type=genomic DNA;sex=female;tissue-type=muscle\r\n",
      "NC_027308.1\t11856227\t11856254\tSal\tNC_027308.1\tRefSeq\tregion\t1\t141712163\t.\t+\t.\tID=id365839;Dbxref=taxon:8030;Name=ssa09;breed=double haploid;chromosome=ssa09;dev-stage=adult;gbkey=Src;genome=chromosome;isolate=Sally;mol_type=genomic DNA;sex=female;tissue-type=muscle\r\n",
      "NC_027308.1\t17090706\t17090869\tTempxSal\tNC_027308.1\tRefSeq\tregion\t1\t141712163\t.\t+\t.\tID=id365839;Dbxref=taxon:8030;Name=ssa09;breed=double haploid;chromosome=ssa09;dev-stage=adult;gbkey=Src;genome=chromosome;isolate=Sally;mol_type=genomic DNA;sex=female;tissue-type=muscle\r\n",
      "NC_027308.1\t4330278\t4330314\tTemp\tNC_027308.1\tRefSeq\tregion\t1\t141712163\t.\t+\t.\tID=id365839;Dbxref=taxon:8030;Name=ssa09;breed=double haploid;chromosome=ssa09;dev-stage=adult;gbkey=Src;genome=chromosome;isolate=Sally;mol_type=genomic DNA;sex=female;tissue-type=muscle\r\n",
      "NC_027308.1\t67939052\t67939075\tTemp\tNC_027308.1\tRefSeq\tregion\t1\t141712163\t.\t+\t.\tID=id365839;Dbxref=taxon:8030;Name=ssa09;breed=double haploid;chromosome=ssa09;dev-stage=adult;gbkey=Src;genome=chromosome;isolate=Sally;mol_type=genomic DNA;sex=female;tissue-type=muscle\r\n",
      "NC_027308.1\t96183798\t96183831\tSal\tNC_027308.1\tGnomon\tgene\t96182493\t96186181\t.\t+\t.\tID=gene19452;Dbxref=GeneID:106612500;Name=LOC106612500;gbkey=Gene;gene=LOC106612500;gene_biotype=lncRNA\r\n",
      "NC_027308.1\t96183798\t96183831\tSal\tNC_027308.1\tGnomon\tncRNA\t96182493\t96186181\t.\t+\t.\tID=rna36449;Parent=gene19452;Dbxref=GeneID:106612500,Genbank:XR_001330311.1;Name=XR_001330311.1;gbkey=ncRNA;gene=LOC106612500;ncrna_class=lncRNA;product=uncharacterized LOC106612500;transcript_id=XR_001330311.1\r\n",
      "NC_027308.1\t96183798\t96183831\tSal\tNC_027308.1\tRefSeq\tregion\t1\t141712163\t.\t+\t.\tID=id365839;Dbxref=taxon:8030;Name=ssa09;breed=double haploid;chromosome=ssa09;dev-stage=adult;gbkey=Src;genome=chromosome;isolate=Sally;mol_type=genomic DNA;sex=female;tissue-type=muscle\r\n",
      "NC_027309.1\t3559003\t3559033\tTempxSal\tNC_027309.1\tGnomon\tgene\t3522220\t3978254\t.\t+\t.\tID=gene20461;Dbxref=GeneID:106613444;Name=negr1;gbkey=Gene;gene=negr1;gene_biotype=protein_coding\r\n",
      "NC_027309.1\t3559003\t3559033\tTempxSal\tNC_027309.1\tGnomon\tmRNA\t3522220\t3978254\t.\t+\t.\tID=rna38570;Parent=gene20461;Dbxref=GeneID:106613444,Genbank:XM_014215672.1;Name=XM_014215672.1;gbkey=mRNA;gene=negr1;product=neuronal growth regulator 1%2C transcript variant X1;transcript_id=XM_014215672.1\r\n",
      "NC_027309.1\t3559003\t3559033\tTempxSal\tNC_027309.1\tGnomon\tmRNA\t3522220\t3970407\t.\t+\t.\tID=rna38571;Parent=gene20461;Dbxref=GeneID:106613444,Genbank:XM_014215674.1;Name=XM_014215674.1;gbkey=mRNA;gene=negr1;product=neuronal growth regulator 1%2C transcript variant X3;transcript_id=XM_014215674.1\r\n",
      "NC_027309.1\t3559003\t3559033\tTempxSal\tNC_027309.1\tGnomon\tmRNA\t3522220\t3915736\t.\t+\t.\tID=rna38572;Parent=gene20461;Dbxref=GeneID:106613444,Genbank:XM_014215675.1;Name=XM_014215675.1;gbkey=mRNA;gene=negr1;product=neuronal growth regulator 1%2C transcript variant X4;transcript_id=XM_014215675.1\r\n",
      "NC_027309.1\t3559003\t3559033\tTempxSal\tNC_027309.1\tGnomon\tmRNA\t3522221\t3978254\t.\t+\t.\tID=rna38573;Parent=gene20461;Dbxref=GeneID:106613444,Genbank:XM_014215673.1;Name=XM_014215673.1;gbkey=mRNA;gene=negr1;product=neuronal growth regulator 1%2C transcript variant X2;transcript_id=XM_014215673.1\r\n",
      "NC_027309.1\t3559003\t3559033\tTempxSal\tNC_027309.1\tGnomon\tmRNA\t3522221\t3970407\t.\t+\t.\tID=rna38574;Parent=gene20461;Dbxref=GeneID:106613444,Genbank:XM_014215676.1;Name=XM_014215676.1;gbkey=mRNA;gene=negr1;product=neuronal growth regulator 1%2C transcript variant X5;transcript_id=XM_014215676.1\r\n",
      "NC_027309.1\t3559003\t3559033\tTempxSal\tNC_027309.1\tRefSeq\tregion\t1\t116138521\t.\t+\t.\tID=id436755;Dbxref=taxon:8030;Name=ssa10;breed=double haploid;chromosome=ssa10;dev-stage=adult;gbkey=Src;genome=chromosome;isolate=Sally;mol_type=genomic DNA;sex=female;tissue-type=muscle\r\n",
      "NC_027309.1\t63837338\t63837373\tSal\tNC_027309.1\tGnomon\texon\t63836953\t63838625\t.\t-\t.\tID=id474079;Parent=rna41074;Dbxref=GeneID:106560763,Genbank:XM_014123984.1;gbkey=mRNA;gene=LOC106560763;product=activating molecule in BECN1-regulated autophagy protein 1-like%2C transcript variant X2;transcript_id=XM_014123984.1\r\n",
      "NC_027309.1\t63837338\t63837373\tSal\tNC_027309.1\tGnomon\texon\t63836953\t63838625\t.\t-\t.\tID=id474097;Parent=rna41075;Dbxref=GeneID:106560763,Genbank:XM_014123983.1;gbkey=mRNA;gene=LOC106560763;product=activating molecule in BECN1-regulated autophagy protein 1-like%2C transcript variant X1;transcript_id=XM_014123983.1\r\n",
      "NC_027309.1\t63837338\t63837373\tSal\tNC_027309.1\tGnomon\tCDS\t63836953\t63838625\t.\t-\t0\tID=cds36059;Parent=rna41074;Dbxref=GeneID:106560763,Genbank:XP_013979459.1;Name=XP_013979459.1;gbkey=CDS;gene=LOC106560763;product=activating molecule in BECN1-regulated autophagy protein 1-like isoform X2;protein_id=XP_013979459.1\r\n",
      "NC_027309.1\t63837338\t63837373\tSal\tNC_027309.1\tGnomon\tCDS\t63836953\t63838625\t.\t-\t0\tID=cds36060;Parent=rna41075;Dbxref=GeneID:106560763,Genbank:XP_013979458.1;Name=XP_013979458.1;gbkey=CDS;gene=LOC106560763;product=activating molecule in BECN1-regulated autophagy protein 1-like isoform X1;protein_id=XP_013979458.1\r\n",
      "NC_027309.1\t63837338\t63837373\tSal\tNC_027309.1\tGnomon\tgene\t63803157\t63851652\t.\t-\t.\tID=gene21595;Dbxref=GeneID:106560763;Name=LOC106560763;gbkey=Gene;gene=LOC106560763;gene_biotype=protein_coding\r\n",
      "NC_027309.1\t63837338\t63837373\tSal\tNC_027309.1\tGnomon\tmRNA\t63803157\t63851652\t.\t-\t.\tID=rna41074;Parent=gene21595;Dbxref=GeneID:106560763,Genbank:XM_014123984.1;Name=XM_014123984.1;gbkey=mRNA;gene=LOC106560763;product=activating molecule in BECN1-regulated autophagy protein 1-like%2C transcript variant X2;transcript_id=XM_014123984.1\r\n",
      "NC_027309.1\t63837338\t63837373\tSal\tNC_027309.1\tGnomon\tmRNA\t63803157\t63851652\t.\t-\t.\tID=rna41075;Parent=gene21595;Dbxref=GeneID:106560763,Genbank:XM_014123983.1;Name=XM_014123983.1;gbkey=mRNA;gene=LOC106560763;product=activating molecule in BECN1-regulated autophagy protein 1-like%2C transcript variant X1;transcript_id=XM_014123983.1\r\n",
      "NC_027309.1\t63837338\t63837373\tSal\tNC_027309.1\tRefSeq\tregion\t1\t116138521\t.\t+\t.\tID=id436755;Dbxref=taxon:8030;Name=ssa10;breed=double haploid;chromosome=ssa10;dev-stage=adult;gbkey=Src;genome=chromosome;isolate=Sally;mol_type=genomic DNA;sex=female;tissue-type=muscle\r\n",
      "NC_027309.1\t72144798\t72144824\tTemp\tNC_027309.1\tGnomon\texon\t72144672\t72144872\t.\t-\t.\tID=id479062;Parent=rna41426;Dbxref=GeneID:106560993,Genbank:XM_014124505.1;gbkey=mRNA;gene=LOC106560993;product=sodium- and chloride-dependent GABA transporter 2-like;transcript_id=XM_014124505.1\r\n",
      "NC_027309.1\t72144798\t72144824\tTemp\tNC_027309.1\tGnomon\tCDS\t72144672\t72144872\t.\t-\t2\tID=cds36376;Parent=rna41426;Dbxref=GeneID:106560993,Genbank:XP_013979980.1;Name=XP_013979980.1;gbkey=CDS;gene=LOC106560993;product=sodium- and chloride-dependent GABA transporter 2-like;protein_id=XP_013979980.1\r\n",
      "NC_027309.1\t72144798\t72144824\tTemp\tNC_027309.1\tGnomon\tgene\t72130007\t72150863\t.\t-\t.\tID=gene21748;Dbxref=GeneID:106560993;Name=LOC106560993;gbkey=Gene;gene=LOC106560993;gene_biotype=protein_coding\r\n",
      "NC_027309.1\t72144798\t72144824\tTemp\tNC_027309.1\tGnomon\tmRNA\t72130007\t72150863\t.\t-\t.\tID=rna41426;Parent=gene21748;Dbxref=GeneID:106560993,Genbank:XM_014124505.1;Name=XM_014124505.1;gbkey=mRNA;gene=LOC106560993;product=sodium- and chloride-dependent GABA transporter 2-like;transcript_id=XM_014124505.1\r\n",
      "NC_027309.1\t72144798\t72144824\tTemp\tNC_027309.1\tRefSeq\tregion\t1\t116138521\t.\t+\t.\tID=id436755;Dbxref=taxon:8030;Name=ssa10;breed=double haploid;chromosome=ssa10;dev-stage=adult;gbkey=Src;genome=chromosome;isolate=Sally;mol_type=genomic DNA;sex=female;tissue-type=muscle\r\n",
      "NC_027310.1\t14640529\t14640571\tSal\tNC_027310.1\tRefSeq\tregion\t1\t93888508\t.\t+\t.\tID=id503908;Dbxref=taxon:8030;Name=ssa11;breed=double haploid;chromosome=ssa11;dev-stage=adult;gbkey=Src;genome=chromosome;isolate=Sally;mol_type=genomic DNA;sex=female;tissue-type=muscle\r\n",
      "NC_027310.1\t18708705\t18708836\tSal\tNC_027310.1\tRefSeq\tregion\t1\t93888508\t.\t+\t.\tID=id503908;Dbxref=taxon:8030;Name=ssa11;breed=double haploid;chromosome=ssa11;dev-stage=adult;gbkey=Src;genome=chromosome;isolate=Sally;mol_type=genomic DNA;sex=female;tissue-type=muscle\r\n",
      "NC_027310.1\t41258836\t41258877\tTemp\tNC_027310.1\tRefSeq\tregion\t1\t93888508\t.\t+\t.\tID=id503908;Dbxref=taxon:8030;Name=ssa11;breed=double haploid;chromosome=ssa11;dev-stage=adult;gbkey=Src;genome=chromosome;isolate=Sally;mol_type=genomic DNA;sex=female;tissue-type=muscle\r\n",
      "NC_027310.1\t49643898\t49643920\tTempxSal\tNC_027310.1\tGnomon\tgene\t49632085\t49653133\t.\t-\t.\tID=gene23748;Dbxref=GeneID:106562906;Name=LOC106562906;gbkey=Gene;gene=LOC106562906;gene_biotype=protein_coding\r\n",
      "NC_027310.1\t49643898\t49643920\tTempxSal\tNC_027310.1\tGnomon\tmRNA\t49632085\t49653133\t.\t-\t.\tID=rna45278;Parent=gene23748;Dbxref=GeneID:106562906,Genbank:XM_014127985.1;Name=XM_014127985.1;gbkey=mRNA;gene=LOC106562906;product=zinc finger MIZ domain-containing protein 2-like%2C transcript variant X5;transcript_id=XM_014127985.1\r\n",
      "NC_027310.1\t49643898\t49643920\tTempxSal\tNC_027310.1\tGnomon\tmRNA\t49632085\t49653133\t.\t-\t.\tID=rna45279;Parent=gene23748;Dbxref=GeneID:106562906,Genbank:XM_014127982.1;Name=XM_014127982.1;gbkey=mRNA;gene=LOC106562906;product=zinc finger MIZ domain-containing protein 2-like%2C transcript variant X2;transcript_id=XM_014127982.1\r\n",
      "NC_027310.1\t49643898\t49643920\tTempxSal\tNC_027310.1\tGnomon\tmRNA\t49632085\t49653133\t.\t-\t.\tID=rna45280;Parent=gene23748;Dbxref=GeneID:106562906,Genbank:XM_014127983.1;Name=XM_014127983.1;gbkey=mRNA;gene=LOC106562906;product=zinc finger MIZ domain-containing protein 2-like%2C transcript variant X3;transcript_id=XM_014127983.1\r\n",
      "NC_027310.1\t49643898\t49643920\tTempxSal\tNC_027310.1\tGnomon\tmRNA\t49632085\t49653133\t.\t-\t.\tID=rna45281;Parent=gene23748;Dbxref=GeneID:106562906,Genbank:XM_014127990.1;Name=XM_014127990.1;gbkey=mRNA;gene=LOC106562906;product=zinc finger MIZ domain-containing protein 2-like%2C transcript variant X9;transcript_id=XM_014127990.1\r\n",
      "NC_027310.1\t49643898\t49643920\tTempxSal\tNC_027310.1\tGnomon\tmRNA\t49632085\t49653133\t.\t-\t.\tID=rna45282;Parent=gene23748;Dbxref=GeneID:106562906,Genbank:XM_014127986.1;Name=XM_014127986.1;gbkey=mRNA;gene=LOC106562906;product=zinc finger MIZ domain-containing protein 2-like%2C transcript variant X6;transcript_id=XM_014127986.1\r\n",
      "NC_027310.1\t49643898\t49643920\tTempxSal\tNC_027310.1\tGnomon\tmRNA\t49632085\t49653133\t.\t-\t.\tID=rna45283;Parent=gene23748;Dbxref=GeneID:106562906,Genbank:XM_014127988.1;Name=XM_014127988.1;gbkey=mRNA;gene=LOC106562906;product=zinc finger MIZ domain-containing protein 2-like%2C transcript variant X7;transcript_id=XM_014127988.1\r\n",
      "NC_027310.1\t49643898\t49643920\tTempxSal\tNC_027310.1\tGnomon\tmRNA\t49632085\t49653133\t.\t-\t.\tID=rna45284;Parent=gene23748;Dbxref=GeneID:106562906,Genbank:XM_014127984.1;Name=XM_014127984.1;gbkey=mRNA;gene=LOC106562906;product=zinc finger MIZ domain-containing protein 2-like%2C transcript variant X4;transcript_id=XM_014127984.1\r\n",
      "NC_027310.1\t49643898\t49643920\tTempxSal\tNC_027310.1\tGnomon\tmRNA\t49632085\t49653133\t.\t-\t.\tID=rna45285;Parent=gene23748;Dbxref=GeneID:106562906,Genbank:XM_014127981.1;Name=XM_014127981.1;gbkey=mRNA;gene=LOC106562906;product=zinc finger MIZ domain-containing protein 2-like%2C transcript variant X1;transcript_id=XM_014127981.1\r\n",
      "NC_027310.1\t49643898\t49643920\tTempxSal\tNC_027310.1\tGnomon\tmRNA\t49633837\t49653133\t.\t-\t.\tID=rna45286;Parent=gene23748;Dbxref=GeneID:106562906,Genbank:XM_014127991.1;Name=XM_014127991.1;gbkey=mRNA;gene=LOC106562906;product=zinc finger MIZ domain-containing protein 2-like%2C transcript variant X10;transcript_id=XM_014127991.1\r\n",
      "NC_027310.1\t49643898\t49643920\tTempxSal\tNC_027310.1\tGnomon\tmRNA\t49633869\t49653133\t.\t-\t.\tID=rna45287;Parent=gene23748;Dbxref=GeneID:106562906,Genbank:XM_014127989.1;Name=XM_014127989.1;gbkey=mRNA;gene=LOC106562906;product=zinc finger MIZ domain-containing protein 2-like%2C transcript variant X8;transcript_id=XM_014127989.1\r\n",
      "NC_027310.1\t49643898\t49643920\tTempxSal\tNC_027310.1\tRefSeq\tregion\t1\t93888508\t.\t+\t.\tID=id503908;Dbxref=taxon:8030;Name=ssa11;breed=double haploid;chromosome=ssa11;dev-stage=adult;gbkey=Src;genome=chromosome;isolate=Sally;mol_type=genomic DNA;sex=female;tissue-type=muscle\r\n",
      "NC_027310.1\t58009055\t58009070\tTempxSal\tNC_027310.1\tGnomon\texon\t58008979\t58009159\t.\t-\t.\tID=id530530;Parent=rna45619;Dbxref=GeneID:106563032,Genbank:XM_014128239.1;gbkey=mRNA;gene=LOC106563032;product=synaptic vesicle glycoprotein 2C-like;transcript_id=XM_014128239.1\r\n",
      "NC_027310.1\t58009055\t58009070\tTempxSal\tNC_027310.1\tGnomon\tCDS\t58008979\t58009159\t.\t-\t2\tID=cds40062;Parent=rna45619;Dbxref=GeneID:106563032,Genbank:XP_013983714.1;Name=XP_013983714.1;gbkey=CDS;gene=LOC106563032;product=synaptic vesicle glycoprotein 2C-like;protein_id=XP_013983714.1\r\n",
      "NC_027310.1\t58009055\t58009070\tTempxSal\tNC_027310.1\tGnomon\tgene\t57975041\t58043797\t.\t-\t.\tID=gene23929;Dbxref=GeneID:106563032;Name=LOC106563032;gbkey=Gene;gene=LOC106563032;gene_biotype=protein_coding\r\n",
      "NC_027310.1\t58009055\t58009070\tTempxSal\tNC_027310.1\tGnomon\tmRNA\t57975041\t58043797\t.\t-\t.\tID=rna45619;Parent=gene23929;Dbxref=GeneID:106563032,Genbank:XM_014128239.1;Name=XM_014128239.1;gbkey=mRNA;gene=LOC106563032;product=synaptic vesicle glycoprotein 2C-like;transcript_id=XM_014128239.1\r\n",
      "NC_027310.1\t58009055\t58009070\tTempxSal\tNC_027310.1\tRefSeq\tregion\t1\t93888508\t.\t+\t.\tID=id503908;Dbxref=taxon:8030;Name=ssa11;breed=double haploid;chromosome=ssa11;dev-stage=adult;gbkey=Src;genome=chromosome;isolate=Sally;mol_type=genomic DNA;sex=female;tissue-type=muscle\r\n",
      "NC_027310.1\t73823882\t73823896\tTempxSal\tNC_027310.1\tGnomon\tgene\t73809234\t73826641\t.\t-\t.\tID=gene24241;Dbxref=GeneID:106563394;Name=LOC106563394;gbkey=Gene;gene=LOC106563394;gene_biotype=protein_coding\r\n",
      "NC_027310.1\t73823882\t73823896\tTempxSal\tNC_027310.1\tGnomon\tmRNA\t73809234\t73826641\t.\t-\t.\tID=rna46300;Parent=gene24241;Dbxref=GeneID:106563394,Genbank:XM_014128908.1;Name=XM_014128908.1;gbkey=mRNA;gene=LOC106563394;product=55 kDa erythrocyte membrane protein-like%2C transcript variant X2;transcript_id=XM_014128908.1\r\n",
      "NC_027310.1\t73823882\t73823896\tTempxSal\tNC_027310.1\tGnomon\tmRNA\t73809234\t73826639\t.\t-\t.\tID=rna46301;Parent=gene24241;Dbxref=GeneID:106563394,Genbank:XM_014128907.1;Name=XM_014128907.1;gbkey=mRNA;gene=LOC106563394;product=55 kDa erythrocyte membrane protein-like%2C transcript variant X1;transcript_id=XM_014128907.1\r\n",
      "NC_027310.1\t73823882\t73823896\tTempxSal\tNC_027310.1\tRefSeq\tregion\t1\t93888508\t.\t+\t.\tID=id503908;Dbxref=taxon:8030;Name=ssa11;breed=double haploid;chromosome=ssa11;dev-stage=adult;gbkey=Src;genome=chromosome;isolate=Sally;mol_type=genomic DNA;sex=female;tissue-type=muscle\r\n",
      "NC_027310.1\t9363305\t9363376\tTemp\tNC_027310.1\tGnomon\tgene\t9352168\t9464323\t.\t+\t.\tID=gene22791;Dbxref=GeneID:106561945;Name=LOC106561945;gbkey=Gene;gene=LOC106561945;gene_biotype=protein_coding\r\n",
      "NC_027310.1\t9363305\t9363376\tTemp\tNC_027310.1\tGnomon\tmRNA\t9352168\t9464323\t.\t+\t.\tID=rna43628;Parent=gene22791;Dbxref=GeneID:106561945,Genbank:XM_014126406.1;Name=XM_014126406.1;gbkey=mRNA;gene=LOC106561945;product=activating molecule in BECN1-regulated autophagy protein 1-like%2C transcript variant X4;transcript_id=XM_014126406.1\r\n",
      "NC_027310.1\t9363305\t9363376\tTemp\tNC_027310.1\tGnomon\tmRNA\t9352171\t9464323\t.\t+\t.\tID=rna43629;Parent=gene22791;Dbxref=GeneID:106561945,Genbank:XM_014126405.1;Name=XM_014126405.1;gbkey=mRNA;gene=LOC106561945;product=activating molecule in BECN1-regulated autophagy protein 1-like%2C transcript variant X3;transcript_id=XM_014126405.1\r\n",
      "NC_027310.1\t9363305\t9363376\tTemp\tNC_027310.1\tGnomon\tmRNA\t9352172\t9464323\t.\t+\t.\tID=rna43630;Parent=gene22791;Dbxref=GeneID:106561945,Genbank:XM_014126404.1;Name=XM_014126404.1;gbkey=mRNA;gene=LOC106561945;product=activating molecule in BECN1-regulated autophagy protein 1-like%2C transcript variant X2;transcript_id=XM_014126404.1\r\n",
      "NC_027310.1\t9363305\t9363376\tTemp\tNC_027310.1\tGnomon\tmRNA\t9352172\t9464323\t.\t+\t.\tID=rna43631;Parent=gene22791;Dbxref=GeneID:106561945,Genbank:XM_014126403.1;Name=XM_014126403.1;gbkey=mRNA;gene=LOC106561945;product=activating molecule in BECN1-regulated autophagy protein 1-like%2C transcript variant X1;transcript_id=XM_014126403.1\r\n",
      "NC_027310.1\t9363305\t9363376\tTemp\tNC_027310.1\tRefSeq\tregion\t1\t93888508\t.\t+\t.\tID=id503908;Dbxref=taxon:8030;Name=ssa11;breed=double haploid;chromosome=ssa11;dev-stage=adult;gbkey=Src;genome=chromosome;isolate=Sally;mol_type=genomic DNA;sex=female;tissue-type=muscle\r\n",
      "NC_027311.1\t20670243\t20670274\tTemp+Sal\tNC_027311.1\tRefSeq\tregion\t1\t91880962\t.\t+\t.\tID=id550095;Dbxref=taxon:8030;Name=ssa12;breed=double haploid;chromosome=ssa12;dev-stage=adult;gbkey=Src;genome=chromosome;isolate=Sally;mol_type=genomic DNA;sex=female;tissue-type=muscle\r\n",
      "NC_027311.1\t21543117\t21543159\tTemp+Sal\tNC_027311.1\tGnomon\texon\t21542524\t21543288\t.\t-\t.\tID=id559783;Parent=rna48525;Dbxref=GeneID:106564714,Genbank:XM_014131002.1;gbkey=mRNA;gene=LOC106564714;product=kelch-like protein 38;transcript_id=XM_014131002.1\r\n",
      "NC_027311.1\t21543117\t21543159\tTemp+Sal\tNC_027311.1\tGnomon\tCDS\t21542524\t21543288\t.\t-\t0\tID=cds42609;Parent=rna48525;Dbxref=GeneID:106564714,Genbank:XP_013986477.1;Name=XP_013986477.1;gbkey=CDS;gene=LOC106564714;product=kelch-like protein 38;protein_id=XP_013986477.1\r\n",
      "NC_027311.1\t21543117\t21543159\tTemp+Sal\tNC_027311.1\tGnomon\tgene\t21541424\t21545923\t.\t-\t.\tID=gene25565;Dbxref=GeneID:106564714;Name=LOC106564714;gbkey=Gene;gene=LOC106564714;gene_biotype=protein_coding\r\n",
      "NC_027311.1\t21543117\t21543159\tTemp+Sal\tNC_027311.1\tGnomon\tmRNA\t21541424\t21545923\t.\t-\t.\tID=rna48525;Parent=gene25565;Dbxref=GeneID:106564714,Genbank:XM_014131002.1;Name=XM_014131002.1;gbkey=mRNA;gene=LOC106564714;product=kelch-like protein 38;transcript_id=XM_014131002.1\r\n",
      "NC_027311.1\t21543117\t21543159\tTemp+Sal\tNC_027311.1\tRefSeq\tregion\t1\t91880962\t.\t+\t.\tID=id550095;Dbxref=taxon:8030;Name=ssa12;breed=double haploid;chromosome=ssa12;dev-stage=adult;gbkey=Src;genome=chromosome;isolate=Sally;mol_type=genomic DNA;sex=female;tissue-type=muscle\r\n",
      "NC_027311.1\t28019045\t28019051\tSal\tNC_027311.1\tGnomon\texon\t28018636\t28019215\t.\t-\t.\tID=id564739;Parent=rna48939;Dbxref=GeneID:106564812,Genbank:XM_014131233.1;gbkey=mRNA;gene=LOC106564812;product=signal-induced proliferation-associated 1-like protein 2%2C transcript variant X1;transcript_id=XM_014131233.1\r\n",
      "NC_027311.1\t28019045\t28019051\tSal\tNC_027311.1\tGnomon\texon\t28018636\t28019215\t.\t-\t.\tID=id564762;Parent=rna48940;Dbxref=GeneID:106564812,Genbank:XM_014131235.1;gbkey=mRNA;gene=LOC106564812;product=signal-induced proliferation-associated 1-like protein 2%2C transcript variant X2;transcript_id=XM_014131235.1\r\n",
      "NC_027311.1\t28019045\t28019051\tSal\tNC_027311.1\tGnomon\texon\t28018636\t28019215\t.\t-\t.\tID=id564784;Parent=rna48941;Dbxref=GeneID:106564812,Genbank:XM_014131236.1;gbkey=mRNA;gene=LOC106564812;product=signal-induced proliferation-associated 1-like protein 2%2C transcript variant X3;transcript_id=XM_014131236.1\r\n",
      "NC_027311.1\t28019045\t28019051\tSal\tNC_027311.1\tGnomon\tCDS\t28018636\t28019215\t.\t-\t1\tID=cds42994;Parent=rna48940;Dbxref=GeneID:106564812,Genbank:XP_013986710.1;Name=XP_013986710.1;gbkey=CDS;gene=LOC106564812;product=signal-induced proliferation-associated 1-like protein 2 isoform X2;protein_id=XP_013986710.1\r\n",
      "NC_027311.1\t28019045\t28019051\tSal\tNC_027311.1\tGnomon\tCDS\t28018636\t28019215\t.\t-\t1\tID=cds42995;Parent=rna48941;Dbxref=GeneID:106564812,Genbank:XP_013986711.1;Name=XP_013986711.1;gbkey=CDS;gene=LOC106564812;product=signal-induced proliferation-associated 1-like protein 2 isoform X3;protein_id=XP_013986711.1\r\n",
      "NC_027311.1\t28019045\t28019051\tSal\tNC_027311.1\tGnomon\tCDS\t28018636\t28019215\t.\t-\t1\tID=cds42996;Parent=rna48939;Dbxref=GeneID:106564812,Genbank:XP_013986708.1;Name=XP_013986708.1;gbkey=CDS;gene=LOC106564812;product=signal-induced proliferation-associated 1-like protein 2 isoform X1;protein_id=XP_013986708.1\r\n",
      "NC_027311.1\t28019045\t28019051\tSal\tNC_027311.1\tGnomon\tgene\t27978573\t28098722\t.\t-\t.\tID=gene25785;Dbxref=GeneID:106564812;Name=LOC106564812;gbkey=Gene;gene=LOC106564812;gene_biotype=protein_coding\r\n",
      "NC_027311.1\t28019045\t28019051\tSal\tNC_027311.1\tGnomon\tmRNA\t27978573\t28098722\t.\t-\t.\tID=rna48939;Parent=gene25785;Dbxref=GeneID:106564812,Genbank:XM_014131233.1;Name=XM_014131233.1;gbkey=mRNA;gene=LOC106564812;product=signal-induced proliferation-associated 1-like protein 2%2C transcript variant X1;transcript_id=XM_014131233.1\r\n",
      "NC_027311.1\t28019045\t28019051\tSal\tNC_027311.1\tGnomon\tmRNA\t27978573\t28098721\t.\t-\t.\tID=rna48940;Parent=gene25785;Dbxref=GeneID:106564812,Genbank:XM_014131235.1;Name=XM_014131235.1;gbkey=mRNA;gene=LOC106564812;product=signal-induced proliferation-associated 1-like protein 2%2C transcript variant X2;transcript_id=XM_014131235.1\r\n",
      "NC_027311.1\t28019045\t28019051\tSal\tNC_027311.1\tGnomon\tmRNA\t27978573\t28098721\t.\t-\t.\tID=rna48941;Parent=gene25785;Dbxref=GeneID:106564812,Genbank:XM_014131236.1;Name=XM_014131236.1;gbkey=mRNA;gene=LOC106564812;product=signal-induced proliferation-associated 1-like protein 2%2C transcript variant X3;transcript_id=XM_014131236.1\r\n",
      "NC_027311.1\t28019045\t28019051\tSal\tNC_027311.1\tRefSeq\tregion\t1\t91880962\t.\t+\t.\tID=id550095;Dbxref=taxon:8030;Name=ssa12;breed=double haploid;chromosome=ssa12;dev-stage=adult;gbkey=Src;genome=chromosome;isolate=Sally;mol_type=genomic DNA;sex=female;tissue-type=muscle\r\n",
      "NC_027311.1\t29862914\t29862926\tSal\tNC_027311.1\tRefSeq\tregion\t1\t91880962\t.\t+\t.\tID=id550095;Dbxref=taxon:8030;Name=ssa12;breed=double haploid;chromosome=ssa12;dev-stage=adult;gbkey=Src;genome=chromosome;isolate=Sally;mol_type=genomic DNA;sex=female;tissue-type=muscle\r\n",
      "NC_027311.1\t30708517\t30708631\tTempxSal\tNC_027311.1\tRefSeq\tregion\t1\t91880962\t.\t+\t.\tID=id550095;Dbxref=taxon:8030;Name=ssa12;breed=double haploid;chromosome=ssa12;dev-stage=adult;gbkey=Src;genome=chromosome;isolate=Sally;mol_type=genomic DNA;sex=female;tissue-type=muscle\r\n",
      "NC_027311.1\t30708664\t30708751\tTempxSal\tNC_027311.1\tRefSeq\tregion\t1\t91880962\t.\t+\t.\tID=id550095;Dbxref=taxon:8030;Name=ssa12;breed=double haploid;chromosome=ssa12;dev-stage=adult;gbkey=Src;genome=chromosome;isolate=Sally;mol_type=genomic DNA;sex=female;tissue-type=muscle\r\n",
      "NC_027311.1\t30753927\t30754116\tTempxSal\tNC_027311.1\tRefSeq\tregion\t1\t91880962\t.\t+\t.\tID=id550095;Dbxref=taxon:8030;Name=ssa12;breed=double haploid;chromosome=ssa12;dev-stage=adult;gbkey=Src;genome=chromosome;isolate=Sally;mol_type=genomic DNA;sex=female;tissue-type=muscle\r\n",
      "NC_027311.1\t30818546\t30818587\tTemp\tNC_027311.1\tRefSeq\tregion\t1\t91880962\t.\t+\t.\tID=id550095;Dbxref=taxon:8030;Name=ssa12;breed=double haploid;chromosome=ssa12;dev-stage=adult;gbkey=Src;genome=chromosome;isolate=Sally;mol_type=genomic DNA;sex=female;tissue-type=muscle\r\n",
      "NC_027311.1\t33864329\t33864341\tTempxSal\tNC_027311.1\tGnomon\tgene\t33381333\t33875516\t.\t-\t.\tID=gene25897;Dbxref=GeneID:106565046;Name=LOC106565046;gbkey=Gene;gene=LOC106565046;gene_biotype=protein_coding\r\n",
      "NC_027311.1\t33864329\t33864341\tTempxSal\tNC_027311.1\tGnomon\tmRNA\t33381333\t33875516\t.\t-\t.\tID=rna49190;Parent=gene25897;Dbxref=GeneID:106565046,Genbank:XM_014131664.1;Name=XM_014131664.1;gbkey=mRNA;gene=LOC106565046;product=receptor-type tyrosine-protein phosphatase T%2C transcript variant X18;transcript_id=XM_014131664.1\r\n",
      "NC_027311.1\t33864329\t33864341\tTempxSal\tNC_027311.1\tGnomon\tmRNA\t33381333\t33875516\t.\t-\t.\tID=rna49191;Parent=gene25897;Dbxref=GeneID:106565046,Genbank:XM_014131662.1;Name=XM_014131662.1;gbkey=mRNA;gene=LOC106565046;product=receptor-type tyrosine-protein phosphatase T%2C transcript variant X16;transcript_id=XM_014131662.1\r\n",
      "NC_027311.1\t33864329\t33864341\tTempxSal\tNC_027311.1\tGnomon\tmRNA\t33381333\t33875516\t.\t-\t.\tID=rna49192;Parent=gene25897;Dbxref=GeneID:106565046,Genbank:XM_014131665.1;Name=XM_014131665.1;gbkey=mRNA;gene=LOC106565046;product=receptor-type tyrosine-protein phosphatase T%2C transcript variant X19;transcript_id=XM_014131665.1\r\n",
      "NC_027311.1\t33864329\t33864341\tTempxSal\tNC_027311.1\tGnomon\tmRNA\t33381333\t33875516\t.\t-\t.\tID=rna49193;Parent=gene25897;Dbxref=GeneID:106565046,Genbank:XM_014131661.1;Name=XM_014131661.1;gbkey=mRNA;gene=LOC106565046;product=receptor-type tyrosine-protein phosphatase T%2C transcript variant X15;transcript_id=XM_014131661.1\r\n",
      "NC_027311.1\t33864329\t33864341\tTempxSal\tNC_027311.1\tGnomon\tmRNA\t33381333\t33875516\t.\t-\t.\tID=rna49194;Parent=gene25897;Dbxref=GeneID:106565046,Genbank:XM_014131658.1;Name=XM_014131658.1;gbkey=mRNA;gene=LOC106565046;product=receptor-type tyrosine-protein phosphatase T%2C transcript variant X12;transcript_id=XM_014131658.1\r\n",
      "NC_027311.1\t33864329\t33864341\tTempxSal\tNC_027311.1\tGnomon\tmRNA\t33381333\t33875516\t.\t-\t.\tID=rna49195;Parent=gene25897;Dbxref=GeneID:106565046,Genbank:XM_014131657.1;Name=XM_014131657.1;gbkey=mRNA;gene=LOC106565046;product=receptor-type tyrosine-protein phosphatase T%2C transcript variant X11;transcript_id=XM_014131657.1\r\n",
      "NC_027311.1\t33864329\t33864341\tTempxSal\tNC_027311.1\tGnomon\tmRNA\t33381333\t33875516\t.\t-\t.\tID=rna49196;Parent=gene25897;Dbxref=GeneID:106565046,Genbank:XM_014131659.1;Name=XM_014131659.1;gbkey=mRNA;gene=LOC106565046;product=receptor-type tyrosine-protein phosphatase T%2C transcript variant X13;transcript_id=XM_014131659.1\r\n",
      "NC_027311.1\t33864329\t33864341\tTempxSal\tNC_027311.1\tGnomon\tmRNA\t33381333\t33875516\t.\t-\t.\tID=rna49197;Parent=gene25897;Dbxref=GeneID:106565046,Genbank:XM_014131655.1;Name=XM_014131655.1;gbkey=mRNA;gene=LOC106565046;product=receptor-type tyrosine-protein phosphatase T%2C transcript variant X9;transcript_id=XM_014131655.1\r\n",
      "NC_027311.1\t33864329\t33864341\tTempxSal\tNC_027311.1\tGnomon\tmRNA\t33381333\t33875516\t.\t-\t.\tID=rna49198;Parent=gene25897;Dbxref=GeneID:106565046,Genbank:XM_014131653.1;Name=XM_014131653.1;gbkey=mRNA;gene=LOC106565046;product=receptor-type tyrosine-protein phosphatase T%2C transcript variant X8;transcript_id=XM_014131653.1\r\n",
      "NC_027311.1\t33864329\t33864341\tTempxSal\tNC_027311.1\tGnomon\tmRNA\t33381333\t33875516\t.\t-\t.\tID=rna49199;Parent=gene25897;Dbxref=GeneID:106565046,Genbank:XM_014131652.1;Name=XM_014131652.1;gbkey=mRNA;gene=LOC106565046;product=receptor-type tyrosine-protein phosphatase T%2C transcript variant X7;transcript_id=XM_014131652.1\r\n",
      "NC_027311.1\t33864329\t33864341\tTempxSal\tNC_027311.1\tGnomon\tmRNA\t33381333\t33875516\t.\t-\t.\tID=rna49200;Parent=gene25897;Dbxref=GeneID:106565046,Genbank:XM_014131647.1;Name=XM_014131647.1;gbkey=mRNA;gene=LOC106565046;product=receptor-type tyrosine-protein phosphatase T%2C transcript variant X2;transcript_id=XM_014131647.1\r\n",
      "NC_027311.1\t33864329\t33864341\tTempxSal\tNC_027311.1\tGnomon\tmRNA\t33381333\t33875516\t.\t-\t.\tID=rna49201;Parent=gene25897;Dbxref=GeneID:106565046,Genbank:XM_014131660.1;Name=XM_014131660.1;gbkey=mRNA;gene=LOC106565046;product=receptor-type tyrosine-protein phosphatase T%2C transcript variant X14;transcript_id=XM_014131660.1\r\n",
      "NC_027311.1\t33864329\t33864341\tTempxSal\tNC_027311.1\tGnomon\tmRNA\t33381333\t33875516\t.\t-\t.\tID=rna49202;Parent=gene25897;Dbxref=GeneID:106565046,Genbank:XM_014131651.1;Name=XM_014131651.1;gbkey=mRNA;gene=LOC106565046;product=receptor-type tyrosine-protein phosphatase T%2C transcript variant X6;transcript_id=XM_014131651.1\r\n",
      "NC_027311.1\t33864329\t33864341\tTempxSal\tNC_027311.1\tGnomon\tmRNA\t33381333\t33875516\t.\t-\t.\tID=rna49203;Parent=gene25897;Dbxref=GeneID:106565046,Genbank:XM_014131649.1;Name=XM_014131649.1;gbkey=mRNA;gene=LOC106565046;product=receptor-type tyrosine-protein phosphatase T%2C transcript variant X4;transcript_id=XM_014131649.1\r\n",
      "NC_027311.1\t33864329\t33864341\tTempxSal\tNC_027311.1\tGnomon\tmRNA\t33381333\t33875516\t.\t-\t.\tID=rna49204;Parent=gene25897;Dbxref=GeneID:106565046,Genbank:XM_014131650.1;Name=XM_014131650.1;gbkey=mRNA;gene=LOC106565046;product=receptor-type tyrosine-protein phosphatase T%2C transcript variant X5;transcript_id=XM_014131650.1\r\n",
      "NC_027311.1\t33864329\t33864341\tTempxSal\tNC_027311.1\tGnomon\tmRNA\t33381333\t33875516\t.\t-\t.\tID=rna49205;Parent=gene25897;Dbxref=GeneID:106565046,Genbank:XM_014131648.1;Name=XM_014131648.1;gbkey=mRNA;gene=LOC106565046;product=receptor-type tyrosine-protein phosphatase T%2C transcript variant X3;transcript_id=XM_014131648.1\r\n",
      "NC_027311.1\t33864329\t33864341\tTempxSal\tNC_027311.1\tGnomon\tmRNA\t33381333\t33875516\t.\t-\t.\tID=rna49206;Parent=gene25897;Dbxref=GeneID:106565046,Genbank:XM_014131646.1;Name=XM_014131646.1;gbkey=mRNA;gene=LOC106565046;product=receptor-type tyrosine-protein phosphatase T%2C transcript variant X1;transcript_id=XM_014131646.1\r\n",
      "NC_027311.1\t33864329\t33864341\tTempxSal\tNC_027311.1\tRefSeq\tregion\t1\t91880962\t.\t+\t.\tID=id550095;Dbxref=taxon:8030;Name=ssa12;breed=double haploid;chromosome=ssa12;dev-stage=adult;gbkey=Src;genome=chromosome;isolate=Sally;mol_type=genomic DNA;sex=female;tissue-type=muscle\r\n",
      "NC_027311.1\t47343596\t47343885\tTempxSal\tNC_027311.1\tRefSeq\tregion\t1\t91880962\t.\t+\t.\tID=id550095;Dbxref=taxon:8030;Name=ssa12;breed=double haploid;chromosome=ssa12;dev-stage=adult;gbkey=Src;genome=chromosome;isolate=Sally;mol_type=genomic DNA;sex=female;tissue-type=muscle\r\n",
      "NC_027311.1\t54221470\t54221484\tSal\tNC_027311.1\tRefSeq\tregion\t1\t91880962\t.\t+\t.\tID=id550095;Dbxref=taxon:8030;Name=ssa12;breed=double haploid;chromosome=ssa12;dev-stage=adult;gbkey=Src;genome=chromosome;isolate=Sally;mol_type=genomic DNA;sex=female;tissue-type=muscle\r\n",
      "NC_027311.1\t57644429\t57644437\tTempxSal\tNC_027311.1\tGnomon\tgene\t57631484\t57646791\t.\t+\t.\tID=gene26424;Dbxref=GeneID:106565559;Name=efcab12;gbkey=Gene;gene=efcab12;gene_biotype=protein_coding\r\n",
      "NC_027311.1\t57644429\t57644437\tTempxSal\tNC_027311.1\tGnomon\ttranscript\t57631484\t57646791\t.\t+\t.\tID=rna50369;Parent=gene26424;Dbxref=GeneID:106565559,Genbank:XR_001319687.1;Name=XR_001319687.1;gbkey=misc_RNA;gene=efcab12;product=EF-hand calcium binding domain 12%2C transcript variant X2;transcript_id=XR_001319687.1\r\n",
      "NC_027311.1\t57644429\t57644437\tTempxSal\tNC_027311.1\tRefSeq\tregion\t1\t91880962\t.\t+\t.\tID=id550095;Dbxref=taxon:8030;Name=ssa12;breed=double haploid;chromosome=ssa12;dev-stage=adult;gbkey=Src;genome=chromosome;isolate=Sally;mol_type=genomic DNA;sex=female;tissue-type=muscle\r\n",
      "NC_027311.1\t58003647\t58003671\tSal\tNC_027311.1\tGnomon\tgene\t57999126\t58029372\t.\t-\t.\tID=gene26440;Dbxref=GeneID:106565545;Name=LOC106565545;gbkey=Gene;gene=LOC106565545;gene_biotype=protein_coding\r\n",
      "NC_027311.1\t58003647\t58003671\tSal\tNC_027311.1\tGnomon\tmRNA\t57999126\t58029372\t.\t-\t.\tID=rna50395;Parent=gene26440;Dbxref=GeneID:106565545,Genbank:XM_014132799.1;Name=XM_014132799.1;gbkey=mRNA;gene=LOC106565545;product=protein kinase C delta type-like;transcript_id=XM_014132799.1\r\n",
      "NC_027311.1\t58003647\t58003671\tSal\tNC_027311.1\tRefSeq\tregion\t1\t91880962\t.\t+\t.\tID=id550095;Dbxref=taxon:8030;Name=ssa12;breed=double haploid;chromosome=ssa12;dev-stage=adult;gbkey=Src;genome=chromosome;isolate=Sally;mol_type=genomic DNA;sex=female;tissue-type=muscle\r\n",
      "NC_027311.1\t58278744\t58278780\tTemp\tNC_027311.1\tGnomon\tgene\t58252881\t58288801\t.\t-\t.\tID=gene26450;Dbxref=GeneID:106565537;Name=LOC106565537;gbkey=Gene;gene=LOC106565537;gene_biotype=protein_coding\r\n",
      "NC_027311.1\t58278744\t58278780\tTemp\tNC_027311.1\tGnomon\tmRNA\t58252881\t58288801\t.\t-\t.\tID=rna50417;Parent=gene26450;Dbxref=GeneID:106565537,Genbank:XM_014132782.1;Name=XM_014132782.1;gbkey=mRNA;gene=LOC106565537;product=receptor tyrosine-protein kinase erbB-3-like%2C transcript variant X4;transcript_id=XM_014132782.1\r\n",
      "NC_027311.1\t58278744\t58278780\tTemp\tNC_027311.1\tRefSeq\tregion\t1\t91880962\t.\t+\t.\tID=id550095;Dbxref=taxon:8030;Name=ssa12;breed=double haploid;chromosome=ssa12;dev-stage=adult;gbkey=Src;genome=chromosome;isolate=Sally;mol_type=genomic DNA;sex=female;tissue-type=muscle\r\n",
      "NC_027311.1\t59944280\t59944296\tTempxSal\tNC_027311.1\tGnomon\texon\t59944141\t59948019\t.\t-\t.\tID=id586964;Parent=rna50544;Dbxref=GeneID:106565652,Genbank:XM_014132987.1;gbkey=mRNA;gene=LOC106565652;product=cadherin EGF LAG seven-pass G-type receptor 2-like%2C transcript variant X4;transcript_id=XM_014132987.1\r\n",
      "NC_027311.1\t59944280\t59944296\tTempxSal\tNC_027311.1\tGnomon\texon\t59944141\t59948019\t.\t-\t.\tID=id586998;Parent=rna50545;Dbxref=GeneID:106565652,Genbank:XM_014132986.1;gbkey=mRNA;gene=LOC106565652;product=cadherin EGF LAG seven-pass G-type receptor 2-like%2C transcript variant X3;transcript_id=XM_014132986.1\r\n",
      "NC_027311.1\t59944280\t59944296\tTempxSal\tNC_027311.1\tGnomon\texon\t59944141\t59948019\t.\t-\t.\tID=id587032;Parent=rna50546;Dbxref=GeneID:106565652,Genbank:XM_014132985.1;gbkey=mRNA;gene=LOC106565652;product=cadherin EGF LAG seven-pass G-type receptor 2-like%2C transcript variant X2;transcript_id=XM_014132985.1\r\n",
      "NC_027311.1\t59944280\t59944296\tTempxSal\tNC_027311.1\tGnomon\tCDS\t59944141\t59947699\t.\t-\t0\tID=cds44450;Parent=rna50544;Dbxref=GeneID:106565652,Genbank:XP_013988462.1;Name=XP_013988462.1;gbkey=CDS;gene=LOC106565652;product=cadherin EGF LAG seven-pass G-type receptor 2-like isoform X4;protein_id=XP_013988462.1\r\n",
      "NC_027311.1\t59944280\t59944296\tTempxSal\tNC_027311.1\tGnomon\tCDS\t59944141\t59947699\t.\t-\t0\tID=cds44451;Parent=rna50545;Dbxref=GeneID:106565652,Genbank:XP_013988461.1;Name=XP_013988461.1;gbkey=CDS;gene=LOC106565652;product=cadherin EGF LAG seven-pass G-type receptor 2-like isoform X3;protein_id=XP_013988461.1\r\n",
      "NC_027311.1\t59944280\t59944296\tTempxSal\tNC_027311.1\tGnomon\tCDS\t59944141\t59947699\t.\t-\t0\tID=cds44452;Parent=rna50546;Dbxref=GeneID:106565652,Genbank:XP_013988460.1;Name=XP_013988460.1;gbkey=CDS;gene=LOC106565652;product=cadherin EGF LAG seven-pass G-type receptor 2-like isoform X2;protein_id=XP_013988460.1\r\n",
      "NC_027311.1\t59944280\t59944296\tTempxSal\tNC_027311.1\tGnomon\texon\t59944141\t59948019\t.\t-\t.\tID=id587066;Parent=rna50547;Dbxref=GeneID:106565652,Genbank:XM_014132984.1;gbkey=mRNA;gene=LOC106565652;product=cadherin EGF LAG seven-pass G-type receptor 2-like%2C transcript variant X1;transcript_id=XM_014132984.1\r\n",
      "NC_027311.1\t59944280\t59944296\tTempxSal\tNC_027311.1\tGnomon\tCDS\t59944141\t59947699\t.\t-\t0\tID=cds44453;Parent=rna50547;Dbxref=GeneID:106565652,Genbank:XP_013988459.1;Name=XP_013988459.1;gbkey=CDS;gene=LOC106565652;product=cadherin EGF LAG seven-pass G-type receptor 2-like isoform X1;protein_id=XP_013988459.1\r\n",
      "NC_027311.1\t59944280\t59944296\tTempxSal\tNC_027311.1\tGnomon\texon\t59944141\t59948019\t.\t-\t.\tID=id587100;Parent=rna50548;Dbxref=GeneID:106565652,Genbank:XM_014132988.1;gbkey=mRNA;gene=LOC106565652;product=cadherin EGF LAG seven-pass G-type receptor 2-like%2C transcript variant X5;transcript_id=XM_014132988.1\r\n",
      "NC_027311.1\t59944280\t59944296\tTempxSal\tNC_027311.1\tGnomon\tCDS\t59944141\t59947699\t.\t-\t0\tID=cds44454;Parent=rna50548;Dbxref=GeneID:106565652,Genbank:XP_013988463.1;Name=XP_013988463.1;gbkey=CDS;gene=LOC106565652;product=cadherin EGF LAG seven-pass G-type receptor 2-like isoform X5;protein_id=XP_013988463.1\r\n",
      "NC_027311.1\t59944280\t59944296\tTempxSal\tNC_027311.1\tGnomon\tgene\t59865737\t59948019\t.\t-\t.\tID=gene26516;Dbxref=GeneID:106565652;Name=LOC106565652;gbkey=Gene;gene=LOC106565652;gene_biotype=protein_coding\r\n",
      "NC_027311.1\t59944280\t59944296\tTempxSal\tNC_027311.1\tGnomon\tmRNA\t59865737\t59948019\t.\t-\t.\tID=rna50544;Parent=gene26516;Dbxref=GeneID:106565652,Genbank:XM_014132987.1;Name=XM_014132987.1;gbkey=mRNA;gene=LOC106565652;product=cadherin EGF LAG seven-pass G-type receptor 2-like%2C transcript variant X4;transcript_id=XM_014132987.1\r\n",
      "NC_027311.1\t59944280\t59944296\tTempxSal\tNC_027311.1\tGnomon\tmRNA\t59865737\t59948019\t.\t-\t.\tID=rna50545;Parent=gene26516;Dbxref=GeneID:106565652,Genbank:XM_014132986.1;Name=XM_014132986.1;gbkey=mRNA;gene=LOC106565652;product=cadherin EGF LAG seven-pass G-type receptor 2-like%2C transcript variant X3;transcript_id=XM_014132986.1\r\n",
      "NC_027311.1\t59944280\t59944296\tTempxSal\tNC_027311.1\tGnomon\tmRNA\t59865737\t59948019\t.\t-\t.\tID=rna50546;Parent=gene26516;Dbxref=GeneID:106565652,Genbank:XM_014132985.1;Name=XM_014132985.1;gbkey=mRNA;gene=LOC106565652;product=cadherin EGF LAG seven-pass G-type receptor 2-like%2C transcript variant X2;transcript_id=XM_014132985.1\r\n",
      "NC_027311.1\t59944280\t59944296\tTempxSal\tNC_027311.1\tGnomon\tmRNA\t59867129\t59948019\t.\t-\t.\tID=rna50547;Parent=gene26516;Dbxref=GeneID:106565652,Genbank:XM_014132984.1;Name=XM_014132984.1;gbkey=mRNA;gene=LOC106565652;product=cadherin EGF LAG seven-pass G-type receptor 2-like%2C transcript variant X1;transcript_id=XM_014132984.1\r\n",
      "NC_027311.1\t59944280\t59944296\tTempxSal\tNC_027311.1\tGnomon\tmRNA\t59868077\t59948019\t.\t-\t.\tID=rna50548;Parent=gene26516;Dbxref=GeneID:106565652,Genbank:XM_014132988.1;Name=XM_014132988.1;gbkey=mRNA;gene=LOC106565652;product=cadherin EGF LAG seven-pass G-type receptor 2-like%2C transcript variant X5;transcript_id=XM_014132988.1\r\n",
      "NC_027311.1\t59944280\t59944296\tTempxSal\tNC_027311.1\tRefSeq\tregion\t1\t91880962\t.\t+\t.\tID=id550095;Dbxref=taxon:8030;Name=ssa12;breed=double haploid;chromosome=ssa12;dev-stage=adult;gbkey=Src;genome=chromosome;isolate=Sally;mol_type=genomic DNA;sex=female;tissue-type=muscle\r\n",
      "NC_027311.1\t7770437\t7770464\tTemp\tNC_027311.1\tRefSeq\tregion\t1\t91880962\t.\t+\t.\tID=id550095;Dbxref=taxon:8030;Name=ssa12;breed=double haploid;chromosome=ssa12;dev-stage=adult;gbkey=Src;genome=chromosome;isolate=Sally;mol_type=genomic DNA;sex=female;tissue-type=muscle\r\n",
      "NC_027312.1\t31755063\t31755221\tTemp\tNC_027312.1\tGnomon\tgene\t31751872\t31764505\t.\t+\t.\tID=gene28069;Dbxref=GeneID:106566966;Name=renbp;gbkey=Gene;gene=renbp;gene_biotype=protein_coding\r\n",
      "NC_027312.1\t31755063\t31755221\tTemp\tNC_027312.1\tGnomon\tmRNA\t31751872\t31764505\t.\t+\t.\tID=rna53500;Parent=gene28069;Dbxref=GeneID:106566966,Genbank:XM_014135664.1;Name=XM_014135664.1;gbkey=mRNA;gene=renbp;product=renin binding protein;transcript_id=XM_014135664.1\r\n",
      "NC_027312.1\t31755063\t31755221\tTemp\tNC_027312.1\tRefSeq\tregion\t1\t107758822\t.\t+\t.\tID=id603167;Dbxref=taxon:8030;Name=ssa13;breed=double haploid;chromosome=ssa13;dev-stage=adult;gbkey=Src;genome=chromosome;isolate=Sally;mol_type=genomic DNA;sex=female;tissue-type=muscle\r\n",
      "NC_027312.1\t35590451\t35590532\tTempxSal\tNC_027312.1\tBestRefSeq\tgene\t35588724\t35590722\t.\t+\t.\tID=gene28174;Dbxref=GeneID:100196885;Name=hoxc12aa;description=homeobox protein HoxC12aa;gbkey=Gene;gene=hoxc12aa;gene_biotype=protein_coding\r\n",
      "NC_027312.1\t35590451\t35590532\tTempxSal\tNC_027312.1\tBestRefSeq\tmRNA\t35588724\t35590722\t.\t+\t.\tID=rna53753;Parent=gene28174;Dbxref=GeneID:100196885,Genbank:NM_001141907.1;Name=NM_001141907.1;gbkey=mRNA;gene=hoxc12aa;product=homeobox protein HoxC12aa;transcript_id=NM_001141907.1\r\n",
      "NC_027312.1\t35590451\t35590532\tTempxSal\tNC_027312.1\tBestRefSeq\texon\t35590381\t35590722\t.\t+\t.\tID=id626194;Parent=rna53753;Dbxref=GeneID:100196885,Genbank:NM_001141907.1;gbkey=mRNA;gene=hoxc12aa;product=homeobox protein HoxC12aa;transcript_id=NM_001141907.1\r\n",
      "NC_027312.1\t35590451\t35590532\tTempxSal\tNC_027312.1\tBestRefSeq\tCDS\t35590381\t35590619\t.\t+\t2\tID=cds47149;Parent=rna53753;Dbxref=GeneID:100196885,Genbank:NP_001135379.1;Name=NP_001135379.1;gbkey=CDS;gene=hoxc12aa;product=homeobox protein HoxC12aa;protein_id=NP_001135379.1\r\n",
      "NC_027312.1\t35590451\t35590532\tTempxSal\tNC_027312.1\tRefSeq\tregion\t1\t107758822\t.\t+\t.\tID=id603167;Dbxref=taxon:8030;Name=ssa13;breed=double haploid;chromosome=ssa13;dev-stage=adult;gbkey=Src;genome=chromosome;isolate=Sally;mol_type=genomic DNA;sex=female;tissue-type=muscle\r",
      "\r\n",
      "NC_027312.1\t39403614\t39403636\tTempxSal\tNC_027312.1\tRefSeq\tregion\t1\t107758822\t.\t+\t.\tID=id603167;Dbxref=taxon:8030;Name=ssa13;breed=double haploid;chromosome=ssa13;dev-stage=adult;gbkey=Src;genome=chromosome;isolate=Sally;mol_type=genomic DNA;sex=female;tissue-type=muscle\r\n",
      "NC_027312.1\t42681288\t42681310\tTempxSal\tNC_027312.1\tGnomon\tgene\t42676622\t42689087\t.\t-\t.\tID=gene28428;Dbxref=GeneID:106567282;Name=eif4e3;gbkey=Gene;gene=eif4e3;gene_biotype=protein_coding\r\n",
      "NC_027312.1\t42681288\t42681310\tTempxSal\tNC_027312.1\tGnomon\tmRNA\t42676622\t42689087\t.\t-\t.\tID=rna54334;Parent=gene28428;Dbxref=GeneID:106567282,Genbank:XM_014136407.1;Name=XM_014136407.1;gbkey=mRNA;gene=eif4e3;product=eukaryotic translation initiation factor 4E family member 3;transcript_id=XM_014136407.1\r\n",
      "NC_027312.1\t42681288\t42681310\tTempxSal\tNC_027312.1\tRefSeq\tregion\t1\t107758822\t.\t+\t.\tID=id603167;Dbxref=taxon:8030;Name=ssa13;breed=double haploid;chromosome=ssa13;dev-stage=adult;gbkey=Src;genome=chromosome;isolate=Sally;mol_type=genomic DNA;sex=female;tissue-type=muscle\r\n",
      "NC_027312.1\t45792131\t45792176\tTemp\tNC_027312.1\tGnomon\texon\t45792028\t45792348\t.\t+\t.\tID=id634936;Parent=rna54432;Dbxref=GeneID:106567378,Genbank:XM_014136549.1;gbkey=mRNA;gene=LOC106567378;product=cytochrome c1-like;transcript_id=XM_014136549.1\r\n",
      "NC_027312.1\t45792131\t45792176\tTemp\tNC_027312.1\tGnomon\tCDS\t45792028\t45792348\t.\t+\t2\tID=cds47789;Parent=rna54432;Dbxref=GeneID:106567378,Genbank:XP_013992024.1;Name=XP_013992024.1;gbkey=CDS;gene=LOC106567378;product=cytochrome c1-like;protein_id=XP_013992024.1\r\n",
      "NC_027312.1\t45792131\t45792176\tTemp\tNC_027312.1\tGnomon\tgene\t45785970\t45796066\t.\t+\t.\tID=gene28477;Dbxref=GeneID:106567378;Name=LOC106567378;gbkey=Gene;gene=LOC106567378;gene_biotype=protein_coding\r\n",
      "NC_027312.1\t45792131\t45792176\tTemp\tNC_027312.1\tGnomon\tmRNA\t45785970\t45796066\t.\t+\t.\tID=rna54432;Parent=gene28477;Dbxref=GeneID:106567378,Genbank:XM_014136549.1;Name=XM_014136549.1;gbkey=mRNA;gene=LOC106567378;product=cytochrome c1-like;transcript_id=XM_014136549.1\r\n",
      "NC_027312.1\t45792131\t45792176\tTemp\tNC_027312.1\tRefSeq\tregion\t1\t107758822\t.\t+\t.\tID=id603167;Dbxref=taxon:8030;Name=ssa13;breed=double haploid;chromosome=ssa13;dev-stage=adult;gbkey=Src;genome=chromosome;isolate=Sally;mol_type=genomic DNA;sex=female;tissue-type=muscle\r\n",
      "NC_027312.1\t52703783\t52703920\tSal\tNC_027312.1\tRefSeq\tregion\t1\t107758822\t.\t+\t.\tID=id603167;Dbxref=taxon:8030;Name=ssa13;breed=double haploid;chromosome=ssa13;dev-stage=adult;gbkey=Src;genome=chromosome;isolate=Sally;mol_type=genomic DNA;sex=female;tissue-type=muscle\r\n",
      "NC_027312.1\t54215116\t54215136\tSal\tNC_027312.1\tGnomon\tgene\t54212976\t54249227\t.\t-\t.\tID=gene28614;Dbxref=GeneID:106567513;Name=LOC106567513;gbkey=Gene;gene=LOC106567513;gene_biotype=protein_coding\r\n",
      "NC_027312.1\t54215116\t54215136\tSal\tNC_027312.1\tGnomon\tmRNA\t54212976\t54249227\t.\t-\t.\tID=rna54725;Parent=gene28614;Dbxref=GeneID:106567513,Genbank:XM_014136831.1;Name=XM_014136831.1;gbkey=mRNA;gene=LOC106567513;product=dihydropyrimidinase-related protein 3-like%2C transcript variant X2;transcript_id=XM_014136831.1\r\n",
      "NC_027312.1\t54215116\t54215136\tSal\tNC_027312.1\tGnomon\tmRNA\t54212976\t54249227\t.\t-\t.\tID=rna54726;Parent=gene28614;Dbxref=GeneID:106567513,Genbank:XM_014136830.1;Name=XM_014136830.1;gbkey=mRNA;gene=LOC106567513;product=dihydropyrimidinase-related protein 3-like%2C transcript variant X1;transcript_id=XM_014136830.1\r\n",
      "NC_027312.1\t54215116\t54215136\tSal\tNC_027312.1\tGnomon\tmRNA\t54212976\t54243140\t.\t-\t.\tID=rna54727;Parent=gene28614;Dbxref=GeneID:106567513,Genbank:XM_014136832.1;Name=XM_014136832.1;gbkey=mRNA;gene=LOC106567513;product=dihydropyrimidinase-related protein 3-like%2C transcript variant X3;transcript_id=XM_014136832.1\r\n",
      "NC_027312.1\t54215116\t54215136\tSal\tNC_027312.1\tRefSeq\tregion\t1\t107758822\t.\t+\t.\tID=id603167;Dbxref=taxon:8030;Name=ssa13;breed=double haploid;chromosome=ssa13;dev-stage=adult;gbkey=Src;genome=chromosome;isolate=Sally;mol_type=genomic DNA;sex=female;tissue-type=muscle\r\n",
      "NC_027312.1\t55530778\t55530800\tTempxSal\tNC_027312.1\tRefSeq\tregion\t1\t107758822\t.\t+\t.\tID=id603167;Dbxref=taxon:8030;Name=ssa13;breed=double haploid;chromosome=ssa13;dev-stage=adult;gbkey=Src;genome=chromosome;isolate=Sally;mol_type=genomic DNA;sex=female;tissue-type=muscle\r\n",
      "NC_027312.1\t56198153\t56198232\tTempxSal\tNC_027312.1\tGnomon\tgene\t56071382\t56470594\t.\t+\t.\tID=gene28647;Dbxref=GeneID:106567540;Name=dlg2;gbkey=Gene;gene=dlg2;gene_biotype=protein_coding\r\n",
      "NC_027312.1\t56198153\t56198232\tTempxSal\tNC_027312.1\tGnomon\ttranscript\t56071382\t56459642\t.\t+\t.\tID=rna54833;Parent=gene28647;Dbxref=GeneID:106567540,Genbank:XR_001320096.1;Name=XR_001320096.1;gbkey=misc_RNA;gene=dlg2;product=discs%2C large homolog 2 (Drosophila)%2C transcript variant X34;transcript_id=XR_001320096.1\r\n",
      "NC_027312.1\t56198153\t56198232\tTempxSal\tNC_027312.1\tGnomon\tmRNA\t56071385\t56470594\t.\t+\t.\tID=rna54834;Parent=gene28647;Dbxref=GeneID:106567540,Genbank:XM_014136927.1;Name=XM_014136927.1;gbkey=mRNA;gene=dlg2;product=discs%2C large homolog 2 (Drosophila)%2C transcript variant X2;transcript_id=XM_014136927.1\r\n",
      "NC_027312.1\t56198153\t56198232\tTempxSal\tNC_027312.1\tGnomon\tmRNA\t56071385\t56470594\t.\t+\t.\tID=rna54835;Parent=gene28647;Dbxref=GeneID:106567540,Genbank:XM_014136933.1;Name=XM_014136933.1;gbkey=mRNA;gene=dlg2;product=discs%2C large homolog 2 (Drosophila)%2C transcript variant X7;transcript_id=XM_014136933.1\r\n",
      "NC_027312.1\t56198153\t56198232\tTempxSal\tNC_027312.1\tGnomon\tmRNA\t56071385\t56470594\t.\t+\t.\tID=rna54836;Parent=gene28647;Dbxref=GeneID:106567540,Genbank:XM_014136931.1;Name=XM_014136931.1;gbkey=mRNA;gene=dlg2;product=discs%2C large homolog 2 (Drosophila)%2C transcript variant X5;transcript_id=XM_014136931.1\r\n",
      "NC_027312.1\t56198153\t56198232\tTempxSal\tNC_027312.1\tGnomon\tmRNA\t56071385\t56470594\t.\t+\t.\tID=rna54837;Parent=gene28647;Dbxref=GeneID:106567540,Genbank:XM_014136938.1;Name=XM_014136938.1;gbkey=mRNA;gene=dlg2;product=discs%2C large homolog 2 (Drosophila)%2C transcript variant X12;transcript_id=XM_014136938.1\r\n",
      "NC_027312.1\t56198153\t56198232\tTempxSal\tNC_027312.1\tGnomon\tmRNA\t56071386\t56470594\t.\t+\t.\tID=rna54838;Parent=gene28647;Dbxref=GeneID:106567540,Genbank:XM_014136926.1;Name=XM_014136926.1;gbkey=mRNA;gene=dlg2;product=discs%2C large homolog 2 (Drosophila)%2C transcript variant X1;transcript_id=XM_014136926.1\r\n",
      "NC_027312.1\t56198153\t56198232\tTempxSal\tNC_027312.1\tGnomon\tmRNA\t56071386\t56470594\t.\t+\t.\tID=rna54839;Parent=gene28647;Dbxref=GeneID:106567540,Genbank:XM_014136932.1;Name=XM_014136932.1;gbkey=mRNA;gene=dlg2;product=discs%2C large homolog 2 (Drosophila)%2C transcript variant X6;transcript_id=XM_014136932.1\r\n",
      "NC_027312.1\t56198153\t56198232\tTempxSal\tNC_027312.1\tGnomon\tmRNA\t56071386\t56470594\t.\t+\t.\tID=rna54840;Parent=gene28647;Dbxref=GeneID:106567540,Genbank:XM_014136930.1;Name=XM_014136930.1;gbkey=mRNA;gene=dlg2;product=discs%2C large homolog 2 (Drosophila)%2C transcript variant X4;transcript_id=XM_014136930.1\r\n",
      "NC_027312.1\t56198153\t56198232\tTempxSal\tNC_027312.1\tGnomon\tmRNA\t56071386\t56470594\t.\t+\t.\tID=rna54841;Parent=gene28647;Dbxref=GeneID:106567540,Genbank:XM_014136937.1;Name=XM_014136937.1;gbkey=mRNA;gene=dlg2;product=discs%2C large homolog 2 (Drosophila)%2C transcript variant X11;transcript_id=XM_014136937.1\r\n",
      "NC_027312.1\t56198153\t56198232\tTempxSal\tNC_027312.1\tGnomon\tmRNA\t56071386\t56470594\t.\t+\t.\tID=rna54842;Parent=gene28647;Dbxref=GeneID:106567540,Genbank:XM_014136942.1;Name=XM_014136942.1;gbkey=mRNA;gene=dlg2;product=discs%2C large homolog 2 (Drosophila)%2C transcript variant X16;transcript_id=XM_014136942.1\r\n",
      "NC_027312.1\t56198153\t56198232\tTempxSal\tNC_027312.1\tGnomon\tmRNA\t56071386\t56470594\t.\t+\t.\tID=rna54843;Parent=gene28647;Dbxref=GeneID:106567540,Genbank:XM_014136945.1;Name=XM_014136945.1;gbkey=mRNA;gene=dlg2;product=discs%2C large homolog 2 (Drosophila)%2C transcript variant X18;transcript_id=XM_014136945.1\r\n",
      "NC_027312.1\t56198153\t56198232\tTempxSal\tNC_027312.1\tGnomon\tmRNA\t56071386\t56470594\t.\t+\t.\tID=rna54844;Parent=gene28647;Dbxref=GeneID:106567540,Genbank:XM_014136929.1;Name=XM_014136929.1;gbkey=mRNA;gene=dlg2;product=discs%2C large homolog 2 (Drosophila)%2C transcript variant X3;transcript_id=XM_014136929.1\r\n",
      "NC_027312.1\t56198153\t56198232\tTempxSal\tNC_027312.1\tGnomon\tmRNA\t56071386\t56470594\t.\t+\t.\tID=rna54845;Parent=gene28647;Dbxref=GeneID:106567540,Genbank:XM_014136943.1;Name=XM_014136943.1;gbkey=mRNA;gene=dlg2;product=discs%2C large homolog 2 (Drosophila)%2C transcript variant X17;transcript_id=XM_014136943.1\r\n",
      "NC_027312.1\t56198153\t56198232\tTempxSal\tNC_027312.1\tGnomon\tmRNA\t56071386\t56470594\t.\t+\t.\tID=rna54846;Parent=gene28647;Dbxref=GeneID:106567540,Genbank:XM_014136936.1;Name=XM_014136936.1;gbkey=mRNA;gene=dlg2;product=discs%2C large homolog 2 (Drosophila)%2C transcript variant X10;transcript_id=XM_014136936.1\r\n",
      "NC_027312.1\t56198153\t56198232\tTempxSal\tNC_027312.1\tGnomon\tmRNA\t56071386\t56470594\t.\t+\t.\tID=rna54847;Parent=gene28647;Dbxref=GeneID:106567540,Genbank:XM_014136946.1;Name=XM_014136946.1;gbkey=mRNA;gene=dlg2;product=discs%2C large homolog 2 (Drosophila)%2C transcript variant X19;transcript_id=XM_014136946.1\r\n",
      "NC_027312.1\t56198153\t56198232\tTempxSal\tNC_027312.1\tGnomon\tmRNA\t56071386\t56470594\t.\t+\t.\tID=rna54848;Parent=gene28647;Dbxref=GeneID:106567540,Genbank:XM_014136949.1;Name=XM_014136949.1;gbkey=mRNA;gene=dlg2;product=discs%2C large homolog 2 (Drosophila)%2C transcript variant X22;transcript_id=XM_014136949.1\r\n",
      "NC_027312.1\t56198153\t56198232\tTempxSal\tNC_027312.1\tGnomon\tmRNA\t56071386\t56470594\t.\t+\t.\tID=rna54849;Parent=gene28647;Dbxref=GeneID:106567540,Genbank:XM_014136951.1;Name=XM_014136951.1;gbkey=mRNA;gene=dlg2;product=discs%2C large homolog 2 (Drosophila)%2C transcript variant X24;transcript_id=XM_014136951.1\r\n",
      "NC_027312.1\t56198153\t56198232\tTempxSal\tNC_027312.1\tGnomon\tmRNA\t56071386\t56470594\t.\t+\t.\tID=rna54850;Parent=gene28647;Dbxref=GeneID:106567540,Genbank:XM_014136934.1;Name=XM_014136934.1;gbkey=mRNA;gene=dlg2;product=discs%2C large homolog 2 (Drosophila)%2C transcript variant X8;transcript_id=XM_014136934.1\r\n",
      "NC_027312.1\t56198153\t56198232\tTempxSal\tNC_027312.1\tGnomon\tmRNA\t56071386\t56470594\t.\t+\t.\tID=rna54851;Parent=gene28647;Dbxref=GeneID:106567540,Genbank:XM_014136964.1;Name=XM_014136964.1;gbkey=mRNA;gene=dlg2;product=discs%2C large homolog 2 (Drosophila)%2C transcript variant X37;transcript_id=XM_014136964.1\r\n",
      "NC_027312.1\t56198153\t56198232\tTempxSal\tNC_027312.1\tGnomon\tmRNA\t56071386\t56470594\t.\t+\t.\tID=rna54852;Parent=gene28647;Dbxref=GeneID:106567540,Genbank:XM_014136941.1;Name=XM_014136941.1;gbkey=mRNA;gene=dlg2;product=discs%2C large homolog 2 (Drosophila)%2C transcript variant X15;transcript_id=XM_014136941.1\r\n",
      "NC_027312.1\t56198153\t56198232\tTempxSal\tNC_027312.1\tGnomon\tmRNA\t56071386\t56470594\t.\t+\t.\tID=rna54853;Parent=gene28647;Dbxref=GeneID:106567540,Genbank:XM_014136962.1;Name=XM_014136962.1;gbkey=mRNA;gene=dlg2;product=discs%2C large homolog 2 (Drosophila)%2C transcript variant X35;transcript_id=XM_014136962.1\r\n",
      "NC_027312.1\t56198153\t56198232\tTempxSal\tNC_027312.1\tGnomon\tmRNA\t56071386\t56470594\t.\t+\t.\tID=rna54854;Parent=gene28647;Dbxref=GeneID:106567540,Genbank:XM_014136963.1;Name=XM_014136963.1;gbkey=mRNA;gene=dlg2;product=discs%2C large homolog 2 (Drosophila)%2C transcript variant X36;transcript_id=XM_014136963.1\r\n",
      "NC_027312.1\t56198153\t56198232\tTempxSal\tNC_027312.1\tGnomon\tmRNA\t56071386\t56470594\t.\t+\t.\tID=rna54855;Parent=gene28647;Dbxref=GeneID:106567540,Genbank:XM_014136939.1;Name=XM_014136939.1;gbkey=mRNA;gene=dlg2;product=discs%2C large homolog 2 (Drosophila)%2C transcript variant X13;transcript_id=XM_014136939.1\r\n",
      "NC_027312.1\t56198153\t56198232\tTempxSal\tNC_027312.1\tGnomon\tmRNA\t56071386\t56470594\t.\t+\t.\tID=rna54856;Parent=gene28647;Dbxref=GeneID:106567540,Genbank:XM_014136935.1;Name=XM_014136935.1;gbkey=mRNA;gene=dlg2;product=discs%2C large homolog 2 (Drosophila)%2C transcript variant X9;transcript_id=XM_014136935.1\r\n",
      "NC_027312.1\t56198153\t56198232\tTempxSal\tNC_027312.1\tGnomon\tmRNA\t56071387\t56470594\t.\t+\t.\tID=rna54857;Parent=gene28647;Dbxref=GeneID:106567540,Genbank:XM_014136948.1;Name=XM_014136948.1;gbkey=mRNA;gene=dlg2;product=discs%2C large homolog 2 (Drosophila)%2C transcript variant X21;transcript_id=XM_014136948.1\r\n",
      "NC_027312.1\t56198153\t56198232\tTempxSal\tNC_027312.1\tGnomon\tmRNA\t56071387\t56470594\t.\t+\t.\tID=rna54858;Parent=gene28647;Dbxref=GeneID:106567540,Genbank:XM_014136952.1;Name=XM_014136952.1;gbkey=mRNA;gene=dlg2;product=discs%2C large homolog 2 (Drosophila)%2C transcript variant X25;transcript_id=XM_014136952.1\r\n",
      "NC_027312.1\t56198153\t56198232\tTempxSal\tNC_027312.1\tGnomon\tmRNA\t56152872\t56470594\t.\t+\t.\tID=rna54859;Parent=gene28647;Dbxref=GeneID:106567540,Genbank:XM_014136940.1;Name=XM_014136940.1;gbkey=mRNA;gene=dlg2;product=discs%2C large homolog 2 (Drosophila)%2C transcript variant X14;transcript_id=XM_014136940.1\r\n",
      "NC_027312.1\t56198153\t56198232\tTempxSal\tNC_027312.1\tRefSeq\tregion\t1\t107758822\t.\t+\t.\tID=id603167;Dbxref=taxon:8030;Name=ssa13;breed=double haploid;chromosome=ssa13;dev-stage=adult;gbkey=Src;genome=chromosome;isolate=Sally;mol_type=genomic DNA;sex=female;tissue-type=muscle\r\n",
      "NC_027312.1\t7310480\t7310506\tTemp\tNC_027312.1\tRefSeq\tregion\t1\t107758822\t.\t+\t.\tID=id603167;Dbxref=taxon:8030;Name=ssa13;breed=double haploid;chromosome=ssa13;dev-stage=adult;gbkey=Src;genome=chromosome;isolate=Sally;mol_type=genomic DNA;sex=female;tissue-type=muscle\r\n",
      "NC_027312.1\t831614\t831864\tTempxSal\tNC_027312.1\tRefSeq\tregion\t1\t107758822\t.\t+\t.\tID=id603167;Dbxref=taxon:8030;Name=ssa13;breed=double haploid;chromosome=ssa13;dev-stage=adult;gbkey=Src;genome=chromosome;isolate=Sally;mol_type=genomic DNA;sex=female;tissue-type=muscle\r\n",
      "NC_027312.1\t89150134\t89150193\tSal\tNC_027312.1\tRefSeq\tregion\t1\t107758822\t.\t+\t.\tID=id603167;Dbxref=taxon:8030;Name=ssa13;breed=double haploid;chromosome=ssa13;dev-stage=adult;gbkey=Src;genome=chromosome;isolate=Sally;mol_type=genomic DNA;sex=female;tissue-type=muscle\r\n",
      "NC_027313.1\t13367226\t13367261\tTempxSal\tNC_027313.1\tGnomon\tgene\t13357914\t13382507\t.\t+\t.\tID=gene30000;Dbxref=GeneID:106568938;Name=LOC106568938;gbkey=Gene;gene=LOC106568938;gene_biotype=protein_coding\r\n",
      "NC_027313.1\t13367226\t13367261\tTempxSal\tNC_027313.1\tGnomon\tmRNA\t13357914\t13382507\t.\t+\t.\tID=rna57692;Parent=gene30000;Dbxref=GeneID:106568938,Genbank:XM_014139793.1;Name=XM_014139793.1;gbkey=mRNA;gene=LOC106568938;product=solute carrier family 25 member 36-A;transcript_id=XM_014139793.1\r\n",
      "NC_027313.1\t13367226\t13367261\tTempxSal\tNC_027313.1\tRefSeq\tregion\t1\t93901823\t.\t+\t.\tID=id668475;Dbxref=taxon:8030;Name=ssa14;breed=double haploid;chromosome=ssa14;dev-stage=adult;gbkey=Src;genome=chromosome;isolate=Sally;mol_type=genomic DNA;sex=female;tissue-type=muscle\r\n",
      "NC_027313.1\t16983490\t16983511\tTempxSal\tNC_027313.1\tGnomon\tgene\t16920282\t17119174\t.\t+\t.\tID=gene30111;Dbxref=GeneID:106568853;Name=LOC106568853;gbkey=Gene;gene=LOC106568853;gene_biotype=protein_coding\r\n",
      "NC_027313.1\t16983490\t16983511\tTempxSal\tNC_027313.1\tGnomon\tmRNA\t16920282\t17119174\t.\t+\t.\tID=rna57936;Parent=gene30111;Dbxref=GeneID:106568853,Genbank:XM_014139582.1;Name=XM_014139582.1;gbkey=mRNA;gene=LOC106568853;product=glypican-5-like%2C transcript variant X1;transcript_id=XM_014139582.1\r\n",
      "NC_027313.1\t16983490\t16983511\tTempxSal\tNC_027313.1\tGnomon\tmRNA\t16920283\t17119174\t.\t+\t.\tID=rna57937;Parent=gene30111;Dbxref=GeneID:106568853,Genbank:XM_014139583.1;Name=XM_014139583.1;gbkey=mRNA;gene=LOC106568853;product=glypican-5-like%2C transcript variant X2;transcript_id=XM_014139583.1\r\n",
      "NC_027313.1\t16983490\t16983511\tTempxSal\tNC_027313.1\tRefSeq\tregion\t1\t93901823\t.\t+\t.\tID=id668475;Dbxref=taxon:8030;Name=ssa14;breed=double haploid;chromosome=ssa14;dev-stage=adult;gbkey=Src;genome=chromosome;isolate=Sally;mol_type=genomic DNA;sex=female;tissue-type=muscle\r\n",
      "NC_027313.1\t37918910\t37918937\tSal\tNC_027313.1\tGnomon\texon\t37918847\t37919132\t.\t+\t.\tID=id695654;Parent=rna59001;Dbxref=GeneID:106569513,Genbank:XM_014140942.1;gbkey=mRNA;gene=LOC106569513;product=receptor-type tyrosine-protein phosphatase S-like%2C transcript variant X12;transcript_id=XM_014140942.1\r\n",
      "NC_027313.1\t37918910\t37918937\tSal\tNC_027313.1\tGnomon\texon\t37918847\t37919132\t.\t+\t.\tID=id695687;Parent=rna59002;Dbxref=GeneID:106569513,Genbank:XM_014140931.1;gbkey=mRNA;gene=LOC106569513;product=receptor-type tyrosine-protein phosphatase S-like%2C transcript variant X2;transcript_id=XM_014140931.1\r\n",
      "NC_027313.1\t37918910\t37918937\tSal\tNC_027313.1\tGnomon\texon\t37918847\t37919132\t.\t+\t.\tID=id695719;Parent=rna59003;Dbxref=GeneID:106569513,Genbank:XM_014140937.1;gbkey=mRNA;gene=LOC106569513;product=receptor-type tyrosine-protein phosphatase S-like%2C transcript variant X7;transcript_id=XM_014140937.1\r\n",
      "NC_027313.1\t37918910\t37918937\tSal\tNC_027313.1\tGnomon\texon\t37918847\t37919132\t.\t+\t.\tID=id695752;Parent=rna59004;Dbxref=GeneID:106569513,Genbank:XM_014140930.1;gbkey=mRNA;gene=LOC106569513;product=receptor-type tyrosine-protein phosphatase S-like%2C transcript variant X1;transcript_id=XM_014140930.1\r\n",
      "NC_027313.1\t37918910\t37918937\tSal\tNC_027313.1\tGnomon\texon\t37918847\t37919132\t.\t+\t.\tID=id695785;Parent=rna59005;Dbxref=GeneID:106569513,Genbank:XM_014140932.1;gbkey=mRNA;gene=LOC106569513;product=receptor-type tyrosine-protein phosphatase S-like%2C transcript variant X3;transcript_id=XM_014140932.1\r\n",
      "NC_027313.1\t37918910\t37918937\tSal\tNC_027313.1\tGnomon\texon\t37918847\t37919132\t.\t+\t.\tID=id695818;Parent=rna59006;Dbxref=GeneID:106569513,Genbank:XM_014140936.1;gbkey=mRNA;gene=LOC106569513;product=receptor-type tyrosine-protein phosphatase S-like%2C transcript variant X6;transcript_id=XM_014140936.1\r\n",
      "NC_027313.1\t37918910\t37918937\tSal\tNC_027313.1\tGnomon\texon\t37918847\t37919132\t.\t+\t.\tID=id695850;Parent=rna59007;Dbxref=GeneID:106569513,Genbank:XM_014140940.1;gbkey=mRNA;gene=LOC106569513;product=receptor-type tyrosine-protein phosphatase S-like%2C transcript variant X10;transcript_id=XM_014140940.1\r\n",
      "NC_027313.1\t37918910\t37918937\tSal\tNC_027313.1\tGnomon\texon\t37918847\t37919132\t.\t+\t.\tID=id695882;Parent=rna59008;Dbxref=GeneID:106569513,Genbank:XM_014140934.1;gbkey=mRNA;gene=LOC106569513;product=receptor-type tyrosine-protein phosphatase S-like%2C transcript variant X5;transcript_id=XM_014140934.1\r\n",
      "NC_027313.1\t37918910\t37918937\tSal\tNC_027313.1\tGnomon\texon\t37918847\t37919132\t.\t+\t.\tID=id695914;Parent=rna59009;Dbxref=GeneID:106569513,Genbank:XM_014140944.1;gbkey=mRNA;gene=LOC106569513;product=receptor-type tyrosine-protein phosphatase S-like%2C transcript variant X14;transcript_id=XM_014140944.1\r\n",
      "NC_027313.1\t37918910\t37918937\tSal\tNC_027313.1\tGnomon\texon\t37918847\t37919132\t.\t+\t.\tID=id695946;Parent=rna59010;Dbxref=GeneID:106569513,Genbank:XM_014140933.1;gbkey=mRNA;gene=LOC106569513;product=receptor-type tyrosine-protein phosphatase S-like%2C transcript variant X4;transcript_id=XM_014140933.1\r\n",
      "NC_027313.1\t37918910\t37918937\tSal\tNC_027313.1\tGnomon\texon\t37918847\t37919132\t.\t+\t.\tID=id695978;Parent=rna59011;Dbxref=GeneID:106569513,Genbank:XM_014140938.1;gbkey=mRNA;gene=LOC106569513;product=receptor-type tyrosine-protein phosphatase S-like%2C transcript variant X8;transcript_id=XM_014140938.1\r\n",
      "NC_027313.1\t37918910\t37918937\tSal\tNC_027313.1\tGnomon\texon\t37918847\t37919132\t.\t+\t.\tID=id696009;Parent=rna59012;Dbxref=GeneID:106569513,Genbank:XM_014140939.1;gbkey=mRNA;gene=LOC106569513;product=receptor-type tyrosine-protein phosphatase S-like%2C transcript variant X9;transcript_id=XM_014140939.1\r\n",
      "NC_027313.1\t37918910\t37918937\tSal\tNC_027313.1\tGnomon\texon\t37918847\t37919132\t.\t+\t.\tID=id696040;Parent=rna59013;Dbxref=GeneID:106569513,Genbank:XM_014140943.1;gbkey=mRNA;gene=LOC106569513;product=receptor-type tyrosine-protein phosphatase S-like%2C transcript variant X13;transcript_id=XM_014140943.1\r\n",
      "NC_027313.1\t37918910\t37918937\tSal\tNC_027313.1\tGnomon\texon\t37918847\t37919132\t.\t+\t.\tID=id696072;Parent=rna59014;Dbxref=GeneID:106569513,Genbank:XM_014140941.1;gbkey=mRNA;gene=LOC106569513;product=receptor-type tyrosine-protein phosphatase S-like%2C transcript variant X11;transcript_id=XM_014140941.1\r\n",
      "NC_027313.1\t37918910\t37918937\tSal\tNC_027313.1\tGnomon\tCDS\t37918847\t37919132\t.\t+\t1\tID=cds51911;Parent=rna59004;Dbxref=GeneID:106569513,Genbank:XP_013996405.1;Name=XP_013996405.1;gbkey=CDS;gene=LOC106569513;product=receptor-type tyrosine-protein phosphatase delta-like isoform X1;protein_id=XP_013996405.1\r\n",
      "NC_027313.1\t37918910\t37918937\tSal\tNC_027313.1\tGnomon\tCDS\t37918847\t37919132\t.\t+\t1\tID=cds51912;Parent=rna59005;Dbxref=GeneID:106569513,Genbank:XP_013996407.1;Name=XP_013996407.1;gbkey=CDS;gene=LOC106569513;product=receptor-type tyrosine-protein phosphatase delta-like isoform X3;protein_id=XP_013996407.1\r\n",
      "NC_027313.1\t37918910\t37918937\tSal\tNC_027313.1\tGnomon\tCDS\t37918847\t37919132\t.\t+\t1\tID=cds51913;Parent=rna59002;Dbxref=GeneID:106569513,Genbank:XP_013996406.1;Name=XP_013996406.1;gbkey=CDS;gene=LOC106569513;product=receptor-type tyrosine-protein phosphatase delta-like isoform X2;protein_id=XP_013996406.1\r\n",
      "NC_027313.1\t37918910\t37918937\tSal\tNC_027313.1\tGnomon\tCDS\t37918847\t37919132\t.\t+\t1\tID=cds51914;Parent=rna59006;Dbxref=GeneID:106569513,Genbank:XP_013996411.1;Name=XP_013996411.1;gbkey=CDS;gene=LOC106569513;product=receptor-type tyrosine-protein phosphatase delta-like isoform X6;protein_id=XP_013996411.1\r\n",
      "NC_027313.1\t37918910\t37918937\tSal\tNC_027313.1\tGnomon\tCDS\t37918847\t37919132\t.\t+\t1\tID=cds51915;Parent=rna59003;Dbxref=GeneID:106569513,Genbank:XP_013996412.1;Name=XP_013996412.1;gbkey=CDS;gene=LOC106569513;product=receptor-type tyrosine-protein phosphatase delta-like isoform X7;protein_id=XP_013996412.1\r\n",
      "NC_027313.1\t37918910\t37918937\tSal\tNC_027313.1\tGnomon\tCDS\t37918847\t37919132\t.\t+\t1\tID=cds51916;Parent=rna59007;Dbxref=GeneID:106569513,Genbank:XP_013996415.1;Name=XP_013996415.1;gbkey=CDS;gene=LOC106569513;product=receptor-type tyrosine-protein phosphatase delta-like isoform X10;protein_id=XP_013996415.1\r\n",
      "NC_027313.1\t37918910\t37918937\tSal\tNC_027313.1\tGnomon\tCDS\t37918847\t37919132\t.\t+\t1\tID=cds51917;Parent=rna59001;Dbxref=GeneID:106569513,Genbank:XP_013996417.1;Name=XP_013996417.1;gbkey=CDS;gene=LOC106569513;product=receptor-type tyrosine-protein phosphatase S-like isoform X12;protein_id=XP_013996417.1\r\n",
      "NC_027313.1\t37918910\t37918937\tSal\tNC_027313.1\tGnomon\tCDS\t37918847\t37919132\t.\t+\t1\tID=cds51918;Parent=rna59008;Dbxref=GeneID:106569513,Genbank:XP_013996409.1;Name=XP_013996409.1;gbkey=CDS;gene=LOC106569513;product=receptor-type tyrosine-protein phosphatase delta-like isoform X5;protein_id=XP_013996409.1\r\n",
      "NC_027313.1\t37918910\t37918937\tSal\tNC_027313.1\tGnomon\tCDS\t37918847\t37919132\t.\t+\t1\tID=cds51919;Parent=rna59009;Dbxref=GeneID:106569513,Genbank:XP_013996419.1;Name=XP_013996419.1;gbkey=CDS;gene=LOC106569513;product=receptor-type tyrosine-protein phosphatase delta-like isoform X14;protein_id=XP_013996419.1\r\n",
      "NC_027313.1\t37918910\t37918937\tSal\tNC_027313.1\tGnomon\tCDS\t37918847\t37919132\t.\t+\t1\tID=cds51920;Parent=rna59010;Dbxref=GeneID:106569513,Genbank:XP_013996408.1;Name=XP_013996408.1;gbkey=CDS;gene=LOC106569513;product=receptor-type tyrosine-protein phosphatase delta-like isoform X4;protein_id=XP_013996408.1\r\n",
      "NC_027313.1\t37918910\t37918937\tSal\tNC_027313.1\tGnomon\tCDS\t37918847\t37919132\t.\t+\t1\tID=cds51921;Parent=rna59011;Dbxref=GeneID:106569513,Genbank:XP_013996413.1;Name=XP_013996413.1;gbkey=CDS;gene=LOC106569513;product=receptor-type tyrosine-protein phosphatase delta-like isoform X8;protein_id=XP_013996413.1\r\n",
      "NC_027313.1\t37918910\t37918937\tSal\tNC_027313.1\tGnomon\tCDS\t37918847\t37919132\t.\t+\t1\tID=cds51922;Parent=rna59012;Dbxref=GeneID:106569513,Genbank:XP_013996414.1;Name=XP_013996414.1;gbkey=CDS;gene=LOC106569513;product=receptor-type tyrosine-protein phosphatase delta-like isoform X9;protein_id=XP_013996414.1\r\n",
      "NC_027313.1\t37918910\t37918937\tSal\tNC_027313.1\tGnomon\tCDS\t37918847\t37919132\t.\t+\t1\tID=cds51923;Parent=rna59013;Dbxref=GeneID:106569513,Genbank:XP_013996418.1;Name=XP_013996418.1;gbkey=CDS;gene=LOC106569513;product=receptor-type tyrosine-protein phosphatase delta-like isoform X13;protein_id=XP_013996418.1\r\n",
      "NC_027313.1\t37918910\t37918937\tSal\tNC_027313.1\tGnomon\tCDS\t37918847\t37919132\t.\t+\t1\tID=cds51924;Parent=rna59014;Dbxref=GeneID:106569513,Genbank:XP_013996416.1;Name=XP_013996416.1;gbkey=CDS;gene=LOC106569513;product=receptor-type tyrosine-protein phosphatase S-like isoform X11;protein_id=XP_013996416.1\r\n",
      "NC_027313.1\t37918910\t37918937\tSal\tNC_027313.1\tGnomon\tgene\t37805359\t37921868\t.\t+\t.\tID=gene30629;Dbxref=GeneID:106569513;Name=LOC106569513;gbkey=Gene;gene=LOC106569513;gene_biotype=protein_coding\r\n",
      "NC_027313.1\t37918910\t37918937\tSal\tNC_027313.1\tGnomon\tmRNA\t37805359\t37921868\t.\t+\t.\tID=rna59001;Parent=gene30629;Dbxref=GeneID:106569513,Genbank:XM_014140942.1;Name=XM_014140942.1;gbkey=mRNA;gene=LOC106569513;product=receptor-type tyrosine-protein phosphatase S-like%2C transcript variant X12;transcript_id=XM_014140942.1\r\n",
      "NC_027313.1\t37918910\t37918937\tSal\tNC_027313.1\tGnomon\tmRNA\t37805362\t37921867\t.\t+\t.\tID=rna59002;Parent=gene30629;Dbxref=GeneID:106569513,Genbank:XM_014140931.1;Name=XM_014140931.1;gbkey=mRNA;gene=LOC106569513;product=receptor-type tyrosine-protein phosphatase S-like%2C transcript variant X2;transcript_id=XM_014140931.1\r\n",
      "NC_027313.1\t37918910\t37918937\tSal\tNC_027313.1\tGnomon\tmRNA\t37805362\t37921867\t.\t+\t.\tID=rna59003;Parent=gene30629;Dbxref=GeneID:106569513,Genbank:XM_014140937.1;Name=XM_014140937.1;gbkey=mRNA;gene=LOC106569513;product=receptor-type tyrosine-protein phosphatase S-like%2C transcript variant X7;transcript_id=XM_014140937.1\r\n",
      "NC_027313.1\t37918910\t37918937\tSal\tNC_027313.1\tGnomon\tmRNA\t37805362\t37921866\t.\t+\t.\tID=rna59004;Parent=gene30629;Dbxref=GeneID:106569513,Genbank:XM_014140930.1;Name=XM_014140930.1;gbkey=mRNA;gene=LOC106569513;product=receptor-type tyrosine-protein phosphatase S-like%2C transcript variant X1;transcript_id=XM_014140930.1\r\n",
      "NC_027313.1\t37918910\t37918937\tSal\tNC_027313.1\tGnomon\tmRNA\t37805362\t37921866\t.\t+\t.\tID=rna59005;Parent=gene30629;Dbxref=GeneID:106569513,Genbank:XM_014140932.1;Name=XM_014140932.1;gbkey=mRNA;gene=LOC106569513;product=receptor-type tyrosine-protein phosphatase S-like%2C transcript variant X3;transcript_id=XM_014140932.1\r\n",
      "NC_027313.1\t37918910\t37918937\tSal\tNC_027313.1\tGnomon\tmRNA\t37805362\t37921866\t.\t+\t.\tID=rna59006;Parent=gene30629;Dbxref=GeneID:106569513,Genbank:XM_014140936.1;Name=XM_014140936.1;gbkey=mRNA;gene=LOC106569513;product=receptor-type tyrosine-protein phosphatase S-like%2C transcript variant X6;transcript_id=XM_014140936.1\r\n",
      "NC_027313.1\t37918910\t37918937\tSal\tNC_027313.1\tGnomon\tmRNA\t37805362\t37921866\t.\t+\t.\tID=rna59007;Parent=gene30629;Dbxref=GeneID:106569513,Genbank:XM_014140940.1;Name=XM_014140940.1;gbkey=mRNA;gene=LOC106569513;product=receptor-type tyrosine-protein phosphatase S-like%2C transcript variant X10;transcript_id=XM_014140940.1\r\n",
      "NC_027313.1\t37918910\t37918937\tSal\tNC_027313.1\tGnomon\tmRNA\t37805362\t37921866\t.\t+\t.\tID=rna59008;Parent=gene30629;Dbxref=GeneID:106569513,Genbank:XM_014140934.1;Name=XM_014140934.1;gbkey=mRNA;gene=LOC106569513;product=receptor-type tyrosine-protein phosphatase S-like%2C transcript variant X5;transcript_id=XM_014140934.1\r\n",
      "NC_027313.1\t37918910\t37918937\tSal\tNC_027313.1\tGnomon\tmRNA\t37805362\t37921866\t.\t+\t.\tID=rna59009;Parent=gene30629;Dbxref=GeneID:106569513,Genbank:XM_014140944.1;Name=XM_014140944.1;gbkey=mRNA;gene=LOC106569513;product=receptor-type tyrosine-protein phosphatase S-like%2C transcript variant X14;transcript_id=XM_014140944.1\r\n",
      "NC_027313.1\t37918910\t37918937\tSal\tNC_027313.1\tGnomon\tmRNA\t37805362\t37921866\t.\t+\t.\tID=rna59010;Parent=gene30629;Dbxref=GeneID:106569513,Genbank:XM_014140933.1;Name=XM_014140933.1;gbkey=mRNA;gene=LOC106569513;product=receptor-type tyrosine-protein phosphatase S-like%2C transcript variant X4;transcript_id=XM_014140933.1\r\n",
      "NC_027313.1\t37918910\t37918937\tSal\tNC_027313.1\tGnomon\tmRNA\t37805362\t37921866\t.\t+\t.\tID=rna59011;Parent=gene30629;Dbxref=GeneID:106569513,Genbank:XM_014140938.1;Name=XM_014140938.1;gbkey=mRNA;gene=LOC106569513;product=receptor-type tyrosine-protein phosphatase S-like%2C transcript variant X8;transcript_id=XM_014140938.1\r\n",
      "NC_027313.1\t37918910\t37918937\tSal\tNC_027313.1\tGnomon\tmRNA\t37805362\t37921866\t.\t+\t.\tID=rna59012;Parent=gene30629;Dbxref=GeneID:106569513,Genbank:XM_014140939.1;Name=XM_014140939.1;gbkey=mRNA;gene=LOC106569513;product=receptor-type tyrosine-protein phosphatase S-like%2C transcript variant X9;transcript_id=XM_014140939.1\r\n",
      "NC_027313.1\t37918910\t37918937\tSal\tNC_027313.1\tGnomon\tmRNA\t37805362\t37921866\t.\t+\t.\tID=rna59013;Parent=gene30629;Dbxref=GeneID:106569513,Genbank:XM_014140943.1;Name=XM_014140943.1;gbkey=mRNA;gene=LOC106569513;product=receptor-type tyrosine-protein phosphatase S-like%2C transcript variant X13;transcript_id=XM_014140943.1\r\n",
      "NC_027313.1\t37918910\t37918937\tSal\tNC_027313.1\tGnomon\tmRNA\t37805362\t37921866\t.\t+\t.\tID=rna59014;Parent=gene30629;Dbxref=GeneID:106569513,Genbank:XM_014140941.1;Name=XM_014140941.1;gbkey=mRNA;gene=LOC106569513;product=receptor-type tyrosine-protein phosphatase S-like%2C transcript variant X11;transcript_id=XM_014140941.1\r\n",
      "NC_027313.1\t37918910\t37918937\tSal\tNC_027313.1\tRefSeq\tregion\t1\t93901823\t.\t+\t.\tID=id668475;Dbxref=taxon:8030;Name=ssa14;breed=double haploid;chromosome=ssa14;dev-stage=adult;gbkey=Src;genome=chromosome;isolate=Sally;mol_type=genomic DNA;sex=female;tissue-type=muscle\r\n",
      "NC_027313.1\t57189054\t57189093\tSal\tNC_027313.1\tGnomon\texon\t57188988\t57189191\t.\t-\t.\tID=id705744;Parent=rna59907;Dbxref=GeneID:106570016,Genbank:XM_014141892.1;gbkey=mRNA;gene=LOC106570016;product=microtubule-actin cross-linking factor 1-like%2C transcript variant X15;transcript_id=XM_014141892.1\r\n",
      "NC_027313.1\t57189054\t57189093\tSal\tNC_027313.1\tGnomon\texon\t57188988\t57189191\t.\t-\t.\tID=id705844;Parent=rna59908;Dbxref=GeneID:106570016,Genbank:XM_014141891.1;gbkey=mRNA;gene=LOC106570016;product=microtubule-actin cross-linking factor 1-like%2C transcript variant X14;transcript_id=XM_014141891.1\r\n",
      "NC_027313.1\t57189054\t57189093\tSal\tNC_027313.1\tGnomon\texon\t57188988\t57189191\t.\t-\t.\tID=id705941;Parent=rna59909;Dbxref=GeneID:106570016,Genbank:XM_014141893.1;gbkey=mRNA;gene=LOC106570016;product=microtubule-actin cross-linking factor 1-like%2C transcript variant X16;transcript_id=XM_014141893.1\r\n",
      "NC_027313.1\t57189054\t57189093\tSal\tNC_027313.1\tGnomon\texon\t57188988\t57189191\t.\t-\t.\tID=id706040;Parent=rna59910;Dbxref=GeneID:106570016,Genbank:XM_014141895.1;gbkey=mRNA;gene=LOC106570016;product=microtubule-actin cross-linking factor 1-like%2C transcript variant X18;transcript_id=XM_014141895.1\r\n",
      "NC_027313.1\t57189054\t57189093\tSal\tNC_027313.1\tGnomon\texon\t57188988\t57189191\t.\t-\t.\tID=id706139;Parent=rna59911;Dbxref=GeneID:106570016,Genbank:XM_014141897.1;gbkey=mRNA;gene=LOC106570016;product=microtubule-actin cross-linking factor 1-like%2C transcript variant X20;transcript_id=XM_014141897.1\r\n",
      "NC_027313.1\t57189054\t57189093\tSal\tNC_027313.1\tGnomon\texon\t57188988\t57189191\t.\t-\t.\tID=id706238;Parent=rna59912;Dbxref=GeneID:106570016,Genbank:XM_014141894.1;gbkey=mRNA;gene=LOC106570016;product=microtubule-actin cross-linking factor 1-like%2C transcript variant X17;transcript_id=XM_014141894.1\r\n",
      "NC_027313.1\t57189054\t57189093\tSal\tNC_027313.1\tGnomon\texon\t57188988\t57189191\t.\t-\t.\tID=id706337;Parent=rna59913;Dbxref=GeneID:106570016,Genbank:XM_014141896.1;gbkey=mRNA;gene=LOC106570016;product=microtubule-actin cross-linking factor 1-like%2C transcript variant X19;transcript_id=XM_014141896.1\r\n",
      "NC_027313.1\t57189054\t57189093\tSal\tNC_027313.1\tGnomon\texon\t57188988\t57189191\t.\t-\t.\tID=id706431;Parent=rna59914;Dbxref=GeneID:106570016,Genbank:XM_014141881.1;gbkey=mRNA;gene=LOC106570016;product=microtubule-actin cross-linking factor 1-like%2C transcript variant X5;transcript_id=XM_014141881.1\r\n",
      "NC_027313.1\t57189054\t57189093\tSal\tNC_027313.1\tGnomon\texon\t57188988\t57189191\t.\t-\t.\tID=id706523;Parent=rna59915;Dbxref=GeneID:106570016,Genbank:XM_014141880.1;gbkey=mRNA;gene=LOC106570016;product=microtubule-actin cross-linking factor 1-like%2C transcript variant X4;transcript_id=XM_014141880.1\r\n",
      "NC_027313.1\t57189054\t57189093\tSal\tNC_027313.1\tGnomon\texon\t57188988\t57189191\t.\t-\t.\tID=id706617;Parent=rna59916;Dbxref=GeneID:106570016,Genbank:XM_014141879.1;gbkey=mRNA;gene=LOC106570016;product=microtubule-actin cross-linking factor 1-like%2C transcript variant X3;transcript_id=XM_014141879.1\r\n",
      "NC_027313.1\t57189054\t57189093\tSal\tNC_027313.1\tGnomon\texon\t57188988\t57189191\t.\t-\t.\tID=id706710;Parent=rna59917;Dbxref=GeneID:106570016,Genbank:XM_014141884.1;gbkey=mRNA;gene=LOC106570016;product=microtubule-actin cross-linking factor 1-like%2C transcript variant X8;transcript_id=XM_014141884.1\r\n",
      "NC_027313.1\t57189054\t57189093\tSal\tNC_027313.1\tGnomon\texon\t57188988\t57189191\t.\t-\t.\tID=id706803;Parent=rna59918;Dbxref=GeneID:106570016,Genbank:XM_014141890.1;gbkey=mRNA;gene=LOC106570016;product=microtubule-actin cross-linking factor 1-like%2C transcript variant X13;transcript_id=XM_014141890.1\r\n",
      "NC_027313.1\t57189054\t57189093\tSal\tNC_027313.1\tGnomon\texon\t57188988\t57189191\t.\t-\t.\tID=id706895;Parent=rna59919;Dbxref=GeneID:106570016,Genbank:XM_014141889.1;gbkey=mRNA;gene=LOC106570016;product=microtubule-actin cross-linking factor 1-like%2C transcript variant X12;transcript_id=XM_014141889.1\r\n",
      "NC_027313.1\t57189054\t57189093\tSal\tNC_027313.1\tGnomon\texon\t57188988\t57189191\t.\t-\t.\tID=id706989;Parent=rna59920;Dbxref=GeneID:106570016,Genbank:XM_014141878.1;gbkey=mRNA;gene=LOC106570016;product=microtubule-actin cross-linking factor 1-like%2C transcript variant X2;transcript_id=XM_014141878.1\r\n",
      "NC_027313.1\t57189054\t57189093\tSal\tNC_027313.1\tGnomon\texon\t57188988\t57189191\t.\t-\t.\tID=id707082;Parent=rna59921;Dbxref=GeneID:106570016,Genbank:XM_014141888.1;gbkey=mRNA;gene=LOC106570016;product=microtubule-actin cross-linking factor 1-like%2C transcript variant X11;transcript_id=XM_014141888.1\r\n",
      "NC_027313.1\t57189054\t57189093\tSal\tNC_027313.1\tGnomon\texon\t57188988\t57189191\t.\t-\t.\tID=id707173;Parent=rna59922;Dbxref=GeneID:106570016,Genbank:XM_014141883.1;gbkey=mRNA;gene=LOC106570016;product=microtubule-actin cross-linking factor 1-like%2C transcript variant X7;transcript_id=XM_014141883.1\r\n",
      "NC_027313.1\t57189054\t57189093\tSal\tNC_027313.1\tGnomon\texon\t57188988\t57189191\t.\t-\t.\tID=id707266;Parent=rna59923;Dbxref=GeneID:106570016,Genbank:XM_014141882.1;gbkey=mRNA;gene=LOC106570016;product=microtubule-actin cross-linking factor 1-like%2C transcript variant X6;transcript_id=XM_014141882.1\r\n",
      "NC_027313.1\t57189054\t57189093\tSal\tNC_027313.1\tGnomon\texon\t57188988\t57189191\t.\t-\t.\tID=id707359;Parent=rna59924;Dbxref=GeneID:106570016,Genbank:XM_014141886.1;gbkey=mRNA;gene=LOC106570016;product=microtubule-actin cross-linking factor 1-like%2C transcript variant X10;transcript_id=XM_014141886.1\r\n",
      "NC_027313.1\t57189054\t57189093\tSal\tNC_027313.1\tGnomon\texon\t57188988\t57189191\t.\t-\t.\tID=id707452;Parent=rna59925;Dbxref=GeneID:106570016,Genbank:XM_014141877.1;gbkey=mRNA;gene=LOC106570016;product=microtubule-actin cross-linking factor 1-like%2C transcript variant X1;transcript_id=XM_014141877.1\r\n",
      "NC_027313.1\t57189054\t57189093\tSal\tNC_027313.1\tGnomon\texon\t57188988\t57189191\t.\t-\t.\tID=id707546;Parent=rna59926;Dbxref=GeneID:106570016,Genbank:XM_014141885.1;gbkey=mRNA;gene=LOC106570016;product=microtubule-actin cross-linking factor 1-like%2C transcript variant X9;transcript_id=XM_014141885.1\r\n",
      "NC_027313.1\t57189054\t57189093\tSal\tNC_027313.1\tGnomon\tCDS\t57188988\t57189191\t.\t-\t0\tID=cds52730;Parent=rna59909;Dbxref=GeneID:106570016,Genbank:XP_013997368.1;Name=XP_013997368.1;gbkey=CDS;gene=LOC106570016;product=microtubule-actin cross-linking factor 1-like isoform X16;protein_id=XP_013997368.1\r\n",
      "NC_027313.1\t57189054\t57189093\tSal\tNC_027313.1\tGnomon\tCDS\t57188988\t57189191\t.\t-\t0\tID=cds52731;Parent=rna59907;Dbxref=GeneID:106570016,Genbank:XP_013997367.1;Name=XP_013997367.1;gbkey=CDS;gene=LOC106570016;product=microtubule-actin cross-linking factor 1-like isoform X15;protein_id=XP_013997367.1\r\n",
      "NC_027313.1\t57189054\t57189093\tSal\tNC_027313.1\tGnomon\tCDS\t57188988\t57189191\t.\t-\t0\tID=cds52732;Parent=rna59908;Dbxref=GeneID:106570016,Genbank:XP_013997366.1;Name=XP_013997366.1;gbkey=CDS;gene=LOC106570016;product=microtubule-actin cross-linking factor 1-like isoform X14;protein_id=XP_013997366.1\r\n",
      "NC_027313.1\t57189054\t57189093\tSal\tNC_027313.1\tGnomon\tCDS\t57188988\t57189191\t.\t-\t0\tID=cds52733;Parent=rna59910;Dbxref=GeneID:106570016,Genbank:XP_013997370.1;Name=XP_013997370.1;gbkey=CDS;gene=LOC106570016;product=microtubule-actin cross-linking factor 1-like isoform X18;protein_id=XP_013997370.1\r\n",
      "NC_027313.1\t57189054\t57189093\tSal\tNC_027313.1\tGnomon\tCDS\t57188988\t57189191\t.\t-\t0\tID=cds52734;Parent=rna59911;Dbxref=GeneID:106570016,Genbank:XP_013997372.1;Name=XP_013997372.1;gbkey=CDS;gene=LOC106570016;product=microtubule-actin cross-linking factor 1-like isoform X20;protein_id=XP_013997372.1\r\n",
      "NC_027313.1\t57189054\t57189093\tSal\tNC_027313.1\tGnomon\tCDS\t57188988\t57189191\t.\t-\t0\tID=cds52735;Parent=rna59912;Dbxref=GeneID:106570016,Genbank:XP_013997369.1;Name=XP_013997369.1;gbkey=CDS;gene=LOC106570016;product=microtubule-actin cross-linking factor 1-like isoform X17;protein_id=XP_013997369.1\r\n",
      "NC_027313.1\t57189054\t57189093\tSal\tNC_027313.1\tGnomon\tCDS\t57188988\t57189191\t.\t-\t0\tID=cds52736;Parent=rna59913;Dbxref=GeneID:106570016,Genbank:XP_013997371.1;Name=XP_013997371.1;gbkey=CDS;gene=LOC106570016;product=microtubule-actin cross-linking factor 1-like isoform X19;protein_id=XP_013997371.1\r\n",
      "NC_027313.1\t57189054\t57189093\tSal\tNC_027313.1\tGnomon\tCDS\t57188988\t57189191\t.\t-\t0\tID=cds52737;Parent=rna59915;Dbxref=GeneID:106570016,Genbank:XP_013997355.1;Name=XP_013997355.1;gbkey=CDS;gene=LOC106570016;product=microtubule-actin cross-linking factor 1-like isoform X4;protein_id=XP_013997355.1\r\n",
      "NC_027313.1\t57189054\t57189093\tSal\tNC_027313.1\tGnomon\tCDS\t57188988\t57189191\t.\t-\t0\tID=cds52738;Parent=rna59916;Dbxref=GeneID:106570016,Genbank:XP_013997354.1;Name=XP_013997354.1;gbkey=CDS;gene=LOC106570016;product=microtubule-actin cross-linking factor 1-like isoform X3;protein_id=XP_013997354.1\r\n",
      "NC_027313.1\t57189054\t57189093\tSal\tNC_027313.1\tGnomon\tCDS\t57188988\t57189191\t.\t-\t0\tID=cds52739;Parent=rna59917;Dbxref=GeneID:106570016,Genbank:XP_013997359.1;Name=XP_013997359.1;gbkey=CDS;gene=LOC106570016;product=microtubule-actin cross-linking factor 1-like isoform X8;protein_id=XP_013997359.1\r\n",
      "NC_027313.1\t57189054\t57189093\tSal\tNC_027313.1\tGnomon\tCDS\t57188988\t57189191\t.\t-\t0\tID=cds52740;Parent=rna59918;Dbxref=GeneID:106570016,Genbank:XP_013997365.1;Name=XP_013997365.1;gbkey=CDS;gene=LOC106570016;product=microtubule-actin cross-linking factor 1%2C isoforms 1/2/3/5-like isoform X13;protein_id=XP_013997365.1\r\n",
      "NC_027313.1\t57189054\t57189093\tSal\tNC_027313.1\tGnomon\tCDS\t57188988\t57189191\t.\t-\t0\tID=cds52741;Parent=rna59919;Dbxref=GeneID:106570016,Genbank:XP_013997364.1;Name=XP_013997364.1;gbkey=CDS;gene=LOC106570016;product=microtubule-actin cross-linking factor 1%2C isoforms 1/2/3/5-like isoform X12;protein_id=XP_013997364.1\r\n",
      "NC_027313.1\t57189054\t57189093\tSal\tNC_027313.1\tGnomon\tCDS\t57188988\t57189191\t.\t-\t0\tID=cds52742;Parent=rna59920;Dbxref=GeneID:106570016,Genbank:XP_013997353.1;Name=XP_013997353.1;gbkey=CDS;gene=LOC106570016;product=microtubule-actin cross-linking factor 1-like isoform X2;protein_id=XP_013997353.1\r\n",
      "NC_027313.1\t57189054\t57189093\tSal\tNC_027313.1\tGnomon\tCDS\t57188988\t57189191\t.\t-\t0\tID=cds52743;Parent=rna59921;Dbxref=GeneID:106570016,Genbank:XP_013997363.1;Name=XP_013997363.1;gbkey=CDS;gene=LOC106570016;product=microtubule-actin cross-linking factor 1-like isoform X11;protein_id=XP_013997363.1\r\n",
      "NC_027313.1\t57189054\t57189093\tSal\tNC_027313.1\tGnomon\tCDS\t57188988\t57189191\t.\t-\t0\tID=cds52744;Parent=rna59914;Dbxref=GeneID:106570016,Genbank:XP_013997356.1;Name=XP_013997356.1;gbkey=CDS;gene=LOC106570016;product=microtubule-actin cross-linking factor 1-like isoform X5;protein_id=XP_013997356.1\r\n",
      "NC_027313.1\t57189054\t57189093\tSal\tNC_027313.1\tGnomon\tCDS\t57188988\t57189191\t.\t-\t0\tID=cds52745;Parent=rna59926;Dbxref=GeneID:106570016,Genbank:XP_013997360.1;Name=XP_013997360.1;gbkey=CDS;gene=LOC106570016;product=microtubule-actin cross-linking factor 1-like isoform X9;protein_id=XP_013997360.1\r\n",
      "NC_027313.1\t57189054\t57189093\tSal\tNC_027313.1\tGnomon\tCDS\t57188988\t57189191\t.\t-\t0\tID=cds52746;Parent=rna59922;Dbxref=GeneID:106570016,Genbank:XP_013997358.1;Name=XP_013997358.1;gbkey=CDS;gene=LOC106570016;product=microtubule-actin cross-linking factor 1-like isoform X7;protein_id=XP_013997358.1\r\n",
      "NC_027313.1\t57189054\t57189093\tSal\tNC_027313.1\tGnomon\tCDS\t57188988\t57189191\t.\t-\t0\tID=cds52747;Parent=rna59923;Dbxref=GeneID:106570016,Genbank:XP_013997357.1;Name=XP_013997357.1;gbkey=CDS;gene=LOC106570016;product=microtubule-actin cross-linking factor 1-like isoform X6;protein_id=XP_013997357.1\r\n",
      "NC_027313.1\t57189054\t57189093\tSal\tNC_027313.1\tGnomon\tCDS\t57188988\t57189191\t.\t-\t0\tID=cds52748;Parent=rna59924;Dbxref=GeneID:106570016,Genbank:XP_013997361.1;Name=XP_013997361.1;gbkey=CDS;gene=LOC106570016;product=microtubule-actin cross-linking factor 1-like isoform X10;protein_id=XP_013997361.1\r\n",
      "NC_027313.1\t57189054\t57189093\tSal\tNC_027313.1\tGnomon\tCDS\t57188988\t57189191\t.\t-\t0\tID=cds52749;Parent=rna59925;Dbxref=GeneID:106570016,Genbank:XP_013997352.1;Name=XP_013997352.1;gbkey=CDS;gene=LOC106570016;product=microtubule-actin cross-linking factor 1-like isoform X1;protein_id=XP_013997352.1\r\n",
      "NC_027313.1\t57189054\t57189093\tSal\tNC_027313.1\tGnomon\tgene\t57157908\t57454885\t.\t-\t.\tID=gene31112;Dbxref=GeneID:106570016;Name=LOC106570016;gbkey=Gene;gene=LOC106570016;gene_biotype=protein_coding\r\n",
      "NC_027313.1\t57189054\t57189093\tSal\tNC_027313.1\tGnomon\tmRNA\t57157908\t57454885\t.\t-\t.\tID=rna59907;Parent=gene31112;Dbxref=GeneID:106570016,Genbank:XM_014141892.1;Name=XM_014141892.1;gbkey=mRNA;gene=LOC106570016;product=microtubule-actin cross-linking factor 1-like%2C transcript variant X15;transcript_id=XM_014141892.1\r\n",
      "NC_027313.1\t57189054\t57189093\tSal\tNC_027313.1\tGnomon\tmRNA\t57157908\t57454885\t.\t-\t.\tID=rna59908;Parent=gene31112;Dbxref=GeneID:106570016,Genbank:XM_014141891.1;Name=XM_014141891.1;gbkey=mRNA;gene=LOC106570016;product=microtubule-actin cross-linking factor 1-like%2C transcript variant X14;transcript_id=XM_014141891.1\r\n",
      "NC_027313.1\t57189054\t57189093\tSal\tNC_027313.1\tGnomon\tmRNA\t57157908\t57450427\t.\t-\t.\tID=rna59909;Parent=gene31112;Dbxref=GeneID:106570016,Genbank:XM_014141893.1;Name=XM_014141893.1;gbkey=mRNA;gene=LOC106570016;product=microtubule-actin cross-linking factor 1-like%2C transcript variant X16;transcript_id=XM_014141893.1\r\n",
      "NC_027313.1\t57189054\t57189093\tSal\tNC_027313.1\tGnomon\tmRNA\t57157908\t57436780\t.\t-\t.\tID=rna59910;Parent=gene31112;Dbxref=GeneID:106570016,Genbank:XM_014141895.1;Name=XM_014141895.1;gbkey=mRNA;gene=LOC106570016;product=microtubule-actin cross-linking factor 1-like%2C transcript variant X18;transcript_id=XM_014141895.1\r\n",
      "NC_027313.1\t57189054\t57189093\tSal\tNC_027313.1\tGnomon\tmRNA\t57157908\t57381799\t.\t-\t.\tID=rna59911;Parent=gene31112;Dbxref=GeneID:106570016,Genbank:XM_014141897.1;Name=XM_014141897.1;gbkey=mRNA;gene=LOC106570016;product=microtubule-actin cross-linking factor 1-like%2C transcript variant X20;transcript_id=XM_014141897.1\r\n",
      "NC_027313.1\t57189054\t57189093\tSal\tNC_027313.1\tGnomon\tmRNA\t57157908\t57349965\t.\t-\t.\tID=rna59912;Parent=gene31112;Dbxref=GeneID:106570016,Genbank:XM_014141894.1;Name=XM_014141894.1;gbkey=mRNA;gene=LOC106570016;product=microtubule-actin cross-linking factor 1-like%2C transcript variant X17;transcript_id=XM_014141894.1\r\n",
      "NC_027313.1\t57189054\t57189093\tSal\tNC_027313.1\tGnomon\tmRNA\t57157908\t57341462\t.\t-\t.\tID=rna59913;Parent=gene31112;Dbxref=GeneID:106570016,Genbank:XM_014141896.1;Name=XM_014141896.1;gbkey=mRNA;gene=LOC106570016;product=microtubule-actin cross-linking factor 1-like%2C transcript variant X19;transcript_id=XM_014141896.1\r\n",
      "NC_027313.1\t57189054\t57189093\tSal\tNC_027313.1\tGnomon\tmRNA\t57157908\t57282671\t.\t-\t.\tID=rna59914;Parent=gene31112;Dbxref=GeneID:106570016,Genbank:XM_014141881.1;Name=XM_014141881.1;gbkey=mRNA;gene=LOC106570016;product=microtubule-actin cross-linking factor 1-like%2C transcript variant X5;transcript_id=XM_014141881.1\r\n",
      "NC_027313.1\t57189054\t57189093\tSal\tNC_027313.1\tGnomon\tmRNA\t57157908\t57282670\t.\t-\t.\tID=rna59915;Parent=gene31112;Dbxref=GeneID:106570016,Genbank:XM_014141880.1;Name=XM_014141880.1;gbkey=mRNA;gene=LOC106570016;product=microtubule-actin cross-linking factor 1-like%2C transcript variant X4;transcript_id=XM_014141880.1\r\n",
      "NC_027313.1\t57189054\t57189093\tSal\tNC_027313.1\tGnomon\tmRNA\t57157908\t57282670\t.\t-\t.\tID=rna59916;Parent=gene31112;Dbxref=GeneID:106570016,Genbank:XM_014141879.1;Name=XM_014141879.1;gbkey=mRNA;gene=LOC106570016;product=microtubule-actin cross-linking factor 1-like%2C transcript variant X3;transcript_id=XM_014141879.1\r\n",
      "NC_027313.1\t57189054\t57189093\tSal\tNC_027313.1\tGnomon\tmRNA\t57157908\t57282670\t.\t-\t.\tID=rna59917;Parent=gene31112;Dbxref=GeneID:106570016,Genbank:XM_014141884.1;Name=XM_014141884.1;gbkey=mRNA;gene=LOC106570016;product=microtubule-actin cross-linking factor 1-like%2C transcript variant X8;transcript_id=XM_014141884.1\r\n",
      "NC_027313.1\t57189054\t57189093\tSal\tNC_027313.1\tGnomon\tmRNA\t57157908\t57282670\t.\t-\t.\tID=rna59918;Parent=gene31112;Dbxref=GeneID:106570016,Genbank:XM_014141890.1;Name=XM_014141890.1;gbkey=mRNA;gene=LOC106570016;product=microtubule-actin cross-linking factor 1-like%2C transcript variant X13;transcript_id=XM_014141890.1\r\n",
      "NC_027313.1\t57189054\t57189093\tSal\tNC_027313.1\tGnomon\tmRNA\t57157908\t57282670\t.\t-\t.\tID=rna59919;Parent=gene31112;Dbxref=GeneID:106570016,Genbank:XM_014141889.1;Name=XM_014141889.1;gbkey=mRNA;gene=LOC106570016;product=microtubule-actin cross-linking factor 1-like%2C transcript variant X12;transcript_id=XM_014141889.1\r\n",
      "NC_027313.1\t57189054\t57189093\tSal\tNC_027313.1\tGnomon\tmRNA\t57157908\t57282670\t.\t-\t.\tID=rna59920;Parent=gene31112;Dbxref=GeneID:106570016,Genbank:XM_014141878.1;Name=XM_014141878.1;gbkey=mRNA;gene=LOC106570016;product=microtubule-actin cross-linking factor 1-like%2C transcript variant X2;transcript_id=XM_014141878.1\r\n",
      "NC_027313.1\t57189054\t57189093\tSal\tNC_027313.1\tGnomon\tmRNA\t57157908\t57282670\t.\t-\t.\tID=rna59921;Parent=gene31112;Dbxref=GeneID:106570016,Genbank:XM_014141888.1;Name=XM_014141888.1;gbkey=mRNA;gene=LOC106570016;product=microtubule-actin cross-linking factor 1-like%2C transcript variant X11;transcript_id=XM_014141888.1\r\n",
      "NC_027313.1\t57189054\t57189093\tSal\tNC_027313.1\tGnomon\tmRNA\t57157908\t57282670\t.\t-\t.\tID=rna59922;Parent=gene31112;Dbxref=GeneID:106570016,Genbank:XM_014141883.1;Name=XM_014141883.1;gbkey=mRNA;gene=LOC106570016;product=microtubule-actin cross-linking factor 1-like%2C transcript variant X7;transcript_id=XM_014141883.1\r\n",
      "NC_027313.1\t57189054\t57189093\tSal\tNC_027313.1\tGnomon\tmRNA\t57157908\t57282670\t.\t-\t.\tID=rna59923;Parent=gene31112;Dbxref=GeneID:106570016,Genbank:XM_014141882.1;Name=XM_014141882.1;gbkey=mRNA;gene=LOC106570016;product=microtubule-actin cross-linking factor 1-like%2C transcript variant X6;transcript_id=XM_014141882.1\r\n",
      "NC_027313.1\t57189054\t57189093\tSal\tNC_027313.1\tGnomon\tmRNA\t57157908\t57282670\t.\t-\t.\tID=rna59924;Parent=gene31112;Dbxref=GeneID:106570016,Genbank:XM_014141886.1;Name=XM_014141886.1;gbkey=mRNA;gene=LOC106570016;product=microtubule-actin cross-linking factor 1-like%2C transcript variant X10;transcript_id=XM_014141886.1\r\n",
      "NC_027313.1\t57189054\t57189093\tSal\tNC_027313.1\tGnomon\tmRNA\t57157908\t57282670\t.\t-\t.\tID=rna59925;Parent=gene31112;Dbxref=GeneID:106570016,Genbank:XM_014141877.1;Name=XM_014141877.1;gbkey=mRNA;gene=LOC106570016;product=microtubule-actin cross-linking factor 1-like%2C transcript variant X1;transcript_id=XM_014141877.1\r\n",
      "NC_027313.1\t57189054\t57189093\tSal\tNC_027313.1\tGnomon\tmRNA\t57157908\t57281149\t.\t-\t.\tID=rna59926;Parent=gene31112;Dbxref=GeneID:106570016,Genbank:XM_014141885.1;Name=XM_014141885.1;gbkey=mRNA;gene=LOC106570016;product=microtubule-actin cross-linking factor 1-like%2C transcript variant X9;transcript_id=XM_014141885.1\r\n",
      "NC_027313.1\t57189054\t57189093\tSal\tNC_027313.1\tRefSeq\tregion\t1\t93901823\t.\t+\t.\tID=id668475;Dbxref=taxon:8030;Name=ssa14;breed=double haploid;chromosome=ssa14;dev-stage=adult;gbkey=Src;genome=chromosome;isolate=Sally;mol_type=genomic DNA;sex=female;tissue-type=muscle\r\n",
      "NC_027313.1\t578945\t579259\tSal\tNC_027313.1\tRefSeq\tregion\t1\t93901823\t.\t+\t.\tID=id668475;Dbxref=taxon:8030;Name=ssa14;breed=double haploid;chromosome=ssa14;dev-stage=adult;gbkey=Src;genome=chromosome;isolate=Sally;mol_type=genomic DNA;sex=female;tissue-type=muscle\r\n",
      "NC_027313.1\t59710170\t59710194\tSal\tNC_027313.1\tGnomon\tgene\t59709212\t59717016\t.\t-\t.\tID=gene31209;Dbxref=GeneID:106569941;Name=LOC106569941;gbkey=Gene;gene=LOC106569941;gene_biotype=lncRNA\r\n",
      "NC_027313.1\t59710170\t59710194\tSal\tNC_027313.1\tGnomon\tncRNA\t59709212\t59717016\t.\t-\t.\tID=rna60127;Parent=gene31209;Dbxref=GeneID:106569941,Genbank:XR_001320590.1;Name=XR_001320590.1;gbkey=ncRNA;gene=LOC106569941;ncrna_class=lncRNA;product=uncharacterized LOC106569941;transcript_id=XR_001320590.1\r\n",
      "NC_027313.1\t59710170\t59710194\tSal\tNC_027313.1\tGnomon\texon\t59709212\t59711313\t.\t-\t.\tID=id710212;Parent=rna60127;Dbxref=GeneID:106569941,Genbank:XR_001320590.1;gbkey=ncRNA;gene=LOC106569941;ncrna_class=lncRNA;product=uncharacterized LOC106569941;transcript_id=XR_001320590.1\r\n",
      "NC_027313.1\t59710170\t59710194\tSal\tNC_027313.1\tGnomon\tgene\t59698588\t59724522\t.\t+\t.\tID=gene31208;Dbxref=GeneID:106569938;Name=LOC106569938;gbkey=Gene;gene=LOC106569938;gene_biotype=protein_coding\r\n",
      "NC_027313.1\t59710170\t59710194\tSal\tNC_027313.1\tGnomon\tmRNA\t59698588\t59724522\t.\t+\t.\tID=rna60126;Parent=gene31208;Dbxref=GeneID:106569938,Genbank:XM_014141712.1;Name=XM_014141712.1;gbkey=mRNA;gene=LOC106569938;product=H-2 class I histocompatibility antigen%2C Q10 alpha chain-like;transcript_id=XM_014141712.1\r\n",
      "NC_027313.1\t59710170\t59710194\tSal\tNC_027313.1\tRefSeq\tregion\t1\t93901823\t.\t+\t.\tID=id668475;Dbxref=taxon:8030;Name=ssa14;breed=double haploid;chromosome=ssa14;dev-stage=adult;gbkey=Src;genome=chromosome;isolate=Sally;mol_type=genomic DNA;sex=female;tissue-type=muscle\r\n",
      "NC_027313.1\t62241032\t62241056\tTempxSal\tNC_027313.1\tRefSeq\tregion\t1\t93901823\t.\t+\t.\tID=id668475;Dbxref=taxon:8030;Name=ssa14;breed=double haploid;chromosome=ssa14;dev-stage=adult;gbkey=Src;genome=chromosome;isolate=Sally;mol_type=genomic DNA;sex=female;tissue-type=muscle\r\n",
      "NC_027314.1\t103629887\t103629905\tTempxSal\tNC_027314.1\tGnomon\tgene\t103624386\t103645774\t.\t+\t.\tID=gene34150;Dbxref=GeneID:106573004;Name=LOC106573004;gbkey=Gene;gene=LOC106573004;gene_biotype=protein_coding;partial=true;start_range=.,103624386\r\n",
      "NC_027314.1\t103629887\t103629905\tTempxSal\tNC_027314.1\tGnomon\tmRNA\t103624386\t103645774\t.\t+\t.\tID=rna66010;Parent=gene34150;Dbxref=GeneID:106573004,Genbank:XM_014147600.1;Name=XM_014147600.1;Note=The sequence of the model RefSeq transcript was modified relative to this genomic sequence to represent the inferred CDS: added 177 bases not found in genome assembly;exception=annotated by transcript or proteomic data;gbkey=mRNA;gene=LOC106573004;partial=true;product=isocitrate dehydrogenase [NAD] subunit gamma%2C mitochondrial-like;start_range=.,103624386;transcript_id=XM_014147600.1\r\n",
      "NC_027314.1\t103629887\t103629905\tTempxSal\tNC_027314.1\tRefSeq\tregion\t1\t103963436\t.\t+\t.\tID=id725124;Dbxref=taxon:8030;Name=ssa15;breed=double haploid;chromosome=ssa15;dev-stage=adult;gbkey=Src;genome=chromosome;isolate=Sally;mol_type=genomic DNA;sex=female;tissue-type=muscle\r\n",
      "NC_027314.1\t36371572\t36371648\tSal\tNC_027314.1\tGnomon\tgene\t36312596\t36414587\t.\t+\t.\tID=gene32642;Dbxref=GeneID:106571529;Name=LOC106571529;gbkey=Gene;gene=LOC106571529;gene_biotype=protein_coding;partial=true\r\n",
      "NC_027314.1\t36371572\t36371648\tSal\tNC_027314.1\tGnomon\tmRNA\t36312596\t36414587\t.\t+\t.\tID=rna62858;Parent=gene32642;Dbxref=GeneID:106571529,Genbank:XM_014144694.1;Name=XM_014144694.1;Note=The sequence of the model RefSeq transcript was modified relative to this genomic sequence to represent the inferred CDS: added 476 bases not found in genome assembly;exception=annotated by transcript or proteomic data;gbkey=mRNA;gene=LOC106571529;partial=true;product=protein enabled homolog;transcript_id=XM_014144694.1\r\n",
      "NC_027314.1\t36371572\t36371648\tSal\tNC_027314.1\tRefSeq\tregion\t1\t103963436\t.\t+\t.\tID=id725124;Dbxref=taxon:8030;Name=ssa15;breed=double haploid;chromosome=ssa15;dev-stage=adult;gbkey=Src;genome=chromosome;isolate=Sally;mol_type=genomic DNA;sex=female;tissue-type=muscle\r\n",
      "NC_027314.1\t67525285\t67525315\tTemp\tNC_027314.1\tGnomon\tgene\t67339260\t67598828\t.\t+\t.\tID=gene33264;Dbxref=GeneID:106572186;Name=LOC106572186;gbkey=Gene;gene=LOC106572186;gene_biotype=protein_coding\r\n",
      "NC_027314.1\t67525285\t67525315\tTemp\tNC_027314.1\tGnomon\tmRNA\t67339260\t67590512\t.\t+\t.\tID=rna64172;Parent=gene33264;Dbxref=GeneID:106572186,Genbank:XM_014146124.1;Name=XM_014146124.1;gbkey=mRNA;gene=LOC106572186;product=agrin-like%2C transcript variant X5;transcript_id=XM_014146124.1\r\n",
      "NC_027314.1\t67525285\t67525315\tTemp\tNC_027314.1\tGnomon\tmRNA\t67339265\t67598828\t.\t+\t.\tID=rna64173;Parent=gene33264;Dbxref=GeneID:106572186,Genbank:XM_014146119.1;Name=XM_014146119.1;gbkey=mRNA;gene=LOC106572186;product=agrin-like%2C transcript variant X1;transcript_id=XM_014146119.1\r\n",
      "NC_027314.1\t67525285\t67525315\tTemp\tNC_027314.1\tGnomon\tmRNA\t67339265\t67598828\t.\t+\t.\tID=rna64174;Parent=gene33264;Dbxref=GeneID:106572186,Genbank:XM_014146122.1;Name=XM_014146122.1;gbkey=mRNA;gene=LOC106572186;product=agrin-like%2C transcript variant X3;transcript_id=XM_014146122.1\r\n",
      "NC_027314.1\t67525285\t67525315\tTemp\tNC_027314.1\tGnomon\tmRNA\t67339266\t67598828\t.\t+\t.\tID=rna64175;Parent=gene33264;Dbxref=GeneID:106572186,Genbank:XM_014146121.1;Name=XM_014146121.1;gbkey=mRNA;gene=LOC106572186;product=agrin-like%2C transcript variant X2;transcript_id=XM_014146121.1\r\n",
      "NC_027314.1\t67525285\t67525315\tTemp\tNC_027314.1\tGnomon\tmRNA\t67339266\t67598828\t.\t+\t.\tID=rna64176;Parent=gene33264;Dbxref=GeneID:106572186,Genbank:XM_014146125.1;Name=XM_014146125.1;gbkey=mRNA;gene=LOC106572186;product=agrin-like%2C transcript variant X6;transcript_id=XM_014146125.1\r\n",
      "NC_027314.1\t67525285\t67525315\tTemp\tNC_027314.1\tGnomon\tmRNA\t67454879\t67598828\t.\t+\t.\tID=rna64177;Parent=gene33264;Dbxref=GeneID:106572186,Genbank:XM_014146123.1;Name=XM_014146123.1;gbkey=mRNA;gene=LOC106572186;product=agrin-like%2C transcript variant X4;transcript_id=XM_014146123.1\r\n",
      "NC_027314.1\t67525285\t67525315\tTemp\tNC_027314.1\tGnomon\tmRNA\t67454880\t67598828\t.\t+\t.\tID=rna64178;Parent=gene33264;Dbxref=GeneID:106572186,Genbank:XM_014146126.1;Name=XM_014146126.1;gbkey=mRNA;gene=LOC106572186;product=agrin-like%2C transcript variant X7;transcript_id=XM_014146126.1\r\n",
      "NC_027314.1\t67525285\t67525315\tTemp\tNC_027314.1\tRefSeq\tregion\t1\t103963436\t.\t+\t.\tID=id725124;Dbxref=taxon:8030;Name=ssa15;breed=double haploid;chromosome=ssa15;dev-stage=adult;gbkey=Src;genome=chromosome;isolate=Sally;mol_type=genomic DNA;sex=female;tissue-type=muscle\r\n",
      "NC_027314.1\t85039785\t85039797\tTemp\tNC_027314.1\tGnomon\tgene\t84926653\t85208303\t.\t-\t.\tID=gene33691;Dbxref=GeneID:106572548;Name=LOC106572548;gbkey=Gene;gene=LOC106572548;gene_biotype=protein_coding\r\n",
      "NC_027314.1\t85039785\t85039797\tTemp\tNC_027314.1\tGnomon\tmRNA\t84926653\t85208303\t.\t-\t.\tID=rna65147;Parent=gene33691;Dbxref=GeneID:106572548,Genbank:XM_014146803.1;Name=XM_014146803.1;gbkey=mRNA;gene=LOC106572548;product=membrane-associated guanylate kinase%2C WW and PDZ domain-containing protein 3-like%2C transcript variant X2;transcript_id=XM_014146803.1\r\n",
      "NC_027314.1\t85039785\t85039797\tTemp\tNC_027314.1\tGnomon\tmRNA\t84926653\t85208303\t.\t-\t.\tID=rna65148;Parent=gene33691;Dbxref=GeneID:106572548,Genbank:XM_014146802.1;Name=XM_014146802.1;gbkey=mRNA;gene=LOC106572548;product=membrane-associated guanylate kinase%2C WW and PDZ domain-containing protein 3-like%2C transcript variant X1;transcript_id=XM_014146802.1\r\n",
      "NC_027314.1\t85039785\t85039797\tTemp\tNC_027314.1\tGnomon\tmRNA\t84929723\t85208303\t.\t-\t.\tID=rna65149;Parent=gene33691;Dbxref=GeneID:106572548,Genbank:XM_014146804.1;Name=XM_014146804.1;gbkey=mRNA;gene=LOC106572548;product=membrane-associated guanylate kinase%2C WW and PDZ domain-containing protein 3-like%2C transcript variant X3;transcript_id=XM_014146804.1\r\n",
      "NC_027314.1\t85039785\t85039797\tTemp\tNC_027314.1\tRefSeq\tregion\t1\t103963436\t.\t+\t.\tID=id725124;Dbxref=taxon:8030;Name=ssa15;breed=double haploid;chromosome=ssa15;dev-stage=adult;gbkey=Src;genome=chromosome;isolate=Sally;mol_type=genomic DNA;sex=female;tissue-type=muscle\r\n",
      "NC_027314.1\t88512032\t88512220\tSal\tNC_027314.1\tBestRefSeq\tgene\t88510551\t88512679\t.\t-\t.\tID=gene33795;Dbxref=GeneID:100194441;Name=hoxc9ab;description=homeobox protein HoxC9ab;gbkey=Gene;gene=hoxc9ab;gene_biotype=protein_coding\r\n",
      "NC_027314.1\t88512032\t88512220\tSal\tNC_027314.1\tBestRefSeq\tmRNA\t88510551\t88512679\t.\t-\t.\tID=rna65367;Parent=gene33795;Dbxref=GeneID:100194441,Genbank:NM_001139533.1;Name=NM_001139533.1;gbkey=mRNA;gene=hoxc9ab;product=homeobox protein HoxC9ab;transcript_id=NM_001139533.1\r\n",
      "NC_027314.1\t88512032\t88512220\tSal\tNC_027314.1\tBestRefSeq\texon\t88511943\t88512679\t.\t-\t.\tID=id775399;Parent=rna65367;Dbxref=GeneID:100194441,Genbank:NM_001139533.1;gbkey=mRNA;gene=hoxc9ab;product=homeobox protein HoxC9ab;transcript_id=NM_001139533.1\r\n",
      "NC_027314.1\t88512032\t88512220\tSal\tNC_027314.1\tBestRefSeq\tCDS\t88511943\t88512483\t.\t-\t0\tID=cds57624;Parent=rna65367;Dbxref=GeneID:100194441,Genbank:NP_001133005.1;Name=NP_001133005.1;gbkey=CDS;gene=hoxc9ab;product=homeobox protein HoxC9ab;protein_id=NP_001133005.1\r\n",
      "NC_027314.1\t88512032\t88512220\tSal\tNC_027314.1\tBestRefSeq%2CGnomon\tgene\t88423978\t88529268\t.\t-\t.\tID=gene33789;Dbxref=GeneID:100194440;Name=hoxc10ab;description=homeobox protein HoxC10ab;gbkey=Gene;gene=hoxc10ab;gene_biotype=protein_coding\r\n",
      "NC_027314.1\t88512032\t88512220\tSal\tNC_027314.1\tGnomon\tmRNA\t88423978\t88529268\t.\t-\t.\tID=rna65349;Parent=gene33789;Dbxref=GeneID:100194440,Genbank:XM_014146881.1;Name=XM_014146881.1;gbkey=mRNA;gene=hoxc10ab;product=homeobox protein HoxC10ab%2C transcript variant X2;transcript_id=XM_014146881.1\r\n",
      "NC_027314.1\t88512032\t88512220\tSal\tNC_027314.1\tGnomon\tmRNA\t88423978\t88529268\t.\t-\t.\tID=rna65350;Parent=gene33789;Dbxref=GeneID:100194440,Genbank:XM_014146884.1;Name=XM_014146884.1;gbkey=mRNA;gene=hoxc10ab;product=homeobox protein HoxC10ab%2C transcript variant X5;transcript_id=XM_014146884.1\r\n",
      "NC_027314.1\t88512032\t88512220\tSal\tNC_027314.1\tGnomon\tmRNA\t88423978\t88529268\t.\t-\t.\tID=rna65351;Parent=gene33789;Dbxref=GeneID:100194440,Genbank:XM_014146882.1;Name=XM_014146882.1;gbkey=mRNA;gene=hoxc10ab;product=homeobox protein HoxC10ab%2C transcript variant X3;transcript_id=XM_014146882.1\r\n",
      "NC_027314.1\t88512032\t88512220\tSal\tNC_027314.1\tGnomon\tmRNA\t88423978\t88529268\t.\t-\t.\tID=rna65352;Parent=gene33789;Dbxref=GeneID:100194440,Genbank:XM_014146885.1;Name=XM_014146885.1;gbkey=mRNA;gene=hoxc10ab;product=homeobox protein HoxC10ab%2C transcript variant X6;transcript_id=XM_014146885.1\r\n",
      "NC_027314.1\t88512032\t88512220\tSal\tNC_027314.1\tGnomon\tmRNA\t88423978\t88529268\t.\t-\t.\tID=rna65353;Parent=gene33789;Dbxref=GeneID:100194440,Genbank:XM_014146883.1;Name=XM_014146883.1;gbkey=mRNA;gene=hoxc10ab;product=homeobox protein HoxC10ab%2C transcript variant X4;transcript_id=XM_014146883.1\r\n",
      "NC_027314.1\t88512032\t88512220\tSal\tNC_027314.1\tGnomon\tmRNA\t88423978\t88529268\t.\t-\t.\tID=rna65354;Parent=gene33789;Dbxref=GeneID:100194440,Genbank:XM_014146880.1;Name=XM_014146880.1;gbkey=mRNA;gene=hoxc10ab;product=homeobox protein HoxC10ab%2C transcript variant X1;transcript_id=XM_014146880.1\r\n",
      "NC_027314.1\t88512032\t88512220\tSal\tNC_027314.1\tRefSeq\tregion\t1\t103963436\t.\t+\t.\tID=id725124;Dbxref=taxon:8030;Name=ssa15;breed=double haploid;chromosome=ssa15;dev-stage=adult;gbkey=Src;genome=chromosome;isolate=Sally;mol_type=genomic DNA;sex=female;tissue-type=muscle\r\n",
      "NC_027315.1\t15917465\t15917496\tTemp\tNC_027315.1\tGnomon\texon\t15917317\t15918327\t.\t+\t.\tID=id793392;Parent=rna66655;Dbxref=GeneID:106573292,Genbank:XM_014148221.1;gbkey=mRNA;gene=LOC106573292;product=cryptochrome-1-like;transcript_id=XM_014148221.1\r\n",
      "NC_027315.1\t15917465\t15917496\tTemp\tNC_027315.1\tGnomon\tgene\t15906587\t15918327\t.\t+\t.\tID=gene34424;Dbxref=GeneID:106573292;Name=LOC106573292;gbkey=Gene;gene=LOC106573292;gene_biotype=protein_coding\r\n",
      "NC_027315.1\t15917465\t15917496\tTemp\tNC_027315.1\tGnomon\tmRNA\t15906587\t15918327\t.\t+\t.\tID=rna66655;Parent=gene34424;Dbxref=GeneID:106573292,Genbank:XM_014148221.1;Name=XM_014148221.1;gbkey=mRNA;gene=LOC106573292;product=cryptochrome-1-like;transcript_id=XM_014148221.1\r\n",
      "NC_027315.1\t15917465\t15917496\tTemp\tNC_027315.1\tRefSeq\tregion\t1\t87796322\t.\t+\t.\tID=id783130;Dbxref=taxon:8030;Name=ssa16;breed=double haploid;chromosome=ssa16;dev-stage=adult;gbkey=Src;genome=chromosome;isolate=Sally;mol_type=genomic DNA;sex=female;tissue-type=muscle\r\n",
      "NC_027315.1\t4002799\t4002811\tTemp\tNC_027315.1\tGnomon\tgene\t3991803\t4024381\t.\t-\t.\tID=gene34226;Dbxref=GeneID:106573074;Name=LOC106573074;gbkey=Gene;gene=LOC106573074;gene_biotype=lncRNA\r\n",
      "NC_027315.1\t4002799\t4002811\tTemp\tNC_027315.1\tGnomon\tncRNA\t3991803\t4024381\t.\t-\t.\tID=rna66170;Parent=gene34226;Dbxref=GeneID:106573074,Genbank:XR_001321258.1;Name=XR_001321258.1;gbkey=ncRNA;gene=LOC106573074;ncrna_class=lncRNA;product=uncharacterized LOC106573074%2C transcript variant X3;transcript_id=XR_001321258.1\r\n",
      "NC_027315.1\t4002799\t4002811\tTemp\tNC_027315.1\tGnomon\tncRNA\t3991803\t4024381\t.\t-\t.\tID=rna66171;Parent=gene34226;Dbxref=GeneID:106573074,Genbank:XR_001321257.1;Name=XR_001321257.1;gbkey=ncRNA;gene=LOC106573074;ncrna_class=lncRNA;product=uncharacterized LOC106573074%2C transcript variant X2;transcript_id=XR_001321257.1\r\n",
      "NC_027315.1\t4002799\t4002811\tTemp\tNC_027315.1\tGnomon\tncRNA\t3991803\t4024381\t.\t-\t.\tID=rna66172;Parent=gene34226;Dbxref=GeneID:106573074,Genbank:XR_001321256.1;Name=XR_001321256.1;gbkey=ncRNA;gene=LOC106573074;ncrna_class=lncRNA;product=uncharacterized LOC106573074%2C transcript variant X1;transcript_id=XR_001321256.1\r\n",
      "NC_027315.1\t4002799\t4002811\tTemp\tNC_027315.1\tRefSeq\tregion\t1\t87796322\t.\t+\t.\tID=id783130;Dbxref=taxon:8030;Name=ssa16;breed=double haploid;chromosome=ssa16;dev-stage=adult;gbkey=Src;genome=chromosome;isolate=Sally;mol_type=genomic DNA;sex=female;tissue-type=muscle\r\n",
      "NC_027315.1\t43741197\t43741209\tSal\tNC_027315.1\tGnomon\tgene\t43716994\t43802068\t.\t+\t.\tID=gene35060;Dbxref=GeneID:106573963;Name=LOC106573963;gbkey=Gene;gene=LOC106573963;gene_biotype=pseudogene;pseudo=true\r\n",
      "NC_027315.1\t43741197\t43741209\tSal\tNC_027315.1\tRefSeq\tregion\t1\t87796322\t.\t+\t.\tID=id783130;Dbxref=taxon:8030;Name=ssa16;breed=double haploid;chromosome=ssa16;dev-stage=adult;gbkey=Src;genome=chromosome;isolate=Sally;mol_type=genomic DNA;sex=female;tissue-type=muscle\r\n",
      "NC_027315.1\t53608055\t53608099\tSal\tNC_027315.1\tGnomon\tgene\t53567338\t53633304\t.\t+\t.\tID=gene35265;Dbxref=GeneID:106574180;Name=kiaa0226;gbkey=Gene;gene=kiaa0226;gene_biotype=protein_coding\r\n",
      "NC_027315.1\t53608055\t53608099\tSal\tNC_027315.1\tGnomon\tmRNA\t53567338\t53633304\t.\t+\t.\tID=rna68371;Parent=gene35265;Dbxref=GeneID:106574180,Genbank:XM_014149850.1;Name=XM_014149850.1;gbkey=mRNA;gene=kiaa0226;product=KIAA0226 ortholog;transcript_id=XM_014149850.1\r\n",
      "NC_027315.1\t53608055\t53608099\tSal\tNC_027315.1\tRefSeq\tregion\t1\t87796322\t.\t+\t.\tID=id783130;Dbxref=taxon:8030;Name=ssa16;breed=double haploid;chromosome=ssa16;dev-stage=adult;gbkey=Src;genome=chromosome;isolate=Sally;mol_type=genomic DNA;sex=female;tissue-type=muscle\r\n",
      "NC_027315.1\t64559216\t64559240\tSal\tNC_027315.1\tGnomon\tgene\t64531325\t64591734\t.\t+\t.\tID=gene35436;Dbxref=GeneID:106574279;Name=LOC106574279;gbkey=Gene;gene=LOC106574279;gene_biotype=protein_coding\r\n",
      "NC_027315.1\t64559216\t64559240\tSal\tNC_027315.1\tGnomon\tmRNA\t64531325\t64591734\t.\t+\t.\tID=rna68651;Parent=gene35436;Dbxref=GeneID:106574279,Genbank:XM_014150072.1;Name=XM_014150072.1;gbkey=mRNA;gene=LOC106574279;product=double-stranded RNA-specific editase 1-like%2C transcript variant X2;transcript_id=XM_014150072.1\r\n",
      "NC_027315.1\t64559216\t64559240\tSal\tNC_027315.1\tGnomon\tmRNA\t64531325\t64591734\t.\t+\t.\tID=rna68652;Parent=gene35436;Dbxref=GeneID:106574279,Genbank:XM_014150073.1;Name=XM_014150073.1;gbkey=mRNA;gene=LOC106574279;product=double-stranded RNA-specific editase 1-like%2C transcript variant X3;transcript_id=XM_014150073.1\r\n",
      "NC_027315.1\t64559216\t64559240\tSal\tNC_027315.1\tRefSeq\tregion\t1\t87796322\t.\t+\t.\tID=id783130;Dbxref=taxon:8030;Name=ssa16;breed=double haploid;chromosome=ssa16;dev-stage=adult;gbkey=Src;genome=chromosome;isolate=Sally;mol_type=genomic DNA;sex=female;tissue-type=muscle\r\n",
      "NC_027315.1\t65623832\t65623856\tSal\tNC_027315.1\tGnomon\tgene\t65596894\t65638389\t.\t-\t.\tID=gene35459;Dbxref=GeneID:106574260;Name=LOC106574260;gbkey=Gene;gene=LOC106574260;gene_biotype=protein_coding\r\n",
      "NC_027315.1\t65623832\t65623856\tSal\tNC_027315.1\tGnomon\tmRNA\t65596894\t65638389\t.\t-\t.\tID=rna68701;Parent=gene35459;Dbxref=GeneID:106574260,Genbank:XM_014150025.1;Name=XM_014150025.1;gbkey=mRNA;gene=LOC106574260;product=CLIP-associating protein 1-B-like%2C transcript variant X3;transcript_id=XM_014150025.1\r\n",
      "NC_027315.1\t65623832\t65623856\tSal\tNC_027315.1\tGnomon\tmRNA\t65596894\t65638389\t.\t-\t.\tID=rna68702;Parent=gene35459;Dbxref=GeneID:106574260,Genbank:XM_014150030.1;Name=XM_014150030.1;gbkey=mRNA;gene=LOC106574260;product=CLIP-associating protein 1-B-like%2C transcript variant X8;transcript_id=XM_014150030.1\r\n",
      "NC_027315.1\t65623832\t65623856\tSal\tNC_027315.1\tGnomon\tmRNA\t65596894\t65638389\t.\t-\t.\tID=rna68703;Parent=gene35459;Dbxref=GeneID:106574260,Genbank:XM_014150028.1;Name=XM_014150028.1;gbkey=mRNA;gene=LOC106574260;product=CLIP-associating protein 1-B-like%2C transcript variant X6;transcript_id=XM_014150028.1\r\n",
      "NC_027315.1\t65623832\t65623856\tSal\tNC_027315.1\tGnomon\tmRNA\t65596894\t65638389\t.\t-\t.\tID=rna68704;Parent=gene35459;Dbxref=GeneID:106574260,Genbank:XM_014150026.1;Name=XM_014150026.1;gbkey=mRNA;gene=LOC106574260;product=CLIP-associating protein 1-B-like%2C transcript variant X4;transcript_id=XM_014150026.1\r",
      "\r\n",
      "NC_027315.1\t65623832\t65623856\tSal\tNC_027315.1\tGnomon\tmRNA\t65596894\t65638389\t.\t-\t.\tID=rna68705;Parent=gene35459;Dbxref=GeneID:106574260,Genbank:XM_014150024.1;Name=XM_014150024.1;gbkey=mRNA;gene=LOC106574260;product=CLIP-associating protein 1-B-like%2C transcript variant X2;transcript_id=XM_014150024.1\r\n",
      "NC_027315.1\t65623832\t65623856\tSal\tNC_027315.1\tGnomon\tmRNA\t65596894\t65638389\t.\t-\t.\tID=rna68706;Parent=gene35459;Dbxref=GeneID:106574260,Genbank:XM_014150027.1;Name=XM_014150027.1;gbkey=mRNA;gene=LOC106574260;product=CLIP-associating protein 1-B-like%2C transcript variant X5;transcript_id=XM_014150027.1\r\n",
      "NC_027315.1\t65623832\t65623856\tSal\tNC_027315.1\tGnomon\tmRNA\t65596894\t65638389\t.\t-\t.\tID=rna68707;Parent=gene35459;Dbxref=GeneID:106574260,Genbank:XM_014150023.1;Name=XM_014150023.1;gbkey=mRNA;gene=LOC106574260;product=CLIP-associating protein 1-B-like%2C transcript variant X1;transcript_id=XM_014150023.1\r\n",
      "NC_027315.1\t65623832\t65623856\tSal\tNC_027315.1\tGnomon\tmRNA\t65596894\t65638388\t.\t-\t.\tID=rna68708;Parent=gene35459;Dbxref=GeneID:106574260,Genbank:XM_014150035.1;Name=XM_014150035.1;gbkey=mRNA;gene=LOC106574260;product=CLIP-associating protein 1-B-like%2C transcript variant X13;transcript_id=XM_014150035.1\r\n",
      "NC_027315.1\t65623832\t65623856\tSal\tNC_027315.1\tGnomon\tmRNA\t65596894\t65638388\t.\t-\t.\tID=rna68709;Parent=gene35459;Dbxref=GeneID:106574260,Genbank:XM_014150032.1;Name=XM_014150032.1;gbkey=mRNA;gene=LOC106574260;product=CLIP-associating protein 1-B-like%2C transcript variant X10;transcript_id=XM_014150032.1\r\n",
      "NC_027315.1\t65623832\t65623856\tSal\tNC_027315.1\tGnomon\tmRNA\t65596894\t65638388\t.\t-\t.\tID=rna68710;Parent=gene35459;Dbxref=GeneID:106574260,Genbank:XM_014150040.1;Name=XM_014150040.1;gbkey=mRNA;gene=LOC106574260;product=CLIP-associating protein 1-B-like%2C transcript variant X17;transcript_id=XM_014150040.1\r\n",
      "NC_027315.1\t65623832\t65623856\tSal\tNC_027315.1\tGnomon\tmRNA\t65596894\t65638388\t.\t-\t.\tID=rna68711;Parent=gene35459;Dbxref=GeneID:106574260,Genbank:XM_014150034.1;Name=XM_014150034.1;gbkey=mRNA;gene=LOC106574260;product=CLIP-associating protein 1-B-like%2C transcript variant X12;transcript_id=XM_014150034.1\r\n",
      "NC_027315.1\t65623832\t65623856\tSal\tNC_027315.1\tGnomon\tmRNA\t65596894\t65638388\t.\t-\t.\tID=rna68712;Parent=gene35459;Dbxref=GeneID:106574260,Genbank:XM_014150033.1;Name=XM_014150033.1;gbkey=mRNA;gene=LOC106574260;product=CLIP-associating protein 1-B-like%2C transcript variant X11;transcript_id=XM_014150033.1\r\n",
      "NC_027315.1\t65623832\t65623856\tSal\tNC_027315.1\tGnomon\tmRNA\t65596894\t65638388\t.\t-\t.\tID=rna68713;Parent=gene35459;Dbxref=GeneID:106574260,Genbank:XM_014150029.1;Name=XM_014150029.1;gbkey=mRNA;gene=LOC106574260;product=CLIP-associating protein 1-B-like%2C transcript variant X7;transcript_id=XM_014150029.1\r\n",
      "NC_027315.1\t65623832\t65623856\tSal\tNC_027315.1\tGnomon\tmRNA\t65596894\t65636693\t.\t-\t.\tID=rna68714;Parent=gene35459;Dbxref=GeneID:106574260,Genbank:XM_014150031.1;Name=XM_014150031.1;gbkey=mRNA;gene=LOC106574260;product=CLIP-associating protein 1-B-like%2C transcript variant X9;transcript_id=XM_014150031.1\r\n",
      "NC_027315.1\t65623832\t65623856\tSal\tNC_027315.1\tGnomon\tmRNA\t65596894\t65629945\t.\t-\t.\tID=rna68715;Parent=gene35459;Dbxref=GeneID:106574260,Genbank:XM_014150039.1;Name=XM_014150039.1;gbkey=mRNA;gene=LOC106574260;product=CLIP-associating protein 1-B-like%2C transcript variant X16;transcript_id=XM_014150039.1\r\n",
      "NC_027315.1\t65623832\t65623856\tSal\tNC_027315.1\tGnomon\tmRNA\t65596894\t65629780\t.\t-\t.\tID=rna68716;Parent=gene35459;Dbxref=GeneID:106574260,Genbank:XM_014150038.1;Name=XM_014150038.1;gbkey=mRNA;gene=LOC106574260;product=CLIP-associating protein 1-B-like%2C transcript variant X15;transcript_id=XM_014150038.1\r\n",
      "NC_027315.1\t65623832\t65623856\tSal\tNC_027315.1\tGnomon\tmRNA\t65596894\t65624138\t.\t-\t.\tID=rna68717;Parent=gene35459;Dbxref=GeneID:106574260,Genbank:XM_014150036.1;Name=XM_014150036.1;gbkey=mRNA;gene=LOC106574260;product=CLIP-associating protein 1-B-like%2C transcript variant X14;transcript_id=XM_014150036.1\r\n",
      "NC_027315.1\t65623832\t65623856\tSal\tNC_027315.1\tRefSeq\tregion\t1\t87796322\t.\t+\t.\tID=id783130;Dbxref=taxon:8030;Name=ssa16;breed=double haploid;chromosome=ssa16;dev-stage=adult;gbkey=Src;genome=chromosome;isolate=Sally;mol_type=genomic DNA;sex=female;tissue-type=muscle\r\n",
      "NC_027315.1\t71056323\t71056342\tTempxSal\tNC_027315.1\tRefSeq\tregion\t1\t87796322\t.\t+\t.\tID=id783130;Dbxref=taxon:8030;Name=ssa16;breed=double haploid;chromosome=ssa16;dev-stage=adult;gbkey=Src;genome=chromosome;isolate=Sally;mol_type=genomic DNA;sex=female;tissue-type=muscle\r\n",
      "NC_027315.1\t7608355\t7608367\tTemp\tNC_027315.1\tRefSeq\tregion\t1\t87796322\t.\t+\t.\tID=id783130;Dbxref=taxon:8030;Name=ssa16;breed=double haploid;chromosome=ssa16;dev-stage=adult;gbkey=Src;genome=chromosome;isolate=Sally;mol_type=genomic DNA;sex=female;tissue-type=muscle\r\n",
      "NC_027315.1\t81956093\t81956115\tTempxSal\tNC_027315.1\tRefSeq\tregion\t1\t87796322\t.\t+\t.\tID=id783130;Dbxref=taxon:8030;Name=ssa16;breed=double haploid;chromosome=ssa16;dev-stage=adult;gbkey=Src;genome=chromosome;isolate=Sally;mol_type=genomic DNA;sex=female;tissue-type=muscle\r\n",
      "NC_027316.1\t16906518\t16906569\tSal\tNC_027316.1\tRefSeq\tregion\t1\t57682537\t.\t+\t.\tID=id828004;Dbxref=taxon:8030;Name=ssa17;breed=double haploid;chromosome=ssa17;dev-stage=adult;gbkey=Src;genome=chromosome;isolate=Sally;mol_type=genomic DNA;sex=female;tissue-type=muscle\r\n",
      "NC_027316.1\t48057463\t48057690\tTempxSal\tNC_027316.1\tGnomon\tgene\t48029022\t48071182\t.\t-\t.\tID=gene37494;Dbxref=GeneID:106576405;Name=LOC106576405;gbkey=Gene;gene=LOC106576405;gene_biotype=protein_coding\r\n",
      "NC_027316.1\t48057463\t48057690\tTempxSal\tNC_027316.1\tGnomon\tmRNA\t48029022\t48071182\t.\t-\t.\tID=rna72364;Parent=gene37494;Dbxref=GeneID:106576405,Genbank:XM_014153554.1;Name=XM_014153554.1;gbkey=mRNA;gene=LOC106576405;product=anoctamin-4-like%2C transcript variant X2;transcript_id=XM_014153554.1\r\n",
      "NC_027316.1\t48057463\t48057690\tTempxSal\tNC_027316.1\tGnomon\tmRNA\t48029022\t48071182\t.\t-\t.\tID=rna72365;Parent=gene37494;Dbxref=GeneID:106576405,Genbank:XM_014153552.1;Name=XM_014153552.1;gbkey=mRNA;gene=LOC106576405;product=anoctamin-4-like%2C transcript variant X1;transcript_id=XM_014153552.1\r\n",
      "NC_027316.1\t48057463\t48057690\tTempxSal\tNC_027316.1\tGnomon\tmRNA\t48029022\t48071181\t.\t-\t.\tID=rna72366;Parent=gene37494;Dbxref=GeneID:106576405,Genbank:XM_014153555.1;Name=XM_014153555.1;gbkey=mRNA;gene=LOC106576405;product=anoctamin-4-like%2C transcript variant X3;transcript_id=XM_014153555.1\r\n",
      "NC_027316.1\t48057463\t48057690\tTempxSal\tNC_027316.1\tGnomon\tmRNA\t48029022\t48058378\t.\t-\t.\tID=rna72367;Parent=gene37494;Dbxref=GeneID:106576405,Genbank:XM_014153556.1;Name=XM_014153556.1;gbkey=mRNA;gene=LOC106576405;product=anoctamin-4-like%2C transcript variant X4;transcript_id=XM_014153556.1\r\n",
      "NC_027316.1\t48057463\t48057690\tTempxSal\tNC_027316.1\tRefSeq\tregion\t1\t57682537\t.\t+\t.\tID=id828004;Dbxref=taxon:8030;Name=ssa17;breed=double haploid;chromosome=ssa17;dev-stage=adult;gbkey=Src;genome=chromosome;isolate=Sally;mol_type=genomic DNA;sex=female;tissue-type=muscle\r\n",
      "NC_027317.1\t10037398\t10037453\tSal\tNC_027317.1\tGnomon\tgene\t9994141\t10102468\t.\t+\t.\tID=gene37941;Dbxref=GeneID:106576760;Name=LOC106576760;gbkey=Gene;gene=LOC106576760;gene_biotype=protein_coding\r\n",
      "NC_027317.1\t10037398\t10037453\tSal\tNC_027317.1\tGnomon\tmRNA\t9994141\t10102468\t.\t+\t.\tID=rna73101;Parent=gene37941;Dbxref=GeneID:106576760,Genbank:XM_014154131.1;Name=XM_014154131.1;gbkey=mRNA;gene=LOC106576760;product=thyroid adenoma-associated protein homolog;transcript_id=XM_014154131.1\r\n",
      "NC_027317.1\t10037398\t10037453\tSal\tNC_027317.1\tRefSeq\tregion\t1\t70695409\t.\t+\t.\tID=id858715;Dbxref=taxon:8030;Name=ssa18;breed=double haploid;chromosome=ssa18;dev-stage=adult;gbkey=Src;genome=chromosome;isolate=Sally;mol_type=genomic DNA;sex=female;tissue-type=muscle\r\n",
      "NC_027317.1\t36693758\t36693771\tSal\tNC_027317.1\tRefSeq\tregion\t1\t70695409\t.\t+\t.\tID=id858715;Dbxref=taxon:8030;Name=ssa18;breed=double haploid;chromosome=ssa18;dev-stage=adult;gbkey=Src;genome=chromosome;isolate=Sally;mol_type=genomic DNA;sex=female;tissue-type=muscle\r\n",
      "NC_027317.1\t390127\t390141\tSal\tNC_027317.1\tRefSeq\tregion\t1\t70695409\t.\t+\t.\tID=id858715;Dbxref=taxon:8030;Name=ssa18;breed=double haploid;chromosome=ssa18;dev-stage=adult;gbkey=Src;genome=chromosome;isolate=Sally;mol_type=genomic DNA;sex=female;tissue-type=muscle\r\n",
      "NC_027318.1\t51247559\t51247579\tTempxSal\tNC_027318.1\tGnomon\texon\t51247273\t51248103\t.\t-\t.\tID=id921268;Parent=rna77806;Dbxref=GeneID:106579290,Genbank:XM_014159074.1;gbkey=mRNA;gene=LOC106579290;product=monocarboxylate transporter 6-like%2C transcript variant X1;transcript_id=XM_014159074.1\r\n",
      "NC_027318.1\t51247559\t51247579\tTempxSal\tNC_027318.1\tGnomon\texon\t51247273\t51248103\t.\t-\t.\tID=id921274;Parent=rna77807;Dbxref=GeneID:106579290,Genbank:XM_014159075.1;gbkey=mRNA;gene=LOC106579290;product=monocarboxylate transporter 6-like%2C transcript variant X2;transcript_id=XM_014159075.1\r\n",
      "NC_027318.1\t51247559\t51247579\tTempxSal\tNC_027318.1\tGnomon\tCDS\t51247273\t51248103\t.\t-\t2\tID=cds68539;Parent=rna77807;Dbxref=GeneID:106579290,Genbank:XP_014014550.1;Name=XP_014014550.1;gbkey=CDS;gene=LOC106579290;product=monocarboxylate transporter 6-like isoform X2;protein_id=XP_014014550.1\r\n",
      "NC_027318.1\t51247559\t51247579\tTempxSal\tNC_027318.1\tGnomon\tCDS\t51247273\t51248103\t.\t-\t2\tID=cds68540;Parent=rna77806;Dbxref=GeneID:106579290,Genbank:XP_014014549.1;Name=XP_014014549.1;gbkey=CDS;gene=LOC106579290;product=monocarboxylate transporter 6-like isoform X1;protein_id=XP_014014549.1\r\n",
      "NC_027318.1\t51247559\t51247579\tTempxSal\tNC_027318.1\tGnomon\tgene\t51245507\t51258134\t.\t-\t.\tID=gene40221;Dbxref=GeneID:106579290;Name=LOC106579290;gbkey=Gene;gene=LOC106579290;gene_biotype=protein_coding\r\n",
      "NC_027318.1\t51247559\t51247579\tTempxSal\tNC_027318.1\tGnomon\tmRNA\t51245507\t51258134\t.\t-\t.\tID=rna77806;Parent=gene40221;Dbxref=GeneID:106579290,Genbank:XM_014159074.1;Name=XM_014159074.1;gbkey=mRNA;gene=LOC106579290;product=monocarboxylate transporter 6-like%2C transcript variant X1;transcript_id=XM_014159074.1\r\n",
      "NC_027318.1\t51247559\t51247579\tTempxSal\tNC_027318.1\tGnomon\tmRNA\t51245507\t51258124\t.\t-\t.\tID=rna77807;Parent=gene40221;Dbxref=GeneID:106579290,Genbank:XM_014159075.1;Name=XM_014159075.1;gbkey=mRNA;gene=LOC106579290;product=monocarboxylate transporter 6-like%2C transcript variant X2;transcript_id=XM_014159075.1\r\n",
      "NC_027318.1\t51247559\t51247579\tTempxSal\tNC_027318.1\tRefSeq\tregion\t1\t82978132\t.\t+\t.\tID=id898016;Dbxref=taxon:8030;Name=ssa19;breed=double haploid;chromosome=ssa19;dev-stage=adult;gbkey=Src;genome=chromosome;isolate=Sally;mol_type=genomic DNA;sex=female;tissue-type=muscle\r\n",
      "NC_027318.1\t6265651\t6265679\tSal\tNC_027318.1\tGnomon\tgene\t6183760\t6291611\t.\t+\t.\tID=gene39445;Dbxref=GeneID:106578354;Name=LOC106578354;gbkey=Gene;gene=LOC106578354;gene_biotype=protein_coding\r\n",
      "NC_027318.1\t6265651\t6265679\tSal\tNC_027318.1\tGnomon\tmRNA\t6183760\t6291611\t.\t+\t.\tID=rna76155;Parent=gene39445;Dbxref=GeneID:106578354,Genbank:XM_014157060.1;Name=XM_014157060.1;gbkey=mRNA;gene=LOC106578354;product=uncharacterized LOC106578354;transcript_id=XM_014157060.1\r\n",
      "NC_027318.1\t6265651\t6265679\tSal\tNC_027318.1\tGnomon\tgene\t6211218\t6347105\t.\t-\t.\tID=gene39446;Dbxref=GeneID:106578353;Name=nrap;gbkey=Gene;gene=nrap;gene_biotype=protein_coding\r\n",
      "NC_027318.1\t6265651\t6265679\tSal\tNC_027318.1\tGnomon\tmRNA\t6211218\t6347105\t.\t-\t.\tID=rna76156;Parent=gene39446;Dbxref=GeneID:106578353,Genbank:XM_014157059.1;Name=XM_014157059.1;gbkey=mRNA;gene=nrap;product=nebulin-related anchoring protein%2C transcript variant X5;transcript_id=XM_014157059.1\r\n",
      "NC_027318.1\t6265651\t6265679\tSal\tNC_027318.1\tGnomon\tmRNA\t6211218\t6347105\t.\t-\t.\tID=rna76157;Parent=gene39446;Dbxref=GeneID:106578353,Genbank:XM_014157057.1;Name=XM_014157057.1;gbkey=mRNA;gene=nrap;product=nebulin-related anchoring protein%2C transcript variant X3;transcript_id=XM_014157057.1\r\n",
      "NC_027318.1\t6265651\t6265679\tSal\tNC_027318.1\tGnomon\tmRNA\t6211218\t6347105\t.\t-\t.\tID=rna76158;Parent=gene39446;Dbxref=GeneID:106578353,Genbank:XM_014157056.1;Name=XM_014157056.1;gbkey=mRNA;gene=nrap;product=nebulin-related anchoring protein%2C transcript variant X2;transcript_id=XM_014157056.1\r\n",
      "NC_027318.1\t6265651\t6265679\tSal\tNC_027318.1\tGnomon\tmRNA\t6211218\t6347104\t.\t-\t.\tID=rna76159;Parent=gene39446;Dbxref=GeneID:106578353,Genbank:XM_014157054.1;Name=XM_014157054.1;gbkey=mRNA;gene=nrap;product=nebulin-related anchoring protein%2C transcript variant X1;transcript_id=XM_014157054.1\r\n",
      "NC_027318.1\t6265651\t6265679\tSal\tNC_027318.1\tGnomon\tmRNA\t6211218\t6347102\t.\t-\t.\tID=rna76160;Parent=gene39446;Dbxref=GeneID:106578353,Genbank:XM_014157058.1;Name=XM_014157058.1;gbkey=mRNA;gene=nrap;product=nebulin-related anchoring protein%2C transcript variant X4;transcript_id=XM_014157058.1\r\n",
      "NC_027318.1\t6265651\t6265679\tSal\tNC_027318.1\tRefSeq\tregion\t1\t82978132\t.\t+\t.\tID=id898016;Dbxref=taxon:8030;Name=ssa19;breed=double haploid;chromosome=ssa19;dev-stage=adult;gbkey=Src;genome=chromosome;isolate=Sally;mol_type=genomic DNA;sex=female;tissue-type=muscle\r\n",
      "NC_027318.1\t66607059\t66607074\tSal\tNC_027318.1\tGnomon\texon\t66606918\t66607377\t.\t-\t.\tID=id931597;Parent=rna78601;Dbxref=GeneID:106579474,Genbank:XM_014159418.1;gbkey=mRNA;gene=LOC106579474;product=MAP7 domain-containing protein 2-like%2C transcript variant X4;transcript_id=XM_014159418.1\r\n",
      "NC_027318.1\t66607059\t66607074\tSal\tNC_027318.1\tGnomon\texon\t66606918\t66607377\t.\t-\t.\tID=id931609;Parent=rna78602;Dbxref=GeneID:106579474,Genbank:XM_014159417.1;gbkey=mRNA;gene=LOC106579474;product=MAP7 domain-containing protein 2-like%2C transcript variant X3;transcript_id=XM_014159417.1\r\n",
      "NC_027318.1\t66607059\t66607074\tSal\tNC_027318.1\tGnomon\texon\t66606918\t66607377\t.\t-\t.\tID=id931621;Parent=rna78603;Dbxref=GeneID:106579474,Genbank:XM_014159416.1;gbkey=mRNA;gene=LOC106579474;product=MAP7 domain-containing protein 2-like%2C transcript variant X2;transcript_id=XM_014159416.1\r\n",
      "NC_027318.1\t66607059\t66607074\tSal\tNC_027318.1\tGnomon\texon\t66606918\t66607377\t.\t-\t.\tID=id931634;Parent=rna78604;Dbxref=GeneID:106579474,Genbank:XM_014159415.1;gbkey=mRNA;gene=LOC106579474;product=MAP7 domain-containing protein 2-like%2C transcript variant X1;transcript_id=XM_014159415.1\r\n",
      "NC_027318.1\t66607059\t66607074\tSal\tNC_027318.1\tGnomon\tCDS\t66606918\t66607155\t.\t-\t0\tID=cds69244;Parent=rna78601;Dbxref=GeneID:106579474,Genbank:XP_014014893.1;Name=XP_014014893.1;gbkey=CDS;gene=LOC106579474;product=MAP7 domain-containing protein 2-like isoform X4;protein_id=XP_014014893.1\r\n",
      "NC_027318.1\t66607059\t66607074\tSal\tNC_027318.1\tGnomon\tCDS\t66606918\t66607155\t.\t-\t0\tID=cds69245;Parent=rna78602;Dbxref=GeneID:106579474,Genbank:XP_014014892.1;Name=XP_014014892.1;gbkey=CDS;gene=LOC106579474;product=MAP7 domain-containing protein 2-like isoform X3;protein_id=XP_014014892.1\r\n",
      "NC_027318.1\t66607059\t66607074\tSal\tNC_027318.1\tGnomon\tCDS\t66606918\t66607155\t.\t-\t0\tID=cds69246;Parent=rna78603;Dbxref=GeneID:106579474,Genbank:XP_014014891.1;Name=XP_014014891.1;gbkey=CDS;gene=LOC106579474;product=MAP7 domain-containing protein 2-like isoform X2;protein_id=XP_014014891.1\r\n",
      "NC_027318.1\t66607059\t66607074\tSal\tNC_027318.1\tGnomon\tCDS\t66606918\t66607155\t.\t-\t0\tID=cds69247;Parent=rna78604;Dbxref=GeneID:106579474,Genbank:XP_014014890.1;Name=XP_014014890.1;gbkey=CDS;gene=LOC106579474;product=MAP7 domain-containing protein 2-like isoform X1;protein_id=XP_014014890.1\r\n",
      "NC_027318.1\t66607059\t66607074\tSal\tNC_027318.1\tGnomon\tgene\t66593817\t66607377\t.\t-\t.\tID=gene40575;Dbxref=GeneID:106579474;Name=LOC106579474;gbkey=Gene;gene=LOC106579474;gene_biotype=protein_coding\r\n",
      "NC_027318.1\t66607059\t66607074\tSal\tNC_027318.1\tGnomon\tmRNA\t66593817\t66607377\t.\t-\t.\tID=rna78601;Parent=gene40575;Dbxref=GeneID:106579474,Genbank:XM_014159418.1;Name=XM_014159418.1;gbkey=mRNA;gene=LOC106579474;product=MAP7 domain-containing protein 2-like%2C transcript variant X4;transcript_id=XM_014159418.1\r\n",
      "NC_027318.1\t66607059\t66607074\tSal\tNC_027318.1\tGnomon\tmRNA\t66593817\t66607377\t.\t-\t.\tID=rna78602;Parent=gene40575;Dbxref=GeneID:106579474,Genbank:XM_014159417.1;Name=XM_014159417.1;gbkey=mRNA;gene=LOC106579474;product=MAP7 domain-containing protein 2-like%2C transcript variant X3;transcript_id=XM_014159417.1\r\n",
      "NC_027318.1\t66607059\t66607074\tSal\tNC_027318.1\tGnomon\tmRNA\t66593817\t66607377\t.\t-\t.\tID=rna78603;Parent=gene40575;Dbxref=GeneID:106579474,Genbank:XM_014159416.1;Name=XM_014159416.1;gbkey=mRNA;gene=LOC106579474;product=MAP7 domain-containing protein 2-like%2C transcript variant X2;transcript_id=XM_014159416.1\r\n",
      "NC_027318.1\t66607059\t66607074\tSal\tNC_027318.1\tGnomon\tmRNA\t66593817\t66607377\t.\t-\t.\tID=rna78604;Parent=gene40575;Dbxref=GeneID:106579474,Genbank:XM_014159415.1;Name=XM_014159415.1;gbkey=mRNA;gene=LOC106579474;product=MAP7 domain-containing protein 2-like%2C transcript variant X1;transcript_id=XM_014159415.1\r\n",
      "NC_027318.1\t66607059\t66607074\tSal\tNC_027318.1\tRefSeq\tregion\t1\t82978132\t.\t+\t.\tID=id898016;Dbxref=taxon:8030;Name=ssa19;breed=double haploid;chromosome=ssa19;dev-stage=adult;gbkey=Src;genome=chromosome;isolate=Sally;mol_type=genomic DNA;sex=female;tissue-type=muscle\r\n",
      "NC_027319.1\t11655883\t11656222\tTemp+Sal\tNC_027319.1\tGnomon\tgene\t11634940\t11662359\t.\t+\t.\tID=gene41039;Dbxref=GeneID:106580238;Name=LOC106580238;gbkey=Gene;gene=LOC106580238;gene_biotype=protein_coding;partial=true;start_range=.,11634940\r\n",
      "NC_027319.1\t11655883\t11656222\tTemp+Sal\tNC_027319.1\tGnomon\tmRNA\t11634940\t11662359\t.\t+\t.\tID=rna79552;Parent=gene41039;Dbxref=GeneID:106580238,Genbank:XM_014161059.1;Name=XM_014161059.1;gbkey=mRNA;gene=LOC106580238;partial=true;product=uncharacterized LOC106580238;start_range=.,11634940;transcript_id=XM_014161059.1\r\n",
      "NC_027319.1\t11655883\t11656222\tTemp+Sal\tNC_027319.1\tRefSeq\tregion\t1\t86795997\t.\t+\t.\tID=id939603;Dbxref=taxon:8030;Name=ssa20;breed=double haploid;chromosome=ssa20;dev-stage=adult;gbkey=Src;genome=chromosome;isolate=Sally;mol_type=genomic DNA;sex=female;tissue-type=muscle\r\n",
      "NC_027319.1\t55357940\t55358035\tTempxSal\tNC_027319.1\tGnomon\tgene\t55345424\t55416193\t.\t+\t.\tID=gene42159;Dbxref=GeneID:106580989;Name=LOC106580989;gbkey=Gene;gene=LOC106580989;gene_biotype=protein_coding\r\n",
      "NC_027319.1\t55357940\t55358035\tTempxSal\tNC_027319.1\tGnomon\tmRNA\t55345424\t55416193\t.\t+\t.\tID=rna82052;Parent=gene42159;Dbxref=GeneID:106580989,Genbank:XM_014162624.1;Name=XM_014162624.1;gbkey=mRNA;gene=LOC106580989;product=uncharacterized LOC106580989;transcript_id=XM_014162624.1\r\n",
      "NC_027319.1\t55357940\t55358035\tTempxSal\tNC_027319.1\tRefSeq\tregion\t1\t86795997\t.\t+\t.\tID=id939603;Dbxref=taxon:8030;Name=ssa20;breed=double haploid;chromosome=ssa20;dev-stage=adult;gbkey=Src;genome=chromosome;isolate=Sally;mol_type=genomic DNA;sex=female;tissue-type=muscle\r\n",
      "NC_027319.1\t62410531\t62410546\tSal\tNC_027319.1\tGnomon\tgene\t62283727\t62633157\t.\t-\t.\tID=gene42355;Dbxref=GeneID:106581099;Name=LOC106581099;gbkey=Gene;gene=LOC106581099;gene_biotype=protein_coding\r\n",
      "NC_027319.1\t62410531\t62410546\tSal\tNC_027319.1\tGnomon\tmRNA\t62283727\t62633157\t.\t-\t.\tID=rna82479;Parent=gene42355;Dbxref=GeneID:106581099,Genbank:XM_014162832.1;Name=XM_014162832.1;gbkey=mRNA;gene=LOC106581099;product=kin of IRRE-like protein 3%2C transcript variant X6;transcript_id=XM_014162832.1\r\n",
      "NC_027319.1\t62410531\t62410546\tSal\tNC_027319.1\tGnomon\tmRNA\t62283727\t62633157\t.\t-\t.\tID=rna82480;Parent=gene42355;Dbxref=GeneID:106581099,Genbank:XM_014162828.1;Name=XM_014162828.1;gbkey=mRNA;gene=LOC106581099;product=kin of IRRE-like protein 3%2C transcript variant X3;transcript_id=XM_014162828.1\r\n",
      "NC_027319.1\t62410531\t62410546\tSal\tNC_027319.1\tGnomon\tmRNA\t62283727\t62633157\t.\t-\t.\tID=rna82481;Parent=gene42355;Dbxref=GeneID:106581099,Genbank:XM_014162831.1;Name=XM_014162831.1;gbkey=mRNA;gene=LOC106581099;product=kin of IRRE-like protein 3%2C transcript variant X5;transcript_id=XM_014162831.1\r\n",
      "NC_027319.1\t62410531\t62410546\tSal\tNC_027319.1\tGnomon\tmRNA\t62283727\t62633157\t.\t-\t.\tID=rna82482;Parent=gene42355;Dbxref=GeneID:106581099,Genbank:XM_014162829.1;Name=XM_014162829.1;gbkey=mRNA;gene=LOC106581099;product=kin of IRRE-like protein 3%2C transcript variant X4;transcript_id=XM_014162829.1\r\n",
      "NC_027319.1\t62410531\t62410546\tSal\tNC_027319.1\tGnomon\tmRNA\t62283727\t62633157\t.\t-\t.\tID=rna82483;Parent=gene42355;Dbxref=GeneID:106581099,Genbank:XM_014162827.1;Name=XM_014162827.1;gbkey=mRNA;gene=LOC106581099;product=kin of IRRE-like protein 3%2C transcript variant X2;transcript_id=XM_014162827.1\r\n",
      "NC_027319.1\t62410531\t62410546\tSal\tNC_027319.1\tGnomon\tmRNA\t62283727\t62633157\t.\t-\t.\tID=rna82484;Parent=gene42355;Dbxref=GeneID:106581099,Genbank:XM_014162833.1;Name=XM_014162833.1;gbkey=mRNA;gene=LOC106581099;product=kin of IRRE-like protein 3%2C transcript variant X7;transcript_id=XM_014162833.1\r\n",
      "NC_027319.1\t62410531\t62410546\tSal\tNC_027319.1\tGnomon\tmRNA\t62283727\t62633157\t.\t-\t.\tID=rna82485;Parent=gene42355;Dbxref=GeneID:106581099,Genbank:XM_014162826.1;Name=XM_014162826.1;gbkey=mRNA;gene=LOC106581099;product=kin of IRRE-like protein 3%2C transcript variant X1;transcript_id=XM_014162826.1\r\n",
      "NC_027319.1\t62410531\t62410546\tSal\tNC_027319.1\tRefSeq\tregion\t1\t86795997\t.\t+\t.\tID=id939603;Dbxref=taxon:8030;Name=ssa20;breed=double haploid;chromosome=ssa20;dev-stage=adult;gbkey=Src;genome=chromosome;isolate=Sally;mol_type=genomic DNA;sex=female;tissue-type=muscle\r\n",
      "NC_027319.1\t84970884\t84970897\tSal\tNC_027319.1\ttRNAscan-SE\tgene\t84970836\t84970907\t.\t+\t.\tID=gene42746;Dbxref=GeneID:106455131;Name=trnag-ucc;gbkey=Gene;gene=trnag-ucc;gene_biotype=tRNA\r\n",
      "NC_027319.1\t84970884\t84970897\tSal\tNC_027319.1\ttRNAscan-SE\ttRNA\t84970836\t84970907\t.\t+\t.\tID=rna83164;Parent=gene42746;Dbxref=GeneID:106455131;Note=transfer RNA glycine (anticodon UCC);anticodon=(pos:84970869..84970871);gbkey=tRNA;gene=trnag-ucc;product=tRNA-Gly\r\n",
      "NC_027319.1\t84970884\t84970897\tSal\tNC_027319.1\ttRNAscan-SE\texon\t84970836\t84970907\t.\t+\t.\tID=id992485;Parent=rna83164;Dbxref=GeneID:106455131;Note=transfer RNA glycine (anticodon UCC);anticodon=(pos:84970869..84970871);gbkey=tRNA;gene=trnag-ucc;product=tRNA-Gly\r\n",
      "NC_027319.1\t84970884\t84970897\tSal\tNC_027319.1\tRefSeq\tregion\t1\t86795997\t.\t+\t.\tID=id939603;Dbxref=taxon:8030;Name=ssa20;breed=double haploid;chromosome=ssa20;dev-stage=adult;gbkey=Src;genome=chromosome;isolate=Sally;mol_type=genomic DNA;sex=female;tissue-type=muscle\r\n",
      "NC_027321.1\t29674061\t29674163\tTemp+Sal\tNC_027321.1\tRefSeq\tregion\t1\t63420196\t.\t+\t.\tID=id1025595;Dbxref=taxon:8030;Name=ssa22;breed=double haploid;chromosome=ssa22;dev-stage=adult;gbkey=Src;genome=chromosome;isolate=Sally;mol_type=genomic DNA;sex=female;tissue-type=muscle\r\n",
      "NC_027321.1\t29877090\t29877148\tSal\tNC_027321.1\tRefSeq\tregion\t1\t63420196\t.\t+\t.\tID=id1025595;Dbxref=taxon:8030;Name=ssa22;breed=double haploid;chromosome=ssa22;dev-stage=adult;gbkey=Src;genome=chromosome;isolate=Sally;mol_type=genomic DNA;sex=female;tissue-type=muscle\r\n",
      "NC_027321.1\t39414473\t39414497\tTempxSal\tNC_027321.1\tRefSeq\tregion\t1\t63420196\t.\t+\t.\tID=id1025595;Dbxref=taxon:8030;Name=ssa22;breed=double haploid;chromosome=ssa22;dev-stage=adult;gbkey=Src;genome=chromosome;isolate=Sally;mol_type=genomic DNA;sex=female;tissue-type=muscle\r\n",
      "NC_027322.1\t22527536\t22527589\tTemp+Sal\tNC_027322.1\tGnomon\tgene\t22518448\t22530623\t.\t-\t.\tID=gene45494;Dbxref=GeneID:106584267;Name=mysm1;gbkey=Gene;gene=mysm1;gene_biotype=protein_coding\r\n",
      "NC_027322.1\t22527536\t22527589\tTemp+Sal\tNC_027322.1\tGnomon\tmRNA\t22518448\t22530623\t.\t-\t.\tID=rna89031;Parent=gene45494;Dbxref=GeneID:106584267,Genbank:XM_014169316.1;Name=XM_014169316.1;gbkey=mRNA;gene=mysm1;product=Myb-like%2C SWIRM and MPN domains 1;transcript_id=XM_014169316.1\r\n",
      "NC_027322.1\t22527536\t22527589\tTemp+Sal\tNC_027322.1\tRefSeq\tregion\t1\t49854004\t.\t+\t.\tID=id1061476;Dbxref=taxon:8030;Name=ssa23;breed=double haploid;chromosome=ssa23;dev-stage=adult;gbkey=Src;genome=chromosome;isolate=Sally;mol_type=genomic DNA;sex=female;tissue-type=muscle\r\n",
      "NC_027322.1\t28179631\t28179713\tSal\tNC_027322.1\tGnomon\tgene\t28176695\t28179866\t.\t-\t.\tID=gene45591;Dbxref=GeneID:106584348;Name=LOC106584348;gbkey=Gene;gene=LOC106584348;gene_biotype=protein_coding\r\n",
      "NC_027322.1\t28179631\t28179713\tSal\tNC_027322.1\tGnomon\tmRNA\t28176695\t28179866\t.\t-\t.\tID=rna89275;Parent=gene45591;Dbxref=GeneID:106584348,Genbank:XM_014169560.1;Name=XM_014169560.1;gbkey=mRNA;gene=LOC106584348;product=E3 ubiquitin-protein ligase RNF14-like%2C transcript variant X1;transcript_id=XM_014169560.1\r\n",
      "NC_027322.1\t28179631\t28179713\tSal\tNC_027322.1\tGnomon\texon\t28179528\t28179866\t.\t-\t.\tID=id1077619;Parent=rna89275;Dbxref=GeneID:106584348,Genbank:XM_014169560.1;gbkey=mRNA;gene=LOC106584348;product=E3 ubiquitin-protein ligase RNF14-like%2C transcript variant X1;transcript_id=XM_014169560.1\r\n",
      "NC_027322.1\t28179631\t28179678\tSal\tNC_027322.1\tGnomon\tCDS\t28179528\t28179678\t.\t-\t0\tID=cds78739;Parent=rna89275;Dbxref=GeneID:106584348,Genbank:XP_014025035.1;Name=XP_014025035.1;gbkey=CDS;gene=LOC106584348;product=E3 ubiquitin-protein ligase RNF14-like;protein_id=XP_014025035.1\r\n",
      "NC_027322.1\t28179631\t28179713\tSal\tNC_027322.1\tGnomon\ttranscript\t28177434\t28179866\t.\t-\t.\tID=rna89276;Parent=gene45591;Dbxref=GeneID:106584348,Genbank:XR_001323729.1;Name=XR_001323729.1;gbkey=misc_RNA;gene=LOC106584348;product=E3 ubiquitin-protein ligase RNF14-like%2C transcript variant X2;transcript_id=XR_001323729.1\r\n",
      "NC_027322.1\t28179631\t28179713\tSal\tNC_027322.1\tGnomon\texon\t28179528\t28179866\t.\t-\t.\tID=id1077625;Parent=rna89276;Dbxref=GeneID:106584348,Genbank:XR_001323729.1;gbkey=misc_RNA;gene=LOC106584348;product=E3 ubiquitin-protein ligase RNF14-like%2C transcript variant X2;transcript_id=XR_001323729.1\r\n",
      "NC_027322.1\t28179631\t28179713\tSal\tNC_027322.1\tRefSeq\tregion\t1\t49854004\t.\t+\t.\tID=id1061476;Dbxref=taxon:8030;Name=ssa23;breed=double haploid;chromosome=ssa23;dev-stage=adult;gbkey=Src;genome=chromosome;isolate=Sally;mol_type=genomic DNA;sex=female;tissue-type=muscle\r\n",
      "NC_027322.1\t324517\t324547\tTempxSal\tNC_027322.1\tRefSeq\tregion\t1\t49854004\t.\t+\t.\tID=id1061476;Dbxref=taxon:8030;Name=ssa23;breed=double haploid;chromosome=ssa23;dev-stage=adult;gbkey=Src;genome=chromosome;isolate=Sally;mol_type=genomic DNA;sex=female;tissue-type=muscle\r\n",
      "NC_027322.1\t3932306\t3932321\tTemp\tNC_027322.1\tRefSeq\tregion\t1\t49854004\t.\t+\t.\tID=id1061476;Dbxref=taxon:8030;Name=ssa23;breed=double haploid;chromosome=ssa23;dev-stage=adult;gbkey=Src;genome=chromosome;isolate=Sally;mol_type=genomic DNA;sex=female;tissue-type=muscle\r\n",
      "NC_027322.1\t48545303\t48545529\tSal\tNC_027322.1\tGnomon\tgene\t48544701\t48547422\t.\t+\t.\tID=gene46112;Dbxref=GeneID:106584844;Name=LOC106584844;gbkey=Gene;gene=LOC106584844;gene_biotype=protein_coding\r\n",
      "NC_027322.1\t48545303\t48545529\tSal\tNC_027322.1\tGnomon\tmRNA\t48544701\t48547422\t.\t+\t.\tID=rna90266;Parent=gene46112;Dbxref=GeneID:106584844,Genbank:XM_014170445.1;Name=XM_014170445.1;gbkey=mRNA;gene=LOC106584844;product=forkhead box protein B1-like;transcript_id=XM_014170445.1\r\n",
      "NC_027322.1\t48545303\t48545529\tSal\tNC_027322.1\tGnomon\texon\t48544701\t48547422\t.\t+\t.\tID=id1088134;Parent=rna90266;Dbxref=GeneID:106584844,Genbank:XM_014170445.1;gbkey=mRNA;gene=LOC106584844;product=forkhead box protein B1-like;transcript_id=XM_014170445.1\r\n",
      "NC_027322.1\t48545303\t48545529\tSal\tNC_027322.1\tGnomon\tCDS\t48544917\t48546251\t.\t+\t0\tID=cds79600;Parent=rna90266;Dbxref=GeneID:106584844,Genbank:XP_014025920.1;Name=XP_014025920.1;gbkey=CDS;gene=LOC106584844;product=forkhead box protein B1-like;protein_id=XP_014025920.1\r\n",
      "NC_027322.1\t48545303\t48545529\tSal\tNC_027322.1\tRefSeq\tregion\t1\t49854004\t.\t+\t.\tID=id1061476;Dbxref=taxon:8030;Name=ssa23;breed=double haploid;chromosome=ssa23;dev-stage=adult;gbkey=Src;genome=chromosome;isolate=Sally;mol_type=genomic DNA;sex=female;tissue-type=muscle\r\n",
      "NC_027323.1\t15873355\t15873411\tTemp\tNC_027323.1\tRefSeq\tregion\t1\t48650976\t.\t+\t.\tID=id1088374;Dbxref=taxon:8030;Name=ssa24;breed=double haploid;chromosome=ssa24;dev-stage=adult;gbkey=Src;genome=chromosome;isolate=Sally;mol_type=genomic DNA;sex=female;tissue-type=muscle\r\n",
      "NC_027323.1\t47585252\t47585261\tSal\tNC_027323.1\tRefSeq\tregion\t1\t48650976\t.\t+\t.\tID=id1088374;Dbxref=taxon:8030;Name=ssa24;breed=double haploid;chromosome=ssa24;dev-stage=adult;gbkey=Src;genome=chromosome;isolate=Sally;mol_type=genomic DNA;sex=female;tissue-type=muscle\r\n",
      "NC_027324.1\t10807523\t10807533\tSal\tNC_027324.1\tRefSeq\tregion\t1\t51481326\t.\t+\t.\tID=id1120899;Dbxref=taxon:8030;Name=ssa25;breed=double haploid;chromosome=ssa25;dev-stage=adult;gbkey=Src;genome=chromosome;isolate=Sally;mol_type=genomic DNA;sex=female;tissue-type=muscle\r\n",
      "NC_027324.1\t14636173\t14636187\tSal\tNC_027324.1\tRefSeq\tregion\t1\t51481326\t.\t+\t.\tID=id1120899;Dbxref=taxon:8030;Name=ssa25;breed=double haploid;chromosome=ssa25;dev-stage=adult;gbkey=Src;genome=chromosome;isolate=Sally;mol_type=genomic DNA;sex=female;tissue-type=muscle\r\n",
      "NC_027324.1\t4645834\t4645859\tTemp\tNC_027324.1\tGnomon\tgene\t4640842\t4648462\t.\t+\t.\tID=gene47309;Dbxref=GeneID:106586052;Name=LOC106586052;gbkey=Gene;gene=LOC106586052;gene_biotype=protein_coding\r\n",
      "NC_027324.1\t4645834\t4645859\tTemp\tNC_027324.1\tGnomon\tmRNA\t4640842\t4648462\t.\t+\t.\tID=rna92833;Parent=gene47309;Dbxref=GeneID:106586052,Genbank:XM_014172871.1;Name=XM_014172871.1;gbkey=mRNA;gene=LOC106586052;product=uncharacterized LOC106586052;transcript_id=XM_014172871.1\r\n",
      "NC_027324.1\t4645834\t4645859\tTemp\tNC_027324.1\tRefSeq\tregion\t1\t51481326\t.\t+\t.\tID=id1120899;Dbxref=taxon:8030;Name=ssa25;breed=double haploid;chromosome=ssa25;dev-stage=adult;gbkey=Src;genome=chromosome;isolate=Sally;mol_type=genomic DNA;sex=female;tissue-type=muscle\r\n",
      "NC_027324.1\t7197256\t7197282\tTempxSal\tNC_027324.1\tGnomon\tgene\t7186139\t7203229\t.\t-\t.\tID=gene47328;Dbxref=GeneID:106586072;Name=tyw5;gbkey=Gene;gene=tyw5;gene_biotype=protein_coding\r\n",
      "NC_027324.1\t7197256\t7197282\tTempxSal\tNC_027324.1\tGnomon\tmRNA\t7186139\t7203229\t.\t-\t.\tID=rna92871;Parent=gene47328;Dbxref=GeneID:106586072,Genbank:XM_014172941.1;Name=XM_014172941.1;Note=The sequence of the model RefSeq transcript was modified relative to this genomic sequence to represent the inferred CDS: inserted 2 bases in 1 codon%3B deleted 1 base in 1 codon;exception=unclassified transcription discrepancy;gbkey=mRNA;gene=tyw5;product=tRNA-yW synthesizing protein 5;transcript_id=XM_014172941.1\r\n",
      "NC_027324.1\t7197256\t7197282\tTempxSal\tNC_027324.1\tRefSeq\tregion\t1\t51481326\t.\t+\t.\tID=id1120899;Dbxref=taxon:8030;Name=ssa25;breed=double haploid;chromosome=ssa25;dev-stage=adult;gbkey=Src;genome=chromosome;isolate=Sally;mol_type=genomic DNA;sex=female;tissue-type=muscle\r\n",
      "NC_027326.1\t19205173\t19205215\tTempxSal\tNC_027326.1\tRefSeq\tregion\t1\t43943985\t.\t+\t.\tID=id1179087;Dbxref=taxon:8030;Name=ssa27;breed=double haploid;chromosome=ssa27;dev-stage=adult;gbkey=Src;genome=chromosome;isolate=Sally;mol_type=genomic DNA;sex=female;tissue-type=muscle\r\n",
      "NC_027327.1\t38684417\t38684435\tTemp\tNC_027327.1\tRefSeq\tregion\t1\t39600944\t.\t+\t.\tID=id1206807;Dbxref=taxon:8030;Name=ssa28;breed=double haploid;chromosome=ssa28;dev-stage=adult;gbkey=Src;genome=chromosome;isolate=Sally;mol_type=genomic DNA;sex=female;tissue-type=muscle\r\n",
      "NC_027328.1\t5260790\t5260813\tTemp\tNC_027328.1\tGnomon\tgene\t5061216\t5284027\t.\t-\t.\tID=gene51606;Dbxref=GeneID:106590053;Name=LOC106590053;gbkey=Gene;gene=LOC106590053;gene_biotype=protein_coding\r\n",
      "NC_027328.1\t5260790\t5260813\tTemp\tNC_027328.1\tGnomon\tmRNA\t5061216\t5284027\t.\t-\t.\tID=rna101256;Parent=gene51606;Dbxref=GeneID:106590053,Genbank:XM_014180561.1;Name=XM_014180561.1;gbkey=mRNA;gene=LOC106590053;product=cadherin-12-like;transcript_id=XM_014180561.1\r\n",
      "NC_027328.1\t5260790\t5260813\tTemp\tNC_027328.1\tRefSeq\tregion\t1\t42488238\t.\t+\t.\tID=id1230043;Dbxref=taxon:8030;Name=ssa29;breed=double haploid;chromosome=ssa29;dev-stage=adult;gbkey=Src;genome=chromosome;isolate=Sally;mol_type=genomic DNA;sex=female;tissue-type=muscle\r\n",
      "NC_027328.1\t7789046\t7789085\tSal\tNC_027328.1\tGnomon\tgene\t7753554\t7866035\t.\t-\t.\tID=gene51620;Dbxref=GeneID:106590060;Name=LOC106590060;gbkey=Gene;gene=LOC106590060;gene_biotype=protein_coding\r\n",
      "NC_027328.1\t7789046\t7789085\tSal\tNC_027328.1\tGnomon\tmRNA\t7753554\t7866035\t.\t-\t.\tID=rna101275;Parent=gene51620;Dbxref=GeneID:106590060,Genbank:XM_014180573.1;Name=XM_014180573.1;gbkey=mRNA;gene=LOC106590060;product=E3 ubiquitin-protein ligase RNF152-like;transcript_id=XM_014180573.1\r\n",
      "NC_027328.1\t7789046\t7789085\tSal\tNC_027328.1\tRefSeq\tregion\t1\t42488238\t.\t+\t.\tID=id1230043;Dbxref=taxon:8030;Name=ssa29;breed=double haploid;chromosome=ssa29;dev-stage=adult;gbkey=Src;genome=chromosome;isolate=Sally;mol_type=genomic DNA;sex=female;tissue-type=muscle\r\n"
     ]
    }
   ],
   "source": [
    "!cat DMR_features.txt"
   ]
  },
  {
   "cell_type": "code",
   "execution_count": 98,
   "metadata": {},
   "outputs": [
    {
     "name": "stdout",
     "output_type": "stream",
     "text": [
      "     584 DMR_features.txt\r\n"
     ]
    }
   ],
   "source": [
    "!wc -l DMR_features.txt"
   ]
  },
  {
   "cell_type": "code",
   "execution_count": null,
   "metadata": {},
   "outputs": [],
   "source": [
    "#match DMRs up to binned features"
   ]
  },
  {
   "cell_type": "code",
   "execution_count": 117,
   "metadata": {},
   "outputs": [
    {
     "name": "stdout",
     "output_type": "stream",
     "text": [
      "NC_027300.1\t43584685\t43584696\tSal\tNC_027300.1\t43584666\t43584696\tgene\n",
      "NC_027300.1\t43584696\t43584708\tSal\tNC_027300.1\t43584696\t43584726\tgene\n",
      "NC_027300.1\t43584685\t43584696\tSal\tNC_027300.1\t43584666\t43584696\tmRNA\n",
      "NC_027300.1\t43584696\t43584708\tSal\tNC_027300.1\t43584696\t43584726\tmRNA\n",
      "NC_027300.1\t43584685\t43584696\tSal\tNC_027300.1\t43584666\t43584696\tmRNA\n",
      "NC_027300.1\t43584696\t43584708\tSal\tNC_027300.1\t43584696\t43584726\tmRNA\n",
      "NC_027300.1\t43584685\t43584696\tSal\tNC_027300.1\t43584666\t43584696\tmRNA\n",
      "NC_027300.1\t43584696\t43584708\tSal\tNC_027300.1\t43584696\t43584726\tmRNA\n",
      "NC_027300.1\t43584685\t43584696\tSal\tNC_027300.1\t43584666\t43584696\tmRNA\n",
      "NC_027300.1\t43584696\t43584708\tSal\tNC_027300.1\t43584696\t43584726\tmRNA\n",
      "^C\n"
     ]
    }
   ],
   "source": [
    "!/Users/Shared/bioinformatics/bedtools2/bin/intersectBed \\\n",
    "-a DMR.bed \\\n",
    "-b ref_ICSASG_v2_top_level.all.30bp.bed \\\n",
    "-wb |\\\n",
    "head"
   ]
  },
  {
   "cell_type": "code",
   "execution_count": 173,
   "metadata": {},
   "outputs": [],
   "source": [
    "!/Users/Shared/bioinformatics/bedtools2/bin/intersectBed \\\n",
    "-a DMR.bed \\\n",
    "-b ref_ICSASG_v2_top_level.all.30bp.bed \\\n",
    "-wb \\\n",
    "> DMR_all_features_30bp.txt"
   ]
  },
  {
   "cell_type": "code",
   "execution_count": 174,
   "metadata": {},
   "outputs": [
    {
     "name": "stdout",
     "output_type": "stream",
     "text": [
      "NC_027328.1\t5260790\t5260793\tTemp\tNC_027328.1\t5260763\t5260793\tgene\r\n",
      "NC_027328.1\t5260790\t5260793\tTemp\tNC_027328.1\t5260763\t5260793\tmRNA\r\n",
      "NC_027328.1\t5260794\t5260813\tTemp\tNC_027328.1\t5260794\t5260824\tgene\r\n",
      "NC_027328.1\t5260794\t5260813\tTemp\tNC_027328.1\t5260794\t5260824\tmRNA\r\n",
      "NC_027328.1\t7789046\t7789048\tSal\tNC_027328.1\t7789018\t7789048\tgene\r\n",
      "NC_027328.1\t7789046\t7789048\tSal\tNC_027328.1\t7789018\t7789048\tmRNA\r\n",
      "NC_027328.1\t7789049\t7789079\tSal\tNC_027328.1\t7789049\t7789079\tgene\r\n",
      "NC_027328.1\t7789049\t7789079\tSal\tNC_027328.1\t7789049\t7789079\tmRNA\r\n",
      "NC_027328.1\t7789080\t7789085\tSal\tNC_027328.1\t7789080\t7789110\tgene\r\n",
      "NC_027328.1\t7789080\t7789085\tSal\tNC_027328.1\t7789080\t7789110\tmRNA\r\n"
     ]
    }
   ],
   "source": [
    "!tail DMR_all_features_30bp.txt"
   ]
  },
  {
   "cell_type": "code",
   "execution_count": 175,
   "metadata": {},
   "outputs": [
    {
     "name": "stdout",
     "output_type": "stream",
     "text": [
      "     592 DMR_all_features_30bp.txt\r\n"
     ]
    }
   ],
   "source": [
    "!wc -l DMR_all_features_30bp.txt"
   ]
  },
  {
   "cell_type": "code",
   "execution_count": null,
   "metadata": {},
   "outputs": [],
   "source": [
    "# Match features to background regions\n",
    "## need to create background:\n",
    "## 1. find all CpGs covered by at least 3/4 samples per group (use merge.tab files)\n",
    "## 2. find CpGs common to all groups in comparison (e.g. all ambient samples over time, all day 10 samples, etc.)\n",
    "## 3. bin features in master gff with bedtools make windows (DMRs range from ~6bp to ~2kb, so bin features 2kb)\n",
    "## 4. determine binned features that covered CpGs overlap with (bedtools intersect)\n",
    "## 5. filter features for those with at least 3 CpGs\n"
   ]
  },
  {
   "cell_type": "code",
   "execution_count": null,
   "metadata": {},
   "outputs": [],
   "source": [
    "## 1. find all CpGs covered by at least 3/4 samples per group (use merge.tab files)"
   ]
  },
  {
   "cell_type": "code",
   "execution_count": 36,
   "metadata": {},
   "outputs": [
    {
     "name": "stdout",
     "output_type": "stream",
     "text": [
      "NC_001960.1\t107\t+\tCGA\t0\t9\t1\r\n",
      "NC_001960.1\t201\t+\tCGA\t2\t705\t1\r\n",
      "NC_001960.1\t232\t+\tCGA\t4\t724\t1\r\n",
      "NC_001960.1\t268\t+\tCGA\t3\t682\t1\r\n",
      "NC_001960.1\t275\t+\tCGA\t4\t972\t1\r\n",
      "NC_001960.1\t302\t+\tCGA\t3\t1657\t1\r\n",
      "NC_001960.1\t327\t+\tCGA\t17\t1390\t1\r\n",
      "NC_001960.1\t334\t+\tCGA\t4\t1361\t1\r\n",
      "NC_001960.1\t380\t+\tCGA\t2\t1229\t1\r\n",
      "NC_001960.1\t397\t+\tCGA\t4\t1092\t1\r\n",
      "zcat: error writing to output: Broken pipe\r\n"
     ]
    }
   ],
   "source": [
    "!rsync --archive --verbose --progress --exclude \"CTRL*\" \\\n",
    "/Volumes/web/metacarcinus/Salmo_Calig/analyses/20200613/*5x.bed ."
   ]
  },
  {
   "cell_type": "code",
   "execution_count": 49,
   "metadata": {},
   "outputs": [],
   "source": [
    "!cat 16C_26psu*5x.bed |\\\n",
    "awk '{print $1,$2,$3}' | \\\n",
    "sort | \\\n",
    "uniq -c | \\\n",
    "awk '{if($1>2)print $2\"\\t\"$3\"\\t\"$4}' \\\n",
    "> 16C_26PSU.3xCpG.bed"
   ]
  },
  {
   "cell_type": "code",
   "execution_count": 50,
   "metadata": {},
   "outputs": [],
   "source": [
    "!cat 16C_32psu*5x.bed |\\\n",
    "awk '{print $1,$2,$3}' | \\\n",
    "sort | \\\n",
    "uniq -c | \\\n",
    "awk '{if($1>2)print $2\"\\t\"$3\"\\t\"$4}' \\\n",
    "> 16C_32PSU.3xCpG.bed"
   ]
  },
  {
   "cell_type": "code",
   "execution_count": 51,
   "metadata": {},
   "outputs": [],
   "source": [
    "!cat 8C_32psu*5x.bed |\\\n",
    "awk '{print $1,$2,$3}' | \\\n",
    "sort | \\\n",
    "uniq -c | \\\n",
    "awk '{if($1>2)print $2\"\\t\"$3\"\\t\"$4}' \\\n",
    "> 8C_32PSU.3xCpG.bed"
   ]
  },
  {
   "cell_type": "code",
   "execution_count": 52,
   "metadata": {},
   "outputs": [],
   "source": [
    "!cat 8C_26psu*5x.bed |\\\n",
    "awk '{print $1,$2,$3}' | \\\n",
    "sort | \\\n",
    "uniq -c | \\\n",
    "awk '{if($1>2)print $2\"\\t\"$3\"\\t\"$4}' \\\n",
    "> 8C_26PSU.3xCpG.bed"
   ]
  },
  {
   "cell_type": "code",
   "execution_count": 145,
   "metadata": {},
   "outputs": [
    {
     "name": "stdout",
     "output_type": "stream",
     "text": [
      "==> 16C_26PSU.3xCpG.bed <==\r\n",
      "NC_001960.1\t10033\t10035\r\n",
      "NC_001960.1\t10062\t10064\r\n",
      "NC_001960.1\t1011\t1013\r\n",
      "NC_001960.1\t10224\t10226\r\n",
      "NC_001960.1\t10261\t10263\r\n",
      "NC_001960.1\t10341\t10343\r\n",
      "NC_001960.1\t10359\t10361\r\n",
      "NC_001960.1\t10365\t10367\r\n",
      "NC_001960.1\t10368\t10370\r\n",
      "NC_001960.1\t10374\t10376\r\n",
      "\r\n",
      "==> 16C_32PSU.3xCpG.bed <==\r\n",
      "NC_001960.1\t10033\t10035\r\n",
      "NC_001960.1\t10062\t10064\r\n",
      "NC_001960.1\t1011\t1013\r\n",
      "NC_001960.1\t10224\t10226\r\n",
      "NC_001960.1\t10261\t10263\r\n",
      "NC_001960.1\t10341\t10343\r\n",
      "NC_001960.1\t10359\t10361\r\n",
      "NC_001960.1\t10365\t10367\r\n",
      "NC_001960.1\t10368\t10370\r\n",
      "NC_001960.1\t10374\t10376\r\n",
      "\r\n",
      "==> 8C_26PSU.3xCpG.bed <==\r\n",
      "NC_001960.1\t10033\t10035\r\n",
      "NC_001960.1\t10062\t10064\r\n",
      "NC_001960.1\t1011\t1013\r\n",
      "NC_001960.1\t10224\t10226\r\n",
      "NC_001960.1\t10261\t10263\r\n",
      "NC_001960.1\t10341\t10343\r\n",
      "NC_001960.1\t10359\t10361\r\n",
      "NC_001960.1\t10365\t10367\r\n",
      "NC_001960.1\t10368\t10370\r\n",
      "NC_001960.1\t10374\t10376\r\n",
      "\r\n",
      "==> 8C_32PSU.3xCpG.bed <==\r\n",
      "NC_001960.1\t10033\t10035\r\n",
      "NC_001960.1\t10062\t10064\r\n",
      "NC_001960.1\t1011\t1013\r\n",
      "NC_001960.1\t10224\t10226\r\n",
      "NC_001960.1\t10261\t10263\r\n",
      "NC_001960.1\t10341\t10343\r\n",
      "NC_001960.1\t10359\t10361\r\n",
      "NC_001960.1\t10365\t10367\r\n",
      "NC_001960.1\t10368\t10370\r\n",
      "NC_001960.1\t10374\t10376\r\n"
     ]
    }
   ],
   "source": [
    "!head *.3xCpG.bed"
   ]
  },
  {
   "cell_type": "code",
   "execution_count": 146,
   "metadata": {},
   "outputs": [
    {
     "name": "stdout",
     "output_type": "stream",
     "text": [
      "  313873 16C_26PSU.3xCpG.bed\n",
      "  335141 16C_32PSU.3xCpG.bed\n",
      "  282481 8C_26PSU.3xCpG.bed\n",
      "  354027 8C_32PSU.3xCpG.bed\n",
      " 1285522 total\n"
     ]
    }
   ],
   "source": [
    "!wc -l *.3xCpG.bed"
   ]
  },
  {
   "cell_type": "code",
   "execution_count": null,
   "metadata": {},
   "outputs": [],
   "source": [
    "## 2. find CpGs common to all treatment groups "
   ]
  },
  {
   "cell_type": "code",
   "execution_count": 143,
   "metadata": {},
   "outputs": [],
   "source": [
    "!cat *PSU.3xCpG.bed |\\\n",
    "sort | \\\n",
    "uniq -c | \\\n",
    "awk '{if($1==4)print $2\"\\t\"$3\"\\t\"$4}' \\\n",
    "> 3xCpG.allgrps.bed"
   ]
  },
  {
   "cell_type": "code",
   "execution_count": 144,
   "metadata": {},
   "outputs": [
    {
     "name": "stdout",
     "output_type": "stream",
     "text": [
      "  123209 3xCpG.allgrps.bed\r\n"
     ]
    }
   ],
   "source": [
    "!wc -l 3xCpG.allgrps.bed"
   ]
  },
  {
   "cell_type": "code",
   "execution_count": null,
   "metadata": {},
   "outputs": [],
   "source": [
    "# STEP 3: overlap CpGs with coverage in all groups and at least 3/4 individuals per group\n",
    "# with genomic features"
   ]
  },
  {
   "cell_type": "code",
   "execution_count": null,
   "metadata": {},
   "outputs": [],
   "source": [
    "#intersect with promoter track"
   ]
  },
  {
   "cell_type": "code",
   "execution_count": 147,
   "metadata": {},
   "outputs": [],
   "source": [
    "!/Users/Shared/bioinformatics/bedtools2/bin/intersectBed \\\n",
    "-a 3xCpG.allgrps.bed \\\n",
    "-b /Volumes/web/metacarcinus/Salmo_Calig/GENOMES/v2/RefSeq/chr1-29MT/ref_ICSASG_v2_top_level.GenePromoter.gff \\\n",
    "-wb \\\n",
    "> 3xCpG.allgrps_geneProm.txt"
   ]
  },
  {
   "cell_type": "code",
   "execution_count": null,
   "metadata": {},
   "outputs": [],
   "source": [
    "#intersect with 3 prime UTR track"
   ]
  },
  {
   "cell_type": "code",
   "execution_count": 148,
   "metadata": {},
   "outputs": [],
   "source": [
    "!/Users/Shared/bioinformatics/bedtools2/bin/intersectBed \\\n",
    "-a 3xCpG.allgrps.bed \\\n",
    "-b /Volumes/web/metacarcinus/Salmo_Calig/GENOMES/v2/RefSeq/chr1-29MT/ref_ICSASG_v2_top_level.Gene3primerUTR.gff \\\n",
    "-wb \\\n",
    "> 3xCpG.allgrps_gene3prime.txt"
   ]
  },
  {
   "cell_type": "code",
   "execution_count": null,
   "metadata": {},
   "outputs": [],
   "source": [
    "#intersect with genome gff track"
   ]
  },
  {
   "cell_type": "code",
   "execution_count": 149,
   "metadata": {},
   "outputs": [],
   "source": [
    "!/Users/Shared/bioinformatics/bedtools2/bin/intersectBed \\\n",
    "-a 3xCpG.allgrps.bed \\\n",
    "-b ref_ICSASG_v2_top_level.noNW.gff3 \\\n",
    "-wb \\\n",
    "> 3xCpG.allgrps_noNW.txt"
   ]
  },
  {
   "cell_type": "code",
   "execution_count": null,
   "metadata": {},
   "outputs": [],
   "source": [
    "#concatenate gff intersect results"
   ]
  },
  {
   "cell_type": "code",
   "execution_count": 150,
   "metadata": {},
   "outputs": [],
   "source": [
    "!cat 3xCpG.allgrps_geneProm.txt \\\n",
    "3xCpG.allgrps_gene3prime.txt \\\n",
    "3xCpG.allgrps_noNW.txt \\\n",
    "> 3xCpG.allgrps_all_features.txt"
   ]
  },
  {
   "cell_type": "code",
   "execution_count": 151,
   "metadata": {},
   "outputs": [
    {
     "name": "stdout",
     "output_type": "stream",
     "text": [
      "NC_027328.1\t9976544\t9976546\tNC_027328.1\tGnomon\tgene\t9967881\t10015571\t.\t-\t.\tID=gene51650;Dbxref=GeneID:106590105;Name=rbm33;gbkey=Gene;gene=rbm33;gene_biotype=protein_coding\r\n",
      "NC_027328.1\t9976544\t9976546\tNC_027328.1\tGnomon\tmRNA\t9967881\t10015571\t.\t-\t.\tID=rna101323;Parent=gene51650;Dbxref=GeneID:106590105,Genbank:XM_014180673.1;Name=XM_014180673.1;gbkey=mRNA;gene=rbm33;product=RNA binding motif protein 33%2C transcript variant X2;transcript_id=XM_014180673.1\r\n",
      "NC_027328.1\t9976544\t9976546\tNC_027328.1\tGnomon\tmRNA\t9967881\t10015571\t.\t-\t.\tID=rna101324;Parent=gene51650;Dbxref=GeneID:106590105,Genbank:XM_014180677.1;Name=XM_014180677.1;gbkey=mRNA;gene=rbm33;product=RNA binding motif protein 33%2C transcript variant X6;transcript_id=XM_014180677.1\r\n",
      "NC_027328.1\t9976544\t9976546\tNC_027328.1\tGnomon\tmRNA\t9967881\t10015571\t.\t-\t.\tID=rna101325;Parent=gene51650;Dbxref=GeneID:106590105,Genbank:XM_014180676.1;Name=XM_014180676.1;gbkey=mRNA;gene=rbm33;product=RNA binding motif protein 33%2C transcript variant X5;transcript_id=XM_014180676.1\r\n",
      "NC_027328.1\t9976544\t9976546\tNC_027328.1\tGnomon\tmRNA\t9967881\t10015571\t.\t-\t.\tID=rna101326;Parent=gene51650;Dbxref=GeneID:106590105,Genbank:XM_014180674.1;Name=XM_014180674.1;gbkey=mRNA;gene=rbm33;product=RNA binding motif protein 33%2C transcript variant X3;transcript_id=XM_014180674.1\r\n",
      "NC_027328.1\t9976544\t9976546\tNC_027328.1\tGnomon\tmRNA\t9967881\t10015571\t.\t-\t.\tID=rna101327;Parent=gene51650;Dbxref=GeneID:106590105,Genbank:XM_014180675.1;Name=XM_014180675.1;gbkey=mRNA;gene=rbm33;product=RNA binding motif protein 33%2C transcript variant X4;transcript_id=XM_014180675.1\r\n",
      "NC_027328.1\t9976544\t9976546\tNC_027328.1\tGnomon\tmRNA\t9967881\t10015571\t.\t-\t.\tID=rna101328;Parent=gene51650;Dbxref=GeneID:106590105,Genbank:XM_014180672.1;Name=XM_014180672.1;gbkey=mRNA;gene=rbm33;product=RNA binding motif protein 33%2C transcript variant X1;transcript_id=XM_014180672.1\r\n",
      "NC_027328.1\t9976544\t9976546\tNC_027328.1\tGnomon\tmRNA\t9967881\t10008525\t.\t-\t.\tID=rna101329;Parent=gene51650;Dbxref=GeneID:106590105,Genbank:XM_014180678.1;Name=XM_014180678.1;gbkey=mRNA;gene=rbm33;product=RNA binding motif protein 33%2C transcript variant X7;transcript_id=XM_014180678.1\r\n",
      "NC_027328.1\t9976544\t9976546\tNC_027328.1\tGnomon\tmRNA\t9967881\t10006462\t.\t-\t.\tID=rna101330;Parent=gene51650;Dbxref=GeneID:106590105,Genbank:XM_014180679.1;Name=XM_014180679.1;gbkey=mRNA;gene=rbm33;product=RNA binding motif protein 33%2C transcript variant X8;transcript_id=XM_014180679.1\r\n",
      "NC_027328.1\t9976544\t9976546\tNC_027328.1\tRefSeq\tregion\t1\t42488238\t.\t+\t.\tID=id1230043;Dbxref=taxon:8030;Name=ssa29;breed=double haploid;chromosome=ssa29;dev-stage=adult;gbkey=Src;genome=chromosome;isolate=Sally;mol_type=genomic DNA;sex=female;tissue-type=muscle\r\n"
     ]
    }
   ],
   "source": [
    "!tail 3xCpG.allgrps_all_features.txt"
   ]
  },
  {
   "cell_type": "code",
   "execution_count": 152,
   "metadata": {},
   "outputs": [
    {
     "name": "stdout",
     "output_type": "stream",
     "text": [
      "  484065 3xCpG.allgrps_all_features.txt\r\n"
     ]
    }
   ],
   "source": [
    "!wc -l 3xCpG.allgrps_all_features.txt"
   ]
  },
  {
   "cell_type": "code",
   "execution_count": null,
   "metadata": {},
   "outputs": [],
   "source": [
    "#match to binned features"
   ]
  },
  {
   "cell_type": "code",
   "execution_count": 176,
   "metadata": {},
   "outputs": [],
   "source": [
    "!/Users/Shared/bioinformatics/bedtools2/bin/intersectBed \\\n",
    "-a 3xCpG.allgrps.bed \\\n",
    "-b ref_ICSASG_v2_top_level.all.30bp.bed \\\n",
    "-wb \\\n",
    "> 3xCpG.allgrps_all_features_30bp.txt"
   ]
  },
  {
   "cell_type": "code",
   "execution_count": 177,
   "metadata": {},
   "outputs": [
    {
     "name": "stdout",
     "output_type": "stream",
     "text": [
      "NC_027328.1\t9950291\t9950293\tNC_027328.1\t9950275\t9950305\tmRNA\r\n",
      "NC_027328.1\t9950291\t9950293\tNC_027328.1\t9950284\t9950314\tCDS\r\n",
      "NC_027328.1\t9950517\t9950519\tNC_027328.1\t9950492\t9950522\tgene\r\n",
      "NC_027328.1\t9950517\t9950519\tNC_027328.1\t9950492\t9950522\tmRNA\r\n",
      "NC_027328.1\t9950547\t9950549\tNC_027328.1\t9950523\t9950553\tgene\r\n",
      "NC_027328.1\t9950547\t9950549\tNC_027328.1\t9950523\t9950553\tmRNA\r\n",
      "NC_027328.1\t9950586\t9950588\tNC_027328.1\t9950585\t9950615\tgene\r\n",
      "NC_027328.1\t9950586\t9950588\tNC_027328.1\t9950585\t9950615\tmRNA\r\n",
      "NC_027328.1\t9976544\t9976546\tNC_027328.1\t9976530\t9976560\tgene\r\n",
      "NC_027328.1\t9976544\t9976546\tNC_027328.1\t9976530\t9976560\tmRNA\r\n"
     ]
    }
   ],
   "source": [
    "!tail 3xCpG.allgrps_all_features_30bp.txt"
   ]
  },
  {
   "cell_type": "code",
   "execution_count": 178,
   "metadata": {},
   "outputs": [
    {
     "name": "stdout",
     "output_type": "stream",
     "text": [
      "  212151 3xCpG.allgrps_all_features_30bp.txt\r\n"
     ]
    }
   ],
   "source": [
    "!wc -l 3xCpG.allgrps_all_features_30bp.txt"
   ]
  },
  {
   "cell_type": "code",
   "execution_count": null,
   "metadata": {},
   "outputs": [],
   "source": [
    "#find features with at least 3 CpGs"
   ]
  },
  {
   "cell_type": "code",
   "execution_count": 179,
   "metadata": {},
   "outputs": [
    {
     "name": "stdout",
     "output_type": "stream",
     "text": [
      "  23 NC_001960.1\t1\t1006\tD_loop\r\n",
      " 523 NC_001960.1\t1\t16665\tregion\r\n",
      "   3 NC_001960.1\t1007\t1074\texon\r\n",
      "   3 NC_001960.1\t1007\t1074\ttRNA\r\n",
      "  72 NC_001960.1\t10454\t12953\tput_promoter\r\n",
      "   2 NC_001960.1\t10582\t10651\texon\r\n",
      "   2 NC_001960.1\t10582\t10651\ttRNA\r\n",
      "  69 NC_001960.1\t10583\t13082\tput_promoter\r\n",
      "  14 NC_001960.1\t10652\t11000\tCDS\r\n",
      "  14 NC_001960.1\t10652\t11000\tgene\r\n"
     ]
    }
   ],
   "source": [
    "!cat 3xCpG.allgrps_all_features.txt |\\\n",
    "awk -F\"\\t\" '{OFS=FS=\"\\t\"}{print $4,$7,$8,$6}' |\\\n",
    "sort |\\\n",
    "uniq -c |\\\n",
    "head"
   ]
  },
  {
   "cell_type": "code",
   "execution_count": 180,
   "metadata": {},
   "outputs": [],
   "source": [
    "!cat 3xCpG.allgrps_all_features.txt |\\\n",
    "awk -F\"\\t\" '{OFS=FS=\"\\t\"}{print $4,$7,$8,$6}' |\\\n",
    "sort |\\\n",
    "uniq -c |\\\n",
    "awk '{if($1>2)print $2\"\\t\"$3\"\\t\"$4\"\\t\"$5}' \\\n",
    "> 3x3CpG.allgrps_all_features.txt"
   ]
  },
  {
   "cell_type": "code",
   "execution_count": 181,
   "metadata": {},
   "outputs": [
    {
     "name": "stdout",
     "output_type": "stream",
     "text": [
      "   35036 3x3CpG.allgrps_all_features.txt\r\n"
     ]
    }
   ],
   "source": [
    "!wc -l 3x3CpG.allgrps_all_features.txt"
   ]
  },
  {
   "cell_type": "code",
   "execution_count": 182,
   "metadata": {},
   "outputs": [
    {
     "name": "stdout",
     "output_type": "stream",
     "text": [
      "   1 NC_001960.1\t10008\t10038\tput_promoter\r\n",
      "   1 NC_001960.1\t10011\t10041\tput_promoter\r\n",
      "   1 NC_001960.1\t10012\t10042\tput_promoter\r\n",
      "   1 NC_001960.1\t10014\t10044\tCDS\r\n",
      "   1 NC_001960.1\t10014\t10044\tgene\r\n",
      "   1 NC_001960.1\t10015\t10045\tput_promoter\r\n",
      "   1 NC_001960.1\t10023\t10053\tput_promoter\r\n",
      "   1 NC_001960.1\t10028\t10058\tput_promoter\r\n",
      "   1 NC_001960.1\t10039\t10069\tput_promoter\r\n",
      "   1 NC_001960.1\t10042\t10072\tput_promoter\r\n"
     ]
    }
   ],
   "source": [
    "!cat 3xCpG.allgrps_all_features_30bp.txt |\\\n",
    "awk -F\"\\t\" '{OFS=FS=\"\\t\"}{print $4,$5,$6,$7}' |\\\n",
    "sort |\\\n",
    "uniq -c |\\\n",
    "head "
   ]
  },
  {
   "cell_type": "code",
   "execution_count": 183,
   "metadata": {},
   "outputs": [
    {
     "name": "stdout",
     "output_type": "stream",
     "text": [
      "   3 NC_027328.1\t9950275\t9950305\tmRNA\r\n",
      "   3 NC_027328.1\t9950284\t9950314\tCDS\r\n",
      "   1 NC_027328.1\t9950492\t9950522\tgene\r\n",
      "   1 NC_027328.1\t9950492\t9950522\tmRNA\r\n",
      "   1 NC_027328.1\t9950523\t9950553\tgene\r\n",
      "   1 NC_027328.1\t9950523\t9950553\tmRNA\r\n",
      "   1 NC_027328.1\t9950585\t9950615\tgene\r\n",
      "   1 NC_027328.1\t9950585\t9950615\tmRNA\r\n",
      "   1 NC_027328.1\t9976530\t9976560\tgene\r\n",
      "   1 NC_027328.1\t9976530\t9976560\tmRNA\r\n"
     ]
    }
   ],
   "source": [
    "!cat 3xCpG.allgrps_all_features_30bp.txt |\\\n",
    "awk -F\"\\t\" '{OFS=FS=\"\\t\"}{print $4,$5,$6,$7}' |\\\n",
    "sort |\\\n",
    "uniq -c |\\\n",
    "tail"
   ]
  },
  {
   "cell_type": "code",
   "execution_count": 184,
   "metadata": {},
   "outputs": [],
   "source": [
    "!cat 3xCpG.allgrps_all_features_30bp.txt |\\\n",
    "awk -F\"\\t\" '{OFS=FS=\"\\t\"}{print $4,$5,$6,$7}' |\\\n",
    "sort |\\\n",
    "uniq -c |\\\n",
    "awk '{if($1>2)print $2\"\\t\"$3\"\\t\"$4\"\\t\"$5}' \\\n",
    "> 3x3CpG.allgrps_all_features_30bp.txt"
   ]
  },
  {
   "cell_type": "code",
   "execution_count": 185,
   "metadata": {},
   "outputs": [
    {
     "name": "stdout",
     "output_type": "stream",
     "text": [
      "   10983 3x3CpG.allgrps_all_features_30bp.txt\r\n"
     ]
    }
   ],
   "source": [
    "!wc -l 3x3CpG.allgrps_all_features_30bp.txt"
   ]
  },
  {
   "cell_type": "code",
   "execution_count": null,
   "metadata": {},
   "outputs": [],
   "source": [
    "#copy to Gannet"
   ]
  },
  {
   "cell_type": "code",
   "execution_count": 132,
   "metadata": {},
   "outputs": [
    {
     "name": "stdout",
     "output_type": "stream",
     "text": [
      "building file list ... \n",
      "24 files to consider\n",
      "16C_26PSU.3xCpG.bed\n",
      "     9348502 100%   40.75MB/s    0:00:00 (xfer#1, to-check=23/24)\n",
      "16C_32PSU.3xCpG.bed\n",
      "     9982344 100%   20.21MB/s    0:00:00 (xfer#2, to-check=22/24)\n",
      "3xCpG.allgrps.bed\n",
      "     3665250 100%    5.93MB/s    0:00:00 (xfer#3, to-check=21/24)\n",
      "3xCpG.allgrps_all_features.txt\n",
      "   131050519 100%   32.49MB/s    0:00:03 (xfer#4, to-check=20/24)\n",
      "3xCpG.allgrps_all_features_30bp.txt\n",
      "    24197755 100%   15.25MB/s    0:00:01 (xfer#5, to-check=19/24)\n",
      "3xCpG.allgrps_features.txt\n",
      "    30394225 100%   22.40MB/s    0:00:01 (xfer#6, to-check=18/24)\n",
      "3xCpG.allgrps_gene3prime.txt\n",
      "     1745761 100%    4.66MB/s    0:00:00 (xfer#7, to-check=17/24)\n",
      "3xCpG.allgrps_geneProm.txt\n",
      "     2037949 100%    4.49MB/s    0:00:00 (xfer#8, to-check=16/24)\n",
      "3xCpG.allgrps_noNW.txt\n",
      "   127266809 100%   33.34MB/s    0:00:03 (xfer#9, to-check=15/24)\n",
      "8C_26PSU.3xCpG.bed\n",
      "     8412789 100%    8.81MB/s    0:00:00 (xfer#10, to-check=14/24)\n",
      "8C_32PSU.3xCpG.bed\n",
      "    10546723 100%    8.47MB/s    0:00:01 (xfer#11, to-check=13/24)\n",
      "DMR.bed\n",
      "        4393 100%   21.67kB/s    0:00:00 (xfer#12, to-check=12/24)\n",
      "DMR_all_features_30bp.txt\n",
      "       83927 100%  392.15kB/s    0:00:00 (xfer#13, to-check=11/24)\n",
      "DMR_features.txt\n",
      "      162470 100%  708.31kB/s    0:00:00 (xfer#14, to-check=10/24)\n",
      "DMR_gene3prime.txt\n",
      "        1601 100%    6.89kB/s    0:00:00 (xfer#15, to-check=9/24)\n",
      "DMR_geneProm.txt\n",
      "        2819 100%   11.71kB/s    0:00:00 (xfer#16, to-check=8/24)\n",
      "DMR_noNW.txt\n",
      "      158050 100%  541.56kB/s    0:00:00 (xfer#17, to-check=7/24)\n",
      "ref_ICSASG_v2_top_level.Gene3prime.bed\n",
      "   188136405 100%   39.91MB/s    0:00:04 (xfer#18, to-check=6/24)\n",
      "ref_ICSASG_v2_top_level.GenePromoter.bed\n",
      "   188122138 100%   37.69MB/s    0:00:04 (xfer#19, to-check=5/24)\n",
      "ref_ICSASG_v2_top_level.all.30bp.bed\n",
      "  6511687153 100%   43.39MB/s    0:02:23 (xfer#20, to-check=4/24)\n",
      "ref_ICSASG_v2_top_level.gene.noNW.gff3\n",
      "           0 100%    0.00kB/s    0:00:00 (xfer#21, to-check=3/24)\n",
      "ref_ICSASG_v2_top_level.gff3\n",
      "   774485231 100%   40.34MB/s    0:00:18 (xfer#22, to-check=2/24)\n",
      "ref_ICSASG_v2_top_level.noNW.gff3\n",
      "   671103031 100%   40.60MB/s    0:00:15 (xfer#23, to-check=1/24)\n",
      "ref_ICSASG_v2_top_level.noNW.noregion.bed\n",
      "  6135428610 100%   42.60MB/s    0:02:17 (xfer#24, to-check=0/24)\n",
      "\n",
      "sent 14829836238 bytes  received 548 bytes  44870913.12 bytes/sec\n",
      "total size is 14828024454  speedup is 1.00\n"
     ]
    }
   ],
   "source": [
    "!rsync --archive --verbose --progress --exclude \"*5x.bed\" * /Volumes/web/metacarcinus/Salmo_Calig/analyses/20200826"
   ]
  },
  {
   "cell_type": "code",
   "execution_count": 142,
   "metadata": {},
   "outputs": [
    {
     "name": "stdout",
     "output_type": "stream",
     "text": [
      "building file list ... \n",
      "26 files to consider\n",
      "3x3CpG.allgrps_all_features.txt\n",
      "     1238577 100%   22.11MB/s    0:00:00 (xfer#1, to-check=23/26)\n",
      "3x3CpG.allgrps_all_features_30bp.txt\n",
      "     1172846 100%    7.26MB/s    0:00:00 (xfer#2, to-check=22/26)\n",
      "\n",
      "sent 2412669 bytes  received 202 bytes  4825742.00 bytes/sec\n",
      "total size is 14830435877  speedup is 6146.39\n"
     ]
    }
   ],
   "source": [
    "!rsync --archive --verbose --progress --exclude \"*5x.bed\" * /Volumes/web/metacarcinus/Salmo_Calig/analyses/20200826"
   ]
  },
  {
   "cell_type": "code",
   "execution_count": 186,
   "metadata": {},
   "outputs": [
    {
     "name": "stdout",
     "output_type": "stream",
     "text": [
      "building file list ... \n",
      "26 files to consider\n",
      "3x3CpG.allgrps_all_features.txt\n",
      "     1238577 100%   23.00MB/s    0:00:00 (xfer#1, to-check=23/26)\n",
      "3x3CpG.allgrps_all_features_30bp.txt\n",
      "      388575 100%    4.57MB/s    0:00:00 (xfer#2, to-check=22/26)\n",
      "3xCpG.allgrps_all_features_30bp.txt\n",
      "    13838094 100%   16.31MB/s    0:00:00 (xfer#3, to-check=19/26)\n",
      "DMR_all_features_30bp.txt\n",
      "       42391 100%   49.88kB/s    0:00:00 (xfer#4, to-check=11/26)\n",
      "ref_ICSASG_v2_top_level.Gene3prime.bed\n",
      "   181417260 100%   27.48MB/s    0:00:06 (xfer#5, to-check=6/26)\n",
      "ref_ICSASG_v2_top_level.GenePromoter.bed\n",
      "   181403459 100%   37.28MB/s    0:00:04 (xfer#6, to-check=5/26)\n",
      "ref_ICSASG_v2_top_level.all.30bp.bed\n",
      "  3891284403 100%   43.49MB/s    0:01:25 (xfer#7, to-check=4/26)\n",
      "ref_ICSASG_v2_top_level.noNW.noregion.bed\n",
      "  5939000303 100%   43.24MB/s    0:02:10 (xfer#8, to-check=0/26)\n",
      "\n",
      "sent 10209860408 bytes  received 298 bytes  45076647.71 bytes/sec\n",
      "total size is 11988981528  speedup is 1.17\n"
     ]
    }
   ],
   "source": [
    "!rsync --archive --verbose --progress --exclude \"*5x.bed\" * /Volumes/web/metacarcinus/Salmo_Calig/analyses/20200826"
   ]
  }
 ],
 "metadata": {
  "kernelspec": {
   "display_name": "Python 3",
   "language": "python",
   "name": "python3"
  },
  "language_info": {
   "codemirror_mode": {
    "name": "ipython",
    "version": 3
   },
   "file_extension": ".py",
   "mimetype": "text/x-python",
   "name": "python",
   "nbconvert_exporter": "python",
   "pygments_lexer": "ipython3",
   "version": "3.6.8"
  }
 },
 "nbformat": 4,
 "nbformat_minor": 4
}
