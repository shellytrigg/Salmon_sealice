{
 "cells": [
  {
   "cell_type": "markdown",
   "metadata": {},
   "source": [
    "identify mCpGs with > 5 reads"
   ]
  },
  {
   "cell_type": "code",
   "execution_count": 1,
   "metadata": {},
   "outputs": [
    {
     "name": "stdout",
     "output_type": "stream",
     "text": [
      "/Volumes/web/metacarcinus/Salmo_Calig/analyses/20200427/TG_PE_Calig_Aligned\n"
     ]
    }
   ],
   "source": [
    "cd /Volumes/web/metacarcinus/Salmo_Calig/analyses/20200427/TG_PE_Calig_Aligned"
   ]
  },
  {
   "cell_type": "code",
   "execution_count": null,
   "metadata": {},
   "outputs": [],
   "source": [
    "#search cov file for CpGs with >= 5x coverage and >=50% methylation"
   ]
  },
  {
   "cell_type": "code",
   "execution_count": 59,
   "metadata": {},
   "outputs": [
    {
     "name": "stdout",
     "output_type": "stream",
     "text": [
      "    2335\r\n"
     ]
    }
   ],
   "source": [
    "!zcat < Sealice_F1_S20_R1_001_val_1_bismark_bt2_pe.deduplicated.bismark.cov.gz |\\\n",
    "awk -F\"\\t\" '{if(($5+$6 >= 5)&&($4>=50))print $0}' |\\\n",
    "wc -l"
   ]
  },
  {
   "cell_type": "code",
   "execution_count": 60,
   "metadata": {},
   "outputs": [
    {
     "name": "stdout",
     "output_type": "stream",
     "text": [
      "    2335 Sealice_F1_S20.dedup.cov.5x.meth.bed\r\n",
      "    1864 Sealice_F2_S22.dedup.cov.5x.meth.bed\r\n",
      "    4199 total\r\n"
     ]
    }
   ],
   "source": [
    "# make 3 files categorizing CpGs as unmeth (<10), sparcely meth (10-50), methy (>50)\n",
    "\n",
    "!zcat < Sealice_F2_S22_R1_001_val_1_bismark_bt2_pe.deduplicated.bismark.cov.gz |\\\n",
    "awk -F\"\\t\" '{if(($5+$6>=5)&&($4<10))print $1\"\\t\"$2\"\\t\"$2+1\"\\t\"$4\"\\t\"$5\"\\t\"$6}'\\\n",
    "> Sealice_F2_S22.dedup.cov.5x.unmeth.bed\n",
    "\n",
    "!zcat < Sealice_F2_S22_R1_001_val_1_bismark_bt2_pe.deduplicated.bismark.cov.gz |\\\n",
    "awk -F\"\\t\" '{if(($5+$6>=5)&&($4>=10)&&($4<50))print $1\"\\t\"$2\"\\t\"$2+1\"\\t\"$4\"\\t\"$5\"\\t\"$6}'\\\n",
    "> Sealice_F2_S22.dedup.cov.5x.sparmeth.bed\n",
    "\n",
    "!zcat < Sealice_F2_S22_R1_001_val_1_bismark_bt2_pe.deduplicated.bismark.cov.gz |\\\n",
    "awk -F\"\\t\" '{if(($5+$6>=5)&&($4>=50))print $1\"\\t\"$2\"\\t\"$2+1\"\\t\"$4\"\\t\"$5\"\\t\"$6}'\\\n",
    "> Sealice_F2_S22.dedup.cov.5x.meth.bed\n",
    "\n",
    "!zcat < Sealice_F1_S20_R1_001_val_1_bismark_bt2_pe.deduplicated.bismark.cov.gz |\\\n",
    "awk -F\"\\t\" '{if(($5+$6>=5)&&($4<10))print $1\"\\t\"$2\"\\t\"$2+1\"\\t\"$4\"\\t\"$5\"\\t\"$6}'\\\n",
    "> Sealice_F1_S20.dedup.cov.5x.unmeth.bed\n",
    "\n",
    "!zcat < Sealice_F1_S20_R1_001_val_1_bismark_bt2_pe.deduplicated.bismark.cov.gz |\\\n",
    "awk -F\"\\t\" '{if(($5+$6>=5)&&($4>=10)&&($4<50))print $1\"\\t\"$2\"\\t\"$2+1\"\\t\"$4\"\\t\"$5\"\\t\"$6}'\\\n",
    "> Sealice_F1_S20.dedup.cov.5x.sparmeth.bed\n",
    "\n",
    "!zcat < Sealice_F1_S20_R1_001_val_1_bismark_bt2_pe.deduplicated.bismark.cov.gz |\\\n",
    "awk -F\"\\t\" '{if(($5+$6>=5)&&($4>=50))print $1\"\\t\"$2\"\\t\"$2+1\"\\t\"$4\"\\t\"$5\"\\t\"$6}'\\\n",
    "> Sealice_F1_S20.dedup.cov.5x.meth.bed\n",
    "\n",
    "!wc -l *.5x.meth.bed"
   ]
  },
  {
   "cell_type": "code",
   "execution_count": 61,
   "metadata": {},
   "outputs": [
    {
     "name": "stdout",
     "output_type": "stream",
     "text": [
      "    2335 Sealice_F1_S20.dedup.cov.5x.meth.bed\n",
      "  391515 Sealice_F1_S20.dedup.cov.5x.sparmeth.bed\n",
      " 8890795 Sealice_F1_S20.dedup.cov.5x.unmeth.bed\n",
      "    1864 Sealice_F2_S22.dedup.cov.5x.meth.bed\n",
      "  232274 Sealice_F2_S22.dedup.cov.5x.sparmeth.bed\n",
      " 6108325 Sealice_F2_S22.dedup.cov.5x.unmeth.bed\n",
      " 15627108 total\n"
     ]
    }
   ],
   "source": [
    "!wc -l *.5x.*meth.bed"
   ]
  },
  {
   "cell_type": "code",
   "execution_count": null,
   "metadata": {},
   "outputs": [],
   "source": [
    "#check for overlapping CpGs between F1 and F2"
   ]
  },
  {
   "cell_type": "code",
   "execution_count": 62,
   "metadata": {},
   "outputs": [
    {
     "name": "stdout",
     "output_type": "stream",
     "text": [
      "     545\r\n"
     ]
    }
   ],
   "source": [
    "!/Users/Shared/bioinformatics/bedtools2/bin/intersectBed \\\n",
    "-a Sealice_F1_S20.dedup.cov.5x.meth.bed \\\n",
    "-b Sealice_F2_S22.dedup.cov.5x.meth.bed |\\\n",
    "wc -l"
   ]
  },
  {
   "cell_type": "code",
   "execution_count": 63,
   "metadata": {},
   "outputs": [
    {
     "name": "stdout",
     "output_type": "stream",
     "text": [
      "    1790\r\n"
     ]
    }
   ],
   "source": [
    "!/Users/Shared/bioinformatics/bedtools2/bin/intersectBed \\\n",
    "-v \\\n",
    "-a Sealice_F1_S20.dedup.cov.5x.meth.bed \\\n",
    "-b Sealice_F2_S22.dedup.cov.5x.meth.bed |\\\n",
    "wc -l"
   ]
  },
  {
   "cell_type": "code",
   "execution_count": 64,
   "metadata": {},
   "outputs": [
    {
     "name": "stdout",
     "output_type": "stream",
     "text": [
      "    1319\r\n"
     ]
    }
   ],
   "source": [
    "!/Users/Shared/bioinformatics/bedtools2/bin/intersectBed \\\n",
    "-v \\\n",
    "-b Sealice_F1_S20.dedup.cov.5x.meth.bed \\\n",
    "-a Sealice_F2_S22.dedup.cov.5x.meth.bed |\\\n",
    "wc -l"
   ]
  },
  {
   "cell_type": "code",
   "execution_count": null,
   "metadata": {},
   "outputs": [],
   "source": [
    "#check sparsely mehtylated"
   ]
  },
  {
   "cell_type": "code",
   "execution_count": 65,
   "metadata": {},
   "outputs": [
    {
     "name": "stdout",
     "output_type": "stream",
     "text": [
      "   19838\r\n"
     ]
    }
   ],
   "source": [
    "!/Users/Shared/bioinformatics/bedtools2/bin/intersectBed \\\n",
    "-a Sealice_F1_S20.dedup.cov.5x.sparmeth.bed \\\n",
    "-b Sealice_F2_S22.dedup.cov.5x.sparmeth.bed |\\\n",
    "wc -l"
   ]
  },
  {
   "cell_type": "code",
   "execution_count": 66,
   "metadata": {},
   "outputs": [
    {
     "name": "stdout",
     "output_type": "stream",
     "text": [
      "  371677\r\n"
     ]
    }
   ],
   "source": [
    "!/Users/Shared/bioinformatics/bedtools2/bin/intersectBed \\\n",
    "-v \\\n",
    "-a Sealice_F1_S20.dedup.cov.5x.sparmeth.bed \\\n",
    "-b Sealice_F2_S22.dedup.cov.5x.sparmeth.bed |\\\n",
    "wc -l"
   ]
  },
  {
   "cell_type": "code",
   "execution_count": 67,
   "metadata": {},
   "outputs": [
    {
     "name": "stdout",
     "output_type": "stream",
     "text": [
      "  212436\r\n"
     ]
    }
   ],
   "source": [
    "!/Users/Shared/bioinformatics/bedtools2/bin/intersectBed \\\n",
    "-v \\\n",
    "-b Sealice_F1_S20.dedup.cov.5x.sparmeth.bed \\\n",
    "-a Sealice_F2_S22.dedup.cov.5x.sparmeth.bed |\\\n",
    "wc -l"
   ]
  },
  {
   "cell_type": "code",
   "execution_count": null,
   "metadata": {},
   "outputs": [],
   "source": [
    "# check unmethylated"
   ]
  },
  {
   "cell_type": "code",
   "execution_count": 68,
   "metadata": {},
   "outputs": [
    {
     "name": "stdout",
     "output_type": "stream",
     "text": [
      " 5431008\r\n"
     ]
    }
   ],
   "source": [
    "!/Users/Shared/bioinformatics/bedtools2/bin/intersectBed \\\n",
    "-a Sealice_F1_S20.dedup.cov.5x.unmeth.bed \\\n",
    "-b Sealice_F2_S22.dedup.cov.5x.unmeth.bed |\\\n",
    "wc -l"
   ]
  },
  {
   "cell_type": "code",
   "execution_count": 69,
   "metadata": {},
   "outputs": [
    {
     "name": "stdout",
     "output_type": "stream",
     "text": [
      " 3459787\r\n"
     ]
    }
   ],
   "source": [
    "!/Users/Shared/bioinformatics/bedtools2/bin/intersectBed \\\n",
    "-v \\\n",
    "-a Sealice_F1_S20.dedup.cov.5x.unmeth.bed \\\n",
    "-b Sealice_F2_S22.dedup.cov.5x.unmeth.bed |\\\n",
    "wc -l"
   ]
  },
  {
   "cell_type": "code",
   "execution_count": 70,
   "metadata": {},
   "outputs": [
    {
     "name": "stdout",
     "output_type": "stream",
     "text": [
      "  677317\r\n"
     ]
    }
   ],
   "source": [
    "!/Users/Shared/bioinformatics/bedtools2/bin/intersectBed \\\n",
    "-v \\\n",
    "-b Sealice_F1_S20.dedup.cov.5x.unmeth.bed \\\n",
    "-a Sealice_F2_S22.dedup.cov.5x.unmeth.bed |\\\n",
    "wc -l"
   ]
  },
  {
   "cell_type": "code",
   "execution_count": null,
   "metadata": {},
   "outputs": [],
   "source": [
    "#make CpG categorized bed files from merged 5x bed files"
   ]
  },
  {
   "cell_type": "code",
   "execution_count": 74,
   "metadata": {},
   "outputs": [
    {
     "name": "stdout",
     "output_type": "stream",
     "text": [
      "Cr_scaffold0000001\t43829\t43831\t54.545455\t6\t11\n",
      "Cr_scaffold0000001\t57517\t57519\t83.333333\t5\t6\n",
      "Cr_scaffold0000001\t415722\t415724\t62.500000\t10\t16\n",
      "Cr_scaffold0000001\t867464\t867466\t56.250000\t9\t16\n",
      "Cr_scaffold0000001\t1580148\t1580150\t75.000000\t6\t8\n",
      "Cr_scaffold0000001\t2031366\t2031368\t100.000000\t8\t8\n",
      "Cr_scaffold0000001\t2073225\t2073227\t50.000000\t3\t6\n",
      "Cr_scaffold0000001\t2091167\t2091169\t50.000000\t4\t8\n",
      "Cr_scaffold0000001\t2954182\t2954184\t72.727273\t8\t11\n",
      "Cr_scaffold0000001\t3604021\t3604023\t80.000000\t4\t5\n",
      "awk: write error on /dev/stdout\n",
      " input record number 3411290, file \n",
      " source line number 1\n",
      "cat: stdout: Broken pipe\n"
     ]
    }
   ],
   "source": [
    "!cat Sealice_F1_S20_R1_001_val_1_bismark_bt2_pe_5x.bed |\\\n",
    "awk -F\"\\t\" '{if($4>=50)print $0}'|\\\n",
    "head\n"
   ]
  },
  {
   "cell_type": "code",
   "execution_count": 75,
   "metadata": {},
   "outputs": [
    {
     "name": "stdout",
     "output_type": "stream",
     "text": [
      "    1342 Sealice_F1_S20.dedup.cov.5x.merge.meth.bed\n",
      "  233941 Sealice_F1_S20.dedup.cov.5x.merge.sparmeth.bed\n",
      " 6831337 Sealice_F1_S20.dedup.cov.5x.merge.unmeth.bed\n",
      "    1102 Sealice_F2_S22.dedup.cov.5x.merge.meth.bed\n",
      "  165423 Sealice_F2_S22.dedup.cov.5x.merge.sparmeth.bed\n",
      " 5130433 Sealice_F2_S22.dedup.cov.5x.merge.unmeth.bed\n",
      " 12363578 total\n"
     ]
    }
   ],
   "source": [
    "# make 3 files categorizing CpGs as unmeth (<10), sparcely meth (10-50), methy (>50)\n",
    "!cat Sealice_F2_S22_R1_001_val_1_bismark_bt2_pe_5x.bed |\\\n",
    "awk -F\"\\t\" '{if($4<10)print $0}'\\\n",
    "> Sealice_F2_S22.dedup.cov.5x.merge.unmeth.bed\n",
    "\n",
    "!cat Sealice_F2_S22_R1_001_val_1_bismark_bt2_pe_5x.bed |\\\n",
    "awk -F\"\\t\" '{if(($4>=10)&&($4<50))print $0}'\\\n",
    "> Sealice_F2_S22.dedup.cov.5x.merge.sparmeth.bed\n",
    "\n",
    "!cat Sealice_F2_S22_R1_001_val_1_bismark_bt2_pe_5x.bed |\\\n",
    "awk -F\"\\t\" '{if($4>=50)print $0}'\\\n",
    "> Sealice_F2_S22.dedup.cov.5x.merge.meth.bed\n",
    "\n",
    "!cat Sealice_F1_S20_R1_001_val_1_bismark_bt2_pe_5x.bed |\\\n",
    "awk -F\"\\t\" '{if($4<10)print $0}'\\\n",
    "> Sealice_F1_S20.dedup.cov.5x.merge.unmeth.bed\n",
    "\n",
    "!cat Sealice_F1_S20_R1_001_val_1_bismark_bt2_pe_5x.bed |\\\n",
    "awk -F\"\\t\" '{if(($4>=10)&&($4<50))print $0}'\\\n",
    "> Sealice_F1_S20.dedup.cov.5x.merge.sparmeth.bed\n",
    "\n",
    "!cat Sealice_F1_S20_R1_001_val_1_bismark_bt2_pe_5x.bed |\\\n",
    "awk -F\"\\t\" '{if($4>=50)print $0}'\\\n",
    "> Sealice_F1_S20.dedup.cov.5x.merge.meth.bed\n",
    "\n",
    "!wc -l *.5x.merge.*meth.bed"
   ]
  },
  {
   "cell_type": "code",
   "execution_count": 76,
   "metadata": {},
   "outputs": [
    {
     "name": "stdout",
     "output_type": "stream",
     "text": [
      "     314\n",
      "    1028\n",
      "     788\n",
      "   13570\n",
      "  220371\n",
      "  151853\n",
      " 4824175\n",
      " 2007162\n",
      "  306258\n"
     ]
    }
   ],
   "source": [
    "#check for overlapping CpGs between F1 and F2\n",
    "\n",
    "!/Users/Shared/bioinformatics/bedtools2/bin/intersectBed \\\n",
    "-a Sealice_F1_S20.dedup.cov.5x.merge.meth.bed \\\n",
    "-b Sealice_F2_S22.dedup.cov.5x.merge.meth.bed |\\\n",
    "wc -l\n",
    "\n",
    "!/Users/Shared/bioinformatics/bedtools2/bin/intersectBed \\\n",
    "-v \\\n",
    "-a Sealice_F1_S20.dedup.cov.5x.merge.meth.bed \\\n",
    "-b Sealice_F2_S22.dedup.cov.5x.merge.meth.bed |\\\n",
    "wc -l\n",
    "\n",
    "!/Users/Shared/bioinformatics/bedtools2/bin/intersectBed \\\n",
    "-v \\\n",
    "-b Sealice_F1_S20.dedup.cov.5x.merge.meth.bed \\\n",
    "-a Sealice_F2_S22.dedup.cov.5x.merge.meth.bed |\\\n",
    "wc -l\n",
    "\n",
    "#check sparsely mehtylated\n",
    "\n",
    "!/Users/Shared/bioinformatics/bedtools2/bin/intersectBed \\\n",
    "-a Sealice_F1_S20.dedup.cov.5x.merge.sparmeth.bed \\\n",
    "-b Sealice_F2_S22.dedup.cov.5x.merge.sparmeth.bed |\\\n",
    "wc -l\n",
    "\n",
    "!/Users/Shared/bioinformatics/bedtools2/bin/intersectBed \\\n",
    "-v \\\n",
    "-a Sealice_F1_S20.dedup.cov.5x.merge.sparmeth.bed \\\n",
    "-b Sealice_F2_S22.dedup.cov.5x.merge.sparmeth.bed |\\\n",
    "wc -l\n",
    "\n",
    "!/Users/Shared/bioinformatics/bedtools2/bin/intersectBed \\\n",
    "-v \\\n",
    "-b Sealice_F1_S20.dedup.cov.5x.merge.sparmeth.bed \\\n",
    "-a Sealice_F2_S22.dedup.cov.5x.merge.sparmeth.bed |\\\n",
    "wc -l\n",
    "\n",
    "# check unmethylated\n",
    "\n",
    "!/Users/Shared/bioinformatics/bedtools2/bin/intersectBed \\\n",
    "-a Sealice_F1_S20.dedup.cov.5x.merge.unmeth.bed \\\n",
    "-b Sealice_F2_S22.dedup.cov.5x.merge.unmeth.bed |\\\n",
    "wc -l\n",
    "\n",
    "!/Users/Shared/bioinformatics/bedtools2/bin/intersectBed \\\n",
    "-v \\\n",
    "-a Sealice_F1_S20.dedup.cov.5x.merge.unmeth.bed \\\n",
    "-b Sealice_F2_S22.dedup.cov.5x.merge.unmeth.bed |\\\n",
    "wc -l\n",
    "\n",
    "!/Users/Shared/bioinformatics/bedtools2/bin/intersectBed \\\n",
    "-v \\\n",
    "-b Sealice_F1_S20.dedup.cov.5x.merge.unmeth.bed \\\n",
    "-a Sealice_F2_S22.dedup.cov.5x.merge.unmeth.bed |\\\n",
    "wc -l"
   ]
  },
  {
   "cell_type": "code",
   "execution_count": null,
   "metadata": {},
   "outputs": [],
   "source": [
    "!/Users/Shared/bioinformatics/bedtools2/bin/unionBedGraphs \\\n",
    "-header \\\n",
    "-filler N/A \\\n",
    "-names F1 F2 \\\n",
    "-i \\\n",
    "Sealice_F1_S20_R1_001_val_1_bismark_bt2_pe_5x.sorted.bed \\\n",
    "Sealice_F2_S22_R1_001_val_1_bismark_bt2_pe_5x.sorted.bed \\\n",
    "> F1_F2_union_5x.bed"
   ]
  }
 ],
 "metadata": {
  "kernelspec": {
   "display_name": "Python 3",
   "language": "python",
   "name": "python3"
  },
  "language_info": {
   "codemirror_mode": {
    "name": "ipython",
    "version": 3
   },
   "file_extension": ".py",
   "mimetype": "text/x-python",
   "name": "python",
   "nbconvert_exporter": "python",
   "pygments_lexer": "ipython3",
   "version": "3.6.8"
  }
 },
 "nbformat": 4,
 "nbformat_minor": 4
}
